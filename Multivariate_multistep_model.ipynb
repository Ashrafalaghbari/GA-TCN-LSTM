{
  "cells": [
    {
      "cell_type": "markdown",
      "metadata": {
        "id": "view-in-github",
        "colab_type": "text"
      },
      "source": [
        "<a href=\"https://colab.research.google.com/github/Ashrafalaghbari/Mutivariate-long-term-forecasting-of-oil-production/blob/main/Multivariate_multistep_model.ipynb\" target=\"_parent\"><img src=\"https://colab.research.google.com/assets/colab-badge.svg\" alt=\"Open In Colab\"/></a>"
      ]
    },
    {
      "cell_type": "code",
      "execution_count": 1,
      "metadata": {
        "colab": {
          "base_uri": "https://localhost:8080/",
          "height": 34
        },
        "id": "x1LrkoSv4cc7",
        "outputId": "e5a67886-d6f8-4d57-e022-760604736b2a"
      },
      "outputs": [
        {
          "output_type": "display_data",
          "data": {
            "application/javascript": [
              "IPython.notebook.set_autosave_interval(60000)"
            ]
          },
          "metadata": {}
        },
        {
          "output_type": "stream",
          "name": "stdout",
          "text": [
            "Autosaving every 60 seconds\n"
          ]
        }
      ],
      "source": [
        "%autosave 60"
      ]
    },
    {
      "cell_type": "code",
      "execution_count": 2,
      "metadata": {
        "id": "XxzUA1Pg4iEU"
      },
      "outputs": [],
      "source": [
        "import numpy as np\n",
        "import pandas as pd\n",
        "from sklearn.metrics import mean_absolute_error, mean_squared_error, r2_score\n",
        "import tensorflow as tf\n",
        "from keras.models import Sequential\n",
        "from keras.layers import Dense,Dropout\n",
        "from keras.layers import LSTM\n",
        "from sklearn.preprocessing import MinMaxScaler\n",
        "from keras.models import Sequential\n",
        "from keras.layers import Dense,Dropout\n",
        "from math import sqrt\n",
        "import matplotlib.pyplot as plt"
      ]
    },
    {
      "cell_type": "code",
      "execution_count": 333,
      "metadata": {
        "id": "lVMp6qZiT9gO"
      },
      "outputs": [],
      "source": [
        "# convert series to supervised learning\n",
        "def series_to_supervised(data, columns, n_in=1, n_out=1, dropnan=True):\n",
        "    n_vars = 1 if type(data) is list else data.shape[1]\n",
        "    df = pd.DataFrame(data)\n",
        "    cols, names = list(), list()\n",
        "    # input sequence (t-n, ... t-1)\n",
        "    for i in range(n_in, 0, -1):\n",
        "        cols.append(df.shift(i))\n",
        "        names += [('%s(t-%d)' % (columns[j], i)) for j in range(n_vars)]\n",
        "        # forecast sequence (t, t+1, ... t+n)\n",
        "    for i in range(0, n_out):\n",
        "        cols.append(df.shift(-i))\n",
        "        if i == 0:\n",
        "            names += [('%s(t)' % (columns[j])) for j in range(n_vars)]\n",
        "        else:\n",
        "            names += [('%s(t+%d)' % (columns[j], i)) for j in range(n_vars)]\n",
        "    # put it all together\n",
        "    agg = pd.concat(cols, axis=1)\n",
        "    agg.columns = names\n",
        "    # drop rows with NaN values\n",
        "    if dropnan:\n",
        "        agg.dropna(inplace=True)\n",
        "    return agg\n",
        "\n",
        "# scale train and test data to [0, 1]\n",
        "def scale(train, test):\n",
        "\t# fit scaler\n",
        "\tscaler = MinMaxScaler(feature_range=(0, 1))\n",
        "\tscaler = scaler.fit(train)\n",
        "\t# transform train\n",
        "\ttrain = train.reshape(train.shape[0], train.shape[1])\n",
        "\ttrain_scaled = scaler.transform(train)\n",
        "\t# transform test\n",
        "\ttest = test.reshape(test.shape[0], test.shape[1])\n",
        "\ttest_scaled = scaler.transform(test)\n",
        "\treturn scaler, train_scaled, test_scaled\n",
        "\n",
        "\n",
        "# inverse differencing\n",
        "def inverse_difference(history, interval=1):\n",
        "\treturn history[-len(test_scaled)-interval:-interval]\n"
      ]
    },
    {
      "cell_type": "code",
      "execution_count": 4,
      "metadata": {
        "id": "sX-FCHP3Hy7E"
      },
      "outputs": [],
      "source": [
        "#Evaluation metrics\n",
        "# compute RMSPE\n",
        "def RMSPE(x,y):\n",
        "\tresult=0\n",
        "\tfor i in range(len(x)):\n",
        "\t\tresult += ((x[i]-y[i])/x[i])**2\n",
        "\tresult /= len(x)\n",
        "\tresult = sqrt(result)\n",
        "\tresult *= 100\n",
        "\treturn result\n",
        "\n",
        "# compute MAPE\n",
        "def MAPE(x,y):\n",
        "\tresult=0\n",
        "\tfor i in range(len(x)):\n",
        "\t\tresult += abs((x[i]-y[i])/x[i])\n",
        "\tresult /= len(x)\n",
        "\tresult *= 100\n",
        "\treturn result\n",
        "\n",
        "# compute wMAPE weighted absolute percentage error\n",
        "def wMAPE(actual, predicted): \n",
        "    result_nom = 0\n",
        "    result_deno = 0\n",
        "    for i in range(len(actual)):\n",
        "        result_nom +=  abs(actual[i] - predicted[i])\n",
        "        result_deno +=  abs(actual[i]) \n",
        "    result = result_nom/result_deno\n",
        "    return result *100\n",
        "\n",
        "def SMAPE(actual, predicted): #adjusted MEAN ABSOLUTE PERCENTAGE ERROR (SMAPE)\n",
        "    result = 0\n",
        "    for i in range(len(actual)):\n",
        "        result += abs(actual[i] - predicted[i])/(abs(actual[i]) + abs(predicted[i]))\n",
        "    result = 2* result/ len(actual) \n",
        "    return result * 100"
      ]
    },
    {
      "cell_type": "code",
      "source": [
        "colum = pd.read_csv('/content/drive/MyDrive/volve_production_data/model.csv')\n",
        "colum.columns"
      ],
      "metadata": {
        "colab": {
          "base_uri": "https://localhost:8080/"
        },
        "id": "RNb6b1BBNzD9",
        "outputId": "2bc86d60-fc71-485c-f45d-2180a955a56f"
      },
      "execution_count": 707,
      "outputs": [
        {
          "output_type": "execute_result",
          "data": {
            "text/plain": [
              "Index(['DATEPRD', 'BORE_OIL_VOL', 'ON_STREAM_HRS', 'AVG_DOWNHOLE_PRESSURE',\n",
              "       'AVG_DOWNHOLE_TEMPERATURE', 'AVG_CHOKE_SIZE_P', 'AVG_WHP_P',\n",
              "       'AVG_WHT_P', 'DP_CHOKE_SIZE', 'BORE_GAS_VOL', 'BORE_WAT_VOL',\n",
              "       'F_4_ON_STREAM_HRS', 'F_4_BORE_WI_VOL', 'F_5_ON_STREAM_HRS',\n",
              "       'F_5_BORE_WI_VOL'],\n",
              "      dtype='object')"
            ]
          },
          "metadata": {},
          "execution_count": 707
        }
      ]
    },
    {
      "cell_type": "code",
      "execution_count": 708,
      "metadata": {
        "id": "lu0tOwl84Xln"
      },
      "outputs": [],
      "source": [
        "#load dataset\n",
        "series = pd.read_csv('/content/drive/MyDrive/volve_production_data/model.csv', usecols=[\"DATEPRD\",\"BORE_OIL_VOL\", 'ON_STREAM_HRS'],\n",
        "                  parse_dates=[\"DATEPRD\"], index_col=\"DATEPRD\")"
      ]
    },
    {
      "cell_type": "code",
      "execution_count": 880,
      "metadata": {
        "colab": {
          "base_uri": "https://localhost:8080/",
          "height": 592
        },
        "id": "dLBz9GX14-Wi",
        "outputId": "7a5873e3-dcf1-4aee-d605-f34c485249ae"
      },
      "outputs": [
        {
          "output_type": "display_data",
          "data": {
            "text/plain": [
              "<Figure size 1224x720 with 2 Axes>"
            ],
            "image/png": "[encoded data removed]"
          },
          "metadata": {
            "needs_background": "light"
          }
        }
      ],
      "source": [
        "# Data visulaization and disribution plots for well F-14 after including the injectors\n",
        "data = series.columns\n",
        "\n",
        "# Creating figure with two rows and one column\n",
        "fig, axs = plt.subplots(nrows=len(data), figsize=(17, 10))\n",
        "\n",
        "axs = axs.ravel()\n",
        "\n",
        "for id, column in enumerate(data):\n",
        "\n",
        "    axs[id].plot(series[column])\n",
        "    axs[id].grid(True)\n",
        "    axs[id].legend([column], loc='lower left', fontsize=9, handlelength=0, handletextpad=0, frameon=False)\n",
        "    \n",
        "plt.show()"
      ]
    },
    {
      "cell_type": "markdown",
      "source": [
        "**Multi-output forecasting strategy**"
      ],
      "metadata": {
        "id": "yuC_Qoqiaq_i"
      }
    },
    {
      "cell_type": "code",
      "execution_count": 1156,
      "metadata": {
        "id": "Nq2GI1a0NKYT"
      },
      "outputs": [],
      "source": [
        "# # convert series to stationary\n",
        "series_diff =  series.diff()\n",
        "# convert the stationary series to supervise learning\n",
        "timesteps = 5\n",
        "steps_ahead = 1\n",
        "# series_supervised = series_to_supervised(series_diff, series_diff.columns, n_in=timesteps, n_out=steps_ahead, dropnan=True)\n",
        "series_supervised = series_to_supervised(series_diff, series_diff.columns, n_in=timesteps, n_out=steps_ahead, dropnan=True)"
      ]
    },
    {
      "cell_type": "code",
      "source": [
        "#drop all the variables that we don't want to predict\n",
        "vars_y = series_supervised.columns[-steps_ahead*len(series.columns):]\n",
        "vars_name_to_drop = ['ON_STREAM_HRS(t+)']\n",
        "vars_to_drop = vars_to_drop = [col for col in vars_y if col.startswith(vars_name_to_drop[0])]\n",
        "series_supervised.drop(columns=vars_to_drop, inplace=True)"
      ],
      "metadata": {
        "id": "lH-2wA_ySOOX"
      },
      "execution_count": 1157,
      "outputs": []
    },
    {
      "cell_type": "code",
      "source": [
        "# bring the ON_STREAM_HRS(t) variable forward one step and place it before the target variable\n",
        "ON_STREAM_HRS_t = series_supervised.pop('ON_STREAM_HRS(t)')\n",
        "series_supervised.insert(len(series_supervised.columns)-1, 'ON_STREAM_HRS(t)', ON_STREAM_HRS_t)"
      ],
      "metadata": {
        "id": "V_XXkH3W_Rac"
      },
      "execution_count": 1158,
      "outputs": []
    },
    {
      "cell_type": "code",
      "source": [
        "merged_onStreams = series_supervised[\"ON_STREAM_HRS(t-1)\"] + (series_supervised[\"ON_STREAM_HRS(t)\"] ) #\n",
        "# bring the ON_STREAM_HRS(t) variable forward one step and place it before the target variable\n",
        "series_supervised.insert(len(series_supervised.columns)-3, 'merged_onStreams', merged_onStreams)"
      ],
      "metadata": {
        "id": "Mfg1jvYuTH5a"
      },
      "execution_count": 1159,
      "outputs": []
    },
    {
      "cell_type": "code",
      "source": [
        "series_supervised.drop(['ON_STREAM_HRS(t-1)','ON_STREAM_HRS(t)'], axis=1, inplace= True)"
      ],
      "metadata": {
        "id": "LfWyvX8TI7WB"
      },
      "execution_count": 1163,
      "outputs": []
    },
    {
      "cell_type": "code",
      "source": [
        "series_supervised"
      ],
      "metadata": {
        "colab": {
          "base_uri": "https://localhost:8080/",
          "height": 710
        },
        "id": "KOwnDfh6IVda",
        "outputId": "d0a42929-0bb2-4c85-fb36-edb935882ec4"
      },
      "execution_count": 1164,
      "outputs": [
        {
          "output_type": "execute_result",
          "data": {
            "text/plain": [
              "            BORE_OIL_VOL(t-5)  ON_STREAM_HRS(t-5)  BORE_OIL_VOL(t-4)  \\\n",
              "DATEPRD                                                                \n",
              "2010-01-07         107.492863                 0.0        -901.329859   \n",
              "2010-01-08        -901.329859                 0.0        -797.296392   \n",
              "2010-01-09        -797.296392                 0.0         268.323320   \n",
              "2010-01-10         268.323320                 0.0          60.822469   \n",
              "2010-01-11          60.822469                 0.0        -193.160084   \n",
              "...                       ...                 ...                ...   \n",
              "2015-03-19           9.623410                 0.0         -14.026278   \n",
              "2015-03-20         -14.026278                 0.0          16.605100   \n",
              "2015-03-21          16.605100                 0.0          18.806534   \n",
              "2015-03-22          18.806534                 0.0          10.315289   \n",
              "2015-03-23          10.315289                 0.0           3.270702   \n",
              "\n",
              "            ON_STREAM_HRS(t-4)  BORE_OIL_VOL(t-3)  ON_STREAM_HRS(t-3)  \\\n",
              "DATEPRD                                                                 \n",
              "2010-01-07                 0.0        -797.296392                 0.0   \n",
              "2010-01-08                 0.0         268.323320                 0.0   \n",
              "2010-01-09                 0.0          60.822469                 0.0   \n",
              "2010-01-10                 0.0        -193.160084                 0.0   \n",
              "2010-01-11                 0.0         -10.944270                 0.0   \n",
              "...                        ...                ...                 ...   \n",
              "2015-03-19                 0.0          16.605100                 0.0   \n",
              "2015-03-20                 0.0          18.806534                 0.0   \n",
              "2015-03-21                 0.0          10.315289                 0.0   \n",
              "2015-03-22                 0.0           3.270702                 0.0   \n",
              "2015-03-23                 0.0          44.783451                 0.0   \n",
              "\n",
              "            BORE_OIL_VOL(t-2)  ON_STREAM_HRS(t-2)  BORE_OIL_VOL(t-1)  \\\n",
              "DATEPRD                                                                \n",
              "2010-01-07         268.323320             0.00000          60.822469   \n",
              "2010-01-08          60.822469             0.00000        -193.160084   \n",
              "2010-01-09        -193.160084             0.00000         -10.944270   \n",
              "2010-01-10         -10.944270             0.00000       -2649.834308   \n",
              "2010-01-11       -2649.834308            -1.16667        2671.659950   \n",
              "...                       ...                 ...                ...   \n",
              "2015-03-19          18.806534             0.00000          10.315289   \n",
              "2015-03-20          10.315289             0.00000           3.270702   \n",
              "2015-03-21           3.270702             0.00000          44.783451   \n",
              "2015-03-22          44.783451             0.00000          17.925960   \n",
              "2015-03-23          17.925960             0.00000        -104.788245   \n",
              "\n",
              "            merged_onStreams  BORE_OIL_VOL(t)  \n",
              "DATEPRD                                        \n",
              "2010-01-07           0.00000      -193.160084  \n",
              "2010-01-08           0.00000       -10.944270  \n",
              "2010-01-09          -1.16667     -2649.834308  \n",
              "2010-01-10           0.00000      2671.659950  \n",
              "2010-01-11           1.16667       -76.232504  \n",
              "...                      ...              ...  \n",
              "2015-03-19           0.00000         3.270702  \n",
              "2015-03-20           0.00000        44.783451  \n",
              "2015-03-21           0.00000        17.925960  \n",
              "2015-03-22           0.00000      -104.788245  \n",
              "2015-03-23           0.00000      -177.121066  \n",
              "\n",
              "[1838 rows x 11 columns]"
            ],
            "text/html": [
              "\n",
              "  <div id=\"df-0fd0cd85-fe25-4245-b34e-056cc41bf209\">\n",
              "    <div class=\"colab-df-container\">\n",
              "      <div>\n",
              "<style scoped>\n",
              "    .dataframe tbody tr th:only-of-type {\n",
              "        vertical-align: middle;\n",
              "    }\n",
              "\n",
              "    .dataframe tbody tr th {\n",
              "        vertical-align: top;\n",
              "    }\n",
              "\n",
              "    .dataframe thead th {\n",
              "        text-align: right;\n",
              "    }\n",
              "</style>\n",
              "<table border=\"1\" class=\"dataframe\">\n",
              "  <thead>\n",
              "    <tr style=\"text-align: right;\">\n",
              "      <th></th>\n",
              "      <th>BORE_OIL_VOL(t-5)</th>\n",
              "      <th>ON_STREAM_HRS(t-5)</th>\n",
              "      <th>BORE_OIL_VOL(t-4)</th>\n",
              "      <th>ON_STREAM_HRS(t-4)</th>\n",
              "      <th>BORE_OIL_VOL(t-3)</th>\n",
              "      <th>ON_STREAM_HRS(t-3)</th>\n",
              "      <th>BORE_OIL_VOL(t-2)</th>\n",
              "      <th>ON_STREAM_HRS(t-2)</th>\n",
              "      <th>BORE_OIL_VOL(t-1)</th>\n",
              "      <th>merged_onStreams</th>\n",
              "      <th>BORE_OIL_VOL(t)</th>\n",
              "    </tr>\n",
              "    <tr>\n",
              "      <th>DATEPRD</th>\n",
              "      <th></th>\n",
              "      <th></th>\n",
              "      <th></th>\n",
              "      <th></th>\n",
              "      <th></th>\n",
              "      <th></th>\n",
              "      <th></th>\n",
              "      <th></th>\n",
              "      <th></th>\n",
              "      <th></th>\n",
              "      <th></th>\n",
              "    </tr>\n",
              "  </thead>\n",
              "  <tbody>\n",
              "    <tr>\n",
              "      <th>2010-01-07</th>\n",
              "      <td>107.492863</td>\n",
              "      <td>0.0</td>\n",
              "      <td>-901.329859</td>\n",
              "      <td>0.0</td>\n",
              "      <td>-797.296392</td>\n",
              "      <td>0.0</td>\n",
              "      <td>268.323320</td>\n",
              "      <td>0.00000</td>\n",
              "      <td>60.822469</td>\n",
              "      <td>0.00000</td>\n",
              "      <td>-193.160084</td>\n",
              "    </tr>\n",
              "    <tr>\n",
              "      <th>2010-01-08</th>\n",
              "      <td>-901.329859</td>\n",
              "      <td>0.0</td>\n",
              "      <td>-797.296392</td>\n",
              "      <td>0.0</td>\n",
              "      <td>268.323320</td>\n",
              "      <td>0.0</td>\n",
              "      <td>60.822469</td>\n",
              "      <td>0.00000</td>\n",
              "      <td>-193.160084</td>\n",
              "      <td>0.00000</td>\n",
              "      <td>-10.944270</td>\n",
              "    </tr>\n",
              "    <tr>\n",
              "      <th>2010-01-09</th>\n",
              "      <td>-797.296392</td>\n",
              "      <td>0.0</td>\n",
              "      <td>268.323320</td>\n",
              "      <td>0.0</td>\n",
              "      <td>60.822469</td>\n",
              "      <td>0.0</td>\n",
              "      <td>-193.160084</td>\n",
              "      <td>0.00000</td>\n",
              "      <td>-10.944270</td>\n",
              "      <td>-1.16667</td>\n",
              "      <td>-2649.834308</td>\n",
              "    </tr>\n",
              "    <tr>\n",
              "      <th>2010-01-10</th>\n",
              "      <td>268.323320</td>\n",
              "      <td>0.0</td>\n",
              "      <td>60.822469</td>\n",
              "      <td>0.0</td>\n",
              "      <td>-193.160084</td>\n",
              "      <td>0.0</td>\n",
              "      <td>-10.944270</td>\n",
              "      <td>0.00000</td>\n",
              "      <td>-2649.834308</td>\n",
              "      <td>0.00000</td>\n",
              "      <td>2671.659950</td>\n",
              "    </tr>\n",
              "    <tr>\n",
              "      <th>2010-01-11</th>\n",
              "      <td>60.822469</td>\n",
              "      <td>0.0</td>\n",
              "      <td>-193.160084</td>\n",
              "      <td>0.0</td>\n",
              "      <td>-10.944270</td>\n",
              "      <td>0.0</td>\n",
              "      <td>-2649.834308</td>\n",
              "      <td>-1.16667</td>\n",
              "      <td>2671.659950</td>\n",
              "      <td>1.16667</td>\n",
              "      <td>-76.232504</td>\n",
              "    </tr>\n",
              "    <tr>\n",
              "      <th>...</th>\n",
              "      <td>...</td>\n",
              "      <td>...</td>\n",
              "      <td>...</td>\n",
              "      <td>...</td>\n",
              "      <td>...</td>\n",
              "      <td>...</td>\n",
              "      <td>...</td>\n",
              "      <td>...</td>\n",
              "      <td>...</td>\n",
              "      <td>...</td>\n",
              "      <td>...</td>\n",
              "    </tr>\n",
              "    <tr>\n",
              "      <th>2015-03-19</th>\n",
              "      <td>9.623410</td>\n",
              "      <td>0.0</td>\n",
              "      <td>-14.026278</td>\n",
              "      <td>0.0</td>\n",
              "      <td>16.605100</td>\n",
              "      <td>0.0</td>\n",
              "      <td>18.806534</td>\n",
              "      <td>0.00000</td>\n",
              "      <td>10.315289</td>\n",
              "      <td>0.00000</td>\n",
              "      <td>3.270702</td>\n",
              "    </tr>\n",
              "    <tr>\n",
              "      <th>2015-03-20</th>\n",
              "      <td>-14.026278</td>\n",
              "      <td>0.0</td>\n",
              "      <td>16.605100</td>\n",
              "      <td>0.0</td>\n",
              "      <td>18.806534</td>\n",
              "      <td>0.0</td>\n",
              "      <td>10.315289</td>\n",
              "      <td>0.00000</td>\n",
              "      <td>3.270702</td>\n",
              "      <td>0.00000</td>\n",
              "      <td>44.783451</td>\n",
              "    </tr>\n",
              "    <tr>\n",
              "      <th>2015-03-21</th>\n",
              "      <td>16.605100</td>\n",
              "      <td>0.0</td>\n",
              "      <td>18.806534</td>\n",
              "      <td>0.0</td>\n",
              "      <td>10.315289</td>\n",
              "      <td>0.0</td>\n",
              "      <td>3.270702</td>\n",
              "      <td>0.00000</td>\n",
              "      <td>44.783451</td>\n",
              "      <td>0.00000</td>\n",
              "      <td>17.925960</td>\n",
              "    </tr>\n",
              "    <tr>\n",
              "      <th>2015-03-22</th>\n",
              "      <td>18.806534</td>\n",
              "      <td>0.0</td>\n",
              "      <td>10.315289</td>\n",
              "      <td>0.0</td>\n",
              "      <td>3.270702</td>\n",
              "      <td>0.0</td>\n",
              "      <td>44.783451</td>\n",
              "      <td>0.00000</td>\n",
              "      <td>17.925960</td>\n",
              "      <td>0.00000</td>\n",
              "      <td>-104.788245</td>\n",
              "    </tr>\n",
              "    <tr>\n",
              "      <th>2015-03-23</th>\n",
              "      <td>10.315289</td>\n",
              "      <td>0.0</td>\n",
              "      <td>3.270702</td>\n",
              "      <td>0.0</td>\n",
              "      <td>44.783451</td>\n",
              "      <td>0.0</td>\n",
              "      <td>17.925960</td>\n",
              "      <td>0.00000</td>\n",
              "      <td>-104.788245</td>\n",
              "      <td>0.00000</td>\n",
              "      <td>-177.121066</td>\n",
              "    </tr>\n",
              "  </tbody>\n",
              "</table>\n",
              "<p>1838 rows × 11 columns</p>\n",
              "</div>\n",
              "      <button class=\"colab-df-convert\" onclick=\"convertToInteractive('df-0fd0cd85-fe25-4245-b34e-056cc41bf209')\"\n",
              "              title=\"Convert this dataframe to an interactive table.\"\n",
              "              style=\"display:none;\">\n",
              "        \n",
              "  <svg xmlns=\"http://www.w3.org/2000/svg\" height=\"24px\"viewBox=\"0 0 24 24\"\n",
              "       width=\"24px\">\n",
              "    <path d=\"M0 0h24v24H0V0z\" fill=\"none\"/>\n",
              "    <path d=\"M18.56 5.44l.94 2.06.94-2.06 2.06-.94-2.06-.94-.94-2.06-.94 2.06-2.06.94zm-11 1L8.5 8.5l.94-2.06 2.06-.94-2.06-.94L8.5 2.5l-.94 2.06-2.06.94zm10 10l.94 2.06.94-2.06 2.06-.94-2.06-.94-.94-2.06-.94 2.06-2.06.94z\"/><path d=\"M17.41 7.96l-1.37-1.37c-.4-.4-.92-.59-1.43-.59-.52 0-1.04.2-1.43.59L10.3 9.45l-7.72 7.72c-.78.78-.78 2.05 0 2.83L4 21.41c.39.39.9.59 1.41.59.51 0 1.02-.2 1.41-.59l7.78-7.78 2.81-2.81c.8-.78.8-2.07 0-2.86zM5.41 20L4 18.59l7.72-7.72 1.47 1.35L5.41 20z\"/>\n",
              "  </svg>\n",
              "      </button>\n",
              "      \n",
              "  <style>\n",
              "    .colab-df-container {\n",
              "      display:flex;\n",
              "      flex-wrap:wrap;\n",
              "      gap: 12px;\n",
              "    }\n",
              "\n",
              "    .colab-df-convert {\n",
              "      background-color: #E8F0FE;\n",
              "      border: none;\n",
              "      border-radius: 50%;\n",
              "      cursor: pointer;\n",
              "      display: none;\n",
              "      fill: #1967D2;\n",
              "      height: 32px;\n",
              "      padding: 0 0 0 0;\n",
              "      width: 32px;\n",
              "    }\n",
              "\n",
              "    .colab-df-convert:hover {\n",
              "      background-color: #E2EBFA;\n",
              "      box-shadow: 0px 1px 2px rgba(60, 64, 67, 0.3), 0px 1px 3px 1px rgba(60, 64, 67, 0.15);\n",
              "      fill: #174EA6;\n",
              "    }\n",
              "\n",
              "    [theme=dark] .colab-df-convert {\n",
              "      background-color: #3B4455;\n",
              "      fill: #D2E3FC;\n",
              "    }\n",
              "\n",
              "    [theme=dark] .colab-df-convert:hover {\n",
              "      background-color: #434B5C;\n",
              "      box-shadow: 0px 1px 3px 1px rgba(0, 0, 0, 0.15);\n",
              "      filter: drop-shadow(0px 1px 2px rgba(0, 0, 0, 0.3));\n",
              "      fill: #FFFFFF;\n",
              "    }\n",
              "  </style>\n",
              "\n",
              "      <script>\n",
              "        const buttonEl =\n",
              "          document.querySelector('#df-0fd0cd85-fe25-4245-b34e-056cc41bf209 button.colab-df-convert');\n",
              "        buttonEl.style.display =\n",
              "          google.colab.kernel.accessAllowed ? 'block' : 'none';\n",
              "\n",
              "        async function convertToInteractive(key) {\n",
              "          const element = document.querySelector('#df-0fd0cd85-fe25-4245-b34e-056cc41bf209');\n",
              "          const dataTable =\n",
              "            await google.colab.kernel.invokeFunction('convertToInteractive',\n",
              "                                                     [key], {});\n",
              "          if (!dataTable) return;\n",
              "\n",
              "          const docLinkHtml = 'Like what you see? Visit the ' +\n",
              "            '<a target=\"_blank\" href=https://colab.research.google.com/notebooks/data_table.ipynb>data table notebook</a>'\n",
              "            + ' to learn more about interactive tables.';\n",
              "          element.innerHTML = '';\n",
              "          dataTable['output_type'] = 'display_data';\n",
              "          await google.colab.output.renderOutput(dataTable, element);\n",
              "          const docLink = document.createElement('div');\n",
              "          docLink.innerHTML = docLinkHtml;\n",
              "          element.appendChild(docLink);\n",
              "        }\n",
              "      </script>\n",
              "    </div>\n",
              "  </div>\n",
              "  "
            ]
          },
          "metadata": {},
          "execution_count": 1164
        }
      ]
    },
    {
      "cell_type": "code",
      "source": [
        "series_supervised.columns"
      ],
      "metadata": {
        "colab": {
          "base_uri": "https://localhost:8080/"
        },
        "id": "ast1XxadT1Cz",
        "outputId": "9886c1e9-419e-47e6-ecc2-46d76881759a"
      },
      "execution_count": 1165,
      "outputs": [
        {
          "output_type": "execute_result",
          "data": {
            "text/plain": [
              "Index(['BORE_OIL_VOL(t-5)', 'ON_STREAM_HRS(t-5)', 'BORE_OIL_VOL(t-4)',\n",
              "       'ON_STREAM_HRS(t-4)', 'BORE_OIL_VOL(t-3)', 'ON_STREAM_HRS(t-3)',\n",
              "       'BORE_OIL_VOL(t-2)', 'ON_STREAM_HRS(t-2)', 'BORE_OIL_VOL(t-1)',\n",
              "       'merged_onStreams', 'BORE_OIL_VOL(t)'],\n",
              "      dtype='object')"
            ]
          },
          "metadata": {},
          "execution_count": 1165
        }
      ]
    },
    {
      "cell_type": "code",
      "execution_count": 1166,
      "metadata": {
        "colab": {
          "base_uri": "https://localhost:8080/"
        },
        "id": "nmbQinIh7Gnp",
        "outputId": "d1dd9a9d-ba6e-4214-d734-876fd731bc89"
      },
      "outputs": [
        {
          "output_type": "stream",
          "name": "stdout",
          "text": [
            "(1470, 11) (368, 11)\n"
          ]
        }
      ],
      "source": [
        "# split into train and test sets\n",
        "series_supervised = series_supervised.values\n",
        "train_size = int(series_supervised.shape[0] * 0.8)\n",
        "test_size = series_supervised.shape[0] - train_size\n",
        "train, test = series_supervised[0:train_size], series_supervised[train_size:]\n",
        "print(train.shape, test.shape)"
      ]
    },
    {
      "cell_type": "code",
      "execution_count": 1167,
      "metadata": {
        "colab": {
          "base_uri": "https://localhost:8080/"
        },
        "id": "tvaAPiiS7y4v",
        "outputId": "63a1c7c8-109d-4efe-e78e-a6937a1da028"
      },
      "outputs": [
        {
          "output_type": "stream",
          "name": "stdout",
          "text": [
            "(1470, 11) (368, 11)\n"
          ]
        }
      ],
      "source": [
        "# transform the scale of the data\n",
        "scaler, train_scaled, test_scaled = scale(train, test)\n",
        "print(train_scaled.shape, test_scaled.shape)"
      ]
    },
    {
      "cell_type": "code",
      "execution_count": 1168,
      "metadata": {
        "colab": {
          "base_uri": "https://localhost:8080/"
        },
        "id": "AjDT7Ud5l522",
        "outputId": "2f6d5265-e3a8-4607-ae87-625a6450c0b4"
      },
      "outputs": [
        {
          "output_type": "stream",
          "name": "stdout",
          "text": [
            "(1470, 5, 2) (1470, 1) (368, 5, 2) (368, 1)\n"
          ]
        }
      ],
      "source": [
        "# reshape input to be 3D [samples, timesteps, features]\n",
        "n_features = len(series.columns) \n",
        "\n",
        "train_X, train_y = train_scaled[:, 0:-steps_ahead], train_scaled[:, -steps_ahead:]\n",
        "train_X = train_X.reshape(train_X.shape[0], timesteps, n_features)\n",
        "test_X, test_y = test_scaled[:, 0:-steps_ahead], test_scaled[:, -steps_ahead:]\n",
        "test_X = test_X.reshape(test_X.shape[0], timesteps, n_features )\n",
        "print(train_X.shape, train_y.shape, test_X.shape, test_y.shape)"
      ]
    },
    {
      "cell_type": "code",
      "execution_count": 1169,
      "metadata": {
        "colab": {
          "base_uri": "https://localhost:8080/"
        },
        "id": "SeooCz3fWgh4",
        "outputId": "ed94a73c-bfd9-4dfa-8b8a-487943190db2"
      },
      "outputs": [
        {
          "output_type": "stream",
          "name": "stdout",
          "text": [
            "Epoch 1/18\n",
            "1470/1470 - 5s - loss: 0.0220 - val_loss: 2.3355e-04 - 5s/epoch - 4ms/step\n",
            "Epoch 2/18\n",
            "1470/1470 - 4s - loss: 0.0075 - val_loss: 2.5774e-04 - 4s/epoch - 2ms/step\n",
            "Epoch 3/18\n",
            "1470/1470 - 4s - loss: 0.0049 - val_loss: 1.9656e-04 - 4s/epoch - 2ms/step\n",
            "Epoch 4/18\n",
            "1470/1470 - 4s - loss: 0.0041 - val_loss: 2.1167e-04 - 4s/epoch - 2ms/step\n",
            "Epoch 5/18\n",
            "1470/1470 - 3s - loss: 0.0035 - val_loss: 2.9580e-04 - 3s/epoch - 2ms/step\n",
            "Epoch 6/18\n",
            "1470/1470 - 4s - loss: 0.0031 - val_loss: 3.8988e-04 - 4s/epoch - 2ms/step\n",
            "Epoch 7/18\n",
            "1470/1470 - 4s - loss: 0.0029 - val_loss: 4.0762e-04 - 4s/epoch - 2ms/step\n",
            "Epoch 8/18\n",
            "1470/1470 - 3s - loss: 0.0027 - val_loss: 4.5725e-04 - 3s/epoch - 2ms/step\n",
            "Epoch 9/18\n",
            "1470/1470 - 4s - loss: 0.0024 - val_loss: 5.1066e-04 - 4s/epoch - 3ms/step\n",
            "Epoch 10/18\n",
            "1470/1470 - 3s - loss: 0.0021 - val_loss: 5.0526e-04 - 3s/epoch - 2ms/step\n",
            "Epoch 11/18\n",
            "1470/1470 - 4s - loss: 0.0023 - val_loss: 4.3773e-04 - 4s/epoch - 2ms/step\n",
            "Epoch 12/18\n",
            "1470/1470 - 3s - loss: 0.0021 - val_loss: 4.5629e-04 - 3s/epoch - 2ms/step\n",
            "Epoch 13/18\n",
            "1470/1470 - 4s - loss: 0.0020 - val_loss: 4.9126e-04 - 4s/epoch - 2ms/step\n",
            "Epoch 14/18\n",
            "1470/1470 - 5s - loss: 0.0021 - val_loss: 4.4874e-04 - 5s/epoch - 3ms/step\n",
            "Epoch 15/18\n",
            "1470/1470 - 3s - loss: 0.0020 - val_loss: 4.5686e-04 - 3s/epoch - 2ms/step\n",
            "Epoch 16/18\n",
            "1470/1470 - 4s - loss: 0.0023 - val_loss: 4.9904e-04 - 4s/epoch - 2ms/step\n",
            "Epoch 17/18\n",
            "1470/1470 - 4s - loss: 0.0021 - val_loss: 5.4096e-04 - 4s/epoch - 3ms/step\n",
            "Epoch 18/18\n",
            "1470/1470 - 4s - loss: 0.0021 - val_loss: 4.9706e-04 - 4s/epoch - 2ms/step\n"
          ]
        }
      ],
      "source": [
        "import os\n",
        "os.environ[\"CUDA_DEVICE_ORDER\"] = \"PCI_BUS_ID\"  \n",
        "os.environ[\"CUDA_VISIBLE_DEVICES\"] = \"\"\n",
        "os.environ['PYTHONHASHSEED'] = '0'\n",
        "np.random.seed(42)\n",
        "np.random.seed(12345)\n",
        "session_conf = tf.compat.v1.ConfigProto(intra_op_parallelism_threads=1, inter_op_parallelism_threads=1)\n",
        "\n",
        "from keras import backend as K\n",
        "tf.random.set_seed(1234)\n",
        "\n",
        "sess = tf.compat.v1.Session(graph=tf.compat.v1.get_default_graph(), config=session_conf)\n",
        "K.set_session(sess)\n",
        "\n",
        "# fit the model\n",
        "neurons= [4] \n",
        "n_epochs=18\n",
        "batch_size=1\n",
        "\n",
        "model = Sequential()\n",
        "#model.add(LSTM(neurons[0], batch_input_shape=(batch_size, timesteps, n_features), stateful=True))\n",
        "model.add(LSTM(neurons[0], input_shape=(timesteps, n_features)))\n",
        "model.add(Dropout(0.3))\n",
        "model.add(Dense(steps_ahead))\n",
        "model.compile(loss='mean_squared_error', optimizer='adam')\n",
        "\n",
        "from keras.callbacks import EarlyStopping\n",
        "history = model.fit(train_X, train_y, epochs=n_epochs, batch_size=1, validation_data=(test_X, test_y), verbose=2, shuffle=False)\n",
        "early_stop = EarlyStopping(monitor='loss', patience=4, verbose=1)\n",
        "#model.reset_states()"
      ]
    },
    {
      "cell_type": "code",
      "execution_count": 1170,
      "metadata": {
        "colab": {
          "base_uri": "https://localhost:8080/",
          "height": 374
        },
        "id": "Om2PkqgiVjri",
        "outputId": "9c096b66-124d-4859-969f-87284e6e7262"
      },
      "outputs": [
        {
          "output_type": "display_data",
          "data": {
            "text/plain": [
              "<Figure size 1296x432 with 1 Axes>"
            ],
            "image/png": "[encoded data removed]"
          },
          "metadata": {
            "needs_background": "light"
          }
        }
      ],
      "source": [
        "fig, ax = plt.subplots(1, 1, figsize=(18,6)) \n",
        "ax.xaxis.set_major_locator(plt.MultipleLocator(5))\n",
        "plt.plot(history.history['loss'], label='train')\n",
        "plt.plot(history.history['val_loss'], label='test')\n",
        "plt.legend(fontsize=15)\n",
        "plt.show()"
      ]
    },
    {
      "cell_type": "markdown",
      "source": [
        "**MinMax Scaler equation**\n",
        "$$x' = \\frac{(x - min)}{(max - min)} \\times (new\\ max\\ value - new\\ min\\  value) + new\\ min\\ value$$<br/>\n",
        "\n",
        "\n",
        "$$x = \\frac{(max - min)\\times (new\\ min\\ value + x') + (new\\ max\\ value - new\\ min\\ value)\\times min}{new\\ max\\ value - new\\ min\\ value}$$\n",
        "\n",
        "Where:\n",
        "\n",
        "$x$ is the inverse scaled value\n",
        "$x'$ is the scaled value\n",
        "$min$ is the minimum value of the original data\n",
        "$max$ is the maximum value of the original data.<br/>\n",
        "$new\\ max\\ value$ and $new\\ min\\ value$ is the new range that we want to scale the data to. For example: $(1,0)\\ or\\ (1,-1)$"
      ],
      "metadata": {
        "id": "SHohbk8uYRIh"
      }
    },
    {
      "cell_type": "code",
      "source": [
        "# make a prediction \n",
        "# select the number of obersvtions for prediction\n",
        "n_obs = len(test)\n",
        "yhat = model.predict(test_X[-n_obs:])\n",
        "\n",
        "\n",
        "# invert scaling for actual\n",
        "scaled_y = pd.DataFrame(test_y)\n",
        "scaled_yhat = pd.DataFrame(yhat)\n",
        "unscaled_df = pd.DataFrame(series_supervised)\n",
        "new_max_value = 1 \n",
        "new_min_value= 0\n",
        "\n",
        "def transform_column(column):\n",
        "    min_value = min(unscaled_df.iloc[:, -steps_ahead + column.name])\n",
        "    max_value = max(unscaled_df.iloc[:, -steps_ahead + column.name])\n",
        "    feature_range = new_max_value - new_min_value\n",
        "    return (np.multiply((max_value - min_value), (new_min_value + column)) + (feature_range  * min_value)) / feature_range \n",
        "\n",
        "inv_scale_y = scaled_y.apply(transform_column, axis=0)\n",
        "\n",
        "# # # invert scaling for forecast\n",
        "inv_scale_yhat = scaled_yhat.apply(transform_column, axis=0)\n"
      ],
      "metadata": {
        "colab": {
          "base_uri": "https://localhost:8080/"
        },
        "id": "dZ3IIvIhvHaz",
        "outputId": "bd11a97b-54e5-4a90-c602-7e4e8d90fa6b"
      },
      "execution_count": 1204,
      "outputs": [
        {
          "output_type": "stream",
          "name": "stdout",
          "text": [
            "12/12 [==============================] - 0s 2ms/step\n"
          ]
        }
      ]
    },
    {
      "cell_type": "code",
      "source": [
        "inv_scale_yhat"
      ],
      "metadata": {
        "colab": {
          "base_uri": "https://localhost:8080/",
          "height": 424
        },
        "id": "l8F5sW5kN9DW",
        "outputId": "a2408e75-916d-4dad-b63e-cd0f484a21e9"
      },
      "execution_count": 1205,
      "outputs": [
        {
          "output_type": "execute_result",
          "data": {
            "text/plain": [
              "               0\n",
              "0     -33.466797\n",
              "1   -2372.604492\n",
              "2     818.561523\n",
              "3   -2969.891602\n",
              "4   -2663.767578\n",
              "..           ...\n",
              "363   -13.266602\n",
              "364    -8.807617\n",
              "365   -30.199219\n",
              "366   -22.316406\n",
              "367    47.038086\n",
              "\n",
              "[368 rows x 1 columns]"
            ],
            "text/html": [
              "\n",
              "  <div id=\"df-85baad8e-221f-443c-bb43-e02a0e3565ed\">\n",
              "    <div class=\"colab-df-container\">\n",
              "      <div>\n",
              "<style scoped>\n",
              "    .dataframe tbody tr th:only-of-type {\n",
              "        vertical-align: middle;\n",
              "    }\n",
              "\n",
              "    .dataframe tbody tr th {\n",
              "        vertical-align: top;\n",
              "    }\n",
              "\n",
              "    .dataframe thead th {\n",
              "        text-align: right;\n",
              "    }\n",
              "</style>\n",
              "<table border=\"1\" class=\"dataframe\">\n",
              "  <thead>\n",
              "    <tr style=\"text-align: right;\">\n",
              "      <th></th>\n",
              "      <th>0</th>\n",
              "    </tr>\n",
              "  </thead>\n",
              "  <tbody>\n",
              "    <tr>\n",
              "      <th>0</th>\n",
              "      <td>-33.466797</td>\n",
              "    </tr>\n",
              "    <tr>\n",
              "      <th>1</th>\n",
              "      <td>-2372.604492</td>\n",
              "    </tr>\n",
              "    <tr>\n",
              "      <th>2</th>\n",
              "      <td>818.561523</td>\n",
              "    </tr>\n",
              "    <tr>\n",
              "      <th>3</th>\n",
              "      <td>-2969.891602</td>\n",
              "    </tr>\n",
              "    <tr>\n",
              "      <th>4</th>\n",
              "      <td>-2663.767578</td>\n",
              "    </tr>\n",
              "    <tr>\n",
              "      <th>...</th>\n",
              "      <td>...</td>\n",
              "    </tr>\n",
              "    <tr>\n",
              "      <th>363</th>\n",
              "      <td>-13.266602</td>\n",
              "    </tr>\n",
              "    <tr>\n",
              "      <th>364</th>\n",
              "      <td>-8.807617</td>\n",
              "    </tr>\n",
              "    <tr>\n",
              "      <th>365</th>\n",
              "      <td>-30.199219</td>\n",
              "    </tr>\n",
              "    <tr>\n",
              "      <th>366</th>\n",
              "      <td>-22.316406</td>\n",
              "    </tr>\n",
              "    <tr>\n",
              "      <th>367</th>\n",
              "      <td>47.038086</td>\n",
              "    </tr>\n",
              "  </tbody>\n",
              "</table>\n",
              "<p>368 rows × 1 columns</p>\n",
              "</div>\n",
              "      <button class=\"colab-df-convert\" onclick=\"convertToInteractive('df-85baad8e-221f-443c-bb43-e02a0e3565ed')\"\n",
              "              title=\"Convert this dataframe to an interactive table.\"\n",
              "              style=\"display:none;\">\n",
              "        \n",
              "  <svg xmlns=\"http://www.w3.org/2000/svg\" height=\"24px\"viewBox=\"0 0 24 24\"\n",
              "       width=\"24px\">\n",
              "    <path d=\"M0 0h24v24H0V0z\" fill=\"none\"/>\n",
              "    <path d=\"M18.56 5.44l.94 2.06.94-2.06 2.06-.94-2.06-.94-.94-2.06-.94 2.06-2.06.94zm-11 1L8.5 8.5l.94-2.06 2.06-.94-2.06-.94L8.5 2.5l-.94 2.06-2.06.94zm10 10l.94 2.06.94-2.06 2.06-.94-2.06-.94-.94-2.06-.94 2.06-2.06.94z\"/><path d=\"M17.41 7.96l-1.37-1.37c-.4-.4-.92-.59-1.43-.59-.52 0-1.04.2-1.43.59L10.3 9.45l-7.72 7.72c-.78.78-.78 2.05 0 2.83L4 21.41c.39.39.9.59 1.41.59.51 0 1.02-.2 1.41-.59l7.78-7.78 2.81-2.81c.8-.78.8-2.07 0-2.86zM5.41 20L4 18.59l7.72-7.72 1.47 1.35L5.41 20z\"/>\n",
              "  </svg>\n",
              "      </button>\n",
              "      \n",
              "  <style>\n",
              "    .colab-df-container {\n",
              "      display:flex;\n",
              "      flex-wrap:wrap;\n",
              "      gap: 12px;\n",
              "    }\n",
              "\n",
              "    .colab-df-convert {\n",
              "      background-color: #E8F0FE;\n",
              "      border: none;\n",
              "      border-radius: 50%;\n",
              "      cursor: pointer;\n",
              "      display: none;\n",
              "      fill: #1967D2;\n",
              "      height: 32px;\n",
              "      padding: 0 0 0 0;\n",
              "      width: 32px;\n",
              "    }\n",
              "\n",
              "    .colab-df-convert:hover {\n",
              "      background-color: #E2EBFA;\n",
              "      box-shadow: 0px 1px 2px rgba(60, 64, 67, 0.3), 0px 1px 3px 1px rgba(60, 64, 67, 0.15);\n",
              "      fill: #174EA6;\n",
              "    }\n",
              "\n",
              "    [theme=dark] .colab-df-convert {\n",
              "      background-color: #3B4455;\n",
              "      fill: #D2E3FC;\n",
              "    }\n",
              "\n",
              "    [theme=dark] .colab-df-convert:hover {\n",
              "      background-color: #434B5C;\n",
              "      box-shadow: 0px 1px 3px 1px rgba(0, 0, 0, 0.15);\n",
              "      filter: drop-shadow(0px 1px 2px rgba(0, 0, 0, 0.3));\n",
              "      fill: #FFFFFF;\n",
              "    }\n",
              "  </style>\n",
              "\n",
              "      <script>\n",
              "        const buttonEl =\n",
              "          document.querySelector('#df-85baad8e-221f-443c-bb43-e02a0e3565ed button.colab-df-convert');\n",
              "        buttonEl.style.display =\n",
              "          google.colab.kernel.accessAllowed ? 'block' : 'none';\n",
              "\n",
              "        async function convertToInteractive(key) {\n",
              "          const element = document.querySelector('#df-85baad8e-221f-443c-bb43-e02a0e3565ed');\n",
              "          const dataTable =\n",
              "            await google.colab.kernel.invokeFunction('convertToInteractive',\n",
              "                                                     [key], {});\n",
              "          if (!dataTable) return;\n",
              "\n",
              "          const docLinkHtml = 'Like what you see? Visit the ' +\n",
              "            '<a target=\"_blank\" href=https://colab.research.google.com/notebooks/data_table.ipynb>data table notebook</a>'\n",
              "            + ' to learn more about interactive tables.';\n",
              "          element.innerHTML = '';\n",
              "          dataTable['output_type'] = 'display_data';\n",
              "          await google.colab.output.renderOutput(dataTable, element);\n",
              "          const docLink = document.createElement('div');\n",
              "          docLink.innerHTML = docLinkHtml;\n",
              "          element.appendChild(docLink);\n",
              "        }\n",
              "      </script>\n",
              "    </div>\n",
              "  </div>\n",
              "  "
            ]
          },
          "metadata": {},
          "execution_count": 1205
        }
      ]
    },
    {
      "cell_type": "code",
      "source": [
        "inv_scale_y"
      ],
      "metadata": {
        "colab": {
          "base_uri": "https://localhost:8080/",
          "height": 424
        },
        "id": "ZCnnG_azOPAz",
        "outputId": "4a160576-f69a-4187-9e8e-0e8af195f8f4"
      },
      "execution_count": 1206,
      "outputs": [
        {
          "output_type": "execute_result",
          "data": {
            "text/plain": [
              "               0\n",
              "0     -42.833610\n",
              "1   -1498.169987\n",
              "2     815.096556\n",
              "3   -2045.383509\n",
              "4    -610.740609\n",
              "..           ...\n",
              "363     3.270702\n",
              "364    44.783451\n",
              "365    17.925960\n",
              "366  -104.788245\n",
              "367  -177.121066\n",
              "\n",
              "[368 rows x 1 columns]"
            ],
            "text/html": [
              "\n",
              "  <div id=\"df-f67b741d-39f7-4033-ac8a-7ad56465ff2c\">\n",
              "    <div class=\"colab-df-container\">\n",
              "      <div>\n",
              "<style scoped>\n",
              "    .dataframe tbody tr th:only-of-type {\n",
              "        vertical-align: middle;\n",
              "    }\n",
              "\n",
              "    .dataframe tbody tr th {\n",
              "        vertical-align: top;\n",
              "    }\n",
              "\n",
              "    .dataframe thead th {\n",
              "        text-align: right;\n",
              "    }\n",
              "</style>\n",
              "<table border=\"1\" class=\"dataframe\">\n",
              "  <thead>\n",
              "    <tr style=\"text-align: right;\">\n",
              "      <th></th>\n",
              "      <th>0</th>\n",
              "    </tr>\n",
              "  </thead>\n",
              "  <tbody>\n",
              "    <tr>\n",
              "      <th>0</th>\n",
              "      <td>-42.833610</td>\n",
              "    </tr>\n",
              "    <tr>\n",
              "      <th>1</th>\n",
              "      <td>-1498.169987</td>\n",
              "    </tr>\n",
              "    <tr>\n",
              "      <th>2</th>\n",
              "      <td>815.096556</td>\n",
              "    </tr>\n",
              "    <tr>\n",
              "      <th>3</th>\n",
              "      <td>-2045.383509</td>\n",
              "    </tr>\n",
              "    <tr>\n",
              "      <th>4</th>\n",
              "      <td>-610.740609</td>\n",
              "    </tr>\n",
              "    <tr>\n",
              "      <th>...</th>\n",
              "      <td>...</td>\n",
              "    </tr>\n",
              "    <tr>\n",
              "      <th>363</th>\n",
              "      <td>3.270702</td>\n",
              "    </tr>\n",
              "    <tr>\n",
              "      <th>364</th>\n",
              "      <td>44.783451</td>\n",
              "    </tr>\n",
              "    <tr>\n",
              "      <th>365</th>\n",
              "      <td>17.925960</td>\n",
              "    </tr>\n",
              "    <tr>\n",
              "      <th>366</th>\n",
              "      <td>-104.788245</td>\n",
              "    </tr>\n",
              "    <tr>\n",
              "      <th>367</th>\n",
              "      <td>-177.121066</td>\n",
              "    </tr>\n",
              "  </tbody>\n",
              "</table>\n",
              "<p>368 rows × 1 columns</p>\n",
              "</div>\n",
              "      <button class=\"colab-df-convert\" onclick=\"convertToInteractive('df-f67b741d-39f7-4033-ac8a-7ad56465ff2c')\"\n",
              "              title=\"Convert this dataframe to an interactive table.\"\n",
              "              style=\"display:none;\">\n",
              "        \n",
              "  <svg xmlns=\"http://www.w3.org/2000/svg\" height=\"24px\"viewBox=\"0 0 24 24\"\n",
              "       width=\"24px\">\n",
              "    <path d=\"M0 0h24v24H0V0z\" fill=\"none\"/>\n",
              "    <path d=\"M18.56 5.44l.94 2.06.94-2.06 2.06-.94-2.06-.94-.94-2.06-.94 2.06-2.06.94zm-11 1L8.5 8.5l.94-2.06 2.06-.94-2.06-.94L8.5 2.5l-.94 2.06-2.06.94zm10 10l.94 2.06.94-2.06 2.06-.94-2.06-.94-.94-2.06-.94 2.06-2.06.94z\"/><path d=\"M17.41 7.96l-1.37-1.37c-.4-.4-.92-.59-1.43-.59-.52 0-1.04.2-1.43.59L10.3 9.45l-7.72 7.72c-.78.78-.78 2.05 0 2.83L4 21.41c.39.39.9.59 1.41.59.51 0 1.02-.2 1.41-.59l7.78-7.78 2.81-2.81c.8-.78.8-2.07 0-2.86zM5.41 20L4 18.59l7.72-7.72 1.47 1.35L5.41 20z\"/>\n",
              "  </svg>\n",
              "      </button>\n",
              "      \n",
              "  <style>\n",
              "    .colab-df-container {\n",
              "      display:flex;\n",
              "      flex-wrap:wrap;\n",
              "      gap: 12px;\n",
              "    }\n",
              "\n",
              "    .colab-df-convert {\n",
              "      background-color: #E8F0FE;\n",
              "      border: none;\n",
              "      border-radius: 50%;\n",
              "      cursor: pointer;\n",
              "      display: none;\n",
              "      fill: #1967D2;\n",
              "      height: 32px;\n",
              "      padding: 0 0 0 0;\n",
              "      width: 32px;\n",
              "    }\n",
              "\n",
              "    .colab-df-convert:hover {\n",
              "      background-color: #E2EBFA;\n",
              "      box-shadow: 0px 1px 2px rgba(60, 64, 67, 0.3), 0px 1px 3px 1px rgba(60, 64, 67, 0.15);\n",
              "      fill: #174EA6;\n",
              "    }\n",
              "\n",
              "    [theme=dark] .colab-df-convert {\n",
              "      background-color: #3B4455;\n",
              "      fill: #D2E3FC;\n",
              "    }\n",
              "\n",
              "    [theme=dark] .colab-df-convert:hover {\n",
              "      background-color: #434B5C;\n",
              "      box-shadow: 0px 1px 3px 1px rgba(0, 0, 0, 0.15);\n",
              "      filter: drop-shadow(0px 1px 2px rgba(0, 0, 0, 0.3));\n",
              "      fill: #FFFFFF;\n",
              "    }\n",
              "  </style>\n",
              "\n",
              "      <script>\n",
              "        const buttonEl =\n",
              "          document.querySelector('#df-f67b741d-39f7-4033-ac8a-7ad56465ff2c button.colab-df-convert');\n",
              "        buttonEl.style.display =\n",
              "          google.colab.kernel.accessAllowed ? 'block' : 'none';\n",
              "\n",
              "        async function convertToInteractive(key) {\n",
              "          const element = document.querySelector('#df-f67b741d-39f7-4033-ac8a-7ad56465ff2c');\n",
              "          const dataTable =\n",
              "            await google.colab.kernel.invokeFunction('convertToInteractive',\n",
              "                                                     [key], {});\n",
              "          if (!dataTable) return;\n",
              "\n",
              "          const docLinkHtml = 'Like what you see? Visit the ' +\n",
              "            '<a target=\"_blank\" href=https://colab.research.google.com/notebooks/data_table.ipynb>data table notebook</a>'\n",
              "            + ' to learn more about interactive tables.';\n",
              "          element.innerHTML = '';\n",
              "          dataTable['output_type'] = 'display_data';\n",
              "          await google.colab.output.renderOutput(dataTable, element);\n",
              "          const docLink = document.createElement('div');\n",
              "          docLink.innerHTML = docLinkHtml;\n",
              "          element.appendChild(docLink);\n",
              "        }\n",
              "      </script>\n",
              "    </div>\n",
              "  </div>\n",
              "  "
            ]
          },
          "metadata": {},
          "execution_count": 1206
        }
      ]
    },
    {
      "cell_type": "code",
      "source": [
        "# Invert the Differencing for actual \n",
        "df = pd.DataFrame(series.iloc[-len(test)-steps_ahead:])\n",
        "n_vars = df.shape[1]\n",
        "columns = df.columns\n",
        "cols, names = list(), list()\n",
        "for i in range(0, steps_ahead):\n",
        "    cols.append(df.shift(-i))\n",
        "    if i == 0:\n",
        "        names += [('%s(t)' % (columns[j])) for j in range(n_vars)]\n",
        "    else:\n",
        "        names += [('%s(t+%d)' % (columns[j], i)) for j in range(n_vars)]\n",
        "# put it all together\n",
        "agg = pd.concat(cols, axis=1)\n",
        "agg.columns = names\n",
        "agg.dropna(inplace=True)\n",
        "agg = agg.iloc[:-1,0]\n",
        "#drop all the variables that we don't want to predict\n",
        "agg.drop(columns=vars_to_drop, inplace=True)\n",
        "agg = agg.to_numpy()\n",
        "inv_y = np.add(inv_scale_y,agg)"
      ],
      "metadata": {
        "id": "TqftbPYxvEE5"
      },
      "execution_count": 1196,
      "outputs": []
    },
    {
      "cell_type": "markdown",
      "source": [
        "* To invert the differencing of time series for multistep prediction:<br/>\n",
        "The equation is given by $$\n",
        "\\hat x_{t+h|t}=x_t+(\\widehat{\\Delta x_{t+1}}+\\dots+\\widehat{\\Delta x_{t+h}}).\n",
        "$$ <br/>\n",
        "where: <br/>\n",
        "$\\hat x_{t+h|t}$ is the predicted value of the time series x at time $t$+h, given the value of the time series at time $t$.<br/>\n",
        "$x_t$ is the value of the time series $x$ at time t.<br/>\n",
        "${\\Delta x_{t+1}}$ is the difference between the value of the time series $x$ at time $t+1$ and the value of the time series at time t.<br/>\n",
        "${\\Delta x_{t+2}}$ is the difference between the value of the time series $x$ at time $t+2$ and the value of the time series at time $t+1$.<br/>\n",
        "${\\Delta x_{t+h}}$ is the difference between the value of the time series $x$ at time $t+h$ and the value of the time series at time $t+h-1$."
      ],
      "metadata": {
        "id": "OWAqc4iTkxvn"
      }
    },
    {
      "cell_type": "code",
      "source": [
        "# Invert the Differencing for forecast\n",
        "# to invert the diffrenced predicted values,the the predicted differenced value is added\n",
        "# to previous predicted diffenced values and last available observation in test set(Xt)\n",
        "originalSeries_supervised = series_to_supervised(series, series.columns, n_in=timesteps, n_out=steps_ahead, dropnan=True)\n",
        "\n",
        "current_timestep = 1\n",
        "# actual value of oil rate at current time step\n",
        "# steps_ahead = 4\n",
        "#drop all the variables that we don't want to predict\n",
        "vars_y = originalSeries_supervised.columns[-steps_ahead*len(series.columns):]\n",
        "vars_to_drop = [col for col in vars_y if col.startswith(vars_name_to_drop[0])]\n",
        "originalSeries_supervised.drop(columns=vars_to_drop, inplace=True)\n",
        "originalSeries_xt = originalSeries_supervised.iloc[-len(test):,-steps_ahead-1]\n",
        "\n",
        "\n",
        "# A predicted value at any given step ahead is a result of the previous cumulative differnced predicted values and current time step\n",
        "col = []\n",
        "inv_yhat_cum = np.cumsum(inv_scale_yhat, axis=1)\n",
        "inv_yhat_cum = inv_yhat_cum.values\n",
        "\n",
        "for i in range(n_obs):\n",
        "    #.ravel() flattens the series into a one-dimensional array\n",
        "    inverted_diff_yhat = originalSeries_xt[-n_obs:].ravel()[i] + inv_yhat_cum[i]\n",
        "    col.append(inverted_diff_yhat)\n",
        "col = pd.DataFrame.from_records(col) # creates a DataFrame from a list of records\n",
        "#col.columns = pd.RangeIndex(start=1, stop=steps_ahead+1, step=1)\n",
        "inv_yhat = col.to_numpy() # convert df to NumpyArray"
      ],
      "metadata": {
        "id": "DSJErK0WDkX4"
      },
      "execution_count": 1212,
      "outputs": []
    },
    {
      "cell_type": "code",
      "source": [
        "inv_yhat_cum[0:2]"
      ],
      "metadata": {
        "colab": {
          "base_uri": "https://localhost:8080/"
        },
        "id": "8UT3jqDxPF9e",
        "outputId": "af2045f4-8469-4647-bf6c-113f7edae033"
      },
      "execution_count": 1219,
      "outputs": [
        {
          "output_type": "execute_result",
          "data": {
            "text/plain": [
              "array([[  -33.466797],\n",
              "       [-2372.6045  ]], dtype=float32)"
            ]
          },
          "metadata": {},
          "execution_count": 1219
        }
      ]
    },
    {
      "cell_type": "code",
      "source": [
        "originalSeries_xt[-n_obs:].ravel()[1]"
      ],
      "metadata": {
        "colab": {
          "base_uri": "https://localhost:8080/"
        },
        "id": "8xw8O7CoPQAG",
        "outputId": "60e1b5cc-5c26-41fe-f091-d48cda1aaf9b"
      },
      "execution_count": 1218,
      "outputs": [
        {
          "output_type": "execute_result",
          "data": {
            "text/plain": [
              "1902.730604606"
            ]
          },
          "metadata": {},
          "execution_count": 1218
        }
      ]
    },
    {
      "cell_type": "code",
      "source": [
        "inv_yhat "
      ],
      "metadata": {
        "colab": {
          "base_uri": "https://localhost:8080/"
        },
        "id": "J62K8sZJO_V6",
        "outputId": "ad2a15e2-77b7-41f1-b409-e54626dff1a1"
      },
      "execution_count": 1213,
      "outputs": [
        {
          "output_type": "execute_result",
          "data": {
            "text/plain": [
              "array([[ 3367.4338  ],\n",
              "       [ -469.8739  ],\n",
              "       [ 3536.3887  ],\n",
              "       [-2297.448   ],\n",
              "       [-2602.0645  ],\n",
              "       [ 6640.429   ],\n",
              "       [  364.15662 ],\n",
              "       [ 4508.9795  ],\n",
              "       [  344.5395  ],\n",
              "       [ 4422.282   ],\n",
              "       [ 4203.2266  ],\n",
              "       [ 3594.3208  ],\n",
              "       [ 3516.833   ],\n",
              "       [ 3404.8696  ],\n",
              "       [ 3439.0718  ],\n",
              "       [ 3365.2734  ],\n",
              "       [ 1101.8274  ],\n",
              "       [ 1924.3184  ],\n",
              "       [ 4363.9434  ],\n",
              "       [ 4275.1816  ],\n",
              "       [  110.8374  ],\n",
              "       [ 4746.9507  ],\n",
              "       [ 4251.216   ],\n",
              "       [ 3815.9324  ],\n",
              "       [ 3793.3464  ],\n",
              "       [ 3674.3357  ],\n",
              "       [ 3688.5015  ],\n",
              "       [ 3677.3447  ],\n",
              "       [ 3612.2517  ],\n",
              "       [ 3651.1255  ],\n",
              "       [ 3612.583   ],\n",
              "       [ 3631.1892  ],\n",
              "       [ 3492.641   ],\n",
              "       [ 3725.0356  ],\n",
              "       [ 4425.0664  ],\n",
              "       [ 3226.6897  ],\n",
              "       [ 3930.6265  ],\n",
              "       [ 3768.45    ],\n",
              "       [ 3694.7202  ],\n",
              "       [ 3512.1553  ],\n",
              "       [ 3502.666   ],\n",
              "       [ 3434.5173  ],\n",
              "       [ 3389.0723  ],\n",
              "       [ 3355.9258  ],\n",
              "       [ 3309.7385  ],\n",
              "       [ 3444.8079  ],\n",
              "       [ 3304.2837  ],\n",
              "       [ 3364.3308  ],\n",
              "       [ -407.90247 ],\n",
              "       [-4762.168   ],\n",
              "       [  737.444   ],\n",
              "       [ 6989.1245  ],\n",
              "       [ 4614.139   ],\n",
              "       [ 3709.359   ],\n",
              "       [ 3481.5562  ],\n",
              "       [ 3097.8206  ],\n",
              "       [ 2985.6702  ],\n",
              "       [ 2916.1365  ],\n",
              "       [ 2865.443   ],\n",
              "       [ 2837.4246  ],\n",
              "       [ 2871.141   ],\n",
              "       [ 2849.3665  ],\n",
              "       [ 2880.972   ],\n",
              "       [ 2897.99    ],\n",
              "       [ 2917.811   ],\n",
              "       [ 2928.3691  ],\n",
              "       [ 2802.1196  ],\n",
              "       [ 2890.3054  ],\n",
              "       [ 2633.3096  ],\n",
              "       [ 2751.7976  ],\n",
              "       [ 2679.6887  ],\n",
              "       [ 2702.7893  ],\n",
              "       [ 2686.9456  ],\n",
              "       [ 1538.9956  ],\n",
              "       [ 2941.68    ],\n",
              "       [ 2779.0312  ],\n",
              "       [ 2806.0562  ],\n",
              "       [ 2733.688   ],\n",
              "       [ 2802.7642  ],\n",
              "       [ 2824.768   ],\n",
              "       [ 3179.7163  ],\n",
              "       [ 2628.7708  ],\n",
              "       [ 2973.7793  ],\n",
              "       [ 2872.0613  ],\n",
              "       [ 3178.4507  ],\n",
              "       [ 2942.0393  ],\n",
              "       [ 3091.1074  ],\n",
              "       [ 3126.4348  ],\n",
              "       [ 3051.9187  ],\n",
              "       [ 3087.7764  ],\n",
              "       [ 3060.8762  ],\n",
              "       [ 3049.96    ],\n",
              "       [ 3018.8342  ],\n",
              "       [ 2998.2988  ],\n",
              "       [ 2951.4128  ],\n",
              "       [ 2805.424   ],\n",
              "       [ 3007.82    ],\n",
              "       [ -712.00244 ],\n",
              "       [ 2688.566   ],\n",
              "       [ 3556.046   ],\n",
              "       [ 2799.1091  ],\n",
              "       [ 2740.0193  ],\n",
              "       [ 2738.1843  ],\n",
              "       [ 2782.3584  ],\n",
              "       [ 2744.9138  ],\n",
              "       [ 2732.7207  ],\n",
              "       [ 2745.9673  ],\n",
              "       [ 2737.7566  ],\n",
              "       [ 2785.8704  ],\n",
              "       [ 2772.1074  ],\n",
              "       [ 2771.404   ],\n",
              "       [ 2830.8235  ],\n",
              "       [ 2816.228   ],\n",
              "       [ 2773.9385  ],\n",
              "       [ 2801.7908  ],\n",
              "       [ 2753.5195  ],\n",
              "       [ 2817.066   ],\n",
              "       [ 2753.4834  ],\n",
              "       [ 2775.6853  ],\n",
              "       [ 2752.016   ],\n",
              "       [ 2756.7566  ],\n",
              "       [ 2173.4233  ],\n",
              "       [ 2803.108   ],\n",
              "       [ 2893.443   ],\n",
              "       [ 2701.2922  ],\n",
              "       [ 2807.897   ],\n",
              "       [ 2770.5479  ],\n",
              "       [ 2779.012   ],\n",
              "       [ 2799.724   ],\n",
              "       [ 2764.8447  ],\n",
              "       [ 2758.9563  ],\n",
              "       [ 2645.6367  ],\n",
              "       [ 2303.353   ],\n",
              "       [ 2489.4907  ],\n",
              "       [ 2334.6042  ],\n",
              "       [ 2276.5898  ],\n",
              "       [ 2304.1775  ],\n",
              "       [ 2190.3398  ],\n",
              "       [ 2238.2344  ],\n",
              "       [ 2113.1956  ],\n",
              "       [ 2148.276   ],\n",
              "       [ 2106.7764  ],\n",
              "       [ 2065.2715  ],\n",
              "       [ 2139.3945  ],\n",
              "       [ 2111.1335  ],\n",
              "       [ 2108.4563  ],\n",
              "       [ 2138.2354  ],\n",
              "       [ 2140.3223  ],\n",
              "       [ 2132.058   ],\n",
              "       [ 2143.1423  ],\n",
              "       [ 2125.9387  ],\n",
              "       [-5254.196   ],\n",
              "       [-4553.468   ],\n",
              "       [-2032.0195  ],\n",
              "       [-1077.3799  ],\n",
              "       [ -562.7822  ],\n",
              "       [ -254.28516 ],\n",
              "       [ 6594.9644  ],\n",
              "       [ 7541.4385  ],\n",
              "       [ 3888.561   ],\n",
              "       [ 2458.5928  ],\n",
              "       [ 2975.5608  ],\n",
              "       [ 2341.6042  ],\n",
              "       [ 2337.5916  ],\n",
              "       [ 2279.6614  ],\n",
              "       [ 2646.779   ],\n",
              "       [ 1300.7063  ],\n",
              "       [ 2390.4314  ],\n",
              "       [ 2420.465   ],\n",
              "       [ 2174.8018  ],\n",
              "       [ 2146.0347  ],\n",
              "       [ 2122.0894  ],\n",
              "       [ 2098.9956  ],\n",
              "       [ 2093.0588  ],\n",
              "       [ 2050.8352  ],\n",
              "       [ 2142.8606  ],\n",
              "       [ 2082.479   ],\n",
              "       [ 2078.5642  ],\n",
              "       [ 2145.313   ],\n",
              "       [ 2087.15    ],\n",
              "       [ 2098.5117  ],\n",
              "       [ 2102.324   ],\n",
              "       [ 2084.5208  ],\n",
              "       [ 2144.0105  ],\n",
              "       [ 2065.998   ],\n",
              "       [ 2106.7886  ],\n",
              "       [ 2132.721   ],\n",
              "       [ 2103.1907  ],\n",
              "       [ 2125.8967  ],\n",
              "       [ 2123.3647  ],\n",
              "       [ 2107.0938  ],\n",
              "       [ 2111.5925  ],\n",
              "       [-5338.1934  ],\n",
              "       [  713.16296 ],\n",
              "       [ 5259.6694  ],\n",
              "       [ 3408.1865  ],\n",
              "       [ 2435.9233  ],\n",
              "       [ 2446.4277  ],\n",
              "       [ 2232.5369  ],\n",
              "       [ 2059.687   ],\n",
              "       [ 2040.0204  ],\n",
              "       [ 2005.8553  ],\n",
              "       [ 2060.0344  ],\n",
              "       [ 2059.3135  ],\n",
              "       [ 2032.8237  ],\n",
              "       [ 2051.0898  ],\n",
              "       [ 2035.8717  ],\n",
              "       [ 2038.3574  ],\n",
              "       [ 2035.4354  ],\n",
              "       [ 2018.6871  ],\n",
              "       [ 2018.297   ],\n",
              "       [ 2026.1813  ],\n",
              "       [ 2025.7865  ],\n",
              "       [ 2003.5042  ],\n",
              "       [ 2058.5552  ],\n",
              "       [ 2020.8508  ],\n",
              "       [ 2038.9624  ],\n",
              "       [ 2044.239   ],\n",
              "       [ 2062.495   ],\n",
              "       [ 2154.2979  ],\n",
              "       [ 2011.1201  ],\n",
              "       [ 2099.8389  ],\n",
              "       [ 2007.1569  ],\n",
              "       [ 2098.3398  ],\n",
              "       [ 2005.2482  ],\n",
              "       [ 2066.6938  ],\n",
              "       [ 2025.3431  ],\n",
              "       [ 2144.292   ],\n",
              "       [ 2053.7197  ],\n",
              "       [ 2077.6694  ],\n",
              "       [ 2094.4675  ],\n",
              "       [ 2134.2087  ],\n",
              "       [ 2100.7104  ],\n",
              "       [ 2104.07    ],\n",
              "       [ 2198.9355  ],\n",
              "       [ 2235.9546  ],\n",
              "       [ 2226.3481  ],\n",
              "       [ 2229.6055  ],\n",
              "       [ 2260.242   ],\n",
              "       [ 2279.2463  ],\n",
              "       [ 2235.7834  ],\n",
              "       [ 2231.5994  ],\n",
              "       [ 2300.846   ],\n",
              "       [ 2196.1946  ],\n",
              "       [ 2273.9148  ],\n",
              "       [ 2230.2222  ],\n",
              "       [ 2239.5864  ],\n",
              "       [ 2161.2131  ],\n",
              "       [ 2287.0833  ],\n",
              "       [ 2105.686   ],\n",
              "       [ 1966.4675  ],\n",
              "       [ 2154.9438  ],\n",
              "       [ 2034.2498  ],\n",
              "       [ -354.92944 ],\n",
              "       [ 2321.6682  ],\n",
              "       [ 2781.8564  ],\n",
              "       [ 2574.0708  ],\n",
              "       [ 1870.8351  ],\n",
              "       [ 1732.6978  ],\n",
              "       [ 3058.264   ],\n",
              "       [ 1508.4739  ],\n",
              "       [ 2218.8132  ],\n",
              "       [ 2028.8282  ],\n",
              "       [ 2020.5488  ],\n",
              "       [ 1998.9785  ],\n",
              "       [ 1752.9906  ],\n",
              "       [ 2182.8118  ],\n",
              "       [ 1604.1027  ],\n",
              "       [ 2200.5933  ],\n",
              "       [ 1795.9086  ],\n",
              "       [ 2072.8096  ],\n",
              "       [ 2042.2605  ],\n",
              "       [ 1292.8513  ],\n",
              "       [ 1838.8607  ],\n",
              "       [ 2379.711   ],\n",
              "       [ 1983.8202  ],\n",
              "       [ 1958.8407  ],\n",
              "       [ 2034.2046  ],\n",
              "       [ 1968.018   ],\n",
              "       [ 2000.4135  ],\n",
              "       [ 2032.1177  ],\n",
              "       [ 1936.518   ],\n",
              "       [ 2038.4326  ],\n",
              "       [ 1704.5983  ],\n",
              "       [ 2452.9712  ],\n",
              "       [ 2041.4478  ],\n",
              "       [ 3083.1704  ],\n",
              "       [ 1574.5624  ],\n",
              "       [ 2562.6938  ],\n",
              "       [ 2176.9988  ],\n",
              "       [ 2136.3398  ],\n",
              "       [ 2082.6362  ],\n",
              "       [ 2144.7102  ],\n",
              "       [ 2003.14    ],\n",
              "       [ -239.23499 ],\n",
              "       [ 1122.8721  ],\n",
              "       [ 2703.5923  ],\n",
              "       [ 2574.6865  ],\n",
              "       [ 2116.823   ],\n",
              "       [ 1859.9425  ],\n",
              "       [ 2072.5962  ],\n",
              "       [ 1908.4658  ],\n",
              "       [ 1749.5475  ],\n",
              "       [ 1943.1356  ],\n",
              "       [ 1862.3699  ],\n",
              "       [  838.96387 ],\n",
              "       [ 2164.9749  ],\n",
              "       [ 2089.1118  ],\n",
              "       [ 1926.896   ],\n",
              "       [ 1957.0408  ],\n",
              "       [ 1926.792   ],\n",
              "       [ 1278.0089  ],\n",
              "       [ -997.5168  ],\n",
              "       [ 2829.4478  ],\n",
              "       [ 2722.8457  ],\n",
              "       [ 2001.6083  ],\n",
              "       [   80.929565],\n",
              "       [  927.95593 ],\n",
              "       [ 2617.0645  ],\n",
              "       [ -667.9176  ],\n",
              "       [ -162.47388 ],\n",
              "       [ 3713.3223  ],\n",
              "       [ 1935.2634  ],\n",
              "       [ 2277.9673  ],\n",
              "       [ 1760.5516  ],\n",
              "       [ 1948.7463  ],\n",
              "       [ 1480.029   ],\n",
              "       [ 1814.4026  ],\n",
              "       [ 1631.6604  ],\n",
              "       [ 1710.2644  ],\n",
              "       [ 1686.8854  ],\n",
              "       [ 1696.0231  ],\n",
              "       [ 1693.9945  ],\n",
              "       [ 1638.4899  ],\n",
              "       [ 1757.8239  ],\n",
              "       [ 1707.7792  ],\n",
              "       [ 1682.2025  ],\n",
              "       [ 1680.859   ],\n",
              "       [ 1756.975   ],\n",
              "       [ 1702.4851  ],\n",
              "       [ 1686.3339  ],\n",
              "       [ 1726.6418  ],\n",
              "       [ 1703.3898  ],\n",
              "       [ 1715.7992  ],\n",
              "       [ 1701.7017  ],\n",
              "       [ 1710.676   ],\n",
              "       [ 1698.2197  ],\n",
              "       [ 1707.5083  ],\n",
              "       [ 1775.8116  ],\n",
              "       [ 1656.1844  ],\n",
              "       [ 1674.3556  ],\n",
              "       [ 1668.2906  ],\n",
              "       [ 1643.893   ],\n",
              "       [ 1667.2142  ],\n",
              "       [ 1632.1044  ],\n",
              "       [ 1642.247   ],\n",
              "       [ 1638.0387  ],\n",
              "       [ 1617.4185  ],\n",
              "       [ 1637.2225  ],\n",
              "       [ 1609.9648  ],\n",
              "       [ 1635.1528  ],\n",
              "       [ 1639.6587  ],\n",
              "       [ 1644.096   ],\n",
              "       [ 1649.4448  ],\n",
              "       [ 1698.6873  ],\n",
              "       [ 1695.2217  ],\n",
              "       [ 1598.3162  ],\n",
              "       [ 1490.5496  ]], dtype=float32)"
            ]
          },
          "metadata": {},
          "execution_count": 1213
        }
      ]
    },
    {
      "cell_type": "code",
      "source": [
        "# Performance evaluation\n",
        "rmse_test, RMSPE_test, MAE_test, MAPE_test, r2_test, wMAPE_test, SMAPE_test  = [], [], [], [], [], [], []\n",
        "# calculate the score for each day\n",
        "\n",
        "for i in range(test_y.shape[1]):\n",
        "    result_rmse = sqrt(mean_squared_error(inv_y[:,i], inv_yhat[:,i]))\n",
        "    result_RMSPE = RMSPE(inv_y[:,i], inv_yhat[:,i])\n",
        "    result_MAE = mean_absolute_error(inv_y[:,i], inv_yhat[:,i])\n",
        "    result_MAPE = MAPE(inv_y[:,i], inv_yhat[:,i])\n",
        "    result_r2 = r2_score(inv_y[:,i], inv_yhat[:,i])\n",
        "    result_wMAPE = wMAPE(inv_y[:,i], inv_yhat[:,i])\n",
        "    result_SMAPE = SMAPE(inv_y[:,i], inv_yhat[:,i])\n",
        "\n",
        "    rmse_test.append(result_rmse)\n",
        "    RMSPE_test.append(result_RMSPE)\n",
        "    MAE_test.append(result_MAE)\n",
        "    MAPE_test.append(result_MAPE)\n",
        "    r2_test.append(result_r2)\n",
        "    wMAPE_test.append(result_wMAPE)\n",
        "    SMAPE_test.append(result_SMAPE)\n",
        "    \n",
        "## calculate overall score\n",
        "print(\"The Average scores for the vector output {} steps ahead:\\n\".format(steps_ahead))\n",
        "print('Test RMSE: %.5f' % np.mean(rmse_test))\n",
        "#print('Test RMSPE: %.5f' % np.mean(RMSPE_test)) because of that the denominator (actual) has some zero values\n",
        "print('Test MAE: %.5f' % np.mean(MAE_test))\n",
        "#print('Test MAPE: %.5f' % np.mean(MAPE_test)) because of that the denominator (actual) has some zero values\n",
        "print('Test r2: %.5f' % np.mean(r2_test))\n",
        "print('Test wMAPE: %.5f ' % np.mean(wMAPE_test))\n",
        "print('Test SMAPE: %.5f ' % np.mean(SMAPE_test))"
      ],
      "metadata": {
        "id": "51SnY7n5e0nx",
        "colab": {
          "base_uri": "https://localhost:8080/"
        },
        "outputId": "ba57df51-ad6c-426b-f823-5e74994cdd5f"
      },
      "execution_count": 1199,
      "outputs": [
        {
          "output_type": "stream",
          "name": "stdout",
          "text": [
            "The Average scores for the vector output 1 steps ahead:\n",
            "\n",
            "Test RMSE: 3474.27103\n",
            "Test MAE: 3425.38344\n",
            "Test r2: -50.73601\n",
            "Test wMAPE: 99.62437 \n",
            "Test SMAPE: 186.90627 \n"
          ]
        }
      ]
    },
    {
      "cell_type": "code",
      "source": [
        "Test RMSE: 555.56135\n",
        "Test MAE: 277.11301\n",
        "Test r2: 0.39641\n",
        "Test wMAPE: 12.32902 \n",
        "Test SMAPE: 17.45901"
      ],
      "metadata": {
        "colab": {
          "base_uri": "https://localhost:8080/",
          "height": 131
        },
        "id": "ef--j4gGOE6F",
        "outputId": "bf0ccb11-cb78-427f-c304-c673bd2c54c3"
      },
      "execution_count": 1001,
      "outputs": [
        {
          "output_type": "error",
          "ename": "SyntaxError",
          "evalue": "ignored",
          "traceback": [
            "\u001b[0;36m  File \u001b[0;32m\"<ipython-input-1001-02797d9a03b8>\"\u001b[0;36m, line \u001b[0;32m1\u001b[0m\n\u001b[0;31m    Test RMSE: 555.56135\u001b[0m\n\u001b[0m         ^\u001b[0m\n\u001b[0;31mSyntaxError\u001b[0m\u001b[0;31m:\u001b[0m invalid syntax\n"
          ]
        }
      ]
    },
    {
      "cell_type": "code",
      "source": [
        "# plot the scores for each time step of the multi-step forecast\n",
        "scores = pd.DataFrame({\"rmse_test\":rmse_test, \"MAE_test\":MAE_test, \"R-squared_test\":r2_test, \"wMAPE_test\":wMAPE_test, \"SMAPE_test\":SMAPE_test})\n",
        "\n",
        "# Reset the index, keeping the old index as a column\n",
        "scores = scores.reset_index(drop=False)\n",
        "\n",
        "# Set the 'index' column as the new index\n",
        "scores.index = scores['index'] + 1\n",
        "\n",
        "# Drop the old 'index' column\n",
        "scores = scores.drop(columns='index')\n",
        "\n",
        "data = scores.columns\n",
        "\n",
        "# Creating figure with two rows and one column\n",
        "fig, axs = plt.subplots(nrows=len(data), figsize=(17, 15))\n",
        "\n",
        "axs = axs.ravel()\n",
        "\n",
        "for id, column in enumerate(data):\n",
        "    # Set the x-axis limits\n",
        "    #axs[id].set_xlim(xmin=1, xmax= steps_ahead)\n",
        "    #print the name of the test on plot\n",
        "    axs[id].plot(scores[column])\n",
        "    # Add a title to the x-axis\n",
        "    axs[id].set_xlabel('Steps ahead',fontsize=10, labelpad=0.1)\n",
        "    axs[id].grid(True)\n",
        "    # Remove the horizontal grid lines\n",
        "    axs[id].grid(which='both', axis='y')\n",
        "    axs[id].xaxis.set_major_locator(plt.MultipleLocator(1))\n",
        "    axs[id].legend([column], loc='upper left', fontsize=15, handlelength=0, handletextpad=0, frameon=False)\n",
        "    \n",
        "plt.show()"
      ],
      "metadata": {
        "id": "H4KkEyXsJvDW"
      },
      "execution_count": null,
      "outputs": []
    },
    {
      "cell_type": "code",
      "source": [
        "inv_yhat"
      ],
      "metadata": {
        "id": "w-CDANaINC-c"
      },
      "execution_count": null,
      "outputs": []
    },
    {
      "cell_type": "code",
      "source": [
        "inv_yhat[-1]"
      ],
      "metadata": {
        "id": "iHKnDMnFNdmw"
      },
      "execution_count": null,
      "outputs": []
    },
    {
      "cell_type": "code",
      "source": [
        "plt.plot(inv_yhat[-1], label = \"predicted\")\n",
        "plt.plot(inv_y[-1], label = \"actual\")"
      ],
      "metadata": {
        "id": "w1S1CN4BEWUe"
      },
      "execution_count": null,
      "outputs": []
    },
    {
      "cell_type": "code",
      "source": [
        "plt.plot(inv_yhat.flatten(), label = \"predicted\")\n",
        "plt.plot(inv_y.flatten(), label = \"actual\")"
      ],
      "metadata": {
        "id": "M2CGD3H6NZoj"
      },
      "execution_count": null,
      "outputs": []
    },
    {
      "cell_type": "code",
      "source": [
        "plt.plot(inv_yhat.flatten(), label = \"predicted\")\n",
        "plt.plot(inv_y.flatten(), label = \"actual\")"
      ],
      "metadata": {
        "id": "1GHomhZ5E3jc"
      },
      "execution_count": null,
      "outputs": []
    },
    {
      "cell_type": "code",
      "source": [
        "# plot the last forecasted values on test set\n",
        "fig, ax = plt.subplots(1, 1, figsize=(18,6)) \n",
        "# Set the major locator for the x-axis\n",
        "x = list(range(1, len(inv_yhat[-1])+1))\n",
        "ax.xaxis.set_major_locator(plt.MultipleLocator(1))\n",
        "ax.plot(x, inv_yhat[-1], label = \"predicted\")\n",
        "ax.plot(x, inv_y[-1], label = \"actual\")\n",
        "ax.set_ylabel('Oil Rate', fontsize=15)\n",
        "ax.set_xlabel('Steps Ahead (Days)',fontsize=15)\n",
        "plt.legend(fontsize=15)\n",
        "plt.show()"
      ],
      "metadata": {
        "id": "doFyZoCCZ-ht"
      },
      "execution_count": null,
      "outputs": []
    },
    {
      "cell_type": "code",
      "execution_count": 1055,
      "metadata": {
        "id": "zZcZ-O1kL3Q5",
        "colab": {
          "base_uri": "https://localhost:8080/",
          "height": 206
        },
        "outputId": "e8105d1d-bce7-40ae-dbb3-62445b643b37"
      },
      "outputs": [
        {
          "output_type": "execute_result",
          "data": {
            "text/plain": [
              "        actual   prediction\n",
              "0  3400.900591  3476.643311\n",
              "1  1902.730605  3440.932861\n",
              "2  2717.827160  2306.486328\n",
              "3   672.443651  2784.086914\n",
              "4    61.703042  1296.204346"
            ],
            "text/html": [
              "\n",
              "  <div id=\"df-0f1fa808-0771-44a5-a8b8-f41f9c7a4f6d\">\n",
              "    <div class=\"colab-df-container\">\n",
              "      <div>\n",
              "<style scoped>\n",
              "    .dataframe tbody tr th:only-of-type {\n",
              "        vertical-align: middle;\n",
              "    }\n",
              "\n",
              "    .dataframe tbody tr th {\n",
              "        vertical-align: top;\n",
              "    }\n",
              "\n",
              "    .dataframe thead th {\n",
              "        text-align: right;\n",
              "    }\n",
              "</style>\n",
              "<table border=\"1\" class=\"dataframe\">\n",
              "  <thead>\n",
              "    <tr style=\"text-align: right;\">\n",
              "      <th></th>\n",
              "      <th>actual</th>\n",
              "      <th>prediction</th>\n",
              "    </tr>\n",
              "  </thead>\n",
              "  <tbody>\n",
              "    <tr>\n",
              "      <th>0</th>\n",
              "      <td>3400.900591</td>\n",
              "      <td>3476.643311</td>\n",
              "    </tr>\n",
              "    <tr>\n",
              "      <th>1</th>\n",
              "      <td>1902.730605</td>\n",
              "      <td>3440.932861</td>\n",
              "    </tr>\n",
              "    <tr>\n",
              "      <th>2</th>\n",
              "      <td>2717.827160</td>\n",
              "      <td>2306.486328</td>\n",
              "    </tr>\n",
              "    <tr>\n",
              "      <th>3</th>\n",
              "      <td>672.443651</td>\n",
              "      <td>2784.086914</td>\n",
              "    </tr>\n",
              "    <tr>\n",
              "      <th>4</th>\n",
              "      <td>61.703042</td>\n",
              "      <td>1296.204346</td>\n",
              "    </tr>\n",
              "  </tbody>\n",
              "</table>\n",
              "</div>\n",
              "      <button class=\"colab-df-convert\" onclick=\"convertToInteractive('df-0f1fa808-0771-44a5-a8b8-f41f9c7a4f6d')\"\n",
              "              title=\"Convert this dataframe to an interactive table.\"\n",
              "              style=\"display:none;\">\n",
              "        \n",
              "  <svg xmlns=\"http://www.w3.org/2000/svg\" height=\"24px\"viewBox=\"0 0 24 24\"\n",
              "       width=\"24px\">\n",
              "    <path d=\"M0 0h24v24H0V0z\" fill=\"none\"/>\n",
              "    <path d=\"M18.56 5.44l.94 2.06.94-2.06 2.06-.94-2.06-.94-.94-2.06-.94 2.06-2.06.94zm-11 1L8.5 8.5l.94-2.06 2.06-.94-2.06-.94L8.5 2.5l-.94 2.06-2.06.94zm10 10l.94 2.06.94-2.06 2.06-.94-2.06-.94-.94-2.06-.94 2.06-2.06.94z\"/><path d=\"M17.41 7.96l-1.37-1.37c-.4-.4-.92-.59-1.43-.59-.52 0-1.04.2-1.43.59L10.3 9.45l-7.72 7.72c-.78.78-.78 2.05 0 2.83L4 21.41c.39.39.9.59 1.41.59.51 0 1.02-.2 1.41-.59l7.78-7.78 2.81-2.81c.8-.78.8-2.07 0-2.86zM5.41 20L4 18.59l7.72-7.72 1.47 1.35L5.41 20z\"/>\n",
              "  </svg>\n",
              "      </button>\n",
              "      \n",
              "  <style>\n",
              "    .colab-df-container {\n",
              "      display:flex;\n",
              "      flex-wrap:wrap;\n",
              "      gap: 12px;\n",
              "    }\n",
              "\n",
              "    .colab-df-convert {\n",
              "      background-color: #E8F0FE;\n",
              "      border: none;\n",
              "      border-radius: 50%;\n",
              "      cursor: pointer;\n",
              "      display: none;\n",
              "      fill: #1967D2;\n",
              "      height: 32px;\n",
              "      padding: 0 0 0 0;\n",
              "      width: 32px;\n",
              "    }\n",
              "\n",
              "    .colab-df-convert:hover {\n",
              "      background-color: #E2EBFA;\n",
              "      box-shadow: 0px 1px 2px rgba(60, 64, 67, 0.3), 0px 1px 3px 1px rgba(60, 64, 67, 0.15);\n",
              "      fill: #174EA6;\n",
              "    }\n",
              "\n",
              "    [theme=dark] .colab-df-convert {\n",
              "      background-color: #3B4455;\n",
              "      fill: #D2E3FC;\n",
              "    }\n",
              "\n",
              "    [theme=dark] .colab-df-convert:hover {\n",
              "      background-color: #434B5C;\n",
              "      box-shadow: 0px 1px 3px 1px rgba(0, 0, 0, 0.15);\n",
              "      filter: drop-shadow(0px 1px 2px rgba(0, 0, 0, 0.3));\n",
              "      fill: #FFFFFF;\n",
              "    }\n",
              "  </style>\n",
              "\n",
              "      <script>\n",
              "        const buttonEl =\n",
              "          document.querySelector('#df-0f1fa808-0771-44a5-a8b8-f41f9c7a4f6d button.colab-df-convert');\n",
              "        buttonEl.style.display =\n",
              "          google.colab.kernel.accessAllowed ? 'block' : 'none';\n",
              "\n",
              "        async function convertToInteractive(key) {\n",
              "          const element = document.querySelector('#df-0f1fa808-0771-44a5-a8b8-f41f9c7a4f6d');\n",
              "          const dataTable =\n",
              "            await google.colab.kernel.invokeFunction('convertToInteractive',\n",
              "                                                     [key], {});\n",
              "          if (!dataTable) return;\n",
              "\n",
              "          const docLinkHtml = 'Like what you see? Visit the ' +\n",
              "            '<a target=\"_blank\" href=https://colab.research.google.com/notebooks/data_table.ipynb>data table notebook</a>'\n",
              "            + ' to learn more about interactive tables.';\n",
              "          element.innerHTML = '';\n",
              "          dataTable['output_type'] = 'display_data';\n",
              "          await google.colab.output.renderOutput(dataTable, element);\n",
              "          const docLink = document.createElement('div');\n",
              "          docLink.innerHTML = docLinkHtml;\n",
              "          element.appendChild(docLink);\n",
              "        }\n",
              "      </script>\n",
              "    </div>\n",
              "  </div>\n",
              "  "
            ]
          },
          "metadata": {},
          "execution_count": 1055
        }
      ],
      "source": [
        "#comparing predictions and actual values\n",
        "act_pred = pd.DataFrame({\"actual\":inv_y.flatten(), \"prediction\":inv_yhat.flatten()})\n",
        "act_pred.head(5)"
      ]
    },
    {
      "cell_type": "code",
      "source": [
        "series_to_supervised(series, series.columns, n_in=2, n_out=steps_ahead, dropnan=True).iloc[-len(test):-len(test)+5]"
      ],
      "metadata": {
        "colab": {
          "base_uri": "https://localhost:8080/",
          "height": 237
        },
        "id": "7APsQRBRvRbx",
        "outputId": "7e39f551-2522-4e00-85dd-440a7f9c0ae6"
      },
      "execution_count": 1057,
      "outputs": [
        {
          "output_type": "execute_result",
          "data": {
            "text/plain": [
              "            BORE_OIL_VOL(t-2)  ON_STREAM_HRS(t-2)  BORE_OIL_VOL(t-1)  \\\n",
              "DATEPRD                                                                \n",
              "2014-03-21        3390.836894            24.00000        3443.734202   \n",
              "2014-03-22        3443.734202            24.00000        3400.900591   \n",
              "2014-03-23        3400.900591            24.00000        1902.730605   \n",
              "2014-03-24        1902.730605            14.16666        2717.827160   \n",
              "2014-03-25        2717.827160            24.00000         672.443651   \n",
              "\n",
              "            ON_STREAM_HRS(t-1)  BORE_OIL_VOL(t)  ON_STREAM_HRS(t)  \n",
              "DATEPRD                                                            \n",
              "2014-03-21            24.00000      3400.900591          24.00000  \n",
              "2014-03-22            24.00000      1902.730605          14.16666  \n",
              "2014-03-23            14.16666      2717.827160          24.00000  \n",
              "2014-03-24            24.00000       672.443651           6.22500  \n",
              "2014-03-25             6.22500        61.703042           6.60833  "
            ],
            "text/html": [
              "\n",
              "  <div id=\"df-92ae492d-8a66-45a2-b0eb-896fe93bc671\">\n",
              "    <div class=\"colab-df-container\">\n",
              "      <div>\n",
              "<style scoped>\n",
              "    .dataframe tbody tr th:only-of-type {\n",
              "        vertical-align: middle;\n",
              "    }\n",
              "\n",
              "    .dataframe tbody tr th {\n",
              "        vertical-align: top;\n",
              "    }\n",
              "\n",
              "    .dataframe thead th {\n",
              "        text-align: right;\n",
              "    }\n",
              "</style>\n",
              "<table border=\"1\" class=\"dataframe\">\n",
              "  <thead>\n",
              "    <tr style=\"text-align: right;\">\n",
              "      <th></th>\n",
              "      <th>BORE_OIL_VOL(t-2)</th>\n",
              "      <th>ON_STREAM_HRS(t-2)</th>\n",
              "      <th>BORE_OIL_VOL(t-1)</th>\n",
              "      <th>ON_STREAM_HRS(t-1)</th>\n",
              "      <th>BORE_OIL_VOL(t)</th>\n",
              "      <th>ON_STREAM_HRS(t)</th>\n",
              "    </tr>\n",
              "    <tr>\n",
              "      <th>DATEPRD</th>\n",
              "      <th></th>\n",
              "      <th></th>\n",
              "      <th></th>\n",
              "      <th></th>\n",
              "      <th></th>\n",
              "      <th></th>\n",
              "    </tr>\n",
              "  </thead>\n",
              "  <tbody>\n",
              "    <tr>\n",
              "      <th>2014-03-21</th>\n",
              "      <td>3390.836894</td>\n",
              "      <td>24.00000</td>\n",
              "      <td>3443.734202</td>\n",
              "      <td>24.00000</td>\n",
              "      <td>3400.900591</td>\n",
              "      <td>24.00000</td>\n",
              "    </tr>\n",
              "    <tr>\n",
              "      <th>2014-03-22</th>\n",
              "      <td>3443.734202</td>\n",
              "      <td>24.00000</td>\n",
              "      <td>3400.900591</td>\n",
              "      <td>24.00000</td>\n",
              "      <td>1902.730605</td>\n",
              "      <td>14.16666</td>\n",
              "    </tr>\n",
              "    <tr>\n",
              "      <th>2014-03-23</th>\n",
              "      <td>3400.900591</td>\n",
              "      <td>24.00000</td>\n",
              "      <td>1902.730605</td>\n",
              "      <td>14.16666</td>\n",
              "      <td>2717.827160</td>\n",
              "      <td>24.00000</td>\n",
              "    </tr>\n",
              "    <tr>\n",
              "      <th>2014-03-24</th>\n",
              "      <td>1902.730605</td>\n",
              "      <td>14.16666</td>\n",
              "      <td>2717.827160</td>\n",
              "      <td>24.00000</td>\n",
              "      <td>672.443651</td>\n",
              "      <td>6.22500</td>\n",
              "    </tr>\n",
              "    <tr>\n",
              "      <th>2014-03-25</th>\n",
              "      <td>2717.827160</td>\n",
              "      <td>24.00000</td>\n",
              "      <td>672.443651</td>\n",
              "      <td>6.22500</td>\n",
              "      <td>61.703042</td>\n",
              "      <td>6.60833</td>\n",
              "    </tr>\n",
              "  </tbody>\n",
              "</table>\n",
              "</div>\n",
              "      <button class=\"colab-df-convert\" onclick=\"convertToInteractive('df-92ae492d-8a66-45a2-b0eb-896fe93bc671')\"\n",
              "              title=\"Convert this dataframe to an interactive table.\"\n",
              "              style=\"display:none;\">\n",
              "        \n",
              "  <svg xmlns=\"http://www.w3.org/2000/svg\" height=\"24px\"viewBox=\"0 0 24 24\"\n",
              "       width=\"24px\">\n",
              "    <path d=\"M0 0h24v24H0V0z\" fill=\"none\"/>\n",
              "    <path d=\"M18.56 5.44l.94 2.06.94-2.06 2.06-.94-2.06-.94-.94-2.06-.94 2.06-2.06.94zm-11 1L8.5 8.5l.94-2.06 2.06-.94-2.06-.94L8.5 2.5l-.94 2.06-2.06.94zm10 10l.94 2.06.94-2.06 2.06-.94-2.06-.94-.94-2.06-.94 2.06-2.06.94z\"/><path d=\"M17.41 7.96l-1.37-1.37c-.4-.4-.92-.59-1.43-.59-.52 0-1.04.2-1.43.59L10.3 9.45l-7.72 7.72c-.78.78-.78 2.05 0 2.83L4 21.41c.39.39.9.59 1.41.59.51 0 1.02-.2 1.41-.59l7.78-7.78 2.81-2.81c.8-.78.8-2.07 0-2.86zM5.41 20L4 18.59l7.72-7.72 1.47 1.35L5.41 20z\"/>\n",
              "  </svg>\n",
              "      </button>\n",
              "      \n",
              "  <style>\n",
              "    .colab-df-container {\n",
              "      display:flex;\n",
              "      flex-wrap:wrap;\n",
              "      gap: 12px;\n",
              "    }\n",
              "\n",
              "    .colab-df-convert {\n",
              "      background-color: #E8F0FE;\n",
              "      border: none;\n",
              "      border-radius: 50%;\n",
              "      cursor: pointer;\n",
              "      display: none;\n",
              "      fill: #1967D2;\n",
              "      height: 32px;\n",
              "      padding: 0 0 0 0;\n",
              "      width: 32px;\n",
              "    }\n",
              "\n",
              "    .colab-df-convert:hover {\n",
              "      background-color: #E2EBFA;\n",
              "      box-shadow: 0px 1px 2px rgba(60, 64, 67, 0.3), 0px 1px 3px 1px rgba(60, 64, 67, 0.15);\n",
              "      fill: #174EA6;\n",
              "    }\n",
              "\n",
              "    [theme=dark] .colab-df-convert {\n",
              "      background-color: #3B4455;\n",
              "      fill: #D2E3FC;\n",
              "    }\n",
              "\n",
              "    [theme=dark] .colab-df-convert:hover {\n",
              "      background-color: #434B5C;\n",
              "      box-shadow: 0px 1px 3px 1px rgba(0, 0, 0, 0.15);\n",
              "      filter: drop-shadow(0px 1px 2px rgba(0, 0, 0, 0.3));\n",
              "      fill: #FFFFFF;\n",
              "    }\n",
              "  </style>\n",
              "\n",
              "      <script>\n",
              "        const buttonEl =\n",
              "          document.querySelector('#df-92ae492d-8a66-45a2-b0eb-896fe93bc671 button.colab-df-convert');\n",
              "        buttonEl.style.display =\n",
              "          google.colab.kernel.accessAllowed ? 'block' : 'none';\n",
              "\n",
              "        async function convertToInteractive(key) {\n",
              "          const element = document.querySelector('#df-92ae492d-8a66-45a2-b0eb-896fe93bc671');\n",
              "          const dataTable =\n",
              "            await google.colab.kernel.invokeFunction('convertToInteractive',\n",
              "                                                     [key], {});\n",
              "          if (!dataTable) return;\n",
              "\n",
              "          const docLinkHtml = 'Like what you see? Visit the ' +\n",
              "            '<a target=\"_blank\" href=https://colab.research.google.com/notebooks/data_table.ipynb>data table notebook</a>'\n",
              "            + ' to learn more about interactive tables.';\n",
              "          element.innerHTML = '';\n",
              "          dataTable['output_type'] = 'display_data';\n",
              "          await google.colab.output.renderOutput(dataTable, element);\n",
              "          const docLink = document.createElement('div');\n",
              "          docLink.innerHTML = docLinkHtml;\n",
              "          element.appendChild(docLink);\n",
              "        }\n",
              "      </script>\n",
              "    </div>\n",
              "  </div>\n",
              "  "
            ]
          },
          "metadata": {},
          "execution_count": 1057
        }
      ]
    },
    {
      "cell_type": "code",
      "source": [
        "r2_score(act_pred.iloc[:5,0],act_pred.iloc[:5,1])"
      ],
      "metadata": {
        "colab": {
          "base_uri": "https://localhost:8080/"
        },
        "id": "2Kx12S2F506y",
        "outputId": "509701b6-f0dd-4fdd-bf6c-c91da5caeaeb"
      },
      "execution_count": 1054,
      "outputs": [
        {
          "output_type": "execute_result",
          "data": {
            "text/plain": [
              "-0.10745523798910495"
            ]
          },
          "metadata": {},
          "execution_count": 1054
        }
      ]
    },
    {
      "cell_type": "code",
      "source": [
        "wMAPE(act_pred.iloc[:5,0],act_pred.iloc[:5,1])"
      ],
      "metadata": {
        "colab": {
          "base_uri": "https://localhost:8080/"
        },
        "id": "vS4cX0QOuinK",
        "outputId": "050f07a3-858d-4af9-b867-e2bd106e4b63"
      },
      "execution_count": 1051,
      "outputs": [
        {
          "output_type": "execute_result",
          "data": {
            "text/plain": [
              "61.34847727985786"
            ]
          },
          "metadata": {},
          "execution_count": 1051
        }
      ]
    },
    {
      "cell_type": "code",
      "source": [
        "MAPE(act_pred.iloc[:5,0],act_pred.iloc[:5,1])"
      ],
      "metadata": {
        "colab": {
          "base_uri": "https://localhost:8080/"
        },
        "id": "L4g3tcrW5lIB",
        "outputId": "ea9ef5f6-feaa-4842-d264-ce27c428e5f3"
      },
      "execution_count": 1053,
      "outputs": [
        {
          "output_type": "execute_result",
          "data": {
            "text/plain": [
              "482.5886076465889"
            ]
          },
          "metadata": {},
          "execution_count": 1053
        }
      ]
    }
  ],
  "metadata": {
    "colab": {
      "provenance": [],
      "mount_file_id": "1plPy_L9A6L85kflEKHHdG7-yBF_I8RTG",
      "authorship_tag": "ABX9TyMDjOJMY1X3x7QXN3moO1H9",
      "include_colab_link": true
    },
    "kernelspec": {
      "display_name": "Python 3",
      "name": "python3"
    },
    "language_info": {
      "name": "python"
    }
  },
  "nbformat": 4,
  "nbformat_minor": 0
}