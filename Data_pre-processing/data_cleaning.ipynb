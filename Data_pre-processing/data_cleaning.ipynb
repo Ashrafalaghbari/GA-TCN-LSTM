{
  "cells": [
    {
      "cell_type": "markdown",
      "source": [
        "[![Open In Colab](https://colab.research.google.com/assets/colab-badge.svg)](https://colab.research.google.com/github/ashrafalaghbari/GA-TCN-LSTM/blob/main/Data_pre-processing/data_cleaning.ipynb)\n"
      ],
      "metadata": {
        "id": "Zp6vOU85O6re"
      }
    },
    {
      "cell_type": "code",
      "source": [
        "%autosave 60"
      ],
      "metadata": {
        "id": "EEXxXjisXI67",
        "outputId": "a9d75501-ad2c-4956-cfc1-89d9982374a1",
        "colab": {
          "base_uri": "https://localhost:8080/",
          "height": 35
        }
      },
      "execution_count": 125,
      "outputs": [
        {
          "output_type": "display_data",
          "data": {
            "application/javascript": [
              "IPython.notebook.set_autosave_interval(60000)"
            ]
          },
          "metadata": {}
        },
        {
          "output_type": "stream",
          "name": "stdout",
          "text": [
            "Autosaving every 60 seconds\n"
          ]
        }
      ]
    },
    {
      "cell_type": "code",
      "execution_count": 126,
      "metadata": {
        "id": "iR3AQ_m-PE6J"
      },
      "outputs": [],
      "source": [
        "import numpy as np\n",
        "import pandas as pd"
      ]
    },
    {
      "cell_type": "code",
      "execution_count": 127,
      "metadata": {
        "id": "dUMmVoF0PE6P"
      },
      "outputs": [],
      "source": [
        "df = pd.read_csv(\"F_14.csv\",  parse_dates=[\"DATEPRD\"], index_col=\"DATEPRD\")"
      ]
    },
    {
      "cell_type": "code",
      "execution_count": 128,
      "metadata": {
        "id": "oDKzJkiSPE6S"
      },
      "outputs": [],
      "source": [
        "# remove average annulur pressure and pressure drop across the wellbore\n",
        "df = df.drop([\"AVG_ANNULUS_PRESS\", \"AVG_DP_TUBING\"], axis=1)"
      ]
    },
    {
      "cell_type": "code",
      "source": [
        "#Correct the errors found in data points (24.31, 25) by changing the value to 24 hours.\n",
        "# This is because the preceding and subsequent values of on-stream hours are 24, and the oil volume at these points is close to that at (24.31, 25) hours.\n",
        "df[\"ON_STREAM_HRS\"]  = np.where(df[\"ON_STREAM_HRS\"] > 24 , 24, df[\"ON_STREAM_HRS\"])"
      ],
      "metadata": {
        "id": "FWnHTWJVypXX"
      },
      "execution_count": 129,
      "outputs": []
    },
    {
      "cell_type": "code",
      "source": [
        "# the values for all variables are corrupted in the period of \"2012-09-02\" & \"2012-09-28\"\n",
        "# on strem hours is set to zero becasue oil production is zero\n",
        "df.loc[\"2012-09-02\":\"2012-09-28\",'ON_STREAM_HRS'] = 0\n",
        "# average reservoir presure in this period is corrupted\n",
        "df.loc[\"2012-09-02\":\"2012-09-03\",'AVG_DOWNHOLE_PRESSURE'] = np.nan\n",
        "# # average reservori pressure is decreaseing and decreasing; therefore, is imputated with linear interpolation \n",
        "df.loc[\"2012-09-01\":\"2012-09-27\",'AVG_DOWNHOLE_PRESSURE'].interpolate(inplace = True, limit_direction ='forward')\n",
        "# # average reservoir temperature in this period is corrupted\n",
        "df.loc[\"2012-09-02\":\"2012-09-03\",'AVG_DOWNHOLE_TEMPERATURE'] = np.nan\n",
        "# # average reservori pressure is decreaseing and decreasing; therefore, is imputated with linear interpolation \n",
        "df.loc[\"2012-09-01\":\"2012-09-27\",'AVG_DOWNHOLE_TEMPERATURE'].interpolate(inplace = True,limit_direction ='forward')\n",
        "# The average choke size should be set to zero when the well is not in production\n",
        "df.loc[df['ON_STREAM_HRS'] == 0, 'AVG_CHOKE_SIZE_P'] = 0\n",
        "df[\"2012-09-01\":\"2012-09-27\"] = df[\"2012-09-01\":\"2012-09-27\"].interpolate(limit_direction ='forward')\n",
        "# use ffill to fill forward missing values\n",
        "df.loc[\"2012-09-27\":\"2012-09-29\"] = df.loc[\"2012-09-27\":\"2012-09-29\"].fillna(method='ffill')\n",
        "\n",
        "# the on stream injection volumne for F-5 on this day is zero, which means the injection rate should be zero too\n",
        "df.loc[\"2012-09-28\"]['F_5_BORE_WI_VOL'] = 0\n",
        "\n",
        "mask = ((df[\"BORE_GAS_VOL\"] == 0) | (df[\"BORE_WAT_VOL\"] == 0) | (df[\"BORE_OIL_VOL\"] == 0))\n",
        "df[\"ON_STREAM_HRS\"] = np.where(mask, 0, df[\"ON_STREAM_HRS\"])\n"
      ],
      "metadata": {
        "id": "wbj1hNXo3kxK"
      },
      "execution_count": 130,
      "outputs": []
    },
    {
      "cell_type": "code",
      "source": [
        "df.loc[\"2012-08-13\":\"2012-09-15\"] = df.loc[\"2012-08-13\":\"2012-09-15\"].bfill(axis=0)\n",
        "df.loc[\"2012-08-17\":\"2012-09-19\"] = df.loc[\"2012-08-17\":\"2012-09-19\"].interpolate(limit_direction ='forward')"
      ],
      "metadata": {
        "id": "VCQqXPsyvyGp"
      },
      "execution_count": 131,
      "outputs": []
    },
    {
      "cell_type": "code",
      "source": [
        "# replace the negative value in the water volume column with  positive one\n",
        "df.loc[\"2012-08-13\"].BORE_WAT_VOL = df.loc[\"2012-08-13\"].BORE_WAT_VOL *-1"
      ],
      "metadata": {
        "id": "KE5GCBA7xQq8"
      },
      "execution_count": 132,
      "outputs": []
    },
    {
      "cell_type": "code",
      "execution_count": 133,
      "metadata": {
        "id": "OojKPrwnPE6t"
      },
      "outputs": [],
      "source": [
        "#  replace the corrupted values with NaN then impute the downhole pressure with linear interpolation and temperature with \n",
        "df.loc[\"2010-02-10\":\"2010-02-27\",\"AVG_DOWNHOLE_PRESSURE\"] =  df.loc[\"2010-02-10\":\"2010-02-27\",\"AVG_DOWNHOLE_PRESSURE\"].apply(lambda x: np.nan if x < 3300 else x)\n",
        "df.loc[\"2010-02-09\":\"2010-02-27\",\"AVG_DOWNHOLE_PRESSURE\"] = df.loc[\"2010-02-09\":\"2010-02-27\",\"AVG_DOWNHOLE_PRESSURE\"].interpolate(\n",
        "    method ='linear', limit_direction ='forward')\n",
        "# downhole temperature\n",
        "df.loc[\"2010-02-10\":\"2010-02-27\",\"AVG_DOWNHOLE_TEMPERATURE\"] = df[\"2010-02-10\":\"2010-02-27\"][\"AVG_DOWNHOLE_TEMPERATURE\"].apply(lambda x:np.nan if x < 220  else x) \n",
        "df.loc[\"2010-02-10\":\"2010-02-27\",\"AVG_DOWNHOLE_TEMPERATURE\"] = df[\"2010-02-10\":\"2010-02-27\"][\"AVG_DOWNHOLE_TEMPERATURE\"].apply(\n",
        "    lambda x:np.nan if x < 220  else x).replace(\n",
        "        np.nan,df.loc[\"2010-02-10\":\"2010-02-27\",\"AVG_DOWNHOLE_TEMPERATURE\"].mean() )"
      ]
    },
    {
      "cell_type": "code",
      "execution_count": 134,
      "metadata": {
        "id": "JGM3dKnKPE6u"
      },
      "outputs": [],
      "source": [
        "#  replace the corrupted values with NaN then impute the downhole pressure with linear interpolation and temperature with \n",
        "df.loc[\"2013-09-26\":\"2013-09-30\",\"AVG_DOWNHOLE_PRESSURE\"] =  df.loc[\"2013-09-26\":\"2013-09-30\",\"AVG_DOWNHOLE_PRESSURE\"].apply(lambda x: np.nan if x < 3000 else x)\n",
        "df.loc[\"2013-09-26\":\"2013-09-30\",\"AVG_DOWNHOLE_PRESSURE\"] = df.loc[\"2013-09-26\":\"2013-09-30\",\"AVG_DOWNHOLE_PRESSURE\"].interpolate(\n",
        "    method ='linear', limit_direction ='forward')\n",
        "# downhole temperature\n",
        "df.loc[\"2013-09-26\":\"2013-09-30\",\"AVG_DOWNHOLE_TEMPERATURE\"] = df[\"2013-09-26\":\"2013-09-30\"][\"AVG_DOWNHOLE_TEMPERATURE\"].apply(lambda x:np.nan if x < 200  else x) \n",
        "df.loc[\"2013-09-26\":\"2013-09-30\",\"AVG_DOWNHOLE_TEMPERATURE\"] = df[\"2013-09-26\":\"2013-09-30\"][\"AVG_DOWNHOLE_TEMPERATURE\"].apply(\n",
        "    lambda x:np.nan if x < 200  else x).replace(\n",
        "        np.nan,df.loc[\"2013-09-26\":\"2013-09-30\",\"AVG_DOWNHOLE_TEMPERATURE\"].mean() )\n"
      ]
    },
    {
      "cell_type": "code",
      "execution_count": 135,
      "metadata": {
        "id": "UBO-HAu5PE6w"
      },
      "outputs": [],
      "source": [
        "# fix downhole pressure/ temperature and pressure drop along the tubing\n",
        "df.loc[\"2013-05-14\":\"2013-05-16\",\"AVG_DOWNHOLE_PRESSURE\"] =  df.loc[\"2013-05-14\":\"2013-05-16\",\"AVG_DOWNHOLE_PRESSURE\"].apply(lambda x: np.nan if x < 2000 else x)\n",
        "df.loc[\"2013-05-14\":\"2013-05-16\",\"AVG_DOWNHOLE_PRESSURE\"] = df.loc[\"2013-05-14\":\"2013-05-16\",\"AVG_DOWNHOLE_PRESSURE\"].interpolate(\n",
        "    method ='linear', limit_direction ='forward')\n",
        " # downhole temperature\n",
        "df.loc[\"2013-05-14\":\"2013-05-16\",\"AVG_DOWNHOLE_TEMPERATURE\"] = df[\"2013-05-14\":\"2013-05-16\"][\"AVG_DOWNHOLE_TEMPERATURE\"].apply(lambda x:np.nan if x < 200  else x) \n",
        "df.loc[\"2013-05-14\":\"2013-05-16\",\"AVG_DOWNHOLE_TEMPERATURE\"] = df[\"2013-05-14\":\"2013-05-16\"][\"AVG_DOWNHOLE_TEMPERATURE\"].apply(\n",
        "    lambda x:np.nan if x < 200  else x).replace(\n",
        "        np.nan,df.loc[\"2013-05-14\":\"2013-05-16\",\"AVG_DOWNHOLE_TEMPERATURE\"].mean() )\n"
      ]
    },
    {
      "cell_type": "code",
      "execution_count": 136,
      "metadata": {
        "id": "8VdZgh6EPE6x"
      },
      "outputs": [],
      "source": [
        "df.loc[\"2010-01-19\":\"2010-01-21\",\"AVG_DOWNHOLE_TEMPERATURE\"] = df[\"2010-01-19\":\"2010-01-21\"].AVG_DOWNHOLE_TEMPERATURE.apply(\n",
        "    lambda x:np.nan if x < 200 else x).interpolate( method ='linear', limit_direction ='forward')\n",
        "df.loc[\"2010-01-19\":\"2010-01-21\",\"AVG_DOWNHOLE_PRESSURE\"] = df[\"2010-01-19\":\"2010-01-21\"].AVG_DOWNHOLE_PRESSURE.apply(\n",
        "lambda x:np.nan if x < 3000 else x).interpolate( method ='linear', limit_direction ='forward')"
      ]
    },
    {
      "cell_type": "code",
      "source": [
        "df.loc[\"2013-07-07\":\"2013-07-09\",\"AVG_DOWNHOLE_TEMPERATURE\"] = df[\"2013-07-07\":\"2013-07-09\"].AVG_DOWNHOLE_TEMPERATURE.apply(\n",
        "    lambda x:np.nan if x < 200 else x).interpolate( method ='linear', limit_direction ='forward')\n",
        "df.loc[\"2013-07-07\":\"2013-07-09\",\"AVG_DOWNHOLE_PRESSURE\"] = df[\"2013-07-07\":\"2013-07-09\"].AVG_DOWNHOLE_PRESSURE.apply(\n",
        "lambda x:np.nan if x < 3100 else x).interpolate( method ='linear', limit_direction ='forward')"
      ],
      "metadata": {
        "id": "fR1-ODB02uRx"
      },
      "execution_count": 137,
      "outputs": []
    },
    {
      "cell_type": "code",
      "execution_count": 138,
      "metadata": {
        "id": "C9WqvBgKPE60"
      },
      "outputs": [],
      "source": [
        "\n",
        "\n",
        "df.loc[\"2014-06-25\":\"2014-06-28\",\"AVG_DOWNHOLE_TEMPERATURE\"] = df[\"2014-06-25\":\"2014-06-28\"].AVG_DOWNHOLE_TEMPERATURE.apply(\n",
        "    lambda x:np.nan if x < 200 else x).interpolate( method ='linear', limit_direction ='forward')\n",
        "df.loc[\"2014-06-25\":\"2014-06-28\",\"AVG_DOWNHOLE_PRESSURE\"] = df[\"2014-06-25\":\"2014-06-28\"].AVG_DOWNHOLE_PRESSURE.apply(\n",
        "lambda x:np.nan if x < 3000 else x).interpolate( method ='linear', limit_direction ='forward')"
      ]
    },
    {
      "cell_type": "code",
      "source": [
        "df.loc[\"2014-08-27\":\"2014-08-30\",\"AVG_DOWNHOLE_TEMPERATURE\"] = df[\"2014-08-27\":\"2014-08-30\"].AVG_DOWNHOLE_TEMPERATURE.apply(\n",
        "    lambda x:np.nan if x < 200 else x).interpolate( method ='linear', limit_direction ='forward')\n",
        "df.loc[\"2014-08-27\":\"2014-08-30\",\"AVG_DOWNHOLE_PRESSURE\"] = df[\"2014-08-27\":\"2014-08-30\"].AVG_DOWNHOLE_PRESSURE.apply(\n",
        "lambda x:np.nan if x < 3000 else x).interpolate( method ='linear', limit_direction ='forward')"
      ],
      "metadata": {
        "id": "j0zYBxbF3eMd"
      },
      "execution_count": 139,
      "outputs": []
    },
    {
      "cell_type": "code",
      "source": [
        "df.loc[df.F_4_ON_STREAM_HRS == 0, \"F_4_BORE_WI_VOL\"] = 0\n",
        "df.loc[df.F_5_ON_STREAM_HRS == 0, \"F_5_BORE_WI_VOL\"] = 0\n",
        "df.loc[df.F_4_BORE_WI_VOL == 0, \"F_4_ON_STREAM_HRS\"] = 0\n",
        "df.loc[df.F_5_BORE_WI_VOL == 0, \"F_5_ON_STREAM_HRS\"] = 0"
      ],
      "metadata": {
        "id": "MKkpEMVGS9fj"
      },
      "execution_count": 140,
      "outputs": []
    },
    {
      "cell_type": "code",
      "source": [
        "df.loc[df['F_4_ON_STREAM_HRS'] > 24, 'F_4_ON_STREAM_HRS'] = 24\n",
        "df.loc[df['F_5_ON_STREAM_HRS'] > 24, 'F_5_ON_STREAM_HRS'] = 24"
      ],
      "metadata": {
        "id": "zghvbKZ3d_vN"
      },
      "execution_count": 141,
      "outputs": []
    },
    {
      "cell_type": "code",
      "execution_count": 142,
      "metadata": {
        "id": "INCZ2q3uPE67"
      },
      "outputs": [],
      "source": [
        "df.interpolate(inplace=True, method='linear')"
      ]
    },
    {
      "cell_type": "code",
      "execution_count": 143,
      "metadata": {
        "id": "mnEzCLZJPE6-"
      },
      "outputs": [],
      "source": [
        "df.to_csv(\"cleaned_F_14.csv\")"
      ]
    }
  ],
  "metadata": {
    "interpreter": {
      "hash": "c19fa61d258bb2b35aae2ada233c33e2817c1ce895aa48acba720c6bf7cbe3cb"
    },
    "kernelspec": {
      "display_name": "Python 3.10.7 64-bit",
      "language": "python",
      "name": "python3"
    },
    "language_info": {
      "codemirror_mode": {
        "name": "ipython",
        "version": 3
      },
      "file_extension": ".py",
      "mimetype": "text/x-python",
      "name": "python",
      "nbconvert_exporter": "python",
      "pygments_lexer": "ipython3",
      "version": "3.10.7"
    },
    "orig_nbformat": 4,
    "colab": {
      "provenance": []
    }
  },
  "nbformat": 4,
  "nbformat_minor": 0
}