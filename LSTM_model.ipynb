{
  "cells": [
    {
      "cell_type": "markdown",
      "metadata": {
        "id": "view-in-github",
        "colab_type": "text"
      },
      "source": [
        "<a href=\"https://colab.research.google.com/github/Ashrafalaghbari/oil-production-forecasting/blob/main/LSTM_model.ipynb\" target=\"_parent\"><img src=\"https://colab.research.google.com/assets/colab-badge.svg\" alt=\"Open In Colab\"/></a>"
      ]
    },
    {
      "cell_type": "code",
      "execution_count": 2,
      "metadata": {
        "colab": {
          "base_uri": "https://localhost:8080/",
          "height": 34
        },
        "id": "x1LrkoSv4cc7",
        "outputId": "424d1784-b764-405d-c4a5-a08102d61944"
      },
      "outputs": [
        {
          "output_type": "display_data",
          "data": {
            "application/javascript": [
              "IPython.notebook.set_autosave_interval(60000)"
            ]
          },
          "metadata": {}
        },
        {
          "output_type": "stream",
          "name": "stdout",
          "text": [
            "Autosaving every 60 seconds\n"
          ]
        }
      ],
      "source": [
        "%autosave 60"
      ]
    },
    {
      "cell_type": "code",
      "execution_count": 1,
      "metadata": {
        "id": "XxzUA1Pg4iEU"
      },
      "outputs": [],
      "source": [
        "import os\n",
        "import numpy as np\n",
        "import random \n",
        "from numpy.random import randint, rand\n",
        "import pandas as pd\n",
        "import re\n",
        "import matplotlib.pyplot as plt\n",
        "from matplotlib.font_manager import FontProperties\n",
        "import itertools\n",
        "import re\n",
        "from sklearn.preprocessing import MinMaxScaler\n",
        "import tensorflow as tf\n",
        "from keras.models import Sequential\n",
        "from keras.layers import Dense,Activation, Input, Flatten\n",
        "from keras.layers import LSTM, Conv1D\n",
        "from keras.models import Model\n",
        "import keras.backend as k\n",
        "from keras.callbacks import EarlyStopping, ModelCheckpoint, ReduceLROnPlateau\n",
        "from sklearn.metrics import mean_absolute_error, mean_squared_error, r2_score\n",
        "from math import sqrt, inf"
      ]
    },
    {
      "cell_type": "code",
      "execution_count": null,
      "metadata": {
        "id": "I6ZrWV9NpfPM",
        "colab": {
          "base_uri": "https://localhost:8080/"
        },
        "outputId": "417e3aae-4c6d-4e04-e5b8-80c4b1cfb0eb"
      },
      "outputs": [
        {
          "output_type": "stream",
          "name": "stdout",
          "text": [
            "NVIDIA-SMI has failed because it couldn't communicate with the NVIDIA driver. Make sure that the latest NVIDIA driver is installed and running.\n",
            "\n"
          ]
        }
      ],
      "source": [
        "!nvidia-smi"
      ]
    },
    {
      "cell_type": "code",
      "execution_count": null,
      "metadata": {
        "id": "Hu7vsRejtR_4"
      },
      "outputs": [],
      "source": [
        "# # check if GPU is utilized \n",
        "# device_name = tf.config.experimental.list_physical_devices()[-1][-1]\n",
        "# if device_name != 'GPU':\n",
        "#     raise SystemError('GPU device not found')\n",
        "# print('Found GPU at: {}'.format(tf.test.gpu_device_name()))"
      ]
    },
    {
      "cell_type": "code",
      "execution_count": 3,
      "metadata": {
        "id": "lVMp6qZiT9gO"
      },
      "outputs": [],
      "source": [
        "# Select the best features\n",
        "def select_features(df, target, correlation_type, threshold):\n",
        "    if (threshold < -1 ) | (threshold > 1 ) :\n",
        "            raise SystemError('correlation threshold is out of bounds')\n",
        "    features = df.corr(correlation_type).loc[target].drop(target)\n",
        "    best_features = features.where(abs(features) > threshold).dropna()\n",
        "    df = pd.concat([df[target], df[best_features.index]], axis=1)\n",
        "    return df\n",
        "\n",
        "# convert series to supervised learning using a sliding  window approach\n",
        "def series_to_supervised(data, columns, n_in=1, n_out=1, dropnan=True):\n",
        "    n_vars = 1 if type(data) is list else data.shape[1]\n",
        "    df = pd.DataFrame(data)\n",
        "    cols, names = list(), list()\n",
        "    # input sequence (t-n, ... t-1)\n",
        "    for i in range(n_in, 0, -1):\n",
        "        cols.append(df.shift(i))\n",
        "        names += [('%s(t-%d)' % (columns[j], i)) for j in range(n_vars)]\n",
        "        # forecast sequence (t, t+1, ... t+n)\n",
        "    for i in range(0, n_out):\n",
        "        cols.append(df.shift(-i))\n",
        "        if i == 0:\n",
        "            names += [('%s(t)' % (columns[j])) for j in range(n_vars)]\n",
        "        else:\n",
        "            names += [('%s(t+%d)' % (columns[j], i)) for j in range(n_vars)]\n",
        "    # put it all together\n",
        "    agg = pd.concat(cols, axis=1)\n",
        "    agg.columns = names\n",
        "    # drop rows with NaN values\n",
        "    if dropnan:\n",
        "        agg.dropna(inplace=True)\n",
        "    return agg\n",
        "\n",
        "# scale train and test data to new feature range[0, 1]\n",
        "def scale(train, test):\n",
        "\t# fit scaler\n",
        "\tscaler = MinMaxScaler(feature_range=(0, 1))\n",
        "\tscaler = scaler.fit(train)\n",
        "\t# transform train\n",
        "\ttrain = train.reshape(train.shape[0], train.shape[1])\n",
        "\ttrain_scaled = scaler.transform(train)\n",
        "\t# transform test\n",
        "\ttest = test.reshape(test.shape[0], test.shape[1])\n",
        "\ttest_scaled = scaler.transform(test)\n",
        "\treturn scaler, train_scaled, test_scaled\n",
        "\n",
        "#Evaluation metrics\n",
        "# compute RMSPE\n",
        "def RMSPE(x,y):\n",
        "\tresult=0\n",
        "\tfor i in range(len(x)):\n",
        "\t\tresult += ((x[i]-y[i])/x[i])**2\n",
        "\tresult /= len(x)\n",
        "\tresult = sqrt(result)\n",
        "\tresult *= 100\n",
        "\treturn result\n",
        "\n",
        "# compute MAPE\n",
        "def MAPE(x,y):\n",
        "\tresult=0\n",
        "\tfor i in range(len(x)):\n",
        "\t\tresult += abs((x[i]-y[i])/x[i])\n",
        "\tresult /= len(x)\n",
        "\tresult *= 100\n",
        "\treturn result\n",
        "\n",
        "# compute wMAPE weighted absolute percentage error\n",
        "def wMAPE(actual, predicted): \n",
        "    result_nom = 0\n",
        "    result_deno = 0\n",
        "    for i in range(len(actual)):\n",
        "        result_nom +=  abs(actual[i] - predicted[i])\n",
        "        result_deno +=  abs(actual[i]) \n",
        "    result = result_nom/result_deno\n",
        "    return result *100\n",
        "\n",
        "def SMAPE(actual, predicted): #Symmetric (adjusted) MEAN ABSOLUTE PERCENTAGE ERROR (SMAPE)\n",
        "    result = 0\n",
        "    for i in range(len(actual)):\n",
        "        result += abs(actual[i] - predicted[i])/(abs(actual[i]) + abs(predicted[i]))\n",
        "    result = 2 * result/ len(actual) \n",
        "    return result * 100"
      ]
    },
    {
      "cell_type": "code",
      "execution_count": 4,
      "metadata": {
        "id": "tRJsglCpLKHo",
        "colab": {
          "base_uri": "https://localhost:8080/"
        },
        "outputId": "d0c420e4-51a2-4f41-f0e6-9cef3a001985"
      },
      "outputs": [
        {
          "output_type": "execute_result",
          "data": {
            "text/plain": [
              "(1907, 3)"
            ]
          },
          "metadata": {},
          "execution_count": 4
        }
      ],
      "source": [
        "#load dataset\n",
        "series = pd.read_csv('/content/drive/MyDrive/volve_production_data/model.csv', \n",
        "                     parse_dates=[\"DATEPRD\"], index_col=\"DATEPRD\")\n",
        "days = pd.Series(range(len(series),0, -1 ), index=series.index)\n",
        "series.insert(0, 'days', days)\n",
        "series['days(t)'] = series['days'].shift(-1)\n",
        "series[\"AVG_CHOKE_SIZE_P(t)\"] = series['AVG_CHOKE_SIZE_P'].shift(-1)\n",
        "series[\"ON_STREAM_HRS(t)\"] = series['ON_STREAM_HRS'].shift(-1)\n",
        "series['interaction_effect_onNext_oilRate'] = series[\"AVG_CHOKE_SIZE_P(t)\"]  * series[\"ON_STREAM_HRS(t)\"] * series['days(t)']\n",
        "series.dropna(inplace=True)\n",
        "# # select feature based on correlation\n",
        "# # series = select_features(series, \"BORE_OIL_VOL\", \"spearman\", 0.2)\n",
        "# # select features manually\n",
        "series =series[[\n",
        "                'interaction_effect_onNext_oilRate',\n",
        "                \"BORE_GAS_VOL\", \n",
        "                \"BORE_OIL_VOL\"\n",
        "                ]] \n",
        "series.shape    "
      ]
    },
    {
      "cell_type": "code",
      "source": [
        "#grid search \n",
        "def get_hyper_param(n_epochs, num_hidden_layers, num_neurons, batch_size, window_size):\n",
        "    \"\"\" \n",
        "    This is a grid search function that generates all possible comibinations\n",
        "    from the search space \n",
        "\n",
        "    Args:\n",
        "    n_epochs: number of epochs\n",
        "    num_hidden_layers: number of hidden layers\n",
        "    num_neurons: number of neurons same for both input and hidden layers \n",
        "    batch_size: number of batch size \n",
        "    window_size: historical timesteps in the sliding window\n",
        "    \n",
        "    \"\"\"\n",
        "    hyper_param = []\n",
        "    for current_params in itertools.product(n_epochs, num_hidden_layers, num_neurons, batch_size, window_size):\n",
        "        hyper_param.append(list(current_params))\n",
        "    return hyper_param\n",
        "\n",
        "# Seacrh space\n",
        "n_epochs = [500]\n",
        "num_hidden_layers = [1, 2]\n",
        "num_neurons = [20, 40, 80, 160]\n",
        "batch_size = [2, 4]\n",
        "window_size = [2, 4, 8]\n",
        "\n",
        "hyper_param = get_hyper_param(n_epochs, num_hidden_layers, num_neurons, batch_size, window_size)\n",
        "len(hyper_param)# print the number of combinations\n",
        "hyper_param = hyper_param[-8:]"
      ],
      "metadata": {
        "id": "D0EVoWtzzMsz"
      },
      "execution_count": null,
      "outputs": []
    },
    {
      "cell_type": "code",
      "source": [
        "# # run the model and repeat the evaluation to reduce the certainty asscoicated with the random initialization of model weights\n",
        "# def run_model(n_repeats = 1):\n",
        "#     scores = [fit_lstm() for _ in range(n_repeats)]\n",
        "#     result = pd.DataFrame(scores)\n",
        "#     result = result.groupby(\"best_params\").mean()\n",
        "#     return result"
      ],
      "metadata": {
        "id": "Zpnlrc0t52h5"
      },
      "execution_count": null,
      "outputs": []
    },
    {
      "cell_type": "code",
      "source": [
        "steps_ahead = 1  \n",
        "    # Create a new directory in My Drive\n",
        "directory = '/content/drive/My Drive/my_trained_models'\n",
        "if not os.path.exists(directory):\n",
        "    os.makedirs(directory)\n",
        "\n",
        "min_val_loss = math.inf \n",
        "for n_epochs, num_hidden_layers, num_neurons, batch_size, window_size in hyper_param:\n",
        "    print('n_epochs', n_epochs, 'num_hidden_layers', num_hidden_layers, 'num_neurons',\n",
        "            num_neurons, \"batch_size\", batch_size, 'window_size', window_size)\n",
        "    \n",
        "    # setting the session configurations for reproducibility.\n",
        "    os.environ[\"CUDA_DEVICE_ORDER\"] = \"PCI_BUS_ID\"  \n",
        "    os.environ[\"CUDA_VISIBLE_DEVICES\"] = \"\"\n",
        "    os.environ['PYTHONHASHSEED'] = '0'\n",
        "    np.random.seed(42)\n",
        "    np.random.seed(12345)\n",
        "    session_conf = tf.compat.v1.ConfigProto(intra_op_parallelism_threads=1,\n",
        "                                        inter_op_parallelism_threads=1)\n",
        "    from keras import backend as K\n",
        "    tf.random.set_seed(1234)\n",
        "    sess = tf.compat.v1.Session(graph=tf.compat.v1.get_default_graph(), \n",
        "                            config=session_conf)\n",
        "    K.set_session(sess)\n",
        "\n",
        "    #feature engineering\n",
        "    # # convert the stationary series to supervise learning\n",
        "    series_supervised = series_to_supervised(series, series.columns, n_in= window_size, n_out= steps_ahead, dropnan=True)   \n",
        "\n",
        "    # drop columns we don't want to predict\n",
        "    pattern = re.compile(r\"(t-)|^BORE_OIL_VOL.*\")\n",
        "    # Extract the column names that match the pattern\n",
        "    matching_columns = [col for col in series_supervised.columns if re.search(pattern, col)]\n",
        "    series_supervised = series_supervised[matching_columns]\n",
        "\n",
        "    # # split into train and test sets\n",
        "    series_supervised = series_supervised.values\n",
        "    train_size = int(series_supervised.shape[0] * 0.8)\n",
        "    test_size = series_supervised.shape[0] - train_size\n",
        "    train, test = series_supervised[0:train_size], series_supervised[train_size:]\n",
        "    # print(\"train.shape:\",train.shape, \"test.shape:\",test.shape)\n",
        "\n",
        "    # scale  the data to a feature range(0,1)\n",
        "    scaler, train_scaled, test_scaled = scale(train, test)\n",
        "    # print('train_scaled.shape:',train_scaled.shape, \"test_scaled.shape:\",test_scaled.shape)\n",
        "\n",
        "    # reshape input to be 3D [samples, window_size, features]\n",
        "    n_features = len(series.columns)\n",
        "    train_X, train_y = train_scaled[:, 0:-steps_ahead], train_scaled[:, -steps_ahead:]\n",
        "    train_X = train_X.reshape(train_X.shape[0], window_size, n_features)\n",
        "    test_X, test_y = test_scaled[:, 0:-steps_ahead], test_scaled[:, -steps_ahead:]\n",
        "    test_X = test_X.reshape(test_X.shape[0], window_size, n_features )\n",
        "    # print(\"train_X.shape:\",train_X.shape, \"train_y.shape:\",train_y.shape,\n",
        "    #         \"test_X.shape:\", test_X.shape,\"test_y.shape:\",test_y.shape)\n",
        "\n",
        "    # build the LSTM model\n",
        "    model =  Sequential()\n",
        "\n",
        "    if num_hidden_layers == 1:\n",
        "        model.add(LSTM(num_neurons, activation='tanh', input_shape = (window_size, n_features)))\n",
        "        \n",
        "    else:\n",
        "        for num in range(num_hidden_layers-1):\n",
        "            model.add(LSTM(num_neurons,activation='tanh', input_shape =(window_size, n_features), return_sequences=True))        \n",
        "        model.add(LSTM(num_neurons))\n",
        "\n",
        "\n",
        "    model.add(Dense(steps_ahead))\n",
        "    model.compile(loss='mean_squared_error',\n",
        "                optimizer=tf.keras.optimizers.Adam(learning_rate=0.0001))\n",
        "    #prevent overfitting\n",
        "    early_stopping = EarlyStopping(monitor='val_loss', patience=20, verbose=0,\n",
        "                                restore_best_weights=True, mode='min')\n",
        "\n",
        "    model.fit(train_X, train_y, epochs=n_epochs, batch_size=batch_size, callbacks = [early_stopping],\n",
        "                validation_data=(test_X, test_y), verbose=0, shuffle=False)\n",
        "    \n",
        "    current_val_loss = model.evaluate(test_X, test_y, verbose=2) #lstm_model.history['val_loss'][-1]\n",
        "    if current_val_loss < min_val_loss:\n",
        "        min_val_loss = current_val_loss\n",
        "        best_params = [n_epochs,  num_hidden_layers, num_neurons, batch_size, window_size]\n",
        "    \n",
        "print('final best params',\"n_epochs:\",best_params[0],\"num_hidden_layers:\",\n",
        "        best_params[1], \"num_neurons:\", best_params[2], \"batch_size:\", best_params[3],\n",
        "        \"window_size:\",best_params[4]) \n",
        "print(\"best_params\", str(best_params) , \"MSE:\",str(min_val_loss))#, lstm_model  "
      ],
      "metadata": {
        "colab": {
          "base_uri": "https://localhost:8080/"
        },
        "id": "7lPUZyDQbe4Q",
        "outputId": "9f0b8ce2-2501-4525-8d34-07f0ec37d806"
      },
      "execution_count": null,
      "outputs": [
        {
          "output_type": "stream",
          "name": "stdout",
          "text": [
            "n_epochs 500 num_hidden_layers 1 num_neurons 20 batch_size 2 window_size 2\n",
            "12/12 - 0s - loss: 2.0298e-04 - 38ms/epoch - 3ms/step\n",
            "n_epochs 500 num_hidden_layers 1 num_neurons 20 batch_size 2 window_size 4\n",
            "12/12 - 0s - loss: 1.4564e-04 - 36ms/epoch - 3ms/step\n",
            "n_epochs 500 num_hidden_layers 1 num_neurons 20 batch_size 2 window_size 8\n",
            "12/12 - 1s - loss: 1.2278e-04 - 511ms/epoch - 43ms/step\n",
            "n_epochs 500 num_hidden_layers 1 num_neurons 20 batch_size 4 window_size 2\n",
            "12/12 - 0s - loss: 2.0535e-04 - 35ms/epoch - 3ms/step\n",
            "n_epochs 500 num_hidden_layers 1 num_neurons 20 batch_size 4 window_size 4\n",
            "12/12 - 0s - loss: 1.3400e-04 - 37ms/epoch - 3ms/step\n",
            "n_epochs 500 num_hidden_layers 1 num_neurons 20 batch_size 4 window_size 8\n",
            "12/12 - 1s - loss: 1.1998e-04 - 520ms/epoch - 43ms/step\n",
            "n_epochs 500 num_hidden_layers 1 num_neurons 40 batch_size 2 window_size 2\n",
            "12/12 - 0s - loss: 1.8722e-04 - 42ms/epoch - 3ms/step\n",
            "n_epochs 500 num_hidden_layers 1 num_neurons 40 batch_size 2 window_size 4\n",
            "12/12 - 0s - loss: 1.4285e-04 - 40ms/epoch - 3ms/step\n",
            "n_epochs 500 num_hidden_layers 1 num_neurons 40 batch_size 2 window_size 8\n",
            "12/12 - 1s - loss: 1.2972e-04 - 513ms/epoch - 43ms/step\n",
            "n_epochs 500 num_hidden_layers 1 num_neurons 40 batch_size 4 window_size 2\n",
            "12/12 - 0s - loss: 1.8249e-04 - 41ms/epoch - 3ms/step\n",
            "n_epochs 500 num_hidden_layers 1 num_neurons 40 batch_size 4 window_size 4\n",
            "12/12 - 0s - loss: 1.2509e-04 - 59ms/epoch - 5ms/step\n",
            "n_epochs 500 num_hidden_layers 1 num_neurons 40 batch_size 4 window_size 8\n",
            "12/12 - 1s - loss: 1.1690e-04 - 502ms/epoch - 42ms/step\n",
            "n_epochs 500 num_hidden_layers 1 num_neurons 80 batch_size 2 window_size 2\n",
            "12/12 - 0s - loss: 1.7070e-04 - 36ms/epoch - 3ms/step\n",
            "n_epochs 500 num_hidden_layers 1 num_neurons 80 batch_size 2 window_size 4\n",
            "12/12 - 0s - loss: 1.3777e-04 - 46ms/epoch - 4ms/step\n",
            "n_epochs 500 num_hidden_layers 1 num_neurons 80 batch_size 2 window_size 8\n",
            "12/12 - 1s - loss: 1.2768e-04 - 511ms/epoch - 43ms/step\n",
            "n_epochs 500 num_hidden_layers 1 num_neurons 80 batch_size 4 window_size 2\n",
            "12/12 - 0s - loss: 1.6358e-04 - 38ms/epoch - 3ms/step\n",
            "n_epochs 500 num_hidden_layers 1 num_neurons 80 batch_size 4 window_size 4\n",
            "12/12 - 0s - loss: 1.2402e-04 - 41ms/epoch - 3ms/step\n",
            "n_epochs 500 num_hidden_layers 1 num_neurons 80 batch_size 4 window_size 8\n",
            "12/12 - 1s - loss: 1.1831e-04 - 501ms/epoch - 42ms/step\n",
            "n_epochs 500 num_hidden_layers 1 num_neurons 160 batch_size 2 window_size 2\n",
            "12/12 - 0s - loss: 1.6012e-04 - 45ms/epoch - 4ms/step\n",
            "n_epochs 500 num_hidden_layers 1 num_neurons 160 batch_size 2 window_size 4\n",
            "12/12 - 0s - loss: 1.3971e-04 - 66ms/epoch - 5ms/step\n",
            "n_epochs 500 num_hidden_layers 1 num_neurons 160 batch_size 2 window_size 8\n",
            "12/12 - 1s - loss: 1.1948e-04 - 582ms/epoch - 49ms/step\n",
            "n_epochs 500 num_hidden_layers 1 num_neurons 160 batch_size 4 window_size 2\n",
            "12/12 - 0s - loss: 1.4838e-04 - 48ms/epoch - 4ms/step\n",
            "n_epochs 500 num_hidden_layers 1 num_neurons 160 batch_size 4 window_size 4\n",
            "12/12 - 0s - loss: 1.2717e-04 - 71ms/epoch - 6ms/step\n",
            "n_epochs 500 num_hidden_layers 1 num_neurons 160 batch_size 4 window_size 8\n",
            "12/12 - 1s - loss: 1.2034e-04 - 551ms/epoch - 46ms/step\n",
            "n_epochs 500 num_hidden_layers 2 num_neurons 20 batch_size 2 window_size 2\n",
            "12/12 - 0s - loss: 2.5361e-04 - 36ms/epoch - 3ms/step\n",
            "n_epochs 500 num_hidden_layers 2 num_neurons 20 batch_size 2 window_size 4\n",
            "12/12 - 0s - loss: 1.7131e-04 - 47ms/epoch - 4ms/step\n",
            "n_epochs 500 num_hidden_layers 2 num_neurons 20 batch_size 2 window_size 8\n",
            "12/12 - 1s - loss: 1.2769e-04 - 923ms/epoch - 77ms/step\n",
            "n_epochs 500 num_hidden_layers 2 num_neurons 20 batch_size 4 window_size 2\n",
            "12/12 - 0s - loss: 2.6458e-04 - 41ms/epoch - 3ms/step\n",
            "n_epochs 500 num_hidden_layers 2 num_neurons 20 batch_size 4 window_size 4\n",
            "12/12 - 0s - loss: 1.4296e-04 - 41ms/epoch - 3ms/step\n",
            "n_epochs 500 num_hidden_layers 2 num_neurons 20 batch_size 4 window_size 8\n",
            "12/12 - 1s - loss: 1.1971e-04 - 1s/epoch - 84ms/step\n",
            "n_epochs 500 num_hidden_layers 2 num_neurons 40 batch_size 2 window_size 2\n",
            "12/12 - 0s - loss: 2.4495e-04 - 40ms/epoch - 3ms/step\n",
            "n_epochs 500 num_hidden_layers 2 num_neurons 40 batch_size 2 window_size 4\n",
            "12/12 - 0s - loss: 1.5236e-04 - 59ms/epoch - 5ms/step\n",
            "n_epochs 500 num_hidden_layers 2 num_neurons 40 batch_size 2 window_size 8\n",
            "12/12 - 1s - loss: 1.3831e-04 - 944ms/epoch - 79ms/step\n",
            "n_epochs 500 num_hidden_layers 2 num_neurons 40 batch_size 4 window_size 2\n",
            "12/12 - 0s - loss: 2.3789e-04 - 45ms/epoch - 4ms/step\n",
            "n_epochs 500 num_hidden_layers 2 num_neurons 40 batch_size 4 window_size 4\n",
            "12/12 - 0s - loss: 1.3522e-04 - 46ms/epoch - 4ms/step\n",
            "n_epochs 500 num_hidden_layers 2 num_neurons 40 batch_size 4 window_size 8\n",
            "12/12 - 1s - loss: 1.2439e-04 - 943ms/epoch - 79ms/step\n",
            "n_epochs 500 num_hidden_layers 2 num_neurons 80 batch_size 2 window_size 2\n",
            "12/12 - 0s - loss: 2.1911e-04 - 46ms/epoch - 4ms/step\n",
            "n_epochs 500 num_hidden_layers 2 num_neurons 80 batch_size 2 window_size 4\n",
            "12/12 - 0s - loss: 1.6186e-04 - 58ms/epoch - 5ms/step\n",
            "n_epochs 500 num_hidden_layers 2 num_neurons 80 batch_size 2 window_size 8\n",
            "12/12 - 1s - loss: 1.3460e-04 - 926ms/epoch - 77ms/step\n",
            "n_epochs 500 num_hidden_layers 2 num_neurons 80 batch_size 4 window_size 2\n"
          ]
        }
      ]
    },
    {
      "cell_type": "code",
      "source": [
        "#n_epochs 500 num_hidden_layers 1 num_neurons 40 batch_size 4 window_size 8\n",
        "#12/12 - 1s - loss: 1.1690e-04 - 502ms/epoch - 42ms/step"
      ],
      "metadata": {
        "id": "yoZrVhHtqtdb"
      },
      "execution_count": null,
      "outputs": []
    },
    {
      "cell_type": "code",
      "source": [
        "steps_ahead = 1  \n",
        "    # Create a new directory in My Drive\n",
        "directory = '/content/drive/My Drive/my_trained_models'\n",
        "if not os.path.exists(directory):\n",
        "    os.makedirs(directory)\n",
        "\n",
        "min_val_loss = math.inf \n",
        "for n_epochs, num_hidden_layers, num_neurons, batch_size, window_size in hyper_param:\n",
        "    print('n_epochs', n_epochs, 'num_hidden_layers', num_hidden_layers, 'num_neurons',\n",
        "            num_neurons, \"batch_size\", batch_size, 'window_size', window_size)\n",
        "    \n",
        "    # setting the session configurations for reproducibility.\n",
        "    os.environ[\"CUDA_DEVICE_ORDER\"] = \"PCI_BUS_ID\"  \n",
        "    os.environ[\"CUDA_VISIBLE_DEVICES\"] = \"\"\n",
        "    os.environ['PYTHONHASHSEED'] = '0'\n",
        "    np.random.seed(42)\n",
        "    np.random.seed(12345)\n",
        "    session_conf = tf.compat.v1.ConfigProto(intra_op_parallelism_threads=1,\n",
        "                                        inter_op_parallelism_threads=1)\n",
        "    from keras import backend as K\n",
        "    tf.random.set_seed(1234)\n",
        "    sess = tf.compat.v1.Session(graph=tf.compat.v1.get_default_graph(), \n",
        "                            config=session_conf)\n",
        "    K.set_session(sess)\n",
        "\n",
        "    #feature engineering\n",
        "    # # convert the stationary series to supervise learning\n",
        "    series_supervised = series_to_supervised(series, series.columns, n_in= window_size, n_out= steps_ahead, dropnan=True)   \n",
        "\n",
        "    # drop columns we don't want to predict\n",
        "    pattern = re.compile(r\"(t-)|^BORE_OIL_VOL.*\")\n",
        "    # Extract the column names that match the pattern\n",
        "    matching_columns = [col for col in series_supervised.columns if re.search(pattern, col)]\n",
        "    series_supervised = series_supervised[matching_columns]\n",
        "\n",
        "    # # split into train and test sets\n",
        "    series_supervised = series_supervised.values\n",
        "    train_size = int(series_supervised.shape[0] * 0.8)\n",
        "    test_size = series_supervised.shape[0] - train_size\n",
        "    train, test = series_supervised[0:train_size], series_supervised[train_size:]\n",
        "    # print(\"train.shape:\",train.shape, \"test.shape:\",test.shape)\n",
        "\n",
        "    # scale  the data to a feature range(0,1)\n",
        "    scaler, train_scaled, test_scaled = scale(train, test)\n",
        "    # print('train_scaled.shape:',train_scaled.shape, \"test_scaled.shape:\",test_scaled.shape)\n",
        "\n",
        "    # reshape input to be 3D [samples, window_size, features]\n",
        "    n_features = len(series.columns)\n",
        "    train_X, train_y = train_scaled[:, 0:-steps_ahead], train_scaled[:, -steps_ahead:]\n",
        "    train_X = train_X.reshape(train_X.shape[0], window_size, n_features)\n",
        "    test_X, test_y = test_scaled[:, 0:-steps_ahead], test_scaled[:, -steps_ahead:]\n",
        "    test_X = test_X.reshape(test_X.shape[0], window_size, n_features )\n",
        "    # print(\"train_X.shape:\",train_X.shape, \"train_y.shape:\",train_y.shape,\n",
        "    #         \"test_X.shape:\", test_X.shape,\"test_y.shape:\",test_y.shape)\n",
        "\n",
        "    # build the LSTM model\n",
        "    model =  Sequential()\n",
        "\n",
        "    if num_hidden_layers == 1:\n",
        "        model.add(LSTM(num_neurons, activation='tanh', input_shape = (window_size, n_features)))\n",
        "        \n",
        "    else:\n",
        "        for num in range(num_hidden_layers-1):\n",
        "            model.add(LSTM(num_neurons,activation='tanh', input_shape =(window_size, n_features), return_sequences=True))        \n",
        "        model.add(LSTM(num_neurons))\n",
        "\n",
        "\n",
        "    model.add(Dense(steps_ahead))\n",
        "    model.compile(loss='mean_squared_error',\n",
        "                optimizer=tf.keras.optimizers.Adam(learning_rate=0.0001))\n",
        "    #prevent overfitting\n",
        "    early_stopping = EarlyStopping(monitor='val_loss', patience=20, verbose=0,\n",
        "                                restore_best_weights=True, mode='min')\n",
        "\n",
        "    model.fit(train_X, train_y, epochs=n_epochs, batch_size=batch_size, callbacks = [early_stopping],\n",
        "                validation_data=(test_X, test_y), verbose=0, shuffle=False)\n",
        "    \n",
        "    current_val_loss = model.evaluate(test_X, test_y, verbose=2) #lstm_model.history['val_loss'][-1]\n",
        "    if current_val_loss < min_val_loss:\n",
        "        min_val_loss = current_val_loss\n",
        "        best_params = [n_epochs,  num_hidden_layers, num_neurons, batch_size, window_size]\n",
        "    \n",
        "print('final best params',\"n_epochs:\",best_params[0],\"num_hidden_layers:\",\n",
        "        best_params[1], \"num_neurons:\", best_params[2], \"batch_size:\", best_params[3],\n",
        "        \"window_size:\",best_params[4]) \n",
        "print(\"best_params\", str(best_params) , \"MSE:\",str(min_val_loss))#, lstm_model  "
      ],
      "metadata": {
        "colab": {
          "base_uri": "https://localhost:8080/"
        },
        "id": "gT7pKkEoqOXA",
        "outputId": "7f93ecb4-614c-442e-babf-f5a83b988c99"
      },
      "execution_count": null,
      "outputs": [
        {
          "output_type": "stream",
          "name": "stdout",
          "text": [
            "n_epochs 500 num_hidden_layers 2 num_neurons 80 batch_size 4 window_size 4\n",
            "12/12 - 0s - loss: 1.4165e-04 - 46ms/epoch - 4ms/step\n",
            "n_epochs 500 num_hidden_layers 2 num_neurons 80 batch_size 4 window_size 8\n",
            "12/12 - 1s - loss: 1.2938e-04 - 839ms/epoch - 70ms/step\n",
            "n_epochs 500 num_hidden_layers 2 num_neurons 160 batch_size 2 window_size 2\n",
            "12/12 - 0s - loss: 2.2464e-04 - 46ms/epoch - 4ms/step\n",
            "n_epochs 500 num_hidden_layers 2 num_neurons 160 batch_size 2 window_size 4\n",
            "12/12 - 0s - loss: 1.5589e-04 - 67ms/epoch - 6ms/step\n",
            "n_epochs 500 num_hidden_layers 2 num_neurons 160 batch_size 2 window_size 8\n",
            "12/12 - 1s - loss: 1.3365e-04 - 1s/epoch - 105ms/step\n",
            "n_epochs 500 num_hidden_layers 2 num_neurons 160 batch_size 4 window_size 2\n",
            "12/12 - 0s - loss: 1.8128e-04 - 47ms/epoch - 4ms/step\n",
            "n_epochs 500 num_hidden_layers 2 num_neurons 160 batch_size 4 window_size 4\n",
            "12/12 - 0s - loss: 1.3683e-04 - 64ms/epoch - 5ms/step\n",
            "n_epochs 500 num_hidden_layers 2 num_neurons 160 batch_size 4 window_size 8\n",
            "12/12 - 1s - loss: 1.2539e-04 - 880ms/epoch - 73ms/step\n",
            "final best params n_epochs: 500 num_hidden_layers: 2 num_neurons: 160 batch_size: 4 window_size: 8\n",
            "best_params [500, 2, 160, 4, 8] MSE: 0.00012538605369627476\n"
          ]
        }
      ]
    },
    {
      "cell_type": "code",
      "source": [
        "steps_ahead = 1\n",
        "# Define window size and number of the steps ahead for forecasting\n",
        "n_epochs = 500\n",
        "num_hidden_layers = 1\n",
        "num_neurons = 40\n",
        "batch_size = 4\n",
        "window_size = 8\n",
        "\n",
        "# # convert the stationary series to supervise learning using sliding window approach\n",
        "series_supervised = series_to_supervised(series, series.columns, n_in= window_size, n_out= steps_ahead, dropnan=True)   \n",
        "\n",
        "# drop columns we don't want to predict\n",
        "pattern = re.compile(r\"(t-)|^BORE_OIL_VOL.*\")\n",
        "\n",
        "# Extract the column names that match the pattern\n",
        "matching_columns = [col for col in series_supervised.columns if re.search(pattern, col)]\n",
        "series_supervised = series_supervised[matching_columns]\n",
        "\n",
        "\n",
        "\n",
        "# # split into train and test sets\n",
        "n_features = int((len(series_supervised.columns) -steps_ahead)/window_size)\n",
        "series_supervised = series_supervised.values\n",
        "train_size = int(series_supervised.shape[0] * 0.8)\n",
        "test_size = series_supervised.shape[0] - train_size\n",
        "train, test = series_supervised[0:train_size], series_supervised[train_size:]\n",
        "print(\"train.shape:\",train.shape, \"test.shape:\",test.shape)\n",
        "\n",
        "# scale  the data to a feature range(0,1)\n",
        "scaler, train_scaled, test_scaled = scale(train, test)\n",
        "print('train_scaled.shape:',train_scaled.shape, \"test_scaled.shape:\",test_scaled.shape)\n",
        "\n",
        "# # reshape input to be 3D [samples, window_size, features]\n",
        "train_X, train_y = train_scaled[:, 0:-steps_ahead], train_scaled[:, -steps_ahead:]\n",
        "train_X = train_X.reshape(train_X.shape[0], window_size, n_features)\n",
        "test_X, test_y = test_scaled[:, 0:-steps_ahead], test_scaled[:, -steps_ahead:]\n",
        "test_X = test_X.reshape(test_X.shape[0], window_size, n_features )\n",
        "print(\"train_X.shape:\",train_X.shape, \"train_y.shape:\",train_y.shape,\n",
        "        \"test_X.shape:\", test_X.shape,\"test_y.shape:\",test_y.shape)\n",
        "\n",
        "\n",
        "# setting the session configurations for reproducibility.\n",
        "os.environ[\"CUDA_DEVICE_ORDER\"] = \"PCI_BUS_ID\"  \n",
        "os.environ[\"CUDA_VISIBLE_DEVICES\"] = \"\"\n",
        "os.environ['PYTHONHASHSEED'] = '0'\n",
        "np.random.seed(42)\n",
        "np.random.seed(12345)\n",
        "session_conf = tf.compat.v1.ConfigProto(intra_op_parallelism_threads=1,\n",
        "                                        inter_op_parallelism_threads=1)\n",
        "from keras import backend as K\n",
        "tf.random.set_seed(1234)\n",
        "sess = tf.compat.v1.Session(graph=tf.compat.v1.get_default_graph(), \n",
        "                            config=session_conf)\n",
        "K.set_session(sess)\n",
        "\n",
        "model =  Sequential()\n",
        "\n",
        "if num_hidden_layers == 1:\n",
        "    model.add(LSTM(num_neurons, activation='tanh', input_shape = (window_size, n_features)))\n",
        "    \n",
        "else:\n",
        "    for num in range(num_hidden_layers-1):\n",
        "        model.add(LSTM(num_neurons,activation='tanh', input_shape =(window_size, n_features), return_sequences=True))        \n",
        "    model.add(LSTM(num_neurons))\n",
        "        \n",
        "model.add(Dense(steps_ahead))\n",
        "model.compile(loss='mean_squared_error',\n",
        "            optimizer=tf.keras.optimizers.Adam(learning_rate=0.0001))\n",
        "#prevent overfitting\n",
        "early_stopping = EarlyStopping(monitor='val_loss', patience=20, verbose=0,\n",
        "                            restore_best_weights=True, mode='min')\n",
        "\n",
        "history = model.fit(train_X, train_y, epochs=n_epochs, batch_size=batch_size, callbacks = [early_stopping],\n",
        "            validation_data=(test_X, test_y), verbose=2, shuffle=False)\n",
        "model.evaluate(test_X, test_y)"
      ],
      "metadata": {
        "colab": {
          "base_uri": "https://localhost:8080/"
        },
        "id": "m5HvpT9fISce",
        "outputId": "17c08e18-ed7e-4e0e-c7f5-9778368e9c69"
      },
      "execution_count": 5,
      "outputs": [
        {
          "output_type": "stream",
          "name": "stdout",
          "text": [
            "train.shape: (1519, 25) test.shape: (380, 25)\n",
            "train_scaled.shape: (1519, 25) test_scaled.shape: (380, 25)\n",
            "train_X.shape: (1519, 8, 3) train_y.shape: (1519, 1) test_X.shape: (380, 8, 3) test_y.shape: (380, 1)\n",
            "Epoch 1/500\n",
            "380/380 - 5s - loss: 0.2276 - val_loss: 0.0049 - 5s/epoch - 12ms/step\n",
            "Epoch 2/500\n",
            "380/380 - 2s - loss: 0.0225 - val_loss: 0.0056 - 2s/epoch - 6ms/step\n",
            "Epoch 3/500\n",
            "380/380 - 3s - loss: 0.0192 - val_loss: 0.0044 - 3s/epoch - 8ms/step\n",
            "Epoch 4/500\n",
            "380/380 - 3s - loss: 0.0180 - val_loss: 0.0036 - 3s/epoch - 8ms/step\n",
            "Epoch 5/500\n",
            "380/380 - 2s - loss: 0.0169 - val_loss: 0.0030 - 2s/epoch - 5ms/step\n",
            "Epoch 6/500\n",
            "380/380 - 2s - loss: 0.0159 - val_loss: 0.0026 - 2s/epoch - 4ms/step\n",
            "Epoch 7/500\n",
            "380/380 - 2s - loss: 0.0149 - val_loss: 0.0023 - 2s/epoch - 4ms/step\n",
            "Epoch 8/500\n",
            "380/380 - 2s - loss: 0.0140 - val_loss: 0.0021 - 2s/epoch - 4ms/step\n",
            "Epoch 9/500\n",
            "380/380 - 2s - loss: 0.0130 - val_loss: 0.0019 - 2s/epoch - 4ms/step\n",
            "Epoch 10/500\n",
            "380/380 - 2s - loss: 0.0121 - val_loss: 0.0017 - 2s/epoch - 5ms/step\n",
            "Epoch 11/500\n",
            "380/380 - 2s - loss: 0.0112 - val_loss: 0.0016 - 2s/epoch - 5ms/step\n",
            "Epoch 12/500\n",
            "380/380 - 2s - loss: 0.0103 - val_loss: 0.0014 - 2s/epoch - 4ms/step\n",
            "Epoch 13/500\n",
            "380/380 - 2s - loss: 0.0095 - val_loss: 0.0013 - 2s/epoch - 4ms/step\n",
            "Epoch 14/500\n",
            "380/380 - 2s - loss: 0.0089 - val_loss: 0.0012 - 2s/epoch - 4ms/step\n",
            "Epoch 15/500\n",
            "380/380 - 2s - loss: 0.0083 - val_loss: 0.0011 - 2s/epoch - 4ms/step\n",
            "Epoch 16/500\n",
            "380/380 - 2s - loss: 0.0078 - val_loss: 0.0010 - 2s/epoch - 4ms/step\n",
            "Epoch 17/500\n",
            "380/380 - 2s - loss: 0.0074 - val_loss: 9.2779e-04 - 2s/epoch - 4ms/step\n",
            "Epoch 18/500\n",
            "380/380 - 2s - loss: 0.0070 - val_loss: 8.3821e-04 - 2s/epoch - 5ms/step\n",
            "Epoch 19/500\n",
            "380/380 - 2s - loss: 0.0067 - val_loss: 7.5962e-04 - 2s/epoch - 5ms/step\n",
            "Epoch 20/500\n",
            "380/380 - 2s - loss: 0.0064 - val_loss: 6.9238e-04 - 2s/epoch - 5ms/step\n",
            "Epoch 21/500\n",
            "380/380 - 2s - loss: 0.0062 - val_loss: 6.3506e-04 - 2s/epoch - 4ms/step\n",
            "Epoch 22/500\n",
            "380/380 - 2s - loss: 0.0060 - val_loss: 5.8570e-04 - 2s/epoch - 5ms/step\n",
            "Epoch 23/500\n",
            "380/380 - 2s - loss: 0.0057 - val_loss: 5.4255e-04 - 2s/epoch - 4ms/step\n",
            "Epoch 24/500\n",
            "380/380 - 2s - loss: 0.0055 - val_loss: 5.0422e-04 - 2s/epoch - 4ms/step\n",
            "Epoch 25/500\n",
            "380/380 - 2s - loss: 0.0053 - val_loss: 4.6955e-04 - 2s/epoch - 4ms/step\n",
            "Epoch 26/500\n",
            "380/380 - 2s - loss: 0.0051 - val_loss: 4.3769e-04 - 2s/epoch - 5ms/step\n",
            "Epoch 27/500\n",
            "380/380 - 2s - loss: 0.0049 - val_loss: 4.0812e-04 - 2s/epoch - 4ms/step\n",
            "Epoch 28/500\n",
            "380/380 - 2s - loss: 0.0047 - val_loss: 3.8055e-04 - 2s/epoch - 6ms/step\n",
            "Epoch 29/500\n",
            "380/380 - 2s - loss: 0.0045 - val_loss: 3.5486e-04 - 2s/epoch - 4ms/step\n",
            "Epoch 30/500\n",
            "380/380 - 2s - loss: 0.0043 - val_loss: 3.3099e-04 - 2s/epoch - 4ms/step\n",
            "Epoch 31/500\n",
            "380/380 - 2s - loss: 0.0041 - val_loss: 3.0888e-04 - 2s/epoch - 5ms/step\n",
            "Epoch 32/500\n",
            "380/380 - 2s - loss: 0.0040 - val_loss: 2.8851e-04 - 2s/epoch - 4ms/step\n",
            "Epoch 33/500\n",
            "380/380 - 2s - loss: 0.0038 - val_loss: 2.6980e-04 - 2s/epoch - 4ms/step\n",
            "Epoch 34/500\n",
            "380/380 - 2s - loss: 0.0037 - val_loss: 2.5267e-04 - 2s/epoch - 4ms/step\n",
            "Epoch 35/500\n",
            "380/380 - 2s - loss: 0.0035 - val_loss: 2.3699e-04 - 2s/epoch - 5ms/step\n",
            "Epoch 36/500\n",
            "380/380 - 2s - loss: 0.0034 - val_loss: 2.2265e-04 - 2s/epoch - 5ms/step\n",
            "Epoch 37/500\n",
            "380/380 - 2s - loss: 0.0033 - val_loss: 2.0958e-04 - 2s/epoch - 4ms/step\n",
            "Epoch 38/500\n",
            "380/380 - 2s - loss: 0.0032 - val_loss: 1.9771e-04 - 2s/epoch - 5ms/step\n",
            "Epoch 39/500\n",
            "380/380 - 2s - loss: 0.0031 - val_loss: 1.8702e-04 - 2s/epoch - 4ms/step\n",
            "Epoch 40/500\n",
            "380/380 - 2s - loss: 0.0030 - val_loss: 1.7745e-04 - 2s/epoch - 4ms/step\n",
            "Epoch 41/500\n",
            "380/380 - 2s - loss: 0.0029 - val_loss: 1.6893e-04 - 2s/epoch - 5ms/step\n",
            "Epoch 42/500\n",
            "380/380 - 2s - loss: 0.0028 - val_loss: 1.6139e-04 - 2s/epoch - 4ms/step\n",
            "Epoch 43/500\n",
            "380/380 - 2s - loss: 0.0028 - val_loss: 1.5475e-04 - 2s/epoch - 5ms/step\n",
            "Epoch 44/500\n",
            "380/380 - 2s - loss: 0.0027 - val_loss: 1.4893e-04 - 2s/epoch - 4ms/step\n",
            "Epoch 45/500\n",
            "380/380 - 2s - loss: 0.0026 - val_loss: 1.4386e-04 - 2s/epoch - 4ms/step\n",
            "Epoch 46/500\n",
            "380/380 - 3s - loss: 0.0026 - val_loss: 1.3947e-04 - 3s/epoch - 7ms/step\n",
            "Epoch 47/500\n",
            "380/380 - 2s - loss: 0.0026 - val_loss: 1.3569e-04 - 2s/epoch - 4ms/step\n",
            "Epoch 48/500\n",
            "380/380 - 2s - loss: 0.0025 - val_loss: 1.3245e-04 - 2s/epoch - 4ms/step\n",
            "Epoch 49/500\n",
            "380/380 - 2s - loss: 0.0025 - val_loss: 1.2968e-04 - 2s/epoch - 4ms/step\n",
            "Epoch 50/500\n",
            "380/380 - 2s - loss: 0.0024 - val_loss: 1.2733e-04 - 2s/epoch - 5ms/step\n",
            "Epoch 51/500\n",
            "380/380 - 2s - loss: 0.0024 - val_loss: 1.2533e-04 - 2s/epoch - 5ms/step\n",
            "Epoch 52/500\n",
            "380/380 - 2s - loss: 0.0024 - val_loss: 1.2364e-04 - 2s/epoch - 4ms/step\n",
            "Epoch 53/500\n",
            "380/380 - 2s - loss: 0.0023 - val_loss: 1.2222e-04 - 2s/epoch - 5ms/step\n",
            "Epoch 54/500\n",
            "380/380 - 2s - loss: 0.0023 - val_loss: 1.2102e-04 - 2s/epoch - 5ms/step\n",
            "Epoch 55/500\n",
            "380/380 - 2s - loss: 0.0023 - val_loss: 1.2001e-04 - 2s/epoch - 4ms/step\n",
            "Epoch 56/500\n",
            "380/380 - 2s - loss: 0.0022 - val_loss: 1.1918e-04 - 2s/epoch - 5ms/step\n",
            "Epoch 57/500\n",
            "380/380 - 2s - loss: 0.0022 - val_loss: 1.1850e-04 - 2s/epoch - 4ms/step\n",
            "Epoch 58/500\n",
            "380/380 - 2s - loss: 0.0022 - val_loss: 1.1796e-04 - 2s/epoch - 5ms/step\n",
            "Epoch 59/500\n",
            "380/380 - 2s - loss: 0.0021 - val_loss: 1.1754e-04 - 2s/epoch - 6ms/step\n",
            "Epoch 60/500\n",
            "380/380 - 2s - loss: 0.0021 - val_loss: 1.1724e-04 - 2s/epoch - 6ms/step\n",
            "Epoch 61/500\n",
            "380/380 - 2s - loss: 0.0021 - val_loss: 1.1704e-04 - 2s/epoch - 4ms/step\n",
            "Epoch 62/500\n",
            "380/380 - 2s - loss: 0.0021 - val_loss: 1.1696e-04 - 2s/epoch - 4ms/step\n",
            "Epoch 63/500\n",
            "380/380 - 2s - loss: 0.0020 - val_loss: 1.1697e-04 - 2s/epoch - 5ms/step\n",
            "Epoch 64/500\n",
            "380/380 - 2s - loss: 0.0020 - val_loss: 1.1708e-04 - 2s/epoch - 5ms/step\n",
            "Epoch 65/500\n",
            "380/380 - 2s - loss: 0.0020 - val_loss: 1.1730e-04 - 2s/epoch - 4ms/step\n",
            "Epoch 66/500\n",
            "380/380 - 2s - loss: 0.0020 - val_loss: 1.1764e-04 - 2s/epoch - 5ms/step\n",
            "Epoch 67/500\n",
            "380/380 - 2s - loss: 0.0019 - val_loss: 1.1809e-04 - 2s/epoch - 4ms/step\n",
            "Epoch 68/500\n",
            "380/380 - 2s - loss: 0.0019 - val_loss: 1.1869e-04 - 2s/epoch - 4ms/step\n",
            "Epoch 69/500\n",
            "380/380 - 2s - loss: 0.0019 - val_loss: 1.1944e-04 - 2s/epoch - 5ms/step\n",
            "Epoch 70/500\n",
            "380/380 - 2s - loss: 0.0018 - val_loss: 1.2037e-04 - 2s/epoch - 5ms/step\n",
            "Epoch 71/500\n",
            "380/380 - 2s - loss: 0.0018 - val_loss: 1.2150e-04 - 2s/epoch - 5ms/step\n",
            "Epoch 72/500\n",
            "380/380 - 2s - loss: 0.0018 - val_loss: 1.2287e-04 - 2s/epoch - 5ms/step\n",
            "Epoch 73/500\n",
            "380/380 - 2s - loss: 0.0017 - val_loss: 1.2451e-04 - 2s/epoch - 5ms/step\n",
            "Epoch 74/500\n",
            "380/380 - 2s - loss: 0.0017 - val_loss: 1.2644e-04 - 2s/epoch - 4ms/step\n",
            "Epoch 75/500\n",
            "380/380 - 2s - loss: 0.0017 - val_loss: 1.2870e-04 - 2s/epoch - 4ms/step\n",
            "Epoch 76/500\n",
            "380/380 - 2s - loss: 0.0017 - val_loss: 1.3130e-04 - 2s/epoch - 5ms/step\n",
            "Epoch 77/500\n",
            "380/380 - 2s - loss: 0.0016 - val_loss: 1.3425e-04 - 2s/epoch - 5ms/step\n",
            "Epoch 78/500\n",
            "380/380 - 2s - loss: 0.0016 - val_loss: 1.3754e-04 - 2s/epoch - 4ms/step\n",
            "Epoch 79/500\n",
            "380/380 - 2s - loss: 0.0016 - val_loss: 1.4112e-04 - 2s/epoch - 4ms/step\n",
            "Epoch 80/500\n",
            "380/380 - 2s - loss: 0.0016 - val_loss: 1.4493e-04 - 2s/epoch - 4ms/step\n",
            "Epoch 81/500\n",
            "380/380 - 2s - loss: 0.0015 - val_loss: 1.4889e-04 - 2s/epoch - 4ms/step\n",
            "Epoch 82/500\n",
            "380/380 - 2s - loss: 0.0015 - val_loss: 1.5289e-04 - 2s/epoch - 5ms/step\n",
            "12/12 [==============================] - 0s 3ms/step - loss: 1.1696e-04\n"
          ]
        },
        {
          "output_type": "execute_result",
          "data": {
            "text/plain": [
              "0.00011695580906234682"
            ]
          },
          "metadata": {},
          "execution_count": 5
        }
      ]
    },
    {
      "cell_type": "code",
      "execution_count": null,
      "metadata": {
        "colab": {
          "base_uri": "https://localhost:8080/",
          "height": 419
        },
        "id": "Om2PkqgiVjri",
        "outputId": "5c198fc9-7b65-4af9-e603-936ea817e966"
      },
      "outputs": [
        {
          "output_type": "display_data",
          "data": {
            "text/plain": [
              "<Figure size 576x432 with 1 Axes>"
            ],
            "image/png": "[encoded data removed]"
          },
          "metadata": {
            "needs_background": "light"
          }
        }
      ],
      "source": [
        "# LSTM validation loss over epochs\n",
        "fig, ax = plt.subplots(1, 1, figsize=(8,6))\n",
        "plt.plot(history.history['val_loss'], label='LSTM validation loss')\n",
        "plt.xlabel('Epochs', fontsize=15)\n",
        "plt.xticks(fontsize=15)\n",
        "plt.ylabel('Loss', fontsize=15)\n",
        "plt.yticks(fontsize=12)\n",
        "plt.title('LSTM validation loss over Epochs', fontsize=20)\n",
        "plt.grid()\n",
        "plt.legend(fontsize=15)\n",
        "plt.savefig(\"LSTM validation loss.png\", format='png', dpi=1600, bbox_inches='tight')\n",
        "plt.show()"
      ]
    },
    {
      "cell_type": "markdown",
      "metadata": {
        "id": "SHohbk8uYRIh"
      },
      "source": [
        "**MinMax Scaler equation**\n",
        "$$x' = \\frac{(x - min)}{(max - min)} \\times (new\\ max\\ value - new\\ min\\  value) + new\\ min\\ value$$<br/>\n",
        "\n",
        "\n",
        "$$x = \\frac{(max - min)\\times (new\\ min\\ value + x') + (new\\ max\\ value - new\\ min\\ value)\\times min}{new\\ max\\ value - new\\ min\\ value}$$\n",
        "\n",
        "Where:\n",
        "\n",
        "$x$ is the inverse scaled value\n",
        "$x'$ is the scaled value\n",
        "$min$ is the minimum value of the original data\n",
        "$max$ is the maximum value of the original data.<br/>\n",
        "$new\\ max\\ value$ and $new\\ min\\ value$ is the new range that we want to scale the data to. For example: $(1,0)\\ or\\ (1,-1)$"
      ]
    },
    {
      "cell_type": "code",
      "execution_count": null,
      "metadata": {
        "colab": {
          "base_uri": "https://localhost:8080/"
        },
        "id": "dZ3IIvIhvHaz",
        "outputId": "dc5a3976-810d-4d8f-db07-3e67ca621138"
      },
      "outputs": [
        {
          "output_type": "stream",
          "name": "stdout",
          "text": [
            "12/12 [==============================] - 0s 2ms/step\n",
            "48/48 [==============================] - 0s 2ms/step\n"
          ]
        }
      ],
      "source": [
        "# make a prediction \n",
        "# select the number of obersvtions for prediction\n",
        "yhat_lstm_test = model.predict(test_X, verbose=1)\n",
        "yhat_lstm_train = model.predict(train_X, verbose=1)\n",
        "\n",
        "\n",
        "# invert scaling \n",
        "scaled_test_y = pd.DataFrame(test_y)\n",
        "scaled_train_y = pd.DataFrame(train_y)\n",
        "scaled_yhat_lstm_test = pd.DataFrame(yhat_lstm_test) ## ravel () converting into 1D array\n",
        "scaled_yhat_lstm_train = pd.DataFrame(yhat_lstm_train)\n",
        "#obtain the min and max from the training set\n",
        "unscaled_train = pd.DataFrame(series_supervised[:len(train)])\n",
        "#new feature range\n",
        "new_max_value = 1 \n",
        "new_min_value= 0\n",
        "feature_range = new_max_value - new_min_value\n",
        "\n",
        "def transform_column(column):\n",
        "    min_value = min(unscaled_train.iloc[:, -steps_ahead + column.name])\n",
        "    max_value = max(unscaled_train.iloc[:, -steps_ahead + column.name])\n",
        "    return ((max_value - min_value) * (new_min_value + column) + (feature_range  * min_value)) / feature_range \n",
        "    \n",
        "# invert scaling for actual\n",
        "y_lstm_test = scaled_test_y.apply(transform_column, axis=0).values\n",
        "y_lstm_train = scaled_train_y.apply(transform_column, axis=0).values\n",
        "# invert scaling for forecast\n",
        "yhat_lstm_test = scaled_yhat_lstm_test.apply(transform_column, axis=0).values\n",
        "yhat_lstm_train = scaled_yhat_lstm_train.apply(transform_column, axis=0).values"
      ]
    },
    {
      "cell_type": "code",
      "source": [
        "# Performance evaluation\n",
        "# y = inv_scale_y[np.where(inv_scale_y != 0 )]\n",
        "# yhat = inv_scale_yhat[np.where(inv_scale_y != 0 )]\n",
        "\n",
        "rmse_test = sqrt(mean_squared_error(y_lstm_test , yhat_lstm_test ))\n",
        "print('Test RMSE: %.5f' % rmse_test)\n",
        "MAE_test = mean_absolute_error(y_lstm_test , yhat_lstm_test)\n",
        "print('Test MAE: %.5f' % MAE_test)\n",
        "r2 = r2_score(y_lstm_test , yhat_lstm_test)\n",
        "print('Test r2: %.5f' % r2)\n",
        "wMAPE_test = wMAPE(y_lstm_test , yhat_lstm_test)\n",
        "print('Test wMAPE: %.5f ' % wMAPE_test)"
      ],
      "metadata": {
        "colab": {
          "base_uri": "https://localhost:8080/"
        },
        "id": "uQ9teVJ-5t17",
        "outputId": "25fd6532-9324-418f-a401-ac768641d9bc"
      },
      "execution_count": null,
      "outputs": [
        {
          "output_type": "stream",
          "name": "stdout",
          "text": [
            "Test RMSE: 216.35640\n",
            "Test MAE: 133.52303\n",
            "Test r2: 0.91420\n",
            "Test wMAPE: 5.84596 \n"
          ]
        }
      ]
    },
    {
      "cell_type": "code",
      "source": [
        "# plot the concatenated  predcitions of both training and testing sets\n",
        "entire_actual_lstm = np.concatenate([y_lstm_train, y_lstm_test], axis=0)\n",
        "entire_forecast_lstm = np.concatenate([yhat_lstm_train, yhat_lstm_test], axis=0)\n",
        "\n",
        "fig, ax = plt.subplots(1, 1, figsize=(18,6))\n",
        "plt.plot(entire_actual_lstm, label = 'Actual production')\n",
        "plt.plot(entire_forecast_lstm, label = 'LSTM predicted values')\n",
        "\n",
        "# create the horizontal dashed line\n",
        "plt.axvline(x=train_X.shape[0] + 1, color='black', linestyle='--')\n",
        "plt.legend()\n",
        "# add text labels\n",
        "plt.text(1350, 17500, 'Training set', rotation=0, verticalalignment='center', style='italic', fontweight='bold')\n",
        "plt.text(1540, 15000, 'Testing set', rotation=0, verticalalignment='center', style='italic', fontweight='bold')\n",
        "\n",
        "plt.ylabel('Daily Oil Prodcution, bbl', fontsize=15)\n",
        "plt.xlabel('Days', fontsize=15)\n",
        "plt.xticks(fontsize=15)\n",
        "plt.yticks(fontsize=15)\n",
        "\n",
        "# Create a font object with bold weight\n",
        "font = FontProperties()\n",
        "font.set_weight('bold')\n",
        "plt.legend(fontsize=10, loc= 'upper right', prop=font)\n",
        "\n",
        "\n",
        "plt.savefig(\"LSTM actual-forecast.svg\", dpi=1600, bbox_inches='tight')\n",
        "plt.show()\n"
      ],
      "metadata": {
        "colab": {
          "base_uri": "https://localhost:8080/",
          "height": 398
        },
        "id": "DN3ol2Wi7hgt",
        "outputId": "e43e1c2d-3d03-4d60-ad0c-85883894cf6b"
      },
      "execution_count": null,
      "outputs": [
        {
          "output_type": "display_data",
          "data": {
            "text/plain": [
              "<Figure size 1296x432 with 1 Axes>"
            ],
            "image/png": "[encoded data removed]"
          },
          "metadata": {
            "needs_background": "light"
          }
        }
      ]
    },
    {
      "cell_type": "code",
      "source": [
        "days = list(range(1, 1908))"
      ],
      "metadata": {
        "id": "I9wKsk1V_YRU"
      },
      "execution_count": 76,
      "outputs": []
    },
    {
      "cell_type": "code",
      "source": [
        "import numpy as np"
      ],
      "metadata": {
        "id": "IYXhn4Rc_stc"
      },
      "execution_count": 82,
      "outputs": []
    },
    {
      "cell_type": "code",
      "source": [
        "np.std(days)"
      ],
      "metadata": {
        "colab": {
          "base_uri": "https://localhost:8080/"
        },
        "id": "8elokH1d_hDm",
        "outputId": "61f92db8-90e6-41c1-a929-8da6d66be02e"
      },
      "execution_count": 85,
      "outputs": [
        {
          "output_type": "execute_result",
          "data": {
            "text/plain": [
              "550.5034059840139"
            ]
          },
          "metadata": {},
          "execution_count": 85
        }
      ]
    }
  ],
  "metadata": {
    "colab": {
      "provenance": [],
      "mount_file_id": "11W0pceHRbr6YAvtIoh_fQb7X-fOyf0ey",
      "authorship_tag": "ABX9TyMbIucHySUUXrYAAYhDV1S8",
      "include_colab_link": true
    },
    "gpuClass": "standard",
    "kernelspec": {
      "display_name": "Python 3",
      "name": "python3"
    },
    "language_info": {
      "name": "python"
    },
    "accelerator": "GPU"
  },
  "nbformat": 4,
  "nbformat_minor": 0
}