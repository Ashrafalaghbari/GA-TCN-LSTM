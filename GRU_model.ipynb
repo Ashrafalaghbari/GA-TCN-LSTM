{
  "cells": [
    {
      "cell_type": "markdown",
      "metadata": {
        "id": "view-in-github",
        "colab_type": "text"
      },
      "source": [
        "<a href=\"https://colab.research.google.com/github/Ashrafalaghbari/oil-production-forecasting/blob/main/GRU_model.ipynb\" target=\"_parent\"><img src=\"https://colab.research.google.com/assets/colab-badge.svg\" alt=\"Open In Colab\"/></a>"
      ]
    },
    {
      "cell_type": "code",
      "execution_count": null,
      "metadata": {
        "colab": {
          "base_uri": "https://localhost:8080/",
          "height": 34
        },
        "id": "x1LrkoSv4cc7",
        "outputId": "003fba0f-78f5-47df-fba4-3a32b7ae43eb"
      },
      "outputs": [
        {
          "output_type": "display_data",
          "data": {
            "application/javascript": [
              "IPython.notebook.set_autosave_interval(60000)"
            ]
          },
          "metadata": {}
        },
        {
          "output_type": "stream",
          "name": "stdout",
          "text": [
            "Autosaving every 60 seconds\n"
          ]
        }
      ],
      "source": [
        "%autosave 60"
      ]
    },
    {
      "cell_type": "code",
      "execution_count": 2,
      "metadata": {
        "id": "XxzUA1Pg4iEU"
      },
      "outputs": [],
      "source": [
        "import os\n",
        "import numpy as np\n",
        "from numpy.random import randint, rand\n",
        "import pandas as pd\n",
        "import re\n",
        "import matplotlib.pyplot as plt\n",
        "import itertools\n",
        "import re\n",
        "from sklearn.preprocessing import MinMaxScaler\n",
        "import tensorflow as tf\n",
        "from keras.models import Sequential\n",
        "from keras.layers import Dense,Activation\n",
        "from keras.layers import GRU\n",
        "import keras.backend as k\n",
        "from keras.callbacks import EarlyStopping, ModelCheckpoint\n",
        "from sklearn.metrics import mean_absolute_error, mean_squared_error, r2_score\n",
        "from math import sqrt, inf"
      ]
    },
    {
      "cell_type": "code",
      "execution_count": null,
      "metadata": {
        "id": "I6ZrWV9NpfPM",
        "colab": {
          "base_uri": "https://localhost:8080/"
        },
        "outputId": "417e3aae-4c6d-4e04-e5b8-80c4b1cfb0eb"
      },
      "outputs": [
        {
          "output_type": "stream",
          "name": "stdout",
          "text": [
            "NVIDIA-SMI has failed because it couldn't communicate with the NVIDIA driver. Make sure that the latest NVIDIA driver is installed and running.\n",
            "\n"
          ]
        }
      ],
      "source": [
        "!nvidia-smi"
      ]
    },
    {
      "cell_type": "code",
      "execution_count": null,
      "metadata": {
        "id": "Hu7vsRejtR_4"
      },
      "outputs": [],
      "source": [
        "# # check if GPU is utilized \n",
        "# device_name = tf.config.experimental.list_physical_devices()[-1][-1]\n",
        "# if device_name != 'GPU':\n",
        "#     raise SystemError('GPU device not found')\n",
        "# print('Found GPU at: {}'.format(tf.test.gpu_device_name()))"
      ]
    },
    {
      "cell_type": "code",
      "execution_count": 3,
      "metadata": {
        "id": "lVMp6qZiT9gO"
      },
      "outputs": [],
      "source": [
        "# Select the best features\n",
        "def select_features(df, target, correlation_type, threshold):\n",
        "    if (threshold < -1 ) | (threshold > 1 ) :\n",
        "            raise SystemError('correlation threshold is out of bounds')\n",
        "    features = df.corr(correlation_type).loc[target].drop(target)\n",
        "    best_features = features.where(abs(features) > threshold).dropna()\n",
        "    df = pd.concat([df[target], df[best_features.index]], axis=1)\n",
        "    return df\n",
        "\n",
        "# convert series to supervised learning using a sliding  window approach\n",
        "def series_to_supervised(data, columns, n_in=1, n_out=1, dropnan=True):\n",
        "    n_vars = 1 if type(data) is list else data.shape[1]\n",
        "    df = pd.DataFrame(data)\n",
        "    cols, names = list(), list()\n",
        "    # input sequence (t-n, ... t-1)\n",
        "    for i in range(n_in, 0, -1):\n",
        "        cols.append(df.shift(i))\n",
        "        names += [('%s(t-%d)' % (columns[j], i)) for j in range(n_vars)]\n",
        "        # forecast sequence (t, t+1, ... t+n)\n",
        "    for i in range(0, n_out):\n",
        "        cols.append(df.shift(-i))\n",
        "        if i == 0:\n",
        "            names += [('%s(t)' % (columns[j])) for j in range(n_vars)]\n",
        "        else:\n",
        "            names += [('%s(t+%d)' % (columns[j], i)) for j in range(n_vars)]\n",
        "    # put it all together\n",
        "    agg = pd.concat(cols, axis=1)\n",
        "    agg.columns = names\n",
        "    # drop rows with NaN values\n",
        "    if dropnan:\n",
        "        agg.dropna(inplace=True)\n",
        "    return agg\n",
        "\n",
        "# scale train and test data to new feature range[0, 1]\n",
        "def scale(train, test):\n",
        "\t# fit scaler\n",
        "\tscaler = MinMaxScaler(feature_range=(0, 1))\n",
        "\tscaler = scaler.fit(train)\n",
        "\t# transform train\n",
        "\ttrain = train.reshape(train.shape[0], train.shape[1])\n",
        "\ttrain_scaled = scaler.transform(train)\n",
        "\t# transform test\n",
        "\ttest = test.reshape(test.shape[0], test.shape[1])\n",
        "\ttest_scaled = scaler.transform(test)\n",
        "\treturn scaler, train_scaled, test_scaled\n",
        "\n",
        "#Evaluation metrics\n",
        "# compute RMSPE\n",
        "def RMSPE(x,y):\n",
        "\tresult=0\n",
        "\tfor i in range(len(x)):\n",
        "\t\tresult += ((x[i]-y[i])/x[i])**2\n",
        "\tresult /= len(x)\n",
        "\tresult = sqrt(result)\n",
        "\tresult *= 100\n",
        "\treturn result\n",
        "\n",
        "# compute MAPE\n",
        "def MAPE(x,y):\n",
        "\tresult=0\n",
        "\tfor i in range(len(x)):\n",
        "\t\tresult += abs((x[i]-y[i])/x[i])\n",
        "\tresult /= len(x)\n",
        "\tresult *= 100\n",
        "\treturn result\n",
        "\n",
        "# compute wMAPE weighted absolute percentage error\n",
        "def wMAPE(actual, predicted): \n",
        "    result_nom = 0\n",
        "    result_deno = 0\n",
        "    for i in range(len(actual)):\n",
        "        result_nom +=  abs(actual[i] - predicted[i])\n",
        "        result_deno +=  abs(actual[i]) \n",
        "    result = result_nom/result_deno\n",
        "    return result *100\n",
        "\n",
        "def SMAPE(actual, predicted): #Symmetric (adjusted) MEAN ABSOLUTE PERCENTAGE ERROR (SMAPE)\n",
        "    result = 0\n",
        "    for i in range(len(actual)):\n",
        "        result += abs(actual[i] - predicted[i])/(abs(actual[i]) + abs(predicted[i]))\n",
        "    result = 2 * result/ len(actual) \n",
        "    return result * 100"
      ]
    },
    {
      "cell_type": "code",
      "execution_count": 4,
      "metadata": {
        "id": "tRJsglCpLKHo",
        "colab": {
          "base_uri": "https://localhost:8080/"
        },
        "outputId": "940b3fc9-1b4f-43e1-89bc-cda28713877a"
      },
      "outputs": [
        {
          "output_type": "execute_result",
          "data": {
            "text/plain": [
              "(1907, 3)"
            ]
          },
          "metadata": {},
          "execution_count": 4
        }
      ],
      "source": [
        "#load dataset\n",
        "series = pd.read_csv('/content/drive/MyDrive/volve_production_data/model.csv', \n",
        "                     parse_dates=[\"DATEPRD\"], index_col=\"DATEPRD\")\n",
        "days = pd.Series(range(len(series),0, -1 ), index=series.index)\n",
        "series.insert(0, 'days', days)\n",
        "series['days(t)'] = series['days'].shift(-1)\n",
        "series[\"AVG_CHOKE_SIZE_P(t)\"] = series['AVG_CHOKE_SIZE_P'].shift(-1)\n",
        "series[\"ON_STREAM_HRS(t)\"] = series['ON_STREAM_HRS'].shift(-1)\n",
        "series['interaction_effect_onNext_oilRate'] = series[\"AVG_CHOKE_SIZE_P(t)\"]  * series[\"ON_STREAM_HRS(t)\"] * series['days(t)']\n",
        "series.dropna(inplace=True)\n",
        "# # select feature based on correlation\n",
        "# # series = select_features(series, \"BORE_OIL_VOL\", \"spearman\", 0.2)\n",
        "# # select features manually\n",
        "series =series[[\n",
        "                'interaction_effect_onNext_oilRate',\n",
        "                \"BORE_GAS_VOL\", \n",
        "                \"BORE_OIL_VOL\"\n",
        "                ]] \n",
        "series.shape    "
      ]
    },
    {
      "cell_type": "code",
      "source": [
        "#grid search \n",
        "def get_hyper_param(n_epochs, num_hidden_layers, num_neurons, batch_size, window_size):\n",
        "    \"\"\" \n",
        "    This is a grid search function that generates all possible comibinations\n",
        "    from the search space \n",
        "\n",
        "    Args:\n",
        "    n_epochs: number of epochs\n",
        "    num_hidden_layers: number of hidden layers\n",
        "    num_neurons: number of neurons same for both input and hidden layers \n",
        "    batch_size: number of batch size \n",
        "    window_size: historical timesteps in the sliding window\n",
        "    \n",
        "    \"\"\"\n",
        "    hyper_param = []\n",
        "    for current_params in itertools.product(n_epochs, num_hidden_layers, num_neurons, batch_size, window_size):\n",
        "        hyper_param.append(list(current_params))\n",
        "    return hyper_param\n",
        "\n",
        "# Seacrh space\n",
        "n_epochs = [500]\n",
        "num_hidden_layers = [1, 2]\n",
        "num_neurons = [20, 40, 80, 160]\n",
        "batch_size = [2, 4]\n",
        "window_size = [2, 4, 8]\n",
        "\n",
        "hyper_param = get_hyper_param(n_epochs, num_hidden_layers, num_neurons, batch_size, window_size)\n",
        "len(hyper_param)# print the number of combinations"
      ],
      "metadata": {
        "id": "D0EVoWtzzMsz",
        "colab": {
          "base_uri": "https://localhost:8080/"
        },
        "outputId": "7791896e-1ecf-4903-f29d-fff8df756b4e"
      },
      "execution_count": null,
      "outputs": [
        {
          "output_type": "execute_result",
          "data": {
            "text/plain": [
              "48"
            ]
          },
          "metadata": {},
          "execution_count": 4
        }
      ]
    },
    {
      "cell_type": "code",
      "source": [
        "# # run the model and repeat the evaluation to reduce the certainty asscoicated with the random initialization of model weights\n",
        "# def run_model(n_repeats = 1):\n",
        "#     scores = [fit_lstm() for _ in range(n_repeats)]\n",
        "#     result = pd.DataFrame(scores)\n",
        "#     result = result.groupby(\"best_params\").mean()\n",
        "#     return result"
      ],
      "metadata": {
        "id": "Zpnlrc0t52h5"
      },
      "execution_count": null,
      "outputs": []
    },
    {
      "cell_type": "code",
      "source": [
        "steps_ahead = 1  \n",
        "#     # Create a new directory in My Drive\n",
        "# directory = '/content/drive/My Drive/my_trained_models'\n",
        "# if not os.path.exists(directory):\n",
        "#     os.makedirs(directory)\n",
        "\n",
        "min_val_loss = inf \n",
        "for n_epochs, num_hidden_layers, num_neurons, batch_size, window_size in hyper_param:\n",
        "    print('n_epochs', n_epochs, 'num_hidden_layers', num_hidden_layers, 'num_neurons',\n",
        "            num_neurons, \"batch_size\", batch_size, 'window_size', window_size)\n",
        "    \n",
        "    # setting the session configurations for reproducibility.\n",
        "    os.environ[\"CUDA_DEVICE_ORDER\"] = \"PCI_BUS_ID\"  \n",
        "    os.environ[\"CUDA_VISIBLE_DEVICES\"] = \"\"\n",
        "    os.environ['PYTHONHASHSEED'] = '0'\n",
        "    np.random.seed(42)\n",
        "    np.random.seed(12345)\n",
        "    session_conf = tf.compat.v1.ConfigProto(intra_op_parallelism_threads=1,\n",
        "                                        inter_op_parallelism_threads=1)\n",
        "    from keras import backend as K\n",
        "    tf.random.set_seed(1234)\n",
        "    sess = tf.compat.v1.Session(graph=tf.compat.v1.get_default_graph(), \n",
        "                            config=session_conf)\n",
        "    K.set_session(sess)\n",
        "\n",
        "    #feature engineering\n",
        "    # # convert the stationary series to supervise learning\n",
        "    series_supervised = series_to_supervised(series, series.columns, n_in= window_size, n_out= steps_ahead, dropnan=True)   \n",
        "\n",
        "    # drop columns we don't want to predict\n",
        "    pattern = re.compile(r\"(t-)|^BORE_OIL_VOL.*\")\n",
        "    # Extract the column names that match the pattern\n",
        "    matching_columns = [col for col in series_supervised.columns if re.search(pattern, col)]\n",
        "    series_supervised = series_supervised[matching_columns]\n",
        "\n",
        "    # # split into train and test sets\n",
        "    series_supervised = series_supervised.values\n",
        "    train_size = int(series_supervised.shape[0] * 0.8)\n",
        "    test_size = series_supervised.shape[0] - train_size\n",
        "    train, test = series_supervised[0:train_size], series_supervised[train_size:]\n",
        "    # print(\"train.shape:\",train.shape, \"test.shape:\",test.shape)\n",
        "\n",
        "    # scale  the data to a feature range(0,1)\n",
        "    scaler, train_scaled, test_scaled = scale(train, test)\n",
        "    # print('train_scaled.shape:',train_scaled.shape, \"test_scaled.shape:\",test_scaled.shape)\n",
        "\n",
        "    # reshape input to be 3D [samples, window_size, features]\n",
        "    n_features = len(series.columns)\n",
        "    train_X, train_y = train_scaled[:, 0:-steps_ahead], train_scaled[:, -steps_ahead:]\n",
        "    train_X = train_X.reshape(train_X.shape[0], window_size, n_features)\n",
        "    test_X, test_y = test_scaled[:, 0:-steps_ahead], test_scaled[:, -steps_ahead:]\n",
        "    test_X = test_X.reshape(test_X.shape[0], window_size, n_features )\n",
        "    # print(\"train_X.shape:\",train_X.shape, \"train_y.shape:\",train_y.shape,\n",
        "    #         \"test_X.shape:\", test_X.shape,\"test_y.shape:\",test_y.shape)\n",
        "\n",
        "    # build the GRU model\n",
        "    model =  Sequential()\n",
        "\n",
        "    if num_hidden_layers == 1:\n",
        "        model.add(GRU(num_neurons, activation='tanh', input_shape = (window_size, n_features)))\n",
        "        \n",
        "    else:\n",
        "        for num in range(num_hidden_layers-1):\n",
        "            model.add(GRU(num_neurons,activation='tanh', input_shape =(window_size, n_features), return_sequences=True))        \n",
        "        model.add(GRU(num_neurons))\n",
        "\n",
        "\n",
        "    model.add(Dense(steps_ahead))\n",
        "    model.compile(loss='mean_squared_error',\n",
        "                optimizer=tf.keras.optimizers.Adam(learning_rate=0.0001))\n",
        "    #prevent overfitting\n",
        "    early_stopping = EarlyStopping(monitor='val_loss', patience=20, verbose=0,\n",
        "                                restore_best_weights=True, mode='min')\n",
        "\n",
        "    model.fit(train_X, train_y, epochs=n_epochs, batch_size=batch_size, callbacks = [early_stopping],\n",
        "                validation_data=(test_X, test_y), verbose=0, shuffle=False)\n",
        "    \n",
        "    current_val_loss = model.evaluate(test_X, test_y, verbose=2) #lstm_model.history['val_loss'][-1]\n",
        "    if current_val_loss < min_val_loss:\n",
        "        min_val_loss = current_val_loss\n",
        "        best_params = [n_epochs,  num_hidden_layers, num_neurons, batch_size, window_size]\n",
        "    \n",
        "print('final best params',\"n_epochs:\",best_params[0],\"num_hidden_layers:\",\n",
        "        best_params[1], \"num_neurons:\", best_params[2], \"batch_size:\", best_params[3],\n",
        "        \"window_size:\",best_params[4]) \n",
        "print(\"best_params\", str(best_params) , \"MSE:\",str(min_val_loss)) "
      ],
      "metadata": {
        "colab": {
          "base_uri": "https://localhost:8080/"
        },
        "id": "7lPUZyDQbe4Q",
        "outputId": "7254f1f3-ef42-467b-b902-ef7422e8f5d9"
      },
      "execution_count": null,
      "outputs": [
        {
          "output_type": "stream",
          "name": "stdout",
          "text": [
            "n_epochs 500 num_hidden_layers 1 num_neurons 20 batch_size 2 window_size 2\n",
            "12/12 - 0s - loss: 1.7650e-04 - 24ms/epoch - 2ms/step\n",
            "n_epochs 500 num_hidden_layers 1 num_neurons 20 batch_size 2 window_size 4\n",
            "12/12 - 0s - loss: 1.2669e-04 - 26ms/epoch - 2ms/step\n",
            "n_epochs 500 num_hidden_layers 1 num_neurons 20 batch_size 2 window_size 8\n",
            "12/12 - 0s - loss: 1.1548e-04 - 324ms/epoch - 27ms/step\n",
            "n_epochs 500 num_hidden_layers 1 num_neurons 20 batch_size 4 window_size 2\n",
            "12/12 - 0s - loss: 1.7746e-04 - 23ms/epoch - 2ms/step\n",
            "n_epochs 500 num_hidden_layers 1 num_neurons 20 batch_size 4 window_size 4\n",
            "12/12 - 0s - loss: 1.2212e-04 - 25ms/epoch - 2ms/step\n",
            "n_epochs 500 num_hidden_layers 1 num_neurons 20 batch_size 4 window_size 8\n",
            "12/12 - 0s - loss: 1.1575e-04 - 325ms/epoch - 27ms/step\n",
            "n_epochs 500 num_hidden_layers 1 num_neurons 40 batch_size 2 window_size 2\n",
            "12/12 - 0s - loss: 1.7740e-04 - 24ms/epoch - 2ms/step\n",
            "n_epochs 500 num_hidden_layers 1 num_neurons 40 batch_size 2 window_size 4\n",
            "12/12 - 0s - loss: 1.3351e-04 - 26ms/epoch - 2ms/step\n",
            "n_epochs 500 num_hidden_layers 1 num_neurons 40 batch_size 2 window_size 8\n",
            "12/12 - 0s - loss: 1.1598e-04 - 326ms/epoch - 27ms/step\n",
            "n_epochs 500 num_hidden_layers 1 num_neurons 40 batch_size 4 window_size 2\n",
            "12/12 - 0s - loss: 1.6593e-04 - 24ms/epoch - 2ms/step\n",
            "n_epochs 500 num_hidden_layers 1 num_neurons 40 batch_size 4 window_size 4\n",
            "12/12 - 0s - loss: 1.2338e-04 - 25ms/epoch - 2ms/step\n",
            "n_epochs 500 num_hidden_layers 1 num_neurons 40 batch_size 4 window_size 8\n",
            "12/12 - 0s - loss: 1.0948e-04 - 316ms/epoch - 26ms/step\n",
            "n_epochs 500 num_hidden_layers 1 num_neurons 80 batch_size 2 window_size 2\n",
            "12/12 - 0s - loss: 1.7053e-04 - 24ms/epoch - 2ms/step\n",
            "n_epochs 500 num_hidden_layers 1 num_neurons 80 batch_size 2 window_size 4\n",
            "12/12 - 0s - loss: 1.2693e-04 - 27ms/epoch - 2ms/step\n",
            "n_epochs 500 num_hidden_layers 1 num_neurons 80 batch_size 2 window_size 8\n",
            "12/12 - 0s - loss: 1.1968e-04 - 324ms/epoch - 27ms/step\n",
            "n_epochs 500 num_hidden_layers 1 num_neurons 80 batch_size 4 window_size 2\n",
            "12/12 - 0s - loss: 1.5427e-04 - 26ms/epoch - 2ms/step\n",
            "n_epochs 500 num_hidden_layers 1 num_neurons 80 batch_size 4 window_size 4\n",
            "12/12 - 0s - loss: 1.1928e-04 - 27ms/epoch - 2ms/step\n",
            "n_epochs 500 num_hidden_layers 1 num_neurons 80 batch_size 4 window_size 8\n",
            "12/12 - 0s - loss: 1.1452e-04 - 324ms/epoch - 27ms/step\n",
            "n_epochs 500 num_hidden_layers 1 num_neurons 160 batch_size 2 window_size 2\n",
            "12/12 - 0s - loss: 1.6718e-04 - 27ms/epoch - 2ms/step\n",
            "n_epochs 500 num_hidden_layers 1 num_neurons 160 batch_size 2 window_size 4\n",
            "12/12 - 0s - loss: 1.3278e-04 - 31ms/epoch - 3ms/step\n",
            "n_epochs 500 num_hidden_layers 1 num_neurons 160 batch_size 2 window_size 8\n",
            "12/12 - 0s - loss: 1.1518e-04 - 333ms/epoch - 28ms/step\n",
            "n_epochs 500 num_hidden_layers 1 num_neurons 160 batch_size 4 window_size 2\n",
            "12/12 - 0s - loss: 1.4521e-04 - 26ms/epoch - 2ms/step\n",
            "n_epochs 500 num_hidden_layers 1 num_neurons 160 batch_size 4 window_size 4\n",
            "12/12 - 0s - loss: 1.1925e-04 - 38ms/epoch - 3ms/step\n",
            "n_epochs 500 num_hidden_layers 1 num_neurons 160 batch_size 4 window_size 8\n",
            "12/12 - 0s - loss: 1.1428e-04 - 340ms/epoch - 28ms/step\n",
            "n_epochs 500 num_hidden_layers 2 num_neurons 20 batch_size 2 window_size 2\n",
            "12/12 - 0s - loss: 2.3367e-04 - 26ms/epoch - 2ms/step\n",
            "n_epochs 500 num_hidden_layers 2 num_neurons 20 batch_size 2 window_size 4\n",
            "12/12 - 0s - loss: 1.5203e-04 - 29ms/epoch - 2ms/step\n",
            "n_epochs 500 num_hidden_layers 2 num_neurons 20 batch_size 2 window_size 8\n",
            "12/12 - 1s - loss: 1.2745e-04 - 564ms/epoch - 47ms/step\n",
            "n_epochs 500 num_hidden_layers 2 num_neurons 20 batch_size 4 window_size 2\n",
            "12/12 - 0s - loss: 2.1287e-04 - 27ms/epoch - 2ms/step\n",
            "n_epochs 500 num_hidden_layers 2 num_neurons 20 batch_size 4 window_size 4\n",
            "12/12 - 0s - loss: 1.4561e-04 - 28ms/epoch - 2ms/step\n",
            "n_epochs 500 num_hidden_layers 2 num_neurons 20 batch_size 4 window_size 8\n",
            "12/12 - 1s - loss: 1.1932e-04 - 588ms/epoch - 49ms/step\n",
            "n_epochs 500 num_hidden_layers 2 num_neurons 40 batch_size 2 window_size 2\n",
            "12/12 - 0s - loss: 1.9881e-04 - 27ms/epoch - 2ms/step\n",
            "n_epochs 500 num_hidden_layers 2 num_neurons 40 batch_size 2 window_size 4\n",
            "12/12 - 0s - loss: 1.4179e-04 - 31ms/epoch - 3ms/step\n",
            "n_epochs 500 num_hidden_layers 2 num_neurons 40 batch_size 2 window_size 8\n",
            "12/12 - 1s - loss: 1.2040e-04 - 577ms/epoch - 48ms/step\n",
            "n_epochs 500 num_hidden_layers 2 num_neurons 40 batch_size 4 window_size 2\n",
            "12/12 - 0s - loss: 1.8538e-04 - 27ms/epoch - 2ms/step\n",
            "n_epochs 500 num_hidden_layers 2 num_neurons 40 batch_size 4 window_size 4\n",
            "12/12 - 0s - loss: 1.3810e-04 - 30ms/epoch - 2ms/step\n",
            "n_epochs 500 num_hidden_layers 2 num_neurons 40 batch_size 4 window_size 8\n",
            "12/12 - 1s - loss: 1.1363e-04 - 824ms/epoch - 69ms/step\n",
            "n_epochs 500 num_hidden_layers 2 num_neurons 80 batch_size 2 window_size 2\n",
            "12/12 - 0s - loss: 1.6594e-04 - 29ms/epoch - 2ms/step\n",
            "n_epochs 500 num_hidden_layers 2 num_neurons 80 batch_size 2 window_size 4\n",
            "12/12 - 0s - loss: 1.3374e-04 - 33ms/epoch - 3ms/step\n",
            "n_epochs 500 num_hidden_layers 2 num_neurons 80 batch_size 2 window_size 8\n",
            "12/12 - 1s - loss: 1.2093e-04 - 577ms/epoch - 48ms/step\n",
            "n_epochs 500 num_hidden_layers 2 num_neurons 80 batch_size 4 window_size 2\n",
            "12/12 - 0s - loss: 1.6429e-04 - 28ms/epoch - 2ms/step\n",
            "n_epochs 500 num_hidden_layers 2 num_neurons 80 batch_size 4 window_size 4\n",
            "12/12 - 0s - loss: 1.2338e-04 - 35ms/epoch - 3ms/step\n",
            "n_epochs 500 num_hidden_layers 2 num_neurons 80 batch_size 4 window_size 8\n",
            "12/12 - 1s - loss: 1.1196e-04 - 569ms/epoch - 47ms/step\n",
            "n_epochs 500 num_hidden_layers 2 num_neurons 160 batch_size 2 window_size 2\n",
            "12/12 - 0s - loss: 1.5641e-04 - 33ms/epoch - 3ms/step\n",
            "n_epochs 500 num_hidden_layers 2 num_neurons 160 batch_size 2 window_size 4\n",
            "12/12 - 0s - loss: 1.3828e-04 - 52ms/epoch - 4ms/step\n",
            "n_epochs 500 num_hidden_layers 2 num_neurons 160 batch_size 2 window_size 8\n",
            "12/12 - 1s - loss: 1.2437e-04 - 607ms/epoch - 51ms/step\n",
            "n_epochs 500 num_hidden_layers 2 num_neurons 160 batch_size 4 window_size 2\n",
            "12/12 - 0s - loss: 1.5288e-04 - 35ms/epoch - 3ms/step\n",
            "n_epochs 500 num_hidden_layers 2 num_neurons 160 batch_size 4 window_size 4\n",
            "12/12 - 0s - loss: 1.2487e-04 - 45ms/epoch - 4ms/step\n",
            "n_epochs 500 num_hidden_layers 2 num_neurons 160 batch_size 4 window_size 8\n",
            "12/12 - 1s - loss: 1.1729e-04 - 620ms/epoch - 52ms/step\n",
            "final best params n_epochs: 500 num_hidden_layers: 1 num_neurons: 40 batch_size: 4 window_size: 8\n",
            "best_params [500, 1, 40, 4, 8] MSE: 0.00010948238195851445\n"
          ]
        }
      ]
    },
    {
      "cell_type": "code",
      "source": [
        "# # # convert series to stationary \n",
        "series_diff = series.copy()\n",
        "# diff_order = 1\n",
        "# series_diff['BORE_OIL_VOL'] = series_diff['BORE_OIL_VOL'].diff(diff_order)\n",
        "steps_ahead = 1\n",
        "# Define window size and number of the steps ahead for forecasting\n",
        "n_epochs = 500\n",
        "num_hidden_layers = 1\n",
        "num_neurons = 40\n",
        "batch_size = 4\n",
        "window_size = 8\n",
        "\n",
        "# # convert the stationary series to supervise learning using sliding window approach\n",
        "series_supervised = series_to_supervised(series_diff, series_diff.columns, n_in= window_size, n_out= steps_ahead, dropnan=True)   \n",
        "\n",
        "# drop columns we don't want to predict\n",
        "pattern = re.compile(r\"(t-)|^BORE_OIL_VOL.*\")\n",
        "\n",
        "# Extract the column names that match the pattern\n",
        "matching_columns = [col for col in series_supervised.columns if re.search(pattern, col)]\n",
        "series_supervised = series_supervised[matching_columns]\n",
        "\n",
        "\n",
        "\n",
        "# # split into train and test sets\n",
        "n_features = int((len(series_supervised.columns) -steps_ahead)/window_size)\n",
        "series_supervised = series_supervised.values\n",
        "train_size = int(series_supervised.shape[0] * 0.8)\n",
        "test_size = series_supervised.shape[0] - train_size\n",
        "train, test = series_supervised[0:train_size], series_supervised[train_size:]\n",
        "print(\"train.shape:\",train.shape, \"test.shape:\",test.shape)\n",
        "\n",
        "# scale  the data to a feature range(0,1)\n",
        "scaler, train_scaled, test_scaled = scale(train, test)\n",
        "print('train_scaled.shape:',train_scaled.shape, \"test_scaled.shape:\",test_scaled.shape)\n",
        "\n",
        "# # reshape input to be 3D [samples, window_size, features]\n",
        "train_X, train_y = train_scaled[:, 0:-steps_ahead], train_scaled[:, -steps_ahead:]\n",
        "train_X = train_X.reshape(train_X.shape[0], window_size, n_features)\n",
        "test_X, test_y = test_scaled[:, 0:-steps_ahead], test_scaled[:, -steps_ahead:]\n",
        "test_X = test_X.reshape(test_X.shape[0], window_size, n_features )\n",
        "print(\"train_X.shape:\",train_X.shape, \"train_y.shape:\",train_y.shape,\n",
        "        \"test_X.shape:\", test_X.shape,\"test_y.shape:\",test_y.shape)\n",
        "\n",
        "\n",
        "\n",
        "\n",
        "\n",
        "# setting the session configurations for reproducibility.\n",
        "os.environ[\"CUDA_DEVICE_ORDER\"] = \"PCI_BUS_ID\"  \n",
        "os.environ[\"CUDA_VISIBLE_DEVICES\"] = \"\"\n",
        "os.environ['PYTHONHASHSEED'] = '0'\n",
        "np.random.seed(42)\n",
        "np.random.seed(12345)\n",
        "session_conf = tf.compat.v1.ConfigProto(intra_op_parallelism_threads=1,\n",
        "                                        inter_op_parallelism_threads=1)\n",
        "from keras import backend as K\n",
        "tf.random.set_seed(1234)\n",
        "sess = tf.compat.v1.Session(graph=tf.compat.v1.get_default_graph(), \n",
        "                            config=session_conf)\n",
        "K.set_session(sess)\n",
        "\n",
        "model =  Sequential()\n",
        "\n",
        "if num_hidden_layers == 1:\n",
        "    model.add(GRU(num_neurons, activation='tanh', input_shape = (window_size, n_features)))\n",
        "    \n",
        "else:\n",
        "    for num in range(num_hidden_layers-1):\n",
        "        model.add(GRU(num_neurons,activation='tanh', input_shape =(window_size, n_features), return_sequences=True))        \n",
        "    model.add(GRU(num_neurons))\n",
        "        \n",
        "model.add(Dense(steps_ahead))\n",
        "model.compile(loss='mean_squared_error',\n",
        "            optimizer=tf.keras.optimizers.Adam(learning_rate=0.0001))\n",
        "#prevent overfitting\n",
        "early_stopping = EarlyStopping(monitor='val_loss', patience=20, verbose=0,\n",
        "                            restore_best_weights=True, mode='min')\n",
        "\n",
        "history = model.fit(train_X, train_y, epochs=n_epochs, batch_size=batch_size, callbacks = [early_stopping],\n",
        "            validation_data=(test_X, test_y), verbose=2, shuffle=False)\n",
        "model.evaluate(test_X, test_y)"
      ],
      "metadata": {
        "colab": {
          "base_uri": "https://localhost:8080/"
        },
        "id": "m5HvpT9fISce",
        "outputId": "195aa6bb-e243-44a4-8530-690232003e2e"
      },
      "execution_count": 5,
      "outputs": [
        {
          "output_type": "stream",
          "name": "stdout",
          "text": [
            "train.shape: (1519, 25) test.shape: (380, 25)\n",
            "train_scaled.shape: (1519, 25) test_scaled.shape: (380, 25)\n",
            "train_X.shape: (1519, 8, 3) train_y.shape: (1519, 1) test_X.shape: (380, 8, 3) test_y.shape: (380, 1)\n",
            "Epoch 1/500\n",
            "380/380 - 5s - loss: 0.2204 - val_loss: 0.0101 - 5s/epoch - 13ms/step\n",
            "Epoch 2/500\n",
            "380/380 - 2s - loss: 0.0277 - val_loss: 0.0103 - 2s/epoch - 5ms/step\n",
            "Epoch 3/500\n",
            "380/380 - 2s - loss: 0.0194 - val_loss: 0.0063 - 2s/epoch - 5ms/step\n",
            "Epoch 4/500\n",
            "380/380 - 2s - loss: 0.0162 - val_loss: 0.0039 - 2s/epoch - 5ms/step\n",
            "Epoch 5/500\n",
            "380/380 - 2s - loss: 0.0140 - val_loss: 0.0024 - 2s/epoch - 5ms/step\n",
            "Epoch 6/500\n",
            "380/380 - 2s - loss: 0.0123 - val_loss: 0.0016 - 2s/epoch - 6ms/step\n",
            "Epoch 7/500\n",
            "380/380 - 3s - loss: 0.0110 - val_loss: 0.0011 - 3s/epoch - 9ms/step\n",
            "Epoch 8/500\n",
            "380/380 - 3s - loss: 0.0100 - val_loss: 8.4207e-04 - 3s/epoch - 7ms/step\n",
            "Epoch 9/500\n",
            "380/380 - 2s - loss: 0.0091 - val_loss: 6.7423e-04 - 2s/epoch - 6ms/step\n",
            "Epoch 10/500\n",
            "380/380 - 2s - loss: 0.0083 - val_loss: 5.6761e-04 - 2s/epoch - 5ms/step\n",
            "Epoch 11/500\n",
            "380/380 - 2s - loss: 0.0076 - val_loss: 4.9556e-04 - 2s/epoch - 5ms/step\n",
            "Epoch 12/500\n",
            "380/380 - 2s - loss: 0.0070 - val_loss: 4.4341e-04 - 2s/epoch - 5ms/step\n",
            "Epoch 13/500\n",
            "380/380 - 2s - loss: 0.0064 - val_loss: 4.0261e-04 - 2s/epoch - 6ms/step\n",
            "Epoch 14/500\n",
            "380/380 - 2s - loss: 0.0059 - val_loss: 3.6772e-04 - 2s/epoch - 6ms/step\n",
            "Epoch 15/500\n",
            "380/380 - 2s - loss: 0.0054 - val_loss: 3.3519e-04 - 2s/epoch - 6ms/step\n",
            "Epoch 16/500\n",
            "380/380 - 2s - loss: 0.0050 - val_loss: 3.0324e-04 - 2s/epoch - 6ms/step\n",
            "Epoch 17/500\n",
            "380/380 - 2s - loss: 0.0046 - val_loss: 2.7182e-04 - 2s/epoch - 5ms/step\n",
            "Epoch 18/500\n",
            "380/380 - 2s - loss: 0.0042 - val_loss: 2.4204e-04 - 2s/epoch - 5ms/step\n",
            "Epoch 19/500\n",
            "380/380 - 2s - loss: 0.0039 - val_loss: 2.1512e-04 - 2s/epoch - 6ms/step\n",
            "Epoch 20/500\n",
            "380/380 - 2s - loss: 0.0036 - val_loss: 1.9187e-04 - 2s/epoch - 6ms/step\n",
            "Epoch 21/500\n",
            "380/380 - 2s - loss: 0.0034 - val_loss: 1.7253e-04 - 2s/epoch - 6ms/step\n",
            "Epoch 22/500\n",
            "380/380 - 2s - loss: 0.0032 - val_loss: 1.5695e-04 - 2s/epoch - 5ms/step\n",
            "Epoch 23/500\n",
            "380/380 - 2s - loss: 0.0030 - val_loss: 1.4469e-04 - 2s/epoch - 6ms/step\n",
            "Epoch 24/500\n",
            "380/380 - 2s - loss: 0.0028 - val_loss: 1.3524e-04 - 2s/epoch - 5ms/step\n",
            "Epoch 25/500\n",
            "380/380 - 2s - loss: 0.0027 - val_loss: 1.2808e-04 - 2s/epoch - 5ms/step\n",
            "Epoch 26/500\n",
            "380/380 - 2s - loss: 0.0026 - val_loss: 1.2274e-04 - 2s/epoch - 5ms/step\n",
            "Epoch 27/500\n",
            "380/380 - 2s - loss: 0.0025 - val_loss: 1.1880e-04 - 2s/epoch - 7ms/step\n",
            "Epoch 28/500\n",
            "380/380 - 2s - loss: 0.0025 - val_loss: 1.1594e-04 - 2s/epoch - 5ms/step\n",
            "Epoch 29/500\n",
            "380/380 - 2s - loss: 0.0024 - val_loss: 1.1388e-04 - 2s/epoch - 5ms/step\n",
            "Epoch 30/500\n",
            "380/380 - 2s - loss: 0.0024 - val_loss: 1.1242e-04 - 2s/epoch - 5ms/step\n",
            "Epoch 31/500\n",
            "380/380 - 2s - loss: 0.0023 - val_loss: 1.1139e-04 - 2s/epoch - 5ms/step\n",
            "Epoch 32/500\n",
            "380/380 - 2s - loss: 0.0023 - val_loss: 1.1069e-04 - 2s/epoch - 5ms/step\n",
            "Epoch 33/500\n",
            "380/380 - 2s - loss: 0.0022 - val_loss: 1.1020e-04 - 2s/epoch - 5ms/step\n",
            "Epoch 34/500\n",
            "380/380 - 2s - loss: 0.0022 - val_loss: 1.0988e-04 - 2s/epoch - 6ms/step\n",
            "Epoch 35/500\n",
            "380/380 - 2s - loss: 0.0022 - val_loss: 1.0968e-04 - 2s/epoch - 6ms/step\n",
            "Epoch 36/500\n",
            "380/380 - 2s - loss: 0.0022 - val_loss: 1.0956e-04 - 2s/epoch - 5ms/step\n",
            "Epoch 37/500\n",
            "380/380 - 2s - loss: 0.0021 - val_loss: 1.0950e-04 - 2s/epoch - 5ms/step\n",
            "Epoch 38/500\n",
            "380/380 - 2s - loss: 0.0021 - val_loss: 1.0948e-04 - 2s/epoch - 5ms/step\n",
            "Epoch 39/500\n",
            "380/380 - 2s - loss: 0.0021 - val_loss: 1.0950e-04 - 2s/epoch - 5ms/step\n",
            "Epoch 40/500\n",
            "380/380 - 2s - loss: 0.0021 - val_loss: 1.0954e-04 - 2s/epoch - 5ms/step\n",
            "Epoch 41/500\n",
            "380/380 - 2s - loss: 0.0021 - val_loss: 1.0960e-04 - 2s/epoch - 5ms/step\n",
            "Epoch 42/500\n",
            "380/380 - 2s - loss: 0.0020 - val_loss: 1.0968e-04 - 2s/epoch - 6ms/step\n",
            "Epoch 43/500\n",
            "380/380 - 2s - loss: 0.0020 - val_loss: 1.0977e-04 - 2s/epoch - 5ms/step\n",
            "Epoch 44/500\n",
            "380/380 - 2s - loss: 0.0020 - val_loss: 1.0986e-04 - 2s/epoch - 5ms/step\n",
            "Epoch 45/500\n",
            "380/380 - 2s - loss: 0.0020 - val_loss: 1.0997e-04 - 2s/epoch - 6ms/step\n",
            "Epoch 46/500\n",
            "380/380 - 2s - loss: 0.0020 - val_loss: 1.1009e-04 - 2s/epoch - 5ms/step\n",
            "Epoch 47/500\n",
            "380/380 - 2s - loss: 0.0020 - val_loss: 1.1021e-04 - 2s/epoch - 6ms/step\n",
            "Epoch 48/500\n",
            "380/380 - 2s - loss: 0.0020 - val_loss: 1.1033e-04 - 2s/epoch - 5ms/step\n",
            "Epoch 49/500\n",
            "380/380 - 2s - loss: 0.0019 - val_loss: 1.1046e-04 - 2s/epoch - 5ms/step\n",
            "Epoch 50/500\n",
            "380/380 - 2s - loss: 0.0019 - val_loss: 1.1059e-04 - 2s/epoch - 6ms/step\n",
            "Epoch 51/500\n",
            "380/380 - 2s - loss: 0.0019 - val_loss: 1.1072e-04 - 2s/epoch - 5ms/step\n",
            "Epoch 52/500\n",
            "380/380 - 2s - loss: 0.0019 - val_loss: 1.1085e-04 - 2s/epoch - 5ms/step\n",
            "Epoch 53/500\n",
            "380/380 - 2s - loss: 0.0019 - val_loss: 1.1098e-04 - 2s/epoch - 5ms/step\n",
            "Epoch 54/500\n",
            "380/380 - 2s - loss: 0.0019 - val_loss: 1.1112e-04 - 2s/epoch - 5ms/step\n",
            "Epoch 55/500\n",
            "380/380 - 2s - loss: 0.0019 - val_loss: 1.1125e-04 - 2s/epoch - 5ms/step\n",
            "Epoch 56/500\n",
            "380/380 - 2s - loss: 0.0019 - val_loss: 1.1138e-04 - 2s/epoch - 5ms/step\n",
            "Epoch 57/500\n",
            "380/380 - 2s - loss: 0.0019 - val_loss: 1.1151e-04 - 2s/epoch - 5ms/step\n",
            "Epoch 58/500\n",
            "380/380 - 2s - loss: 0.0018 - val_loss: 1.1165e-04 - 2s/epoch - 5ms/step\n",
            "12/12 [==============================] - 0s 3ms/step - loss: 1.0948e-04\n"
          ]
        },
        {
          "output_type": "execute_result",
          "data": {
            "text/plain": [
              "0.00010948238195851445"
            ]
          },
          "metadata": {},
          "execution_count": 5
        }
      ]
    },
    {
      "cell_type": "code",
      "source": [
        "model.summary()"
      ],
      "metadata": {
        "colab": {
          "base_uri": "https://localhost:8080/"
        },
        "id": "wseKrG8kmgr9",
        "outputId": "91d561f7-a6cc-4d8a-f06b-57cb03483141"
      },
      "execution_count": 6,
      "outputs": [
        {
          "output_type": "stream",
          "name": "stdout",
          "text": [
            "Model: \"sequential\"\n",
            "_________________________________________________________________\n",
            " Layer (type)                Output Shape              Param #   \n",
            "=================================================================\n",
            " gru (GRU)                   (None, 40)                5400      \n",
            "                                                                 \n",
            " dense (Dense)               (None, 1)                 41        \n",
            "                                                                 \n",
            "=================================================================\n",
            "Total params: 5,441\n",
            "Trainable params: 5,441\n",
            "Non-trainable params: 0\n",
            "_________________________________________________________________\n"
          ]
        }
      ]
    },
    {
      "cell_type": "code",
      "execution_count": 7,
      "metadata": {
        "colab": {
          "base_uri": "https://localhost:8080/",
          "height": 374
        },
        "id": "Om2PkqgiVjri",
        "outputId": "9bf84d5c-2d9f-4ea5-cf4c-65a9078e8a23"
      },
      "outputs": [
        {
          "output_type": "display_data",
          "data": {
            "text/plain": [
              "<Figure size 1296x432 with 1 Axes>"
            ],
            "image/png": "[encoded data removed]"
          },
          "metadata": {
            "needs_background": "light"
          }
        }
      ],
      "source": [
        "fig, ax = plt.subplots(1, 1, figsize=(18,6)) \n",
        "ax.xaxis.set_major_locator(plt.MultipleLocator(5))\n",
        "plt.plot(history.history['val_loss'], label='test loss')\n",
        "plt.legend(fontsize=15)\n",
        "plt.show()"
      ]
    },
    {
      "cell_type": "markdown",
      "metadata": {
        "id": "SHohbk8uYRIh"
      },
      "source": [
        "**MinMax Scaler equation**\n",
        "$$x' = \\frac{(x - min)}{(max - min)} \\times (new\\ max\\ value - new\\ min\\  value) + new\\ min\\ value$$<br/>\n",
        "\n",
        "\n",
        "$$x = \\frac{(max - min)\\times (new\\ min\\ value + x') + (new\\ max\\ value - new\\ min\\ value)\\times min}{new\\ max\\ value - new\\ min\\ value}$$\n",
        "\n",
        "Where:\n",
        "\n",
        "$x$ is the inverse scaled value\n",
        "$x'$ is the scaled value\n",
        "$min$ is the minimum value of the original data\n",
        "$max$ is the maximum value of the original data.<br/>\n",
        "$new\\ max\\ value$ and $new\\ min\\ value$ is the new range that we want to scale the data to. For example: $(1,0)\\ or\\ (1,-1)$"
      ]
    },
    {
      "cell_type": "code",
      "execution_count": 8,
      "metadata": {
        "colab": {
          "base_uri": "https://localhost:8080/"
        },
        "id": "dZ3IIvIhvHaz",
        "outputId": "2d18d617-8c99-4d16-87a0-055e1a80e98e"
      },
      "outputs": [
        {
          "output_type": "stream",
          "name": "stdout",
          "text": [
            "12/12 [==============================] - 0s 3ms/step\n"
          ]
        }
      ],
      "source": [
        "# make a prediction \n",
        "# select the number of obersvtions for prediction\n",
        "n_obs = len(test)\n",
        "yhat = model.predict(test_X[-n_obs:], verbose=1)\n",
        "\n",
        "\n",
        "# invert scaling \n",
        "scaled_y = pd.DataFrame(test_y)\n",
        "scaled_yhat = pd.DataFrame(yhat) ## ravel () converting into 1D array\n",
        "#obtain the min and max from the training set\n",
        "unscaled_train = pd.DataFrame(series_supervised[:len(train)])\n",
        "#new feature range\n",
        "new_max_value = 1 \n",
        "new_min_value= 0\n",
        "feature_range = new_max_value - new_min_value\n",
        "\n",
        "def transform_column(column):\n",
        "    min_value = min(unscaled_train.iloc[:, -steps_ahead + column.name])\n",
        "    max_value = max(unscaled_train.iloc[:, -steps_ahead + column.name])\n",
        "    return ((max_value - min_value) * (new_min_value + column) + (feature_range  * min_value)) / feature_range \n",
        "    \n",
        "# invert scaling for actual\n",
        "inv_scale_y = scaled_y.apply(transform_column, axis=0)\n",
        "inv_scale_y = inv_scale_y.values\n",
        "# invert scaling for forecast\n",
        "inv_scale_yhat = scaled_yhat.apply(transform_column, axis=0)\n",
        "inv_scale_yhat = inv_scale_yhat.values"
      ]
    },
    {
      "cell_type": "code",
      "source": [
        "# Performance evaluation\n",
        "y = inv_scale_y[np.where(inv_scale_y != 0 )]\n",
        "yhat = inv_scale_yhat[np.where(inv_scale_y != 0 )]\n",
        "\n",
        "rmse_test = sqrt(mean_squared_error(y, yhat))\n",
        "print('Test RMSE: %.5f' % rmse_test)\n",
        "MAE_test = mean_absolute_error(y, yhat)\n",
        "print('Test MAE: %.5f' % MAE_test)\n",
        "r2 = r2_score(y, yhat)\n",
        "print('Test r2: %.5f' % r2)\n",
        "wMAPE_test = wMAPE(y, yhat)\n",
        "print('Test wMAPE: %.5f ' % wMAPE_test)"
      ],
      "metadata": {
        "colab": {
          "base_uri": "https://localhost:8080/"
        },
        "id": "IlVgGWQUmo-d",
        "outputId": "f662b850-6a63-47c7-9962-7c169281a4b7"
      },
      "execution_count": 9,
      "outputs": [
        {
          "output_type": "stream",
          "name": "stdout",
          "text": [
            "Test RMSE: 209.11223\n",
            "Test MAE: 123.78960\n",
            "Test r2: 0.90682\n",
            "Test wMAPE: 5.33423 \n"
          ]
        }
      ]
    },
    {
      "cell_type": "code",
      "source": [
        "plt.figure(figsize=(18,10))\n",
        "plt.plot(yhat, label = \"predicted\")\n",
        "plt.plot(y, label = \"actual\")\n",
        "plt.legend()\n",
        "plt.show()"
      ],
      "metadata": {
        "colab": {
          "base_uri": "https://localhost:8080/",
          "height": 592
        },
        "id": "DN3ol2Wi7hgt",
        "outputId": "ef077bbd-a197-4f15-96f9-c96d170749a7"
      },
      "execution_count": 10,
      "outputs": [
        {
          "output_type": "display_data",
          "data": {
            "text/plain": [
              "<Figure size 1296x720 with 1 Axes>"
            ],
            "image/png": "[encoded data removed]"
          },
          "metadata": {
            "needs_background": "light"
          }
        }
      ]
    }
  ],
  "metadata": {
    "colab": {
      "provenance": [],
      "mount_file_id": "1eAPY0s2998P-PSZXtiKekMT2i7p1jp_s",
      "authorship_tag": "ABX9TyPAv3skWRYKY5sJ+WdYdd8p",
      "include_colab_link": true
    },
    "gpuClass": "standard",
    "kernelspec": {
      "display_name": "Python 3",
      "name": "python3"
    },
    "language_info": {
      "name": "python"
    },
    "accelerator": "GPU"
  },
  "nbformat": 4,
  "nbformat_minor": 0
}