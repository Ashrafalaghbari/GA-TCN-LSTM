{
  "cells": [
    {
      "cell_type": "markdown",
      "metadata": {
        "id": "view-in-github",
        "colab_type": "text"
      },
      "source": [
        "<a href=\"https://colab.research.google.com/github/Ashrafalaghbari/Mutivariate-long-term-forecasting-of-oil-production/blob/main/multivariate_model_multistep.ipynb\" target=\"_parent\"><img src=\"https://colab.research.google.com/assets/colab-badge.svg\" alt=\"Open In Colab\"/></a>"
      ]
    },
    {
      "cell_type": "code",
      "execution_count": 1,
      "metadata": {
        "colab": {
          "base_uri": "https://localhost:8080/",
          "height": 34
        },
        "id": "x1LrkoSv4cc7",
        "outputId": "72c43662-dc5b-4d92-afd6-d10f46931145"
      },
      "outputs": [
        {
          "output_type": "display_data",
          "data": {
            "application/javascript": [
              "IPython.notebook.set_autosave_interval(60000)"
            ]
          },
          "metadata": {}
        },
        {
          "output_type": "stream",
          "name": "stdout",
          "text": [
            "Autosaving every 60 seconds\n"
          ]
        }
      ],
      "source": [
        "%autosave 60"
      ]
    },
    {
      "cell_type": "code",
      "execution_count": 2,
      "metadata": {
        "id": "XxzUA1Pg4iEU"
      },
      "outputs": [],
      "source": [
        "import numpy as np\n",
        "import pandas as pd\n",
        "from sklearn.metrics import mean_absolute_error, mean_squared_error, r2_score\n",
        "import tensorflow as tf\n",
        "from keras.models import Sequential\n",
        "from keras.layers import Dense,Dropout\n",
        "from keras.layers import LSTM\n",
        "from sklearn.preprocessing import MinMaxScaler\n",
        "from keras.models import Sequential\n",
        "from keras.layers import Dense,Dropout\n",
        "from math import sqrt\n",
        "import matplotlib.pyplot as plt"
      ]
    },
    {
      "cell_type": "code",
      "execution_count": 3,
      "metadata": {
        "id": "lVMp6qZiT9gO"
      },
      "outputs": [],
      "source": [
        "# convert series to supervised learning\n",
        "def series_to_supervised(data, columns, n_in=1, n_out=1, dropnan=True):\n",
        "    n_vars = 1 if type(data) is list else data.shape[1]\n",
        "    df = pd.DataFrame(data)\n",
        "    cols, names = list(), list()\n",
        "    # input sequence (t-n, ... t-1)\n",
        "    for i in range(n_in, 0, -1):\n",
        "        cols.append(df.shift(i))\n",
        "        names += [('%s(t-%d)' % (columns[j], i)) for j in range(n_vars)]\n",
        "        # forecast sequence (t, t+1, ... t+n)\n",
        "    for i in range(0, n_out):\n",
        "        cols.append(df.shift(-i))\n",
        "        if i == 0:\n",
        "            names += [('%s(t)' % (columns[j])) for j in range(n_vars)]\n",
        "        else:\n",
        "            names += [('%s(t+%d)' % (columns[j], i)) for j in range(n_vars)]\n",
        "    # put it all together\n",
        "    agg = pd.concat(cols, axis=1)\n",
        "    agg.columns = names\n",
        "    # drop rows with NaN values\n",
        "    if dropnan:\n",
        "        agg.dropna(inplace=True)\n",
        "    return agg\n",
        "\n",
        "# scale train and test data to [0, 1]\n",
        "def scale(train, test):\n",
        "\t# fit scaler\n",
        "\tscaler = MinMaxScaler(feature_range=(0, 1))\n",
        "\tscaler = scaler.fit(train)\n",
        "\t# transform train\n",
        "\ttrain = train.reshape(train.shape[0], train.shape[1])\n",
        "\ttrain_scaled = scaler.transform(train)\n",
        "\t# transform test\n",
        "\ttest = test.reshape(test.shape[0], test.shape[1])\n",
        "\ttest_scaled = scaler.transform(test)\n",
        "\treturn scaler, train_scaled, test_scaled\n",
        "\n",
        "\n",
        "# inverse differencing\n",
        "def inverse_difference(history, interval=1):\n",
        "\treturn history[-len(test_scaled)-interval:-interval]\n"
      ]
    },
    {
      "cell_type": "code",
      "execution_count": 4,
      "metadata": {
        "id": "sX-FCHP3Hy7E"
      },
      "outputs": [],
      "source": [
        "#Evaluation metrics\n",
        "# compute RMSPE\n",
        "def RMSPE(x,y):\n",
        "\tresult=0\n",
        "\tfor i in range(len(x)):\n",
        "\t\tresult += ((x[i]-y[i])/x[i])**2\n",
        "\tresult /= len(x)\n",
        "\tresult = sqrt(result)\n",
        "\tresult *= 100\n",
        "\treturn result\n",
        "\n",
        "# compute MAPE\n",
        "def MAPE(x,y):\n",
        "\tresult=0\n",
        "\tfor i in range(len(x)):\n",
        "\t\tresult += abs((x[i]-y[i])/x[i])\n",
        "\tresult /= len(x)\n",
        "\tresult *= 100\n",
        "\treturn result\n",
        "\n",
        "# compute wMAPE weighted absolute percentage error\n",
        "def wMAPE(actual, predicted): \n",
        "    result_nom = 0\n",
        "    result_deno = 0\n",
        "    for i in range(len(actual)):\n",
        "        result_nom +=  abs(actual[i] - predicted[i])\n",
        "        result_deno +=  abs(actual[i]) \n",
        "    result = result_nom/result_deno\n",
        "    return result *100\n",
        "\n",
        "def SMAPE(actual, predicted): #adjusted MEAN ABSOLUTE PERCENTAGE ERROR (SMAPE)\n",
        "    result = 0\n",
        "    for i in range(len(actual)):\n",
        "        result += abs(actual[i] - predicted[i])/(abs(actual[i]) + abs(predicted[i]))\n",
        "    result = 2* result/ len(actual) \n",
        "    return result * 100"
      ]
    },
    {
      "cell_type": "code",
      "source": [
        "colum = pd.read_csv('/content/drive/MyDrive/volve_production_data/model.csv')\n",
        "colum.columns"
      ],
      "metadata": {
        "colab": {
          "base_uri": "https://localhost:8080/"
        },
        "id": "RNb6b1BBNzD9",
        "outputId": "e02b1be8-3dd5-4cf6-db5f-bf79b47bd7aa"
      },
      "execution_count": 5,
      "outputs": [
        {
          "output_type": "execute_result",
          "data": {
            "text/plain": [
              "Index(['DATEPRD', 'BORE_OIL_VOL', 'ON_STREAM_HRS', 'AVG_DOWNHOLE_PRESSURE',\n",
              "       'AVG_DOWNHOLE_TEMPERATURE', 'AVG_CHOKE_SIZE_P', 'AVG_WHP_P',\n",
              "       'AVG_WHT_P', 'DP_CHOKE_SIZE', 'BORE_GAS_VOL', 'BORE_WAT_VOL',\n",
              "       'F_4_ON_STREAM_HRS', 'F_4_BORE_WI_VOL', 'F_5_ON_STREAM_HRS',\n",
              "       'F_5_BORE_WI_VOL'],\n",
              "      dtype='object')"
            ]
          },
          "metadata": {},
          "execution_count": 5
        }
      ]
    },
    {
      "cell_type": "code",
      "execution_count": 6,
      "metadata": {
        "id": "lu0tOwl84Xln"
      },
      "outputs": [],
      "source": [
        "#load dataset\n",
        "series = pd.read_csv('/content/drive/MyDrive/volve_production_data/model.csv',\n",
        "                     usecols=[\"DATEPRD\",'AVG_CHOKE_SIZE_P','AVG_DOWNHOLE_PRESSURE','AVG_DOWNHOLE_TEMPERATURE',\n",
        "                              'ON_STREAM_HRS','AVG_WHP_P','AVG_WHT_P','F_4_BORE_WI_VOL','F_5_BORE_WI_VOL',\n",
        "                              'DP_CHOKE_SIZE', 'BORE_GAS_VOL', 'BORE_WAT_VOL',\n",
        "                              \"BORE_OIL_VOL\"],\n",
        "                  parse_dates=[\"DATEPRD\"], index_col=\"DATEPRD\")\n",
        "# =series[[\"ON_STREAM_HRS\",'AVG_CHOKE_SIZE_P', \"BORE_OIL_VOL\"]] # change the order of BORE_OIL_VOL\n",
        "#series =series[[\"ON_STREAM_HRS\", \"BORE_OIL_VOL\"]] # chan"
      ]
    },
    {
      "cell_type": "code",
      "source": [
        "column_to_move = series.pop(\"BORE_OIL_VOL\")\n",
        "\n",
        "# insert column with insert(location, column_name, column_value)\n",
        "\n",
        "series.insert(len(series.columns), \"BORE_OIL_VOL\", column_to_move)"
      ],
      "metadata": {
        "id": "rEvzyzwpkkLr"
      },
      "execution_count": 7,
      "outputs": []
    },
    {
      "cell_type": "code",
      "source": [
        "series = series.iloc[:80]\n",
        "series.shape"
      ],
      "metadata": {
        "colab": {
          "base_uri": "https://localhost:8080/"
        },
        "id": "PKimF-JdZSUV",
        "outputId": "c504f106-225f-4d9e-d846-c0b04158abab"
      },
      "execution_count": 8,
      "outputs": [
        {
          "output_type": "execute_result",
          "data": {
            "text/plain": [
              "(80, 12)"
            ]
          },
          "metadata": {},
          "execution_count": 8
        }
      ]
    },
    {
      "cell_type": "code",
      "source": [
        "series.corr().iloc[:,-1] #200"
      ],
      "metadata": {
        "colab": {
          "base_uri": "https://localhost:8080/"
        },
        "id": "6bHnnyU0E1T2",
        "outputId": "ee8e43c5-9b16-45c2-ca92-36f5ac851812"
      },
      "execution_count": 9,
      "outputs": [
        {
          "output_type": "execute_result",
          "data": {
            "text/plain": [
              "ON_STREAM_HRS               0.901937\n",
              "AVG_DOWNHOLE_PRESSURE      -0.660922\n",
              "AVG_DOWNHOLE_TEMPERATURE    0.328251\n",
              "AVG_CHOKE_SIZE_P            0.886013\n",
              "AVG_WHP_P                  -0.840031\n",
              "AVG_WHT_P                   0.684491\n",
              "DP_CHOKE_SIZE              -0.844902\n",
              "BORE_GAS_VOL                0.997736\n",
              "BORE_WAT_VOL                0.716904\n",
              "F_4_BORE_WI_VOL             0.653387\n",
              "F_5_BORE_WI_VOL             0.582954\n",
              "BORE_OIL_VOL                1.000000\n",
              "Name: BORE_OIL_VOL, dtype: float64"
            ]
          },
          "metadata": {},
          "execution_count": 9
        }
      ]
    },
    {
      "cell_type": "code",
      "source": [
        "series.corr().iloc[:,-1] #80 "
      ],
      "metadata": {
        "colab": {
          "base_uri": "https://localhost:8080/"
        },
        "id": "ZPHs8hGkZy6T",
        "outputId": "9791d934-fc2c-449f-a665-814bd7d901c3"
      },
      "execution_count": 10,
      "outputs": [
        {
          "output_type": "execute_result",
          "data": {
            "text/plain": [
              "ON_STREAM_HRS               0.901937\n",
              "AVG_DOWNHOLE_PRESSURE      -0.660922\n",
              "AVG_DOWNHOLE_TEMPERATURE    0.328251\n",
              "AVG_CHOKE_SIZE_P            0.886013\n",
              "AVG_WHP_P                  -0.840031\n",
              "AVG_WHT_P                   0.684491\n",
              "DP_CHOKE_SIZE              -0.844902\n",
              "BORE_GAS_VOL                0.997736\n",
              "BORE_WAT_VOL                0.716904\n",
              "F_4_BORE_WI_VOL             0.653387\n",
              "F_5_BORE_WI_VOL             0.582954\n",
              "BORE_OIL_VOL                1.000000\n",
              "Name: BORE_OIL_VOL, dtype: float64"
            ]
          },
          "metadata": {},
          "execution_count": 10
        }
      ]
    },
    {
      "cell_type": "code",
      "source": [
        "series.info()"
      ],
      "metadata": {
        "colab": {
          "base_uri": "https://localhost:8080/"
        },
        "id": "1yLl6ndCEm2n",
        "outputId": "7eba4cac-6109-4905-ce0b-d8ae38fcf019"
      },
      "execution_count": 12,
      "outputs": [
        {
          "output_type": "stream",
          "name": "stdout",
          "text": [
            "<class 'pandas.core.frame.DataFrame'>\n",
            "DatetimeIndex: 80 entries, 2010-01-01 to 2010-03-24\n",
            "Data columns (total 12 columns):\n",
            " #   Column                    Non-Null Count  Dtype  \n",
            "---  ------                    --------------  -----  \n",
            " 0   ON_STREAM_HRS             80 non-null     float64\n",
            " 1   AVG_DOWNHOLE_PRESSURE     80 non-null     float64\n",
            " 2   AVG_DOWNHOLE_TEMPERATURE  80 non-null     float64\n",
            " 3   AVG_CHOKE_SIZE_P          80 non-null     float64\n",
            " 4   AVG_WHP_P                 80 non-null     float64\n",
            " 5   AVG_WHT_P                 80 non-null     float64\n",
            " 6   DP_CHOKE_SIZE             80 non-null     float64\n",
            " 7   BORE_GAS_VOL              80 non-null     float64\n",
            " 8   BORE_WAT_VOL              80 non-null     float64\n",
            " 9   F_4_BORE_WI_VOL           80 non-null     float64\n",
            " 10  F_5_BORE_WI_VOL           80 non-null     float64\n",
            " 11  BORE_OIL_VOL              80 non-null     float64\n",
            "dtypes: float64(12)\n",
            "memory usage: 8.1 KB\n"
          ]
        }
      ]
    },
    {
      "cell_type": "code",
      "execution_count": 11,
      "metadata": {
        "colab": {
          "base_uri": "https://localhost:8080/",
          "height": 999
        },
        "id": "dLBz9GX14-Wi",
        "outputId": "ef4a4d39-fa1e-4221-bcbe-88ba86363ac5"
      },
      "outputs": [
        {
          "output_type": "display_data",
          "data": {
            "text/plain": [
              "<Figure size 1224x1296 with 12 Axes>"
            ],
            "image/png": "[encoded data removed]"
          },
          "metadata": {
            "needs_background": "light"
          }
        }
      ],
      "source": [
        "# Data visulaization and disribution plots for well F-14 after including the injectors\n",
        "data = series.columns\n",
        "\n",
        "# Creating figure with two rows and one column\n",
        "fig, axs = plt.subplots(nrows=len(data), figsize=(17, 18))\n",
        "\n",
        "axs = axs.ravel()\n",
        "\n",
        "for id, column in enumerate(data):\n",
        "\n",
        "    axs[id].plot(series[column])\n",
        "    axs[id].grid(True)\n",
        "    axs[id].legend([column], loc='lower left', fontsize=9, handlelength=0, handletextpad=0, frameon=False)\n",
        "    \n",
        "plt.show()"
      ]
    },
    {
      "cell_type": "markdown",
      "source": [
        "**Multi-output forecasting strategy**"
      ],
      "metadata": {
        "id": "yuC_Qoqiaq_i"
      }
    },
    {
      "cell_type": "code",
      "execution_count": 651,
      "metadata": {
        "id": "Nq2GI1a0NKYT"
      },
      "outputs": [],
      "source": [
        "# # # convert series to stationary \n",
        "# series_diff = series.copy()\n",
        "# diff_order = 1\n",
        "# series_diff['BORE_OIL_VOL'] = series_diff['BORE_OIL_VOL'].diff(diff_order)\n",
        "# # convert the stationary series to supervise learning\n",
        "timesteps = 5 # lag features\n",
        "steps_ahead = 1\n",
        "series_supervised = series_to_supervised(series, series.columns, n_in=timesteps, n_out=steps_ahead, dropnan=True)"
      ]
    },
    {
      "cell_type": "code",
      "source": [
        "series_supervised.head()"
      ],
      "metadata": {
        "colab": {
          "base_uri": "https://localhost:8080/",
          "height": 435
        },
        "id": "wtoOYzWMSlDL",
        "outputId": "04c6f403-e3ab-4b2f-c2da-d4f6817ff1c6"
      },
      "execution_count": 630,
      "outputs": [
        {
          "output_type": "execute_result",
          "data": {
            "text/plain": [
              "            ON_STREAM_HRS(t-5)  AVG_DOWNHOLE_PRESSURE(t-5)  \\\n",
              "DATEPRD                                                      \n",
              "2010-01-06                24.0                 3378.643673   \n",
              "2010-01-07                24.0                 3377.769461   \n",
              "2010-01-08                24.0                 3408.561097   \n",
              "2010-01-09                24.0                 3439.266918   \n",
              "2010-01-10                24.0                 3429.064568   \n",
              "\n",
              "            AVG_DOWNHOLE_TEMPERATURE(t-5)  AVG_CHOKE_SIZE_P(t-5)  \\\n",
              "DATEPRD                                                            \n",
              "2010-01-06                     223.079164              50.150825   \n",
              "2010-01-07                     223.095696              50.694654   \n",
              "2010-01-08                     223.074953              47.665676   \n",
              "2010-01-09                     223.022721              44.706230   \n",
              "2010-01-10                     223.035833              45.743761   \n",
              "\n",
              "            AVG_WHP_P(t-5)  AVG_WHT_P(t-5)  DP_CHOKE_SIZE(t-5)  \\\n",
              "DATEPRD                                                          \n",
              "2010-01-06      749.568621      190.264943          271.390953   \n",
              "2010-01-07      744.664780      190.708397          266.368677   \n",
              "2010-01-08      774.827418      192.268341          299.398157   \n",
              "2010-01-09      806.160543      191.994925          333.246980   \n",
              "2010-01-10      792.735696      191.503603          318.470614   \n",
              "\n",
              "            BORE_GAS_VOL(t-5)  BORE_WAT_VOL(t-5)  F_4_BORE_WI_VOL(t-5)  ...  \\\n",
              "DATEPRD                                                                 ...   \n",
              "2010-01-06       1.462166e+07       15304.241356          44109.287732  ...   \n",
              "2010-01-07       1.469266e+07       16519.118273          41936.969541  ...   \n",
              "2010-01-08       1.400904e+07       14796.150455          41114.572918  ...   \n",
              "2010-01-09       1.341015e+07       13428.619835          40267.292699  ...   \n",
              "2010-01-10       1.361768e+07        9839.905499          40524.238503  ...   \n",
              "\n",
              "            AVG_WHP_P(t)  AVG_WHT_P(t)  DP_CHOKE_SIZE(t)  BORE_GAS_VOL(t)  \\\n",
              "DATEPRD                                                                     \n",
              "2010-01-06    787.778892    191.155238        313.483219     1.364834e+07   \n",
              "2010-01-07    791.388814    190.547894        317.780795     1.350971e+07   \n",
              "2010-01-08    788.842189    190.683690        315.702450     1.349732e+07   \n",
              "2010-01-09    841.210210    186.402569        369.184766     1.192758e+07   \n",
              "2010-01-10    784.502885    190.103419        311.207552     1.350295e+07   \n",
              "\n",
              "            BORE_WAT_VOL(t)  merged_onStreams  merged_choke  \\\n",
              "DATEPRD                                                       \n",
              "2010-01-06     10054.073550          48.00000     91.797742   \n",
              "2010-01-07     12837.943721          48.00000     90.794083   \n",
              "2010-01-08     10488.510768          48.00000     89.545331   \n",
              "2010-01-09     10120.619746          46.83333     84.534024   \n",
              "2010-01-10     11071.387516          46.83333     84.672505   \n",
              "\n",
              "            F_4_BORE_WI_VOL(t)  F_5_BORE_WI_VOL(t)  BORE_OIL_VOL(t)  \n",
              "DATEPRD                                                              \n",
              "2010-01-06        40733.215195        52212.108216     17331.761803  \n",
              "2010-01-07        39969.857579        51109.971510     17138.601719  \n",
              "2010-01-08        41079.035678        50933.111950     17127.657449  \n",
              "2010-01-09        26561.870164        36311.076594     14477.823141  \n",
              "2010-01-10        43049.644968        48695.944867     17149.483091  \n",
              "\n",
              "[5 rows x 74 columns]"
            ],
            "text/html": [
              "\n",
              "  <div id=\"df-39b39de8-499c-4fc3-a670-885dba2a67a9\">\n",
              "    <div class=\"colab-df-container\">\n",
              "      <div>\n",
              "<style scoped>\n",
              "    .dataframe tbody tr th:only-of-type {\n",
              "        vertical-align: middle;\n",
              "    }\n",
              "\n",
              "    .dataframe tbody tr th {\n",
              "        vertical-align: top;\n",
              "    }\n",
              "\n",
              "    .dataframe thead th {\n",
              "        text-align: right;\n",
              "    }\n",
              "</style>\n",
              "<table border=\"1\" class=\"dataframe\">\n",
              "  <thead>\n",
              "    <tr style=\"text-align: right;\">\n",
              "      <th></th>\n",
              "      <th>ON_STREAM_HRS(t-5)</th>\n",
              "      <th>AVG_DOWNHOLE_PRESSURE(t-5)</th>\n",
              "      <th>AVG_DOWNHOLE_TEMPERATURE(t-5)</th>\n",
              "      <th>AVG_CHOKE_SIZE_P(t-5)</th>\n",
              "      <th>AVG_WHP_P(t-5)</th>\n",
              "      <th>AVG_WHT_P(t-5)</th>\n",
              "      <th>DP_CHOKE_SIZE(t-5)</th>\n",
              "      <th>BORE_GAS_VOL(t-5)</th>\n",
              "      <th>BORE_WAT_VOL(t-5)</th>\n",
              "      <th>F_4_BORE_WI_VOL(t-5)</th>\n",
              "      <th>...</th>\n",
              "      <th>AVG_WHP_P(t)</th>\n",
              "      <th>AVG_WHT_P(t)</th>\n",
              "      <th>DP_CHOKE_SIZE(t)</th>\n",
              "      <th>BORE_GAS_VOL(t)</th>\n",
              "      <th>BORE_WAT_VOL(t)</th>\n",
              "      <th>merged_onStreams</th>\n",
              "      <th>merged_choke</th>\n",
              "      <th>F_4_BORE_WI_VOL(t)</th>\n",
              "      <th>F_5_BORE_WI_VOL(t)</th>\n",
              "      <th>BORE_OIL_VOL(t)</th>\n",
              "    </tr>\n",
              "    <tr>\n",
              "      <th>DATEPRD</th>\n",
              "      <th></th>\n",
              "      <th></th>\n",
              "      <th></th>\n",
              "      <th></th>\n",
              "      <th></th>\n",
              "      <th></th>\n",
              "      <th></th>\n",
              "      <th></th>\n",
              "      <th></th>\n",
              "      <th></th>\n",
              "      <th></th>\n",
              "      <th></th>\n",
              "      <th></th>\n",
              "      <th></th>\n",
              "      <th></th>\n",
              "      <th></th>\n",
              "      <th></th>\n",
              "      <th></th>\n",
              "      <th></th>\n",
              "      <th></th>\n",
              "      <th></th>\n",
              "    </tr>\n",
              "  </thead>\n",
              "  <tbody>\n",
              "    <tr>\n",
              "      <th>2010-01-06</th>\n",
              "      <td>24.0</td>\n",
              "      <td>3378.643673</td>\n",
              "      <td>223.079164</td>\n",
              "      <td>50.150825</td>\n",
              "      <td>749.568621</td>\n",
              "      <td>190.264943</td>\n",
              "      <td>271.390953</td>\n",
              "      <td>1.462166e+07</td>\n",
              "      <td>15304.241356</td>\n",
              "      <td>44109.287732</td>\n",
              "      <td>...</td>\n",
              "      <td>787.778892</td>\n",
              "      <td>191.155238</td>\n",
              "      <td>313.483219</td>\n",
              "      <td>1.364834e+07</td>\n",
              "      <td>10054.073550</td>\n",
              "      <td>48.00000</td>\n",
              "      <td>91.797742</td>\n",
              "      <td>40733.215195</td>\n",
              "      <td>52212.108216</td>\n",
              "      <td>17331.761803</td>\n",
              "    </tr>\n",
              "    <tr>\n",
              "      <th>2010-01-07</th>\n",
              "      <td>24.0</td>\n",
              "      <td>3377.769461</td>\n",
              "      <td>223.095696</td>\n",
              "      <td>50.694654</td>\n",
              "      <td>744.664780</td>\n",
              "      <td>190.708397</td>\n",
              "      <td>266.368677</td>\n",
              "      <td>1.469266e+07</td>\n",
              "      <td>16519.118273</td>\n",
              "      <td>41936.969541</td>\n",
              "      <td>...</td>\n",
              "      <td>791.388814</td>\n",
              "      <td>190.547894</td>\n",
              "      <td>317.780795</td>\n",
              "      <td>1.350971e+07</td>\n",
              "      <td>12837.943721</td>\n",
              "      <td>48.00000</td>\n",
              "      <td>90.794083</td>\n",
              "      <td>39969.857579</td>\n",
              "      <td>51109.971510</td>\n",
              "      <td>17138.601719</td>\n",
              "    </tr>\n",
              "    <tr>\n",
              "      <th>2010-01-08</th>\n",
              "      <td>24.0</td>\n",
              "      <td>3408.561097</td>\n",
              "      <td>223.074953</td>\n",
              "      <td>47.665676</td>\n",
              "      <td>774.827418</td>\n",
              "      <td>192.268341</td>\n",
              "      <td>299.398157</td>\n",
              "      <td>1.400904e+07</td>\n",
              "      <td>14796.150455</td>\n",
              "      <td>41114.572918</td>\n",
              "      <td>...</td>\n",
              "      <td>788.842189</td>\n",
              "      <td>190.683690</td>\n",
              "      <td>315.702450</td>\n",
              "      <td>1.349732e+07</td>\n",
              "      <td>10488.510768</td>\n",
              "      <td>48.00000</td>\n",
              "      <td>89.545331</td>\n",
              "      <td>41079.035678</td>\n",
              "      <td>50933.111950</td>\n",
              "      <td>17127.657449</td>\n",
              "    </tr>\n",
              "    <tr>\n",
              "      <th>2010-01-09</th>\n",
              "      <td>24.0</td>\n",
              "      <td>3439.266918</td>\n",
              "      <td>223.022721</td>\n",
              "      <td>44.706230</td>\n",
              "      <td>806.160543</td>\n",
              "      <td>191.994925</td>\n",
              "      <td>333.246980</td>\n",
              "      <td>1.341015e+07</td>\n",
              "      <td>13428.619835</td>\n",
              "      <td>40267.292699</td>\n",
              "      <td>...</td>\n",
              "      <td>841.210210</td>\n",
              "      <td>186.402569</td>\n",
              "      <td>369.184766</td>\n",
              "      <td>1.192758e+07</td>\n",
              "      <td>10120.619746</td>\n",
              "      <td>46.83333</td>\n",
              "      <td>84.534024</td>\n",
              "      <td>26561.870164</td>\n",
              "      <td>36311.076594</td>\n",
              "      <td>14477.823141</td>\n",
              "    </tr>\n",
              "    <tr>\n",
              "      <th>2010-01-10</th>\n",
              "      <td>24.0</td>\n",
              "      <td>3429.064568</td>\n",
              "      <td>223.035833</td>\n",
              "      <td>45.743761</td>\n",
              "      <td>792.735696</td>\n",
              "      <td>191.503603</td>\n",
              "      <td>318.470614</td>\n",
              "      <td>1.361768e+07</td>\n",
              "      <td>9839.905499</td>\n",
              "      <td>40524.238503</td>\n",
              "      <td>...</td>\n",
              "      <td>784.502885</td>\n",
              "      <td>190.103419</td>\n",
              "      <td>311.207552</td>\n",
              "      <td>1.350295e+07</td>\n",
              "      <td>11071.387516</td>\n",
              "      <td>46.83333</td>\n",
              "      <td>84.672505</td>\n",
              "      <td>43049.644968</td>\n",
              "      <td>48695.944867</td>\n",
              "      <td>17149.483091</td>\n",
              "    </tr>\n",
              "  </tbody>\n",
              "</table>\n",
              "<p>5 rows × 74 columns</p>\n",
              "</div>\n",
              "      <button class=\"colab-df-convert\" onclick=\"convertToInteractive('df-39b39de8-499c-4fc3-a670-885dba2a67a9')\"\n",
              "              title=\"Convert this dataframe to an interactive table.\"\n",
              "              style=\"display:none;\">\n",
              "        \n",
              "  <svg xmlns=\"http://www.w3.org/2000/svg\" height=\"24px\"viewBox=\"0 0 24 24\"\n",
              "       width=\"24px\">\n",
              "    <path d=\"M0 0h24v24H0V0z\" fill=\"none\"/>\n",
              "    <path d=\"M18.56 5.44l.94 2.06.94-2.06 2.06-.94-2.06-.94-.94-2.06-.94 2.06-2.06.94zm-11 1L8.5 8.5l.94-2.06 2.06-.94-2.06-.94L8.5 2.5l-.94 2.06-2.06.94zm10 10l.94 2.06.94-2.06 2.06-.94-2.06-.94-.94-2.06-.94 2.06-2.06.94z\"/><path d=\"M17.41 7.96l-1.37-1.37c-.4-.4-.92-.59-1.43-.59-.52 0-1.04.2-1.43.59L10.3 9.45l-7.72 7.72c-.78.78-.78 2.05 0 2.83L4 21.41c.39.39.9.59 1.41.59.51 0 1.02-.2 1.41-.59l7.78-7.78 2.81-2.81c.8-.78.8-2.07 0-2.86zM5.41 20L4 18.59l7.72-7.72 1.47 1.35L5.41 20z\"/>\n",
              "  </svg>\n",
              "      </button>\n",
              "      \n",
              "  <style>\n",
              "    .colab-df-container {\n",
              "      display:flex;\n",
              "      flex-wrap:wrap;\n",
              "      gap: 12px;\n",
              "    }\n",
              "\n",
              "    .colab-df-convert {\n",
              "      background-color: #E8F0FE;\n",
              "      border: none;\n",
              "      border-radius: 50%;\n",
              "      cursor: pointer;\n",
              "      display: none;\n",
              "      fill: #1967D2;\n",
              "      height: 32px;\n",
              "      padding: 0 0 0 0;\n",
              "      width: 32px;\n",
              "    }\n",
              "\n",
              "    .colab-df-convert:hover {\n",
              "      background-color: #E2EBFA;\n",
              "      box-shadow: 0px 1px 2px rgba(60, 64, 67, 0.3), 0px 1px 3px 1px rgba(60, 64, 67, 0.15);\n",
              "      fill: #174EA6;\n",
              "    }\n",
              "\n",
              "    [theme=dark] .colab-df-convert {\n",
              "      background-color: #3B4455;\n",
              "      fill: #D2E3FC;\n",
              "    }\n",
              "\n",
              "    [theme=dark] .colab-df-convert:hover {\n",
              "      background-color: #434B5C;\n",
              "      box-shadow: 0px 1px 3px 1px rgba(0, 0, 0, 0.15);\n",
              "      filter: drop-shadow(0px 1px 2px rgba(0, 0, 0, 0.3));\n",
              "      fill: #FFFFFF;\n",
              "    }\n",
              "  </style>\n",
              "\n",
              "      <script>\n",
              "        const buttonEl =\n",
              "          document.querySelector('#df-39b39de8-499c-4fc3-a670-885dba2a67a9 button.colab-df-convert');\n",
              "        buttonEl.style.display =\n",
              "          google.colab.kernel.accessAllowed ? 'block' : 'none';\n",
              "\n",
              "        async function convertToInteractive(key) {\n",
              "          const element = document.querySelector('#df-39b39de8-499c-4fc3-a670-885dba2a67a9');\n",
              "          const dataTable =\n",
              "            await google.colab.kernel.invokeFunction('convertToInteractive',\n",
              "                                                     [key], {});\n",
              "          if (!dataTable) return;\n",
              "\n",
              "          const docLinkHtml = 'Like what you see? Visit the ' +\n",
              "            '<a target=\"_blank\" href=https://colab.research.google.com/notebooks/data_table.ipynb>data table notebook</a>'\n",
              "            + ' to learn more about interactive tables.';\n",
              "          element.innerHTML = '';\n",
              "          dataTable['output_type'] = 'display_data';\n",
              "          await google.colab.output.renderOutput(dataTable, element);\n",
              "          const docLink = document.createElement('div');\n",
              "          docLink.innerHTML = docLinkHtml;\n",
              "          element.appendChild(docLink);\n",
              "        }\n",
              "      </script>\n",
              "    </div>\n",
              "  </div>\n",
              "  "
            ]
          },
          "metadata": {},
          "execution_count": 630
        }
      ]
    },
    {
      "cell_type": "code",
      "source": [
        "int(0.8*100)"
      ],
      "metadata": {
        "colab": {
          "base_uri": "https://localhost:8080/"
        },
        "id": "MnJR9ZT3Izd9",
        "outputId": "ec0db558-9b57-4309-b49b-5b9b05062b9b"
      },
      "execution_count": 480,
      "outputs": [
        {
          "output_type": "execute_result",
          "data": {
            "text/plain": [
              "80"
            ]
          },
          "metadata": {},
          "execution_count": 480
        }
      ]
    },
    {
      "cell_type": "code",
      "source": [
        "inv_scale_y"
      ],
      "metadata": {
        "colab": {
          "base_uri": "https://localhost:8080/"
        },
        "id": "fGDlCcUDDeEU",
        "outputId": "6ad1bee3-c6eb-4a55-a190-d0be3eb7576b"
      },
      "execution_count": 539,
      "outputs": [
        {
          "output_type": "execute_result",
          "data": {
            "text/plain": [
              "array([17128.97830887])"
            ]
          },
          "metadata": {},
          "execution_count": 539
        }
      ]
    },
    {
      "cell_type": "code",
      "source": [
        "inv_scale_yhat"
      ],
      "metadata": {
        "colab": {
          "base_uri": "https://localhost:8080/"
        },
        "id": "zprQpKe3hrPT",
        "outputId": "5574e049-4ee8-432a-841b-7de987443bfe"
      },
      "execution_count": 614,
      "outputs": [
        {
          "output_type": "execute_result",
          "data": {
            "text/plain": [
              "array([16090.044, 17022.682], dtype=float32)"
            ]
          },
          "metadata": {},
          "execution_count": 614
        }
      ]
    },
    {
      "cell_type": "code",
      "source": [
        "series[len(train):]"
      ],
      "metadata": {
        "colab": {
          "base_uri": "https://localhost:8080/",
          "height": 486
        },
        "id": "4axRZiYPguAu",
        "outputId": "2aeb93f6-f4ad-4a5d-e21e-bdbbd6f56961"
      },
      "execution_count": 613,
      "outputs": [
        {
          "output_type": "execute_result",
          "data": {
            "text/plain": [
              "            ON_STREAM_HRS  AVG_DOWNHOLE_PRESSURE  AVG_DOWNHOLE_TEMPERATURE  \\\n",
              "DATEPRD                                                                      \n",
              "2010-03-18           24.0            3526.281013                223.337147   \n",
              "2010-03-19           24.0            3514.913608                223.317147   \n",
              "2010-03-20           24.0            3504.763562                223.303034   \n",
              "2010-03-21           24.0            3492.841901                223.291353   \n",
              "2010-03-22           24.0            3460.862128                223.300709   \n",
              "2010-03-23           24.0            3422.510183                223.354927   \n",
              "2010-03-24           24.0            3435.084903                223.378091   \n",
              "\n",
              "            AVG_CHOKE_SIZE_P   AVG_WHP_P   AVG_WHT_P  DP_CHOKE_SIZE  \\\n",
              "DATEPRD                                                               \n",
              "2010-03-18         42.642245  839.723236  190.830086     362.805876   \n",
              "2010-03-19         42.677826  833.817448  189.049475     353.089956   \n",
              "2010-03-20         42.735827  830.434355  192.043733     349.821119   \n",
              "2010-03-21         42.770594  824.547904  193.201259     344.134244   \n",
              "2010-03-22         45.041136  795.900307  191.314792     313.550160   \n",
              "2010-03-23         48.268275  759.105257  192.454799     274.186897   \n",
              "2010-03-24         47.668794  765.122928  190.217152     280.992874   \n",
              "\n",
              "            BORE_GAS_VOL  BORE_WAT_VOL  F_4_BORE_WI_VOL  F_5_BORE_WI_VOL  \\\n",
              "DATEPRD                                                                    \n",
              "2010-03-18  1.187655e+07  14815.963359     25775.205860     29618.199562   \n",
              "2010-03-19  1.123098e+07  12827.754228     25032.583179     30697.245146   \n",
              "2010-03-20  1.109804e+07  12808.884796     24664.586214     31087.782101   \n",
              "2010-03-21  1.093559e+07  12776.869660     24483.497384     31164.747774   \n",
              "2010-03-22  1.307194e+07  14874.773088     24458.580144     31681.968615   \n",
              "2010-03-23  1.382048e+07  17263.328663     41520.546816     42199.917717   \n",
              "2010-03-24  1.359333e+07  16125.376130     56392.726193     46679.037762   \n",
              "\n",
              "            BORE_OIL_VOL  \n",
              "DATEPRD                   \n",
              "2010-03-18  14483.106582  \n",
              "2010-03-19  14311.772141  \n",
              "2010-03-20  14163.898694  \n",
              "2010-03-21  13967.153418  \n",
              "2010-03-22  16668.186784  \n",
              "2010-03-23  17384.218823  \n",
              "2010-03-24  17128.978309  "
            ],
            "text/html": [
              "\n",
              "  <div id=\"df-2e0cf087-fa51-4d3d-8cf0-705d8bc782c0\">\n",
              "    <div class=\"colab-df-container\">\n",
              "      <div>\n",
              "<style scoped>\n",
              "    .dataframe tbody tr th:only-of-type {\n",
              "        vertical-align: middle;\n",
              "    }\n",
              "\n",
              "    .dataframe tbody tr th {\n",
              "        vertical-align: top;\n",
              "    }\n",
              "\n",
              "    .dataframe thead th {\n",
              "        text-align: right;\n",
              "    }\n",
              "</style>\n",
              "<table border=\"1\" class=\"dataframe\">\n",
              "  <thead>\n",
              "    <tr style=\"text-align: right;\">\n",
              "      <th></th>\n",
              "      <th>ON_STREAM_HRS</th>\n",
              "      <th>AVG_DOWNHOLE_PRESSURE</th>\n",
              "      <th>AVG_DOWNHOLE_TEMPERATURE</th>\n",
              "      <th>AVG_CHOKE_SIZE_P</th>\n",
              "      <th>AVG_WHP_P</th>\n",
              "      <th>AVG_WHT_P</th>\n",
              "      <th>DP_CHOKE_SIZE</th>\n",
              "      <th>BORE_GAS_VOL</th>\n",
              "      <th>BORE_WAT_VOL</th>\n",
              "      <th>F_4_BORE_WI_VOL</th>\n",
              "      <th>F_5_BORE_WI_VOL</th>\n",
              "      <th>BORE_OIL_VOL</th>\n",
              "    </tr>\n",
              "    <tr>\n",
              "      <th>DATEPRD</th>\n",
              "      <th></th>\n",
              "      <th></th>\n",
              "      <th></th>\n",
              "      <th></th>\n",
              "      <th></th>\n",
              "      <th></th>\n",
              "      <th></th>\n",
              "      <th></th>\n",
              "      <th></th>\n",
              "      <th></th>\n",
              "      <th></th>\n",
              "      <th></th>\n",
              "    </tr>\n",
              "  </thead>\n",
              "  <tbody>\n",
              "    <tr>\n",
              "      <th>2010-03-18</th>\n",
              "      <td>24.0</td>\n",
              "      <td>3526.281013</td>\n",
              "      <td>223.337147</td>\n",
              "      <td>42.642245</td>\n",
              "      <td>839.723236</td>\n",
              "      <td>190.830086</td>\n",
              "      <td>362.805876</td>\n",
              "      <td>1.187655e+07</td>\n",
              "      <td>14815.963359</td>\n",
              "      <td>25775.205860</td>\n",
              "      <td>29618.199562</td>\n",
              "      <td>14483.106582</td>\n",
              "    </tr>\n",
              "    <tr>\n",
              "      <th>2010-03-19</th>\n",
              "      <td>24.0</td>\n",
              "      <td>3514.913608</td>\n",
              "      <td>223.317147</td>\n",
              "      <td>42.677826</td>\n",
              "      <td>833.817448</td>\n",
              "      <td>189.049475</td>\n",
              "      <td>353.089956</td>\n",
              "      <td>1.123098e+07</td>\n",
              "      <td>12827.754228</td>\n",
              "      <td>25032.583179</td>\n",
              "      <td>30697.245146</td>\n",
              "      <td>14311.772141</td>\n",
              "    </tr>\n",
              "    <tr>\n",
              "      <th>2010-03-20</th>\n",
              "      <td>24.0</td>\n",
              "      <td>3504.763562</td>\n",
              "      <td>223.303034</td>\n",
              "      <td>42.735827</td>\n",
              "      <td>830.434355</td>\n",
              "      <td>192.043733</td>\n",
              "      <td>349.821119</td>\n",
              "      <td>1.109804e+07</td>\n",
              "      <td>12808.884796</td>\n",
              "      <td>24664.586214</td>\n",
              "      <td>31087.782101</td>\n",
              "      <td>14163.898694</td>\n",
              "    </tr>\n",
              "    <tr>\n",
              "      <th>2010-03-21</th>\n",
              "      <td>24.0</td>\n",
              "      <td>3492.841901</td>\n",
              "      <td>223.291353</td>\n",
              "      <td>42.770594</td>\n",
              "      <td>824.547904</td>\n",
              "      <td>193.201259</td>\n",
              "      <td>344.134244</td>\n",
              "      <td>1.093559e+07</td>\n",
              "      <td>12776.869660</td>\n",
              "      <td>24483.497384</td>\n",
              "      <td>31164.747774</td>\n",
              "      <td>13967.153418</td>\n",
              "    </tr>\n",
              "    <tr>\n",
              "      <th>2010-03-22</th>\n",
              "      <td>24.0</td>\n",
              "      <td>3460.862128</td>\n",
              "      <td>223.300709</td>\n",
              "      <td>45.041136</td>\n",
              "      <td>795.900307</td>\n",
              "      <td>191.314792</td>\n",
              "      <td>313.550160</td>\n",
              "      <td>1.307194e+07</td>\n",
              "      <td>14874.773088</td>\n",
              "      <td>24458.580144</td>\n",
              "      <td>31681.968615</td>\n",
              "      <td>16668.186784</td>\n",
              "    </tr>\n",
              "    <tr>\n",
              "      <th>2010-03-23</th>\n",
              "      <td>24.0</td>\n",
              "      <td>3422.510183</td>\n",
              "      <td>223.354927</td>\n",
              "      <td>48.268275</td>\n",
              "      <td>759.105257</td>\n",
              "      <td>192.454799</td>\n",
              "      <td>274.186897</td>\n",
              "      <td>1.382048e+07</td>\n",
              "      <td>17263.328663</td>\n",
              "      <td>41520.546816</td>\n",
              "      <td>42199.917717</td>\n",
              "      <td>17384.218823</td>\n",
              "    </tr>\n",
              "    <tr>\n",
              "      <th>2010-03-24</th>\n",
              "      <td>24.0</td>\n",
              "      <td>3435.084903</td>\n",
              "      <td>223.378091</td>\n",
              "      <td>47.668794</td>\n",
              "      <td>765.122928</td>\n",
              "      <td>190.217152</td>\n",
              "      <td>280.992874</td>\n",
              "      <td>1.359333e+07</td>\n",
              "      <td>16125.376130</td>\n",
              "      <td>56392.726193</td>\n",
              "      <td>46679.037762</td>\n",
              "      <td>17128.978309</td>\n",
              "    </tr>\n",
              "  </tbody>\n",
              "</table>\n",
              "</div>\n",
              "      <button class=\"colab-df-convert\" onclick=\"convertToInteractive('df-2e0cf087-fa51-4d3d-8cf0-705d8bc782c0')\"\n",
              "              title=\"Convert this dataframe to an interactive table.\"\n",
              "              style=\"display:none;\">\n",
              "        \n",
              "  <svg xmlns=\"http://www.w3.org/2000/svg\" height=\"24px\"viewBox=\"0 0 24 24\"\n",
              "       width=\"24px\">\n",
              "    <path d=\"M0 0h24v24H0V0z\" fill=\"none\"/>\n",
              "    <path d=\"M18.56 5.44l.94 2.06.94-2.06 2.06-.94-2.06-.94-.94-2.06-.94 2.06-2.06.94zm-11 1L8.5 8.5l.94-2.06 2.06-.94-2.06-.94L8.5 2.5l-.94 2.06-2.06.94zm10 10l.94 2.06.94-2.06 2.06-.94-2.06-.94-.94-2.06-.94 2.06-2.06.94z\"/><path d=\"M17.41 7.96l-1.37-1.37c-.4-.4-.92-.59-1.43-.59-.52 0-1.04.2-1.43.59L10.3 9.45l-7.72 7.72c-.78.78-.78 2.05 0 2.83L4 21.41c.39.39.9.59 1.41.59.51 0 1.02-.2 1.41-.59l7.78-7.78 2.81-2.81c.8-.78.8-2.07 0-2.86zM5.41 20L4 18.59l7.72-7.72 1.47 1.35L5.41 20z\"/>\n",
              "  </svg>\n",
              "      </button>\n",
              "      \n",
              "  <style>\n",
              "    .colab-df-container {\n",
              "      display:flex;\n",
              "      flex-wrap:wrap;\n",
              "      gap: 12px;\n",
              "    }\n",
              "\n",
              "    .colab-df-convert {\n",
              "      background-color: #E8F0FE;\n",
              "      border: none;\n",
              "      border-radius: 50%;\n",
              "      cursor: pointer;\n",
              "      display: none;\n",
              "      fill: #1967D2;\n",
              "      height: 32px;\n",
              "      padding: 0 0 0 0;\n",
              "      width: 32px;\n",
              "    }\n",
              "\n",
              "    .colab-df-convert:hover {\n",
              "      background-color: #E2EBFA;\n",
              "      box-shadow: 0px 1px 2px rgba(60, 64, 67, 0.3), 0px 1px 3px 1px rgba(60, 64, 67, 0.15);\n",
              "      fill: #174EA6;\n",
              "    }\n",
              "\n",
              "    [theme=dark] .colab-df-convert {\n",
              "      background-color: #3B4455;\n",
              "      fill: #D2E3FC;\n",
              "    }\n",
              "\n",
              "    [theme=dark] .colab-df-convert:hover {\n",
              "      background-color: #434B5C;\n",
              "      box-shadow: 0px 1px 3px 1px rgba(0, 0, 0, 0.15);\n",
              "      filter: drop-shadow(0px 1px 2px rgba(0, 0, 0, 0.3));\n",
              "      fill: #FFFFFF;\n",
              "    }\n",
              "  </style>\n",
              "\n",
              "      <script>\n",
              "        const buttonEl =\n",
              "          document.querySelector('#df-2e0cf087-fa51-4d3d-8cf0-705d8bc782c0 button.colab-df-convert');\n",
              "        buttonEl.style.display =\n",
              "          google.colab.kernel.accessAllowed ? 'block' : 'none';\n",
              "\n",
              "        async function convertToInteractive(key) {\n",
              "          const element = document.querySelector('#df-2e0cf087-fa51-4d3d-8cf0-705d8bc782c0');\n",
              "          const dataTable =\n",
              "            await google.colab.kernel.invokeFunction('convertToInteractive',\n",
              "                                                     [key], {});\n",
              "          if (!dataTable) return;\n",
              "\n",
              "          const docLinkHtml = 'Like what you see? Visit the ' +\n",
              "            '<a target=\"_blank\" href=https://colab.research.google.com/notebooks/data_table.ipynb>data table notebook</a>'\n",
              "            + ' to learn more about interactive tables.';\n",
              "          element.innerHTML = '';\n",
              "          dataTable['output_type'] = 'display_data';\n",
              "          await google.colab.output.renderOutput(dataTable, element);\n",
              "          const docLink = document.createElement('div');\n",
              "          docLink.innerHTML = docLinkHtml;\n",
              "          element.appendChild(docLink);\n",
              "        }\n",
              "      </script>\n",
              "    </div>\n",
              "  </div>\n",
              "  "
            ]
          },
          "metadata": {},
          "execution_count": 613
        }
      ]
    },
    {
      "cell_type": "code",
      "source": [
        "series_supervised.iloc[len(train):, -12:]"
      ],
      "metadata": {
        "colab": {
          "base_uri": "https://localhost:8080/",
          "height": 259
        },
        "id": "6w5PSoX9Bccy",
        "outputId": "40e93eb8-f396-490c-d683-d01158ba6307"
      },
      "execution_count": 656,
      "outputs": [
        {
          "output_type": "execute_result",
          "data": {
            "text/plain": [
              "            AVG_DOWNHOLE_TEMPERATURE(t-1)  AVG_WHP_P(t-1)  AVG_WHT_P(t-1)  \\\n",
              "DATEPRD                                                                     \n",
              "2010-03-23                     223.300709      795.900307      191.314792   \n",
              "2010-03-24                     223.354927      759.105257      192.454799   \n",
              "\n",
              "            DP_CHOKE_SIZE(t-1)  BORE_GAS_VOL(t-1)  BORE_WAT_VOL(t-1)  \\\n",
              "DATEPRD                                                                \n",
              "2010-03-23          313.550160       1.307194e+07       14874.773088   \n",
              "2010-03-24          274.186897       1.382048e+07       17263.328663   \n",
              "\n",
              "            F_4_BORE_WI_VOL(t-1)  F_5_BORE_WI_VOL(t-1)  BORE_OIL_VOL(t-1)  \\\n",
              "DATEPRD                                                                     \n",
              "2010-03-23          24458.580144          31681.968615       16668.186784   \n",
              "2010-03-24          41520.546816          42199.917717       17384.218823   \n",
              "\n",
              "            merged_onStreams  merged_choke  BORE_OIL_VOL(t)  \n",
              "DATEPRD                                                      \n",
              "2010-03-23              48.0     93.309411     17384.218823  \n",
              "2010-03-24              48.0     95.937069     17128.978309  "
            ],
            "text/html": [
              "\n",
              "  <div id=\"df-5bcf2251-554a-42ea-87c1-75e5da7be69e\">\n",
              "    <div class=\"colab-df-container\">\n",
              "      <div>\n",
              "<style scoped>\n",
              "    .dataframe tbody tr th:only-of-type {\n",
              "        vertical-align: middle;\n",
              "    }\n",
              "\n",
              "    .dataframe tbody tr th {\n",
              "        vertical-align: top;\n",
              "    }\n",
              "\n",
              "    .dataframe thead th {\n",
              "        text-align: right;\n",
              "    }\n",
              "</style>\n",
              "<table border=\"1\" class=\"dataframe\">\n",
              "  <thead>\n",
              "    <tr style=\"text-align: right;\">\n",
              "      <th></th>\n",
              "      <th>AVG_DOWNHOLE_TEMPERATURE(t-1)</th>\n",
              "      <th>AVG_WHP_P(t-1)</th>\n",
              "      <th>AVG_WHT_P(t-1)</th>\n",
              "      <th>DP_CHOKE_SIZE(t-1)</th>\n",
              "      <th>BORE_GAS_VOL(t-1)</th>\n",
              "      <th>BORE_WAT_VOL(t-1)</th>\n",
              "      <th>F_4_BORE_WI_VOL(t-1)</th>\n",
              "      <th>F_5_BORE_WI_VOL(t-1)</th>\n",
              "      <th>BORE_OIL_VOL(t-1)</th>\n",
              "      <th>merged_onStreams</th>\n",
              "      <th>merged_choke</th>\n",
              "      <th>BORE_OIL_VOL(t)</th>\n",
              "    </tr>\n",
              "    <tr>\n",
              "      <th>DATEPRD</th>\n",
              "      <th></th>\n",
              "      <th></th>\n",
              "      <th></th>\n",
              "      <th></th>\n",
              "      <th></th>\n",
              "      <th></th>\n",
              "      <th></th>\n",
              "      <th></th>\n",
              "      <th></th>\n",
              "      <th></th>\n",
              "      <th></th>\n",
              "      <th></th>\n",
              "    </tr>\n",
              "  </thead>\n",
              "  <tbody>\n",
              "    <tr>\n",
              "      <th>2010-03-23</th>\n",
              "      <td>223.300709</td>\n",
              "      <td>795.900307</td>\n",
              "      <td>191.314792</td>\n",
              "      <td>313.550160</td>\n",
              "      <td>1.307194e+07</td>\n",
              "      <td>14874.773088</td>\n",
              "      <td>24458.580144</td>\n",
              "      <td>31681.968615</td>\n",
              "      <td>16668.186784</td>\n",
              "      <td>48.0</td>\n",
              "      <td>93.309411</td>\n",
              "      <td>17384.218823</td>\n",
              "    </tr>\n",
              "    <tr>\n",
              "      <th>2010-03-24</th>\n",
              "      <td>223.354927</td>\n",
              "      <td>759.105257</td>\n",
              "      <td>192.454799</td>\n",
              "      <td>274.186897</td>\n",
              "      <td>1.382048e+07</td>\n",
              "      <td>17263.328663</td>\n",
              "      <td>41520.546816</td>\n",
              "      <td>42199.917717</td>\n",
              "      <td>17384.218823</td>\n",
              "      <td>48.0</td>\n",
              "      <td>95.937069</td>\n",
              "      <td>17128.978309</td>\n",
              "    </tr>\n",
              "  </tbody>\n",
              "</table>\n",
              "</div>\n",
              "      <button class=\"colab-df-convert\" onclick=\"convertToInteractive('df-5bcf2251-554a-42ea-87c1-75e5da7be69e')\"\n",
              "              title=\"Convert this dataframe to an interactive table.\"\n",
              "              style=\"display:none;\">\n",
              "        \n",
              "  <svg xmlns=\"http://www.w3.org/2000/svg\" height=\"24px\"viewBox=\"0 0 24 24\"\n",
              "       width=\"24px\">\n",
              "    <path d=\"M0 0h24v24H0V0z\" fill=\"none\"/>\n",
              "    <path d=\"M18.56 5.44l.94 2.06.94-2.06 2.06-.94-2.06-.94-.94-2.06-.94 2.06-2.06.94zm-11 1L8.5 8.5l.94-2.06 2.06-.94-2.06-.94L8.5 2.5l-.94 2.06-2.06.94zm10 10l.94 2.06.94-2.06 2.06-.94-2.06-.94-.94-2.06-.94 2.06-2.06.94z\"/><path d=\"M17.41 7.96l-1.37-1.37c-.4-.4-.92-.59-1.43-.59-.52 0-1.04.2-1.43.59L10.3 9.45l-7.72 7.72c-.78.78-.78 2.05 0 2.83L4 21.41c.39.39.9.59 1.41.59.51 0 1.02-.2 1.41-.59l7.78-7.78 2.81-2.81c.8-.78.8-2.07 0-2.86zM5.41 20L4 18.59l7.72-7.72 1.47 1.35L5.41 20z\"/>\n",
              "  </svg>\n",
              "      </button>\n",
              "      \n",
              "  <style>\n",
              "    .colab-df-container {\n",
              "      display:flex;\n",
              "      flex-wrap:wrap;\n",
              "      gap: 12px;\n",
              "    }\n",
              "\n",
              "    .colab-df-convert {\n",
              "      background-color: #E8F0FE;\n",
              "      border: none;\n",
              "      border-radius: 50%;\n",
              "      cursor: pointer;\n",
              "      display: none;\n",
              "      fill: #1967D2;\n",
              "      height: 32px;\n",
              "      padding: 0 0 0 0;\n",
              "      width: 32px;\n",
              "    }\n",
              "\n",
              "    .colab-df-convert:hover {\n",
              "      background-color: #E2EBFA;\n",
              "      box-shadow: 0px 1px 2px rgba(60, 64, 67, 0.3), 0px 1px 3px 1px rgba(60, 64, 67, 0.15);\n",
              "      fill: #174EA6;\n",
              "    }\n",
              "\n",
              "    [theme=dark] .colab-df-convert {\n",
              "      background-color: #3B4455;\n",
              "      fill: #D2E3FC;\n",
              "    }\n",
              "\n",
              "    [theme=dark] .colab-df-convert:hover {\n",
              "      background-color: #434B5C;\n",
              "      box-shadow: 0px 1px 3px 1px rgba(0, 0, 0, 0.15);\n",
              "      filter: drop-shadow(0px 1px 2px rgba(0, 0, 0, 0.3));\n",
              "      fill: #FFFFFF;\n",
              "    }\n",
              "  </style>\n",
              "\n",
              "      <script>\n",
              "        const buttonEl =\n",
              "          document.querySelector('#df-5bcf2251-554a-42ea-87c1-75e5da7be69e button.colab-df-convert');\n",
              "        buttonEl.style.display =\n",
              "          google.colab.kernel.accessAllowed ? 'block' : 'none';\n",
              "\n",
              "        async function convertToInteractive(key) {\n",
              "          const element = document.querySelector('#df-5bcf2251-554a-42ea-87c1-75e5da7be69e');\n",
              "          const dataTable =\n",
              "            await google.colab.kernel.invokeFunction('convertToInteractive',\n",
              "                                                     [key], {});\n",
              "          if (!dataTable) return;\n",
              "\n",
              "          const docLinkHtml = 'Like what you see? Visit the ' +\n",
              "            '<a target=\"_blank\" href=https://colab.research.google.com/notebooks/data_table.ipynb>data table notebook</a>'\n",
              "            + ' to learn more about interactive tables.';\n",
              "          element.innerHTML = '';\n",
              "          dataTable['output_type'] = 'display_data';\n",
              "          await google.colab.output.renderOutput(dataTable, element);\n",
              "          const docLink = document.createElement('div');\n",
              "          docLink.innerHTML = docLinkHtml;\n",
              "          element.appendChild(docLink);\n",
              "        }\n",
              "      </script>\n",
              "    </div>\n",
              "  </div>\n",
              "  "
            ]
          },
          "metadata": {},
          "execution_count": 656
        }
      ]
    },
    {
      "cell_type": "code",
      "source": [
        "int(series_supervised.shape[0]*0.98)"
      ],
      "metadata": {
        "colab": {
          "base_uri": "https://localhost:8080/"
        },
        "id": "HKQJCVRnQTjh",
        "outputId": "f5ff1961-4fc0-4300-8696-5170c2f8c122"
      },
      "execution_count": 548,
      "outputs": [
        {
          "output_type": "execute_result",
          "data": {
            "text/plain": [
              "73"
            ]
          },
          "metadata": {},
          "execution_count": 548
        }
      ]
    },
    {
      "cell_type": "code",
      "source": [
        "# # time-dependent variables \n",
        "# shifted_ON_STREAM_HRS = series_diff[\"ON_STREAM_HRS\"].shift(-(timesteps + diff_order)).dropna()\n",
        "# shifted_ON_STREAM_HRS.index = series_supervised.index.values \n",
        "# shifted_AVG_CHOKE_SIZE_P = series_diff['AVG_CHOKE_SIZE_P'].shift(-(timesteps + diff_order)).dropna()\n",
        "# shifted_AVG_CHOKE_SIZE_P.index = series_supervised.index.values\n",
        "# series_supervised = pd.concat([shifted_ON_STREAM_HRS,shifted_AVG_CHOKE_SIZE_P, series_supervised], axis=1) "
      ],
      "metadata": {
        "id": "dO0Xcq-8ZF6Q"
      },
      "execution_count": 57,
      "outputs": []
    },
    {
      "cell_type": "code",
      "source": [
        "# #drop all the variables that we don't want to predict\n",
        "# vars_y = series_supervised.columns[-steps_ahead*len(series.columns):]\n",
        "# vars_name_to_drop = ['ON_STREAM_HRS(t+)']\n",
        "# vars_to_drop = vars_to_drop = [col for col in vars_y if col.startswith(vars_name_to_drop[0])]\n",
        "# series_supervised.drop(columns=vars_to_drop, inplace=True)"
      ],
      "metadata": {
        "id": "lH-2wA_ySOOX"
      },
      "execution_count": null,
      "outputs": []
    },
    {
      "cell_type": "code",
      "source": [
        "# # bring the ON_STREAM_HRS(t) variable forward one step and place it before the target variable\n",
        "# ON_STREAM_HRS_t = series_supervised.pop('ON_STREAM_HRS(t)')\n",
        "# series_supervised.insert(len(series_supervised.columns)-1, 'ON_STREAM_HRS(t)', ON_STREAM_HRS_t)"
      ],
      "metadata": {
        "id": "V_XXkH3W_Rac"
      },
      "execution_count": null,
      "outputs": []
    },
    {
      "cell_type": "code",
      "source": [
        "merged_onStreams = series_supervised[\"ON_STREAM_HRS(t-1)\"] + (series_supervised[\"ON_STREAM_HRS(t)\"] ) #\n",
        "# bring the ON_STREAM_HRS(t) variable forward one step and place it before the target variable\n",
        "series_supervised.insert(len(series_supervised.columns)-3, 'merged_onStreams', merged_onStreams)"
      ],
      "metadata": {
        "id": "Mfg1jvYuTH5a"
      },
      "execution_count": 652,
      "outputs": []
    },
    {
      "cell_type": "code",
      "source": [
        "merged_choke = series_supervised[\"AVG_CHOKE_SIZE_P(t-1)\"] + (series_supervised[\"AVG_CHOKE_SIZE_P(t)\"] ) #\n",
        "# bring the ON_STREAM_HRS(t) variable forward one step and place it before the target variable\n",
        "series_supervised.insert(len(series_supervised.columns)-3, 'merged_choke', merged_choke)"
      ],
      "metadata": {
        "id": "mnwN9F7S42a7"
      },
      "execution_count": 653,
      "outputs": []
    },
    {
      "cell_type": "code",
      "source": [
        "series_supervised.drop(['ON_STREAM_HRS(t-1)', 'AVG_CHOKE_SIZE_P(t-1)'], axis=1, inplace= True)"
      ],
      "metadata": {
        "id": "LfWyvX8TI7WB"
      },
      "execution_count": 654,
      "outputs": []
    },
    {
      "cell_type": "code",
      "source": [
        "series_supervised.drop(['AVG_CHOKE_SIZE_P(t)','ON_STREAM_HRS(t)',\n",
        "                        'AVG_DOWNHOLE_PRESSURE(t)','AVG_DOWNHOLE_TEMPERATURE(t)',\n",
        "                        'AVG_WHP_P(t)','AVG_WHT_P(t)','F_4_BORE_WI_VOL(t)',\n",
        "                        'F_5_BORE_WI_VOL(t)', 'DP_CHOKE_SIZE(t)', 'BORE_GAS_VOL(t)', 'BORE_WAT_VOL(t)'], axis=1, inplace= True)\n"
      ],
      "metadata": {
        "id": "3pKtD-x--GNV"
      },
      "execution_count": 655,
      "outputs": []
    },
    {
      "cell_type": "code",
      "execution_count": 633,
      "metadata": {
        "colab": {
          "base_uri": "https://localhost:8080/"
        },
        "id": "nmbQinIh7Gnp",
        "outputId": "2499df6f-b2cf-4cb3-e3c9-3780795f95e3"
      },
      "outputs": [
        {
          "output_type": "stream",
          "name": "stdout",
          "text": [
            "(73, 61) (2, 61)\n"
          ]
        }
      ],
      "source": [
        "# # split into train and test sets\n",
        "series_supervised = series_supervised.values\n",
        "train_size = int(series_supervised.shape[0] * 0.98)\n",
        "test_size = series_supervised.shape[0] - train_size\n",
        "train, test = series_supervised[0:train_size], series_supervised[train_size:]\n",
        "print(train.shape, test.shape)"
      ]
    },
    {
      "cell_type": "code",
      "execution_count": 634,
      "metadata": {
        "colab": {
          "base_uri": "https://localhost:8080/"
        },
        "id": "tvaAPiiS7y4v",
        "outputId": "c8e455cf-0b58-4016-8a2f-09a018e6d0c0"
      },
      "outputs": [
        {
          "output_type": "stream",
          "name": "stdout",
          "text": [
            "(73, 61) (2, 61)\n"
          ]
        }
      ],
      "source": [
        "# transform the scale of the data\n",
        "scaler, train_scaled, test_scaled = scale(train, test)\n",
        "print(train_scaled.shape, test_scaled.shape)"
      ]
    },
    {
      "cell_type": "code",
      "execution_count": 635,
      "metadata": {
        "colab": {
          "base_uri": "https://localhost:8080/"
        },
        "id": "AjDT7Ud5l522",
        "outputId": "79e862ae-9cb3-4f1d-b907-0c7b5775839f"
      },
      "outputs": [
        {
          "output_type": "stream",
          "name": "stdout",
          "text": [
            "(73, 5, 12) (73, 1) (2, 5, 12) (2, 1)\n"
          ]
        }
      ],
      "source": [
        "# # reshape input to be 3D [samples, timesteps, features]\n",
        "n_features = 12 \n",
        "\n",
        "train_X, train_y = train_scaled[:, 0:-steps_ahead], train_scaled[:, -steps_ahead:]\n",
        "train_X = train_X.reshape(train_X.shape[0], timesteps, n_features)\n",
        "test_X, test_y = test_scaled[:, 0:-steps_ahead], test_scaled[:, -steps_ahead:]\n",
        "test_X = test_X.reshape(test_X.shape[0], timesteps, n_features )\n",
        "print(train_X.shape, train_y.shape, test_X.shape, test_y.shape)"
      ]
    },
    {
      "cell_type": "code",
      "execution_count": 645,
      "metadata": {
        "colab": {
          "base_uri": "https://localhost:8080/"
        },
        "id": "SeooCz3fWgh4",
        "outputId": "0458ed17-7aaf-4559-bc8f-22c2f972301c"
      },
      "outputs": [
        {
          "output_type": "stream",
          "name": "stdout",
          "text": [
            "Epoch 1/208\n",
            "73/73 - 3s - loss: 0.2915 - val_loss: 0.2558 - 3s/epoch - 36ms/step\n",
            "Epoch 2/208\n",
            "73/73 - 0s - loss: 0.1456 - val_loss: 0.1177 - 170ms/epoch - 2ms/step\n",
            "Epoch 3/208\n",
            "73/73 - 0s - loss: 0.0785 - val_loss: 0.0542 - 174ms/epoch - 2ms/step\n",
            "Epoch 4/208\n",
            "73/73 - 0s - loss: 0.0552 - val_loss: 0.0304 - 162ms/epoch - 2ms/step\n",
            "Epoch 5/208\n",
            "73/73 - 0s - loss: 0.0482 - val_loss: 0.0223 - 190ms/epoch - 3ms/step\n",
            "Epoch 6/208\n",
            "73/73 - 0s - loss: 0.0458 - val_loss: 0.0196 - 185ms/epoch - 3ms/step\n",
            "Epoch 7/208\n",
            "73/73 - 0s - loss: 0.0445 - val_loss: 0.0188 - 237ms/epoch - 3ms/step\n",
            "Epoch 8/208\n",
            "73/73 - 0s - loss: 0.0436 - val_loss: 0.0185 - 232ms/epoch - 3ms/step\n",
            "Epoch 9/208\n",
            "73/73 - 0s - loss: 0.0428 - val_loss: 0.0184 - 235ms/epoch - 3ms/step\n",
            "Epoch 10/208\n",
            "73/73 - 0s - loss: 0.0420 - val_loss: 0.0183 - 242ms/epoch - 3ms/step\n",
            "Epoch 11/208\n",
            "73/73 - 0s - loss: 0.0413 - val_loss: 0.0183 - 231ms/epoch - 3ms/step\n",
            "Epoch 12/208\n",
            "73/73 - 0s - loss: 0.0405 - val_loss: 0.0183 - 247ms/epoch - 3ms/step\n",
            "Epoch 13/208\n",
            "73/73 - 0s - loss: 0.0398 - val_loss: 0.0182 - 235ms/epoch - 3ms/step\n",
            "Epoch 14/208\n",
            "73/73 - 0s - loss: 0.0391 - val_loss: 0.0182 - 236ms/epoch - 3ms/step\n",
            "Epoch 15/208\n",
            "73/73 - 0s - loss: 0.0385 - val_loss: 0.0181 - 236ms/epoch - 3ms/step\n",
            "Epoch 16/208\n",
            "73/73 - 0s - loss: 0.0378 - val_loss: 0.0181 - 242ms/epoch - 3ms/step\n",
            "Epoch 17/208\n",
            "73/73 - 0s - loss: 0.0372 - val_loss: 0.0180 - 245ms/epoch - 3ms/step\n",
            "Epoch 18/208\n",
            "73/73 - 0s - loss: 0.0366 - val_loss: 0.0179 - 239ms/epoch - 3ms/step\n",
            "Epoch 19/208\n",
            "73/73 - 0s - loss: 0.0360 - val_loss: 0.0178 - 239ms/epoch - 3ms/step\n",
            "Epoch 20/208\n",
            "73/73 - 0s - loss: 0.0355 - val_loss: 0.0178 - 233ms/epoch - 3ms/step\n",
            "Epoch 21/208\n",
            "73/73 - 0s - loss: 0.0349 - val_loss: 0.0177 - 243ms/epoch - 3ms/step\n",
            "Epoch 22/208\n",
            "73/73 - 0s - loss: 0.0344 - val_loss: 0.0176 - 241ms/epoch - 3ms/step\n",
            "Epoch 23/208\n",
            "73/73 - 0s - loss: 0.0339 - val_loss: 0.0174 - 202ms/epoch - 3ms/step\n",
            "Epoch 24/208\n",
            "73/73 - 0s - loss: 0.0334 - val_loss: 0.0173 - 160ms/epoch - 2ms/step\n",
            "Epoch 25/208\n",
            "73/73 - 0s - loss: 0.0330 - val_loss: 0.0172 - 158ms/epoch - 2ms/step\n",
            "Epoch 26/208\n",
            "73/73 - 0s - loss: 0.0325 - val_loss: 0.0171 - 167ms/epoch - 2ms/step\n",
            "Epoch 27/208\n",
            "73/73 - 0s - loss: 0.0321 - val_loss: 0.0169 - 163ms/epoch - 2ms/step\n",
            "Epoch 28/208\n",
            "73/73 - 0s - loss: 0.0316 - val_loss: 0.0168 - 157ms/epoch - 2ms/step\n",
            "Epoch 29/208\n",
            "73/73 - 0s - loss: 0.0312 - val_loss: 0.0167 - 156ms/epoch - 2ms/step\n",
            "Epoch 30/208\n",
            "73/73 - 0s - loss: 0.0308 - val_loss: 0.0165 - 165ms/epoch - 2ms/step\n",
            "Epoch 31/208\n",
            "73/73 - 0s - loss: 0.0304 - val_loss: 0.0164 - 161ms/epoch - 2ms/step\n",
            "Epoch 32/208\n",
            "73/73 - 0s - loss: 0.0300 - val_loss: 0.0162 - 163ms/epoch - 2ms/step\n",
            "Epoch 33/208\n",
            "73/73 - 0s - loss: 0.0297 - val_loss: 0.0160 - 181ms/epoch - 2ms/step\n",
            "Epoch 34/208\n",
            "73/73 - 0s - loss: 0.0293 - val_loss: 0.0159 - 162ms/epoch - 2ms/step\n",
            "Epoch 35/208\n",
            "73/73 - 0s - loss: 0.0290 - val_loss: 0.0157 - 154ms/epoch - 2ms/step\n",
            "Epoch 36/208\n",
            "73/73 - 0s - loss: 0.0286 - val_loss: 0.0155 - 159ms/epoch - 2ms/step\n",
            "Epoch 37/208\n",
            "73/73 - 0s - loss: 0.0283 - val_loss: 0.0153 - 159ms/epoch - 2ms/step\n",
            "Epoch 38/208\n",
            "73/73 - 0s - loss: 0.0280 - val_loss: 0.0152 - 168ms/epoch - 2ms/step\n",
            "Epoch 39/208\n",
            "73/73 - 0s - loss: 0.0277 - val_loss: 0.0150 - 168ms/epoch - 2ms/step\n",
            "Epoch 40/208\n",
            "73/73 - 0s - loss: 0.0274 - val_loss: 0.0148 - 164ms/epoch - 2ms/step\n",
            "Epoch 41/208\n",
            "73/73 - 0s - loss: 0.0271 - val_loss: 0.0146 - 158ms/epoch - 2ms/step\n",
            "Epoch 42/208\n",
            "73/73 - 0s - loss: 0.0268 - val_loss: 0.0144 - 174ms/epoch - 2ms/step\n",
            "Epoch 43/208\n",
            "73/73 - 0s - loss: 0.0265 - val_loss: 0.0143 - 161ms/epoch - 2ms/step\n",
            "Epoch 44/208\n",
            "73/73 - 0s - loss: 0.0263 - val_loss: 0.0141 - 164ms/epoch - 2ms/step\n",
            "Epoch 45/208\n",
            "73/73 - 0s - loss: 0.0260 - val_loss: 0.0139 - 163ms/epoch - 2ms/step\n",
            "Epoch 46/208\n",
            "73/73 - 0s - loss: 0.0257 - val_loss: 0.0137 - 178ms/epoch - 2ms/step\n",
            "Epoch 47/208\n",
            "73/73 - 0s - loss: 0.0255 - val_loss: 0.0135 - 170ms/epoch - 2ms/step\n",
            "Epoch 48/208\n",
            "73/73 - 0s - loss: 0.0252 - val_loss: 0.0133 - 157ms/epoch - 2ms/step\n",
            "Epoch 49/208\n",
            "73/73 - 0s - loss: 0.0250 - val_loss: 0.0131 - 174ms/epoch - 2ms/step\n",
            "Epoch 50/208\n",
            "73/73 - 0s - loss: 0.0248 - val_loss: 0.0129 - 153ms/epoch - 2ms/step\n",
            "Epoch 51/208\n",
            "73/73 - 0s - loss: 0.0245 - val_loss: 0.0128 - 167ms/epoch - 2ms/step\n",
            "Epoch 52/208\n",
            "73/73 - 0s - loss: 0.0243 - val_loss: 0.0126 - 169ms/epoch - 2ms/step\n",
            "Epoch 53/208\n",
            "73/73 - 0s - loss: 0.0241 - val_loss: 0.0124 - 154ms/epoch - 2ms/step\n",
            "Epoch 54/208\n",
            "73/73 - 0s - loss: 0.0239 - val_loss: 0.0122 - 152ms/epoch - 2ms/step\n",
            "Epoch 55/208\n",
            "73/73 - 0s - loss: 0.0236 - val_loss: 0.0120 - 162ms/epoch - 2ms/step\n",
            "Epoch 56/208\n",
            "73/73 - 0s - loss: 0.0234 - val_loss: 0.0118 - 159ms/epoch - 2ms/step\n",
            "Epoch 57/208\n",
            "73/73 - 0s - loss: 0.0232 - val_loss: 0.0117 - 164ms/epoch - 2ms/step\n",
            "Epoch 58/208\n",
            "73/73 - 0s - loss: 0.0230 - val_loss: 0.0115 - 168ms/epoch - 2ms/step\n",
            "Epoch 59/208\n",
            "73/73 - 0s - loss: 0.0228 - val_loss: 0.0113 - 157ms/epoch - 2ms/step\n",
            "Epoch 60/208\n",
            "73/73 - 0s - loss: 0.0226 - val_loss: 0.0111 - 167ms/epoch - 2ms/step\n",
            "Epoch 61/208\n",
            "73/73 - 0s - loss: 0.0224 - val_loss: 0.0110 - 154ms/epoch - 2ms/step\n",
            "Epoch 62/208\n",
            "73/73 - 0s - loss: 0.0222 - val_loss: 0.0108 - 170ms/epoch - 2ms/step\n",
            "Epoch 63/208\n",
            "73/73 - 0s - loss: 0.0220 - val_loss: 0.0106 - 165ms/epoch - 2ms/step\n",
            "Epoch 64/208\n",
            "73/73 - 0s - loss: 0.0218 - val_loss: 0.0104 - 161ms/epoch - 2ms/step\n",
            "Epoch 65/208\n",
            "73/73 - 0s - loss: 0.0216 - val_loss: 0.0103 - 168ms/epoch - 2ms/step\n",
            "Epoch 66/208\n",
            "73/73 - 0s - loss: 0.0214 - val_loss: 0.0101 - 175ms/epoch - 2ms/step\n",
            "Epoch 67/208\n",
            "73/73 - 0s - loss: 0.0213 - val_loss: 0.0099 - 168ms/epoch - 2ms/step\n",
            "Epoch 68/208\n",
            "73/73 - 0s - loss: 0.0211 - val_loss: 0.0098 - 155ms/epoch - 2ms/step\n",
            "Epoch 69/208\n",
            "73/73 - 0s - loss: 0.0209 - val_loss: 0.0096 - 161ms/epoch - 2ms/step\n",
            "Epoch 70/208\n",
            "73/73 - 0s - loss: 0.0207 - val_loss: 0.0094 - 166ms/epoch - 2ms/step\n",
            "Epoch 71/208\n",
            "73/73 - 0s - loss: 0.0205 - val_loss: 0.0093 - 180ms/epoch - 2ms/step\n",
            "Epoch 72/208\n",
            "73/73 - 0s - loss: 0.0203 - val_loss: 0.0091 - 155ms/epoch - 2ms/step\n",
            "Epoch 73/208\n",
            "73/73 - 0s - loss: 0.0202 - val_loss: 0.0089 - 154ms/epoch - 2ms/step\n",
            "Epoch 74/208\n",
            "73/73 - 0s - loss: 0.0200 - val_loss: 0.0088 - 160ms/epoch - 2ms/step\n",
            "Epoch 75/208\n",
            "73/73 - 0s - loss: 0.0198 - val_loss: 0.0086 - 160ms/epoch - 2ms/step\n",
            "Epoch 76/208\n",
            "73/73 - 0s - loss: 0.0196 - val_loss: 0.0085 - 167ms/epoch - 2ms/step\n",
            "Epoch 77/208\n",
            "73/73 - 0s - loss: 0.0195 - val_loss: 0.0083 - 159ms/epoch - 2ms/step\n",
            "Epoch 78/208\n",
            "73/73 - 0s - loss: 0.0193 - val_loss: 0.0082 - 163ms/epoch - 2ms/step\n",
            "Epoch 79/208\n",
            "73/73 - 0s - loss: 0.0191 - val_loss: 0.0080 - 156ms/epoch - 2ms/step\n",
            "Epoch 80/208\n",
            "73/73 - 0s - loss: 0.0189 - val_loss: 0.0079 - 164ms/epoch - 2ms/step\n",
            "Epoch 81/208\n",
            "73/73 - 0s - loss: 0.0188 - val_loss: 0.0077 - 159ms/epoch - 2ms/step\n",
            "Epoch 82/208\n",
            "73/73 - 0s - loss: 0.0186 - val_loss: 0.0076 - 168ms/epoch - 2ms/step\n",
            "Epoch 83/208\n",
            "73/73 - 0s - loss: 0.0184 - val_loss: 0.0074 - 168ms/epoch - 2ms/step\n",
            "Epoch 84/208\n",
            "73/73 - 0s - loss: 0.0182 - val_loss: 0.0073 - 156ms/epoch - 2ms/step\n",
            "Epoch 85/208\n",
            "73/73 - 0s - loss: 0.0181 - val_loss: 0.0071 - 168ms/epoch - 2ms/step\n",
            "Epoch 86/208\n",
            "73/73 - 0s - loss: 0.0179 - val_loss: 0.0070 - 159ms/epoch - 2ms/step\n",
            "Epoch 87/208\n",
            "73/73 - 0s - loss: 0.0177 - val_loss: 0.0068 - 160ms/epoch - 2ms/step\n",
            "Epoch 88/208\n",
            "73/73 - 0s - loss: 0.0176 - val_loss: 0.0067 - 164ms/epoch - 2ms/step\n",
            "Epoch 89/208\n",
            "73/73 - 0s - loss: 0.0174 - val_loss: 0.0066 - 167ms/epoch - 2ms/step\n",
            "Epoch 90/208\n",
            "73/73 - 0s - loss: 0.0173 - val_loss: 0.0064 - 154ms/epoch - 2ms/step\n",
            "Epoch 91/208\n",
            "73/73 - 0s - loss: 0.0171 - val_loss: 0.0063 - 162ms/epoch - 2ms/step\n",
            "Epoch 92/208\n",
            "73/73 - 0s - loss: 0.0169 - val_loss: 0.0062 - 154ms/epoch - 2ms/step\n",
            "Epoch 93/208\n",
            "73/73 - 0s - loss: 0.0168 - val_loss: 0.0061 - 159ms/epoch - 2ms/step\n",
            "Epoch 94/208\n",
            "73/73 - 0s - loss: 0.0166 - val_loss: 0.0059 - 165ms/epoch - 2ms/step\n",
            "Epoch 95/208\n",
            "73/73 - 0s - loss: 0.0165 - val_loss: 0.0058 - 155ms/epoch - 2ms/step\n",
            "Epoch 96/208\n",
            "73/73 - 0s - loss: 0.0163 - val_loss: 0.0057 - 165ms/epoch - 2ms/step\n",
            "Epoch 97/208\n",
            "73/73 - 0s - loss: 0.0162 - val_loss: 0.0056 - 155ms/epoch - 2ms/step\n",
            "Epoch 98/208\n",
            "73/73 - 0s - loss: 0.0160 - val_loss: 0.0055 - 170ms/epoch - 2ms/step\n",
            "Epoch 99/208\n",
            "73/73 - 0s - loss: 0.0159 - val_loss: 0.0054 - 156ms/epoch - 2ms/step\n",
            "Epoch 100/208\n",
            "73/73 - 0s - loss: 0.0157 - val_loss: 0.0053 - 154ms/epoch - 2ms/step\n",
            "Epoch 101/208\n",
            "73/73 - 0s - loss: 0.0156 - val_loss: 0.0052 - 168ms/epoch - 2ms/step\n",
            "Epoch 102/208\n",
            "73/73 - 0s - loss: 0.0154 - val_loss: 0.0050 - 159ms/epoch - 2ms/step\n",
            "Epoch 103/208\n",
            "73/73 - 0s - loss: 0.0153 - val_loss: 0.0049 - 165ms/epoch - 2ms/step\n",
            "Epoch 104/208\n",
            "73/73 - 0s - loss: 0.0152 - val_loss: 0.0049 - 165ms/epoch - 2ms/step\n",
            "Epoch 105/208\n",
            "73/73 - 0s - loss: 0.0150 - val_loss: 0.0048 - 161ms/epoch - 2ms/step\n",
            "Epoch 106/208\n",
            "73/73 - 0s - loss: 0.0149 - val_loss: 0.0047 - 157ms/epoch - 2ms/step\n",
            "Epoch 107/208\n",
            "73/73 - 0s - loss: 0.0148 - val_loss: 0.0046 - 172ms/epoch - 2ms/step\n",
            "Epoch 108/208\n",
            "73/73 - 0s - loss: 0.0146 - val_loss: 0.0045 - 179ms/epoch - 2ms/step\n",
            "Epoch 109/208\n",
            "73/73 - 0s - loss: 0.0145 - val_loss: 0.0044 - 164ms/epoch - 2ms/step\n",
            "Epoch 110/208\n",
            "73/73 - 0s - loss: 0.0144 - val_loss: 0.0043 - 160ms/epoch - 2ms/step\n",
            "Epoch 111/208\n",
            "73/73 - 0s - loss: 0.0142 - val_loss: 0.0042 - 164ms/epoch - 2ms/step\n",
            "Epoch 112/208\n",
            "73/73 - 0s - loss: 0.0141 - val_loss: 0.0041 - 176ms/epoch - 2ms/step\n",
            "Epoch 113/208\n",
            "73/73 - 0s - loss: 0.0140 - val_loss: 0.0041 - 163ms/epoch - 2ms/step\n",
            "Epoch 114/208\n",
            "73/73 - 0s - loss: 0.0139 - val_loss: 0.0040 - 163ms/epoch - 2ms/step\n",
            "Epoch 115/208\n",
            "73/73 - 0s - loss: 0.0137 - val_loss: 0.0039 - 157ms/epoch - 2ms/step\n",
            "Epoch 116/208\n",
            "73/73 - 0s - loss: 0.0136 - val_loss: 0.0038 - 169ms/epoch - 2ms/step\n",
            "Epoch 117/208\n",
            "73/73 - 0s - loss: 0.0135 - val_loss: 0.0038 - 156ms/epoch - 2ms/step\n",
            "Epoch 118/208\n",
            "73/73 - 0s - loss: 0.0134 - val_loss: 0.0037 - 161ms/epoch - 2ms/step\n",
            "Epoch 119/208\n",
            "73/73 - 0s - loss: 0.0133 - val_loss: 0.0036 - 162ms/epoch - 2ms/step\n",
            "Epoch 120/208\n",
            "73/73 - 0s - loss: 0.0132 - val_loss: 0.0036 - 173ms/epoch - 2ms/step\n",
            "Epoch 121/208\n",
            "73/73 - 0s - loss: 0.0131 - val_loss: 0.0035 - 155ms/epoch - 2ms/step\n",
            "Epoch 122/208\n",
            "73/73 - 0s - loss: 0.0129 - val_loss: 0.0035 - 169ms/epoch - 2ms/step\n",
            "Epoch 123/208\n",
            "73/73 - 0s - loss: 0.0128 - val_loss: 0.0034 - 157ms/epoch - 2ms/step\n",
            "Epoch 124/208\n",
            "73/73 - 0s - loss: 0.0127 - val_loss: 0.0033 - 169ms/epoch - 2ms/step\n",
            "Epoch 125/208\n",
            "73/73 - 0s - loss: 0.0126 - val_loss: 0.0033 - 162ms/epoch - 2ms/step\n",
            "Epoch 126/208\n",
            "73/73 - 0s - loss: 0.0125 - val_loss: 0.0032 - 168ms/epoch - 2ms/step\n",
            "Epoch 127/208\n",
            "73/73 - 0s - loss: 0.0124 - val_loss: 0.0032 - 156ms/epoch - 2ms/step\n",
            "Epoch 128/208\n",
            "73/73 - 0s - loss: 0.0123 - val_loss: 0.0031 - 169ms/epoch - 2ms/step\n",
            "Epoch 129/208\n",
            "73/73 - 0s - loss: 0.0122 - val_loss: 0.0031 - 163ms/epoch - 2ms/step\n",
            "Epoch 130/208\n",
            "73/73 - 0s - loss: 0.0121 - val_loss: 0.0030 - 161ms/epoch - 2ms/step\n",
            "Epoch 131/208\n",
            "73/73 - 0s - loss: 0.0120 - val_loss: 0.0030 - 162ms/epoch - 2ms/step\n",
            "Epoch 132/208\n",
            "73/73 - 0s - loss: 0.0119 - val_loss: 0.0029 - 173ms/epoch - 2ms/step\n",
            "Epoch 133/208\n",
            "73/73 - 0s - loss: 0.0118 - val_loss: 0.0029 - 159ms/epoch - 2ms/step\n",
            "Epoch 134/208\n",
            "73/73 - 0s - loss: 0.0117 - val_loss: 0.0029 - 168ms/epoch - 2ms/step\n",
            "Epoch 135/208\n",
            "73/73 - 0s - loss: 0.0116 - val_loss: 0.0028 - 155ms/epoch - 2ms/step\n",
            "Epoch 136/208\n",
            "73/73 - 0s - loss: 0.0116 - val_loss: 0.0028 - 153ms/epoch - 2ms/step\n",
            "Epoch 137/208\n",
            "73/73 - 0s - loss: 0.0115 - val_loss: 0.0028 - 162ms/epoch - 2ms/step\n",
            "Epoch 138/208\n",
            "73/73 - 0s - loss: 0.0114 - val_loss: 0.0027 - 167ms/epoch - 2ms/step\n",
            "Epoch 139/208\n",
            "73/73 - 0s - loss: 0.0113 - val_loss: 0.0027 - 158ms/epoch - 2ms/step\n",
            "Epoch 140/208\n",
            "73/73 - 0s - loss: 0.0112 - val_loss: 0.0027 - 162ms/epoch - 2ms/step\n",
            "Epoch 141/208\n",
            "73/73 - 0s - loss: 0.0111 - val_loss: 0.0026 - 158ms/epoch - 2ms/step\n",
            "Epoch 142/208\n",
            "73/73 - 0s - loss: 0.0110 - val_loss: 0.0026 - 163ms/epoch - 2ms/step\n",
            "Epoch 143/208\n",
            "73/73 - 0s - loss: 0.0109 - val_loss: 0.0026 - 161ms/epoch - 2ms/step\n",
            "Epoch 144/208\n",
            "73/73 - 0s - loss: 0.0109 - val_loss: 0.0025 - 165ms/epoch - 2ms/step\n",
            "Epoch 145/208\n",
            "73/73 - 0s - loss: 0.0108 - val_loss: 0.0025 - 175ms/epoch - 2ms/step\n",
            "Epoch 146/208\n",
            "73/73 - 0s - loss: 0.0107 - val_loss: 0.0025 - 160ms/epoch - 2ms/step\n",
            "Epoch 147/208\n",
            "73/73 - 0s - loss: 0.0106 - val_loss: 0.0025 - 165ms/epoch - 2ms/step\n",
            "Epoch 148/208\n",
            "73/73 - 0s - loss: 0.0105 - val_loss: 0.0024 - 168ms/epoch - 2ms/step\n",
            "Epoch 149/208\n",
            "73/73 - 0s - loss: 0.0104 - val_loss: 0.0024 - 165ms/epoch - 2ms/step\n",
            "Epoch 150/208\n",
            "73/73 - 0s - loss: 0.0104 - val_loss: 0.0024 - 164ms/epoch - 2ms/step\n",
            "Epoch 151/208\n",
            "73/73 - 0s - loss: 0.0103 - val_loss: 0.0024 - 167ms/epoch - 2ms/step\n",
            "Epoch 152/208\n",
            "73/73 - 0s - loss: 0.0102 - val_loss: 0.0023 - 178ms/epoch - 2ms/step\n",
            "Epoch 153/208\n",
            "73/73 - 0s - loss: 0.0101 - val_loss: 0.0023 - 161ms/epoch - 2ms/step\n",
            "Epoch 154/208\n",
            "73/73 - 0s - loss: 0.0100 - val_loss: 0.0023 - 159ms/epoch - 2ms/step\n",
            "Epoch 155/208\n",
            "73/73 - 0s - loss: 0.0100 - val_loss: 0.0023 - 179ms/epoch - 2ms/step\n",
            "Epoch 156/208\n",
            "73/73 - 0s - loss: 0.0099 - val_loss: 0.0023 - 156ms/epoch - 2ms/step\n",
            "Epoch 157/208\n",
            "73/73 - 0s - loss: 0.0098 - val_loss: 0.0022 - 161ms/epoch - 2ms/step\n",
            "Epoch 158/208\n",
            "73/73 - 0s - loss: 0.0097 - val_loss: 0.0022 - 153ms/epoch - 2ms/step\n",
            "Epoch 159/208\n",
            "73/73 - 0s - loss: 0.0097 - val_loss: 0.0022 - 164ms/epoch - 2ms/step\n",
            "Epoch 160/208\n",
            "73/73 - 0s - loss: 0.0096 - val_loss: 0.0022 - 153ms/epoch - 2ms/step\n",
            "Epoch 161/208\n",
            "73/73 - 0s - loss: 0.0095 - val_loss: 0.0022 - 162ms/epoch - 2ms/step\n",
            "Epoch 162/208\n",
            "73/73 - 0s - loss: 0.0094 - val_loss: 0.0022 - 164ms/epoch - 2ms/step\n",
            "Epoch 163/208\n",
            "73/73 - 0s - loss: 0.0094 - val_loss: 0.0022 - 181ms/epoch - 2ms/step\n",
            "Epoch 164/208\n",
            "73/73 - 0s - loss: 0.0093 - val_loss: 0.0021 - 154ms/epoch - 2ms/step\n",
            "Epoch 165/208\n",
            "73/73 - 0s - loss: 0.0092 - val_loss: 0.0021 - 173ms/epoch - 2ms/step\n",
            "Epoch 166/208\n",
            "73/73 - 0s - loss: 0.0091 - val_loss: 0.0021 - 159ms/epoch - 2ms/step\n",
            "Epoch 167/208\n",
            "73/73 - 0s - loss: 0.0091 - val_loss: 0.0021 - 159ms/epoch - 2ms/step\n",
            "Epoch 168/208\n",
            "73/73 - 0s - loss: 0.0090 - val_loss: 0.0021 - 163ms/epoch - 2ms/step\n",
            "Epoch 169/208\n",
            "73/73 - 0s - loss: 0.0089 - val_loss: 0.0021 - 169ms/epoch - 2ms/step\n",
            "Epoch 170/208\n",
            "73/73 - 0s - loss: 0.0088 - val_loss: 0.0021 - 156ms/epoch - 2ms/step\n",
            "Epoch 171/208\n",
            "73/73 - 0s - loss: 0.0088 - val_loss: 0.0021 - 170ms/epoch - 2ms/step\n",
            "Epoch 172/208\n",
            "73/73 - 0s - loss: 0.0087 - val_loss: 0.0020 - 161ms/epoch - 2ms/step\n",
            "Epoch 173/208\n",
            "73/73 - 0s - loss: 0.0086 - val_loss: 0.0020 - 167ms/epoch - 2ms/step\n",
            "Epoch 174/208\n",
            "73/73 - 0s - loss: 0.0086 - val_loss: 0.0020 - 195ms/epoch - 3ms/step\n",
            "Epoch 175/208\n",
            "73/73 - 0s - loss: 0.0085 - val_loss: 0.0020 - 153ms/epoch - 2ms/step\n",
            "Epoch 176/208\n",
            "73/73 - 0s - loss: 0.0084 - val_loss: 0.0020 - 164ms/epoch - 2ms/step\n",
            "Epoch 177/208\n",
            "73/73 - 0s - loss: 0.0083 - val_loss: 0.0020 - 162ms/epoch - 2ms/step\n",
            "Epoch 178/208\n",
            "73/73 - 0s - loss: 0.0083 - val_loss: 0.0020 - 157ms/epoch - 2ms/step\n",
            "Epoch 179/208\n",
            "73/73 - 0s - loss: 0.0082 - val_loss: 0.0020 - 199ms/epoch - 3ms/step\n",
            "Epoch 180/208\n",
            "73/73 - 0s - loss: 0.0081 - val_loss: 0.0020 - 368ms/epoch - 5ms/step\n",
            "Epoch 181/208\n",
            "73/73 - 0s - loss: 0.0081 - val_loss: 0.0020 - 362ms/epoch - 5ms/step\n",
            "Epoch 182/208\n",
            "73/73 - 0s - loss: 0.0080 - val_loss: 0.0020 - 304ms/epoch - 4ms/step\n",
            "Epoch 183/208\n",
            "73/73 - 0s - loss: 0.0079 - val_loss: 0.0019 - 165ms/epoch - 2ms/step\n",
            "Epoch 184/208\n",
            "73/73 - 0s - loss: 0.0079 - val_loss: 0.0019 - 170ms/epoch - 2ms/step\n",
            "Epoch 185/208\n",
            "73/73 - 0s - loss: 0.0078 - val_loss: 0.0019 - 165ms/epoch - 2ms/step\n",
            "Epoch 186/208\n",
            "73/73 - 0s - loss: 0.0077 - val_loss: 0.0019 - 163ms/epoch - 2ms/step\n",
            "Epoch 187/208\n",
            "73/73 - 0s - loss: 0.0077 - val_loss: 0.0019 - 157ms/epoch - 2ms/step\n",
            "Epoch 188/208\n",
            "73/73 - 0s - loss: 0.0076 - val_loss: 0.0019 - 160ms/epoch - 2ms/step\n",
            "Epoch 189/208\n",
            "73/73 - 0s - loss: 0.0076 - val_loss: 0.0019 - 171ms/epoch - 2ms/step\n",
            "Epoch 190/208\n",
            "73/73 - 0s - loss: 0.0075 - val_loss: 0.0019 - 161ms/epoch - 2ms/step\n",
            "Epoch 191/208\n",
            "73/73 - 0s - loss: 0.0074 - val_loss: 0.0019 - 161ms/epoch - 2ms/step\n",
            "Epoch 192/208\n",
            "73/73 - 0s - loss: 0.0074 - val_loss: 0.0019 - 170ms/epoch - 2ms/step\n",
            "Epoch 193/208\n",
            "73/73 - 0s - loss: 0.0073 - val_loss: 0.0019 - 162ms/epoch - 2ms/step\n",
            "Epoch 194/208\n",
            "73/73 - 0s - loss: 0.0073 - val_loss: 0.0019 - 156ms/epoch - 2ms/step\n",
            "Epoch 195/208\n",
            "73/73 - 0s - loss: 0.0072 - val_loss: 0.0019 - 158ms/epoch - 2ms/step\n",
            "Epoch 196/208\n",
            "73/73 - 0s - loss: 0.0071 - val_loss: 0.0019 - 165ms/epoch - 2ms/step\n",
            "Epoch 197/208\n",
            "73/73 - 0s - loss: 0.0071 - val_loss: 0.0019 - 163ms/epoch - 2ms/step\n",
            "Epoch 198/208\n",
            "73/73 - 0s - loss: 0.0070 - val_loss: 0.0019 - 155ms/epoch - 2ms/step\n",
            "Epoch 199/208\n",
            "73/73 - 0s - loss: 0.0070 - val_loss: 0.0019 - 172ms/epoch - 2ms/step\n",
            "Epoch 200/208\n",
            "73/73 - 0s - loss: 0.0069 - val_loss: 0.0019 - 160ms/epoch - 2ms/step\n",
            "Epoch 201/208\n",
            "73/73 - 0s - loss: 0.0068 - val_loss: 0.0019 - 168ms/epoch - 2ms/step\n",
            "Epoch 202/208\n",
            "73/73 - 0s - loss: 0.0068 - val_loss: 0.0019 - 158ms/epoch - 2ms/step\n",
            "Epoch 203/208\n",
            "73/73 - 0s - loss: 0.0067 - val_loss: 0.0019 - 172ms/epoch - 2ms/step\n",
            "Epoch 204/208\n",
            "73/73 - 0s - loss: 0.0067 - val_loss: 0.0019 - 160ms/epoch - 2ms/step\n",
            "Epoch 205/208\n",
            "73/73 - 0s - loss: 0.0066 - val_loss: 0.0019 - 164ms/epoch - 2ms/step\n",
            "Epoch 206/208\n",
            "73/73 - 0s - loss: 0.0066 - val_loss: 0.0019 - 167ms/epoch - 2ms/step\n",
            "Epoch 207/208\n",
            "73/73 - 0s - loss: 0.0065 - val_loss: 0.0019 - 163ms/epoch - 2ms/step\n",
            "Epoch 208/208\n",
            "73/73 - 0s - loss: 0.0065 - val_loss: 0.0019 - 171ms/epoch - 2ms/step\n"
          ]
        }
      ],
      "source": [
        "import os\n",
        "os.environ[\"CUDA_DEVICE_ORDER\"] = \"PCI_BUS_ID\"  \n",
        "os.environ[\"CUDA_VISIBLE_DEVICES\"] = \"\"\n",
        "os.environ['PYTHONHASHSEED'] = '0'\n",
        "np.random.seed(42)\n",
        "np.random.seed(12345)\n",
        "session_conf = tf.compat.v1.ConfigProto(intra_op_parallelism_threads=1, inter_op_parallelism_threads=1)\n",
        "\n",
        "from keras import backend as K\n",
        "tf.random.set_seed(1234)\n",
        "\n",
        "sess = tf.compat.v1.Session(graph=tf.compat.v1.get_default_graph(), config=session_conf)\n",
        "K.set_session(sess)\n",
        "\n",
        "# fit the model\n",
        "neurons= [12]#12 \n",
        "n_epochs=208#186\n",
        "batch_size=1\n",
        "\n",
        "model = Sequential()\n",
        "#model.add(LSTM(neurons[0], batch_input_shape=(batch_size, timesteps, n_features), stateful=True))\n",
        "#model.add(LSTM(neurons[0], input_shape=(timesteps, n_features), return_sequences=True))\n",
        "#model.add(Dropout(0.2))\n",
        "model.add(LSTM(neurons[0], input_shape=(timesteps, n_features)))\n",
        "model.add(Dense(steps_ahead))\n",
        "model.compile(loss='mean_squared_error', optimizer=tf.keras.optimizers.Adam(learning_rate=0.0001))\n",
        "\n",
        "from keras.callbacks import EarlyStopping\n",
        "# early stopping\n",
        "#es = EarlyStopping(monitor='loss', patience=2, verbose=1)\n",
        "history = model.fit(train_X, train_y, epochs=n_epochs, batch_size=1, validation_data=(test_X, test_y), verbose=2,\n",
        "                     shuffle=False)\n",
        "#model.reset_states()"
      ]
    },
    {
      "cell_type": "code",
      "execution_count": 646,
      "metadata": {
        "colab": {
          "base_uri": "https://localhost:8080/",
          "height": 349
        },
        "id": "Om2PkqgiVjri",
        "outputId": "415b398c-d0d1-4290-cffa-73f350f89d5e"
      },
      "outputs": [
        {
          "output_type": "display_data",
          "data": {
            "text/plain": [
              "<Figure size 1296x432 with 1 Axes>"
            ],
            "image/png": "[encoded data removed]"
          },
          "metadata": {
            "needs_background": "light"
          }
        }
      ],
      "source": [
        "fig, ax = plt.subplots(1, 1, figsize=(18,6)) \n",
        "ax.xaxis.set_major_locator(plt.MultipleLocator(5))\n",
        "#plt.plot(history.history['loss'], label='train')\n",
        "plt.plot(history.history['val_loss'], label='test')\n",
        "plt.legend(fontsize=15)\n",
        "plt.show()"
      ]
    },
    {
      "cell_type": "markdown",
      "source": [
        "**MinMax Scaler equation**\n",
        "$$x' = \\frac{(x - min)}{(max - min)} \\times (new\\ max\\ value - new\\ min\\  value) + new\\ min\\ value$$<br/>\n",
        "\n",
        "\n",
        "$$x = \\frac{(max - min)\\times (new\\ min\\ value + x') + (new\\ max\\ value - new\\ min\\ value)\\times min}{new\\ max\\ value - new\\ min\\ value}$$\n",
        "\n",
        "Where:\n",
        "\n",
        "$x$ is the inverse scaled value\n",
        "$x'$ is the scaled value\n",
        "$min$ is the minimum value of the original data\n",
        "$max$ is the maximum value of the original data.<br/>\n",
        "$new\\ max\\ value$ and $new\\ min\\ value$ is the new range that we want to scale the data to. For example: $(1,0)\\ or\\ (1,-1)$"
      ],
      "metadata": {
        "id": "SHohbk8uYRIh"
      }
    },
    {
      "cell_type": "code",
      "source": [
        "# make a prediction \n",
        "# select the number of obersvtions for prediction\n",
        "n_obs = len(test)\n",
        "yhat = model.predict(test_X[-n_obs:])\n",
        "\n",
        "\n",
        "# invert scaling \n",
        "scaled_y = pd.DataFrame(test_y)\n",
        "scaled_yhat = pd.DataFrame(yhat.ravel()) ## ravel () converting into 1D array\n",
        "#obtain the min and max from the training set\n",
        "unscaled_train = pd.DataFrame(series_supervised[:len(train)])\n",
        "#new feature range\n",
        "new_max_value = 1 \n",
        "new_min_value= 0\n",
        "feature_range = new_max_value - new_min_value\n",
        "\n",
        "def transform_column(column):\n",
        "    min_value = min(unscaled_train.iloc[:, -steps_ahead + column.name])\n",
        "    max_value = max(unscaled_train.iloc[:, -steps_ahead + column.name])\n",
        "    return ((max_value - min_value) * (new_min_value + column) + (feature_range  * min_value)) / feature_range \n",
        "    \n",
        "# invert scaling for actual\n",
        "inv_scale_y = scaled_y.apply(transform_column, axis=0)\n",
        "inv_scale_y = inv_scale_y.values.ravel() \n",
        "# invert scaling for forecast\n",
        "inv_scale_yhat = scaled_yhat.apply(transform_column, axis=0)\n",
        "inv_scale_yhat = inv_scale_yhat.values.ravel()"
      ],
      "metadata": {
        "colab": {
          "base_uri": "https://localhost:8080/"
        },
        "id": "dZ3IIvIhvHaz",
        "outputId": "f0bee085-4ec5-4a2b-dbe2-0f4491d2e765"
      },
      "execution_count": 647,
      "outputs": [
        {
          "output_type": "stream",
          "name": "stdout",
          "text": [
            "1/1 [==============================] - 0s 394ms/step\n"
          ]
        }
      ]
    },
    {
      "cell_type": "code",
      "source": [
        "test_X[-n_obs:].shape"
      ],
      "metadata": {
        "colab": {
          "base_uri": "https://localhost:8080/"
        },
        "id": "IlNDUcbr52uF",
        "outputId": "333b31c6-bf44-4123-abeb-bf8722e50d4e"
      },
      "execution_count": 556,
      "outputs": [
        {
          "output_type": "execute_result",
          "data": {
            "text/plain": [
              "(1, 5, 12)"
            ]
          },
          "metadata": {},
          "execution_count": 556
        }
      ]
    },
    {
      "cell_type": "code",
      "source": [
        "pd.DataFrame(inv_scale_y)"
      ],
      "metadata": {
        "colab": {
          "base_uri": "https://localhost:8080/",
          "height": 112
        },
        "id": "xnZOx0a_8kdZ",
        "outputId": "498ffe92-7902-4c8b-e089-5abb06b4d7cf"
      },
      "execution_count": 648,
      "outputs": [
        {
          "output_type": "execute_result",
          "data": {
            "text/plain": [
              "              0\n",
              "0  17384.218823\n",
              "1  17128.978309"
            ],
            "text/html": [
              "\n",
              "  <div id=\"df-f587d3f6-0e19-4c57-a904-3afe37fce3c6\">\n",
              "    <div class=\"colab-df-container\">\n",
              "      <div>\n",
              "<style scoped>\n",
              "    .dataframe tbody tr th:only-of-type {\n",
              "        vertical-align: middle;\n",
              "    }\n",
              "\n",
              "    .dataframe tbody tr th {\n",
              "        vertical-align: top;\n",
              "    }\n",
              "\n",
              "    .dataframe thead th {\n",
              "        text-align: right;\n",
              "    }\n",
              "</style>\n",
              "<table border=\"1\" class=\"dataframe\">\n",
              "  <thead>\n",
              "    <tr style=\"text-align: right;\">\n",
              "      <th></th>\n",
              "      <th>0</th>\n",
              "    </tr>\n",
              "  </thead>\n",
              "  <tbody>\n",
              "    <tr>\n",
              "      <th>0</th>\n",
              "      <td>17384.218823</td>\n",
              "    </tr>\n",
              "    <tr>\n",
              "      <th>1</th>\n",
              "      <td>17128.978309</td>\n",
              "    </tr>\n",
              "  </tbody>\n",
              "</table>\n",
              "</div>\n",
              "      <button class=\"colab-df-convert\" onclick=\"convertToInteractive('df-f587d3f6-0e19-4c57-a904-3afe37fce3c6')\"\n",
              "              title=\"Convert this dataframe to an interactive table.\"\n",
              "              style=\"display:none;\">\n",
              "        \n",
              "  <svg xmlns=\"http://www.w3.org/2000/svg\" height=\"24px\"viewBox=\"0 0 24 24\"\n",
              "       width=\"24px\">\n",
              "    <path d=\"M0 0h24v24H0V0z\" fill=\"none\"/>\n",
              "    <path d=\"M18.56 5.44l.94 2.06.94-2.06 2.06-.94-2.06-.94-.94-2.06-.94 2.06-2.06.94zm-11 1L8.5 8.5l.94-2.06 2.06-.94-2.06-.94L8.5 2.5l-.94 2.06-2.06.94zm10 10l.94 2.06.94-2.06 2.06-.94-2.06-.94-.94-2.06-.94 2.06-2.06.94z\"/><path d=\"M17.41 7.96l-1.37-1.37c-.4-.4-.92-.59-1.43-.59-.52 0-1.04.2-1.43.59L10.3 9.45l-7.72 7.72c-.78.78-.78 2.05 0 2.83L4 21.41c.39.39.9.59 1.41.59.51 0 1.02-.2 1.41-.59l7.78-7.78 2.81-2.81c.8-.78.8-2.07 0-2.86zM5.41 20L4 18.59l7.72-7.72 1.47 1.35L5.41 20z\"/>\n",
              "  </svg>\n",
              "      </button>\n",
              "      \n",
              "  <style>\n",
              "    .colab-df-container {\n",
              "      display:flex;\n",
              "      flex-wrap:wrap;\n",
              "      gap: 12px;\n",
              "    }\n",
              "\n",
              "    .colab-df-convert {\n",
              "      background-color: #E8F0FE;\n",
              "      border: none;\n",
              "      border-radius: 50%;\n",
              "      cursor: pointer;\n",
              "      display: none;\n",
              "      fill: #1967D2;\n",
              "      height: 32px;\n",
              "      padding: 0 0 0 0;\n",
              "      width: 32px;\n",
              "    }\n",
              "\n",
              "    .colab-df-convert:hover {\n",
              "      background-color: #E2EBFA;\n",
              "      box-shadow: 0px 1px 2px rgba(60, 64, 67, 0.3), 0px 1px 3px 1px rgba(60, 64, 67, 0.15);\n",
              "      fill: #174EA6;\n",
              "    }\n",
              "\n",
              "    [theme=dark] .colab-df-convert {\n",
              "      background-color: #3B4455;\n",
              "      fill: #D2E3FC;\n",
              "    }\n",
              "\n",
              "    [theme=dark] .colab-df-convert:hover {\n",
              "      background-color: #434B5C;\n",
              "      box-shadow: 0px 1px 3px 1px rgba(0, 0, 0, 0.15);\n",
              "      filter: drop-shadow(0px 1px 2px rgba(0, 0, 0, 0.3));\n",
              "      fill: #FFFFFF;\n",
              "    }\n",
              "  </style>\n",
              "\n",
              "      <script>\n",
              "        const buttonEl =\n",
              "          document.querySelector('#df-f587d3f6-0e19-4c57-a904-3afe37fce3c6 button.colab-df-convert');\n",
              "        buttonEl.style.display =\n",
              "          google.colab.kernel.accessAllowed ? 'block' : 'none';\n",
              "\n",
              "        async function convertToInteractive(key) {\n",
              "          const element = document.querySelector('#df-f587d3f6-0e19-4c57-a904-3afe37fce3c6');\n",
              "          const dataTable =\n",
              "            await google.colab.kernel.invokeFunction('convertToInteractive',\n",
              "                                                     [key], {});\n",
              "          if (!dataTable) return;\n",
              "\n",
              "          const docLinkHtml = 'Like what you see? Visit the ' +\n",
              "            '<a target=\"_blank\" href=https://colab.research.google.com/notebooks/data_table.ipynb>data table notebook</a>'\n",
              "            + ' to learn more about interactive tables.';\n",
              "          element.innerHTML = '';\n",
              "          dataTable['output_type'] = 'display_data';\n",
              "          await google.colab.output.renderOutput(dataTable, element);\n",
              "          const docLink = document.createElement('div');\n",
              "          docLink.innerHTML = docLinkHtml;\n",
              "          element.appendChild(docLink);\n",
              "        }\n",
              "      </script>\n",
              "    </div>\n",
              "  </div>\n",
              "  "
            ]
          },
          "metadata": {},
          "execution_count": 648
        }
      ]
    },
    {
      "cell_type": "code",
      "source": [
        "pd.DataFrame(inv_scale_yhat)"
      ],
      "metadata": {
        "colab": {
          "base_uri": "https://localhost:8080/",
          "height": 112
        },
        "id": "mleqTAENlwZT",
        "outputId": "e95b5e07-55d4-43cb-edda-c042319d36aa"
      },
      "execution_count": 649,
      "outputs": [
        {
          "output_type": "execute_result",
          "data": {
            "text/plain": [
              "              0\n",
              "0  16312.861328\n",
              "1  17241.490234"
            ],
            "text/html": [
              "\n",
              "  <div id=\"df-e7f7637f-6536-4110-9523-28b5134f3ba9\">\n",
              "    <div class=\"colab-df-container\">\n",
              "      <div>\n",
              "<style scoped>\n",
              "    .dataframe tbody tr th:only-of-type {\n",
              "        vertical-align: middle;\n",
              "    }\n",
              "\n",
              "    .dataframe tbody tr th {\n",
              "        vertical-align: top;\n",
              "    }\n",
              "\n",
              "    .dataframe thead th {\n",
              "        text-align: right;\n",
              "    }\n",
              "</style>\n",
              "<table border=\"1\" class=\"dataframe\">\n",
              "  <thead>\n",
              "    <tr style=\"text-align: right;\">\n",
              "      <th></th>\n",
              "      <th>0</th>\n",
              "    </tr>\n",
              "  </thead>\n",
              "  <tbody>\n",
              "    <tr>\n",
              "      <th>0</th>\n",
              "      <td>16312.861328</td>\n",
              "    </tr>\n",
              "    <tr>\n",
              "      <th>1</th>\n",
              "      <td>17241.490234</td>\n",
              "    </tr>\n",
              "  </tbody>\n",
              "</table>\n",
              "</div>\n",
              "      <button class=\"colab-df-convert\" onclick=\"convertToInteractive('df-e7f7637f-6536-4110-9523-28b5134f3ba9')\"\n",
              "              title=\"Convert this dataframe to an interactive table.\"\n",
              "              style=\"display:none;\">\n",
              "        \n",
              "  <svg xmlns=\"http://www.w3.org/2000/svg\" height=\"24px\"viewBox=\"0 0 24 24\"\n",
              "       width=\"24px\">\n",
              "    <path d=\"M0 0h24v24H0V0z\" fill=\"none\"/>\n",
              "    <path d=\"M18.56 5.44l.94 2.06.94-2.06 2.06-.94-2.06-.94-.94-2.06-.94 2.06-2.06.94zm-11 1L8.5 8.5l.94-2.06 2.06-.94-2.06-.94L8.5 2.5l-.94 2.06-2.06.94zm10 10l.94 2.06.94-2.06 2.06-.94-2.06-.94-.94-2.06-.94 2.06-2.06.94z\"/><path d=\"M17.41 7.96l-1.37-1.37c-.4-.4-.92-.59-1.43-.59-.52 0-1.04.2-1.43.59L10.3 9.45l-7.72 7.72c-.78.78-.78 2.05 0 2.83L4 21.41c.39.39.9.59 1.41.59.51 0 1.02-.2 1.41-.59l7.78-7.78 2.81-2.81c.8-.78.8-2.07 0-2.86zM5.41 20L4 18.59l7.72-7.72 1.47 1.35L5.41 20z\"/>\n",
              "  </svg>\n",
              "      </button>\n",
              "      \n",
              "  <style>\n",
              "    .colab-df-container {\n",
              "      display:flex;\n",
              "      flex-wrap:wrap;\n",
              "      gap: 12px;\n",
              "    }\n",
              "\n",
              "    .colab-df-convert {\n",
              "      background-color: #E8F0FE;\n",
              "      border: none;\n",
              "      border-radius: 50%;\n",
              "      cursor: pointer;\n",
              "      display: none;\n",
              "      fill: #1967D2;\n",
              "      height: 32px;\n",
              "      padding: 0 0 0 0;\n",
              "      width: 32px;\n",
              "    }\n",
              "\n",
              "    .colab-df-convert:hover {\n",
              "      background-color: #E2EBFA;\n",
              "      box-shadow: 0px 1px 2px rgba(60, 64, 67, 0.3), 0px 1px 3px 1px rgba(60, 64, 67, 0.15);\n",
              "      fill: #174EA6;\n",
              "    }\n",
              "\n",
              "    [theme=dark] .colab-df-convert {\n",
              "      background-color: #3B4455;\n",
              "      fill: #D2E3FC;\n",
              "    }\n",
              "\n",
              "    [theme=dark] .colab-df-convert:hover {\n",
              "      background-color: #434B5C;\n",
              "      box-shadow: 0px 1px 3px 1px rgba(0, 0, 0, 0.15);\n",
              "      filter: drop-shadow(0px 1px 2px rgba(0, 0, 0, 0.3));\n",
              "      fill: #FFFFFF;\n",
              "    }\n",
              "  </style>\n",
              "\n",
              "      <script>\n",
              "        const buttonEl =\n",
              "          document.querySelector('#df-e7f7637f-6536-4110-9523-28b5134f3ba9 button.colab-df-convert');\n",
              "        buttonEl.style.display =\n",
              "          google.colab.kernel.accessAllowed ? 'block' : 'none';\n",
              "\n",
              "        async function convertToInteractive(key) {\n",
              "          const element = document.querySelector('#df-e7f7637f-6536-4110-9523-28b5134f3ba9');\n",
              "          const dataTable =\n",
              "            await google.colab.kernel.invokeFunction('convertToInteractive',\n",
              "                                                     [key], {});\n",
              "          if (!dataTable) return;\n",
              "\n",
              "          const docLinkHtml = 'Like what you see? Visit the ' +\n",
              "            '<a target=\"_blank\" href=https://colab.research.google.com/notebooks/data_table.ipynb>data table notebook</a>'\n",
              "            + ' to learn more about interactive tables.';\n",
              "          element.innerHTML = '';\n",
              "          dataTable['output_type'] = 'display_data';\n",
              "          await google.colab.output.renderOutput(dataTable, element);\n",
              "          const docLink = document.createElement('div');\n",
              "          docLink.innerHTML = docLinkHtml;\n",
              "          element.appendChild(docLink);\n",
              "        }\n",
              "      </script>\n",
              "    </div>\n",
              "  </div>\n",
              "  "
            ]
          },
          "metadata": {},
          "execution_count": 649
        }
      ]
    },
    {
      "cell_type": "code",
      "source": [
        "pd.DataFrame(inv_scale_yhat)"
      ],
      "metadata": {
        "colab": {
          "base_uri": "https://localhost:8080/",
          "height": 112
        },
        "id": "qLB71nNNbCSg",
        "outputId": "b09c4bb5-2380-470b-9969-c352abce9e98"
      },
      "execution_count": 607,
      "outputs": [
        {
          "output_type": "execute_result",
          "data": {
            "text/plain": [
              "              0\n",
              "0  16090.043945\n",
              "1  17022.681641"
            ],
            "text/html": [
              "\n",
              "  <div id=\"df-46056847-f1f4-483d-9e7e-66d0d8825ea2\">\n",
              "    <div class=\"colab-df-container\">\n",
              "      <div>\n",
              "<style scoped>\n",
              "    .dataframe tbody tr th:only-of-type {\n",
              "        vertical-align: middle;\n",
              "    }\n",
              "\n",
              "    .dataframe tbody tr th {\n",
              "        vertical-align: top;\n",
              "    }\n",
              "\n",
              "    .dataframe thead th {\n",
              "        text-align: right;\n",
              "    }\n",
              "</style>\n",
              "<table border=\"1\" class=\"dataframe\">\n",
              "  <thead>\n",
              "    <tr style=\"text-align: right;\">\n",
              "      <th></th>\n",
              "      <th>0</th>\n",
              "    </tr>\n",
              "  </thead>\n",
              "  <tbody>\n",
              "    <tr>\n",
              "      <th>0</th>\n",
              "      <td>16090.043945</td>\n",
              "    </tr>\n",
              "    <tr>\n",
              "      <th>1</th>\n",
              "      <td>17022.681641</td>\n",
              "    </tr>\n",
              "  </tbody>\n",
              "</table>\n",
              "</div>\n",
              "      <button class=\"colab-df-convert\" onclick=\"convertToInteractive('df-46056847-f1f4-483d-9e7e-66d0d8825ea2')\"\n",
              "              title=\"Convert this dataframe to an interactive table.\"\n",
              "              style=\"display:none;\">\n",
              "        \n",
              "  <svg xmlns=\"http://www.w3.org/2000/svg\" height=\"24px\"viewBox=\"0 0 24 24\"\n",
              "       width=\"24px\">\n",
              "    <path d=\"M0 0h24v24H0V0z\" fill=\"none\"/>\n",
              "    <path d=\"M18.56 5.44l.94 2.06.94-2.06 2.06-.94-2.06-.94-.94-2.06-.94 2.06-2.06.94zm-11 1L8.5 8.5l.94-2.06 2.06-.94-2.06-.94L8.5 2.5l-.94 2.06-2.06.94zm10 10l.94 2.06.94-2.06 2.06-.94-2.06-.94-.94-2.06-.94 2.06-2.06.94z\"/><path d=\"M17.41 7.96l-1.37-1.37c-.4-.4-.92-.59-1.43-.59-.52 0-1.04.2-1.43.59L10.3 9.45l-7.72 7.72c-.78.78-.78 2.05 0 2.83L4 21.41c.39.39.9.59 1.41.59.51 0 1.02-.2 1.41-.59l7.78-7.78 2.81-2.81c.8-.78.8-2.07 0-2.86zM5.41 20L4 18.59l7.72-7.72 1.47 1.35L5.41 20z\"/>\n",
              "  </svg>\n",
              "      </button>\n",
              "      \n",
              "  <style>\n",
              "    .colab-df-container {\n",
              "      display:flex;\n",
              "      flex-wrap:wrap;\n",
              "      gap: 12px;\n",
              "    }\n",
              "\n",
              "    .colab-df-convert {\n",
              "      background-color: #E8F0FE;\n",
              "      border: none;\n",
              "      border-radius: 50%;\n",
              "      cursor: pointer;\n",
              "      display: none;\n",
              "      fill: #1967D2;\n",
              "      height: 32px;\n",
              "      padding: 0 0 0 0;\n",
              "      width: 32px;\n",
              "    }\n",
              "\n",
              "    .colab-df-convert:hover {\n",
              "      background-color: #E2EBFA;\n",
              "      box-shadow: 0px 1px 2px rgba(60, 64, 67, 0.3), 0px 1px 3px 1px rgba(60, 64, 67, 0.15);\n",
              "      fill: #174EA6;\n",
              "    }\n",
              "\n",
              "    [theme=dark] .colab-df-convert {\n",
              "      background-color: #3B4455;\n",
              "      fill: #D2E3FC;\n",
              "    }\n",
              "\n",
              "    [theme=dark] .colab-df-convert:hover {\n",
              "      background-color: #434B5C;\n",
              "      box-shadow: 0px 1px 3px 1px rgba(0, 0, 0, 0.15);\n",
              "      filter: drop-shadow(0px 1px 2px rgba(0, 0, 0, 0.3));\n",
              "      fill: #FFFFFF;\n",
              "    }\n",
              "  </style>\n",
              "\n",
              "      <script>\n",
              "        const buttonEl =\n",
              "          document.querySelector('#df-46056847-f1f4-483d-9e7e-66d0d8825ea2 button.colab-df-convert');\n",
              "        buttonEl.style.display =\n",
              "          google.colab.kernel.accessAllowed ? 'block' : 'none';\n",
              "\n",
              "        async function convertToInteractive(key) {\n",
              "          const element = document.querySelector('#df-46056847-f1f4-483d-9e7e-66d0d8825ea2');\n",
              "          const dataTable =\n",
              "            await google.colab.kernel.invokeFunction('convertToInteractive',\n",
              "                                                     [key], {});\n",
              "          if (!dataTable) return;\n",
              "\n",
              "          const docLinkHtml = 'Like what you see? Visit the ' +\n",
              "            '<a target=\"_blank\" href=https://colab.research.google.com/notebooks/data_table.ipynb>data table notebook</a>'\n",
              "            + ' to learn more about interactive tables.';\n",
              "          element.innerHTML = '';\n",
              "          dataTable['output_type'] = 'display_data';\n",
              "          await google.colab.output.renderOutput(dataTable, element);\n",
              "          const docLink = document.createElement('div');\n",
              "          docLink.innerHTML = docLinkHtml;\n",
              "          element.appendChild(docLink);\n",
              "        }\n",
              "      </script>\n",
              "    </div>\n",
              "  </div>\n",
              "  "
            ]
          },
          "metadata": {},
          "execution_count": 607
        }
      ]
    },
    {
      "cell_type": "code",
      "source": [
        "pd.DataFrame(inv_scale_yhat)"
      ],
      "metadata": {
        "colab": {
          "base_uri": "https://localhost:8080/",
          "height": 112
        },
        "id": "XDNS59TIraW1",
        "outputId": "8fd49eeb-334f-46d6-def7-c77d0d51a91b"
      },
      "execution_count": 566,
      "outputs": [
        {
          "output_type": "execute_result",
          "data": {
            "text/plain": [
              "              0\n",
              "0  16130.116211\n",
              "1  17011.335938"
            ],
            "text/html": [
              "\n",
              "  <div id=\"df-5a218e40-6b7d-46b8-85b7-5819009c81c5\">\n",
              "    <div class=\"colab-df-container\">\n",
              "      <div>\n",
              "<style scoped>\n",
              "    .dataframe tbody tr th:only-of-type {\n",
              "        vertical-align: middle;\n",
              "    }\n",
              "\n",
              "    .dataframe tbody tr th {\n",
              "        vertical-align: top;\n",
              "    }\n",
              "\n",
              "    .dataframe thead th {\n",
              "        text-align: right;\n",
              "    }\n",
              "</style>\n",
              "<table border=\"1\" class=\"dataframe\">\n",
              "  <thead>\n",
              "    <tr style=\"text-align: right;\">\n",
              "      <th></th>\n",
              "      <th>0</th>\n",
              "    </tr>\n",
              "  </thead>\n",
              "  <tbody>\n",
              "    <tr>\n",
              "      <th>0</th>\n",
              "      <td>16130.116211</td>\n",
              "    </tr>\n",
              "    <tr>\n",
              "      <th>1</th>\n",
              "      <td>17011.335938</td>\n",
              "    </tr>\n",
              "  </tbody>\n",
              "</table>\n",
              "</div>\n",
              "      <button class=\"colab-df-convert\" onclick=\"convertToInteractive('df-5a218e40-6b7d-46b8-85b7-5819009c81c5')\"\n",
              "              title=\"Convert this dataframe to an interactive table.\"\n",
              "              style=\"display:none;\">\n",
              "        \n",
              "  <svg xmlns=\"http://www.w3.org/2000/svg\" height=\"24px\"viewBox=\"0 0 24 24\"\n",
              "       width=\"24px\">\n",
              "    <path d=\"M0 0h24v24H0V0z\" fill=\"none\"/>\n",
              "    <path d=\"M18.56 5.44l.94 2.06.94-2.06 2.06-.94-2.06-.94-.94-2.06-.94 2.06-2.06.94zm-11 1L8.5 8.5l.94-2.06 2.06-.94-2.06-.94L8.5 2.5l-.94 2.06-2.06.94zm10 10l.94 2.06.94-2.06 2.06-.94-2.06-.94-.94-2.06-.94 2.06-2.06.94z\"/><path d=\"M17.41 7.96l-1.37-1.37c-.4-.4-.92-.59-1.43-.59-.52 0-1.04.2-1.43.59L10.3 9.45l-7.72 7.72c-.78.78-.78 2.05 0 2.83L4 21.41c.39.39.9.59 1.41.59.51 0 1.02-.2 1.41-.59l7.78-7.78 2.81-2.81c.8-.78.8-2.07 0-2.86zM5.41 20L4 18.59l7.72-7.72 1.47 1.35L5.41 20z\"/>\n",
              "  </svg>\n",
              "      </button>\n",
              "      \n",
              "  <style>\n",
              "    .colab-df-container {\n",
              "      display:flex;\n",
              "      flex-wrap:wrap;\n",
              "      gap: 12px;\n",
              "    }\n",
              "\n",
              "    .colab-df-convert {\n",
              "      background-color: #E8F0FE;\n",
              "      border: none;\n",
              "      border-radius: 50%;\n",
              "      cursor: pointer;\n",
              "      display: none;\n",
              "      fill: #1967D2;\n",
              "      height: 32px;\n",
              "      padding: 0 0 0 0;\n",
              "      width: 32px;\n",
              "    }\n",
              "\n",
              "    .colab-df-convert:hover {\n",
              "      background-color: #E2EBFA;\n",
              "      box-shadow: 0px 1px 2px rgba(60, 64, 67, 0.3), 0px 1px 3px 1px rgba(60, 64, 67, 0.15);\n",
              "      fill: #174EA6;\n",
              "    }\n",
              "\n",
              "    [theme=dark] .colab-df-convert {\n",
              "      background-color: #3B4455;\n",
              "      fill: #D2E3FC;\n",
              "    }\n",
              "\n",
              "    [theme=dark] .colab-df-convert:hover {\n",
              "      background-color: #434B5C;\n",
              "      box-shadow: 0px 1px 3px 1px rgba(0, 0, 0, 0.15);\n",
              "      filter: drop-shadow(0px 1px 2px rgba(0, 0, 0, 0.3));\n",
              "      fill: #FFFFFF;\n",
              "    }\n",
              "  </style>\n",
              "\n",
              "      <script>\n",
              "        const buttonEl =\n",
              "          document.querySelector('#df-5a218e40-6b7d-46b8-85b7-5819009c81c5 button.colab-df-convert');\n",
              "        buttonEl.style.display =\n",
              "          google.colab.kernel.accessAllowed ? 'block' : 'none';\n",
              "\n",
              "        async function convertToInteractive(key) {\n",
              "          const element = document.querySelector('#df-5a218e40-6b7d-46b8-85b7-5819009c81c5');\n",
              "          const dataTable =\n",
              "            await google.colab.kernel.invokeFunction('convertToInteractive',\n",
              "                                                     [key], {});\n",
              "          if (!dataTable) return;\n",
              "\n",
              "          const docLinkHtml = 'Like what you see? Visit the ' +\n",
              "            '<a target=\"_blank\" href=https://colab.research.google.com/notebooks/data_table.ipynb>data table notebook</a>'\n",
              "            + ' to learn more about interactive tables.';\n",
              "          element.innerHTML = '';\n",
              "          dataTable['output_type'] = 'display_data';\n",
              "          await google.colab.output.renderOutput(dataTable, element);\n",
              "          const docLink = document.createElement('div');\n",
              "          docLink.innerHTML = docLinkHtml;\n",
              "          element.appendChild(docLink);\n",
              "        }\n",
              "      </script>\n",
              "    </div>\n",
              "  </div>\n",
              "  "
            ]
          },
          "metadata": {},
          "execution_count": 566
        }
      ]
    },
    {
      "cell_type": "code",
      "source": [
        "# Invert the Differencing for actual \n",
        "df = pd.DataFrame(series.iloc[-len(test)-steps_ahead:,-1])\n",
        "n_vars = df.shape[1]\n",
        "columns = df.columns\n",
        "cols, names = list(), list()\n",
        "for i in range(0, steps_ahead):\n",
        "    cols.append(df.shift(-i))\n",
        "    if i == 0:\n",
        "        names += [('%s(t)' % (columns[j])) for j in range(n_vars)]\n",
        "    else:\n",
        "        names += [('%s(t+%d)' % (columns[j], i)) for j in range(n_vars)]\n",
        "# put it all together\n",
        "agg = pd.concat(cols, axis=1)\n",
        "agg.columns = names\n",
        "agg.dropna(inplace=True)\n",
        "agg = agg.iloc[:-1,0]\n",
        "#drop all the variables that we don't want to predict\n",
        "#agg.drop(columns=vars_to_drop, inplace=True)\n",
        "agg = agg.to_numpy()\n",
        "inv_y = np.add(inv_scale_y,agg)"
      ],
      "metadata": {
        "id": "TqftbPYxvEE5"
      },
      "execution_count": 260,
      "outputs": []
    },
    {
      "cell_type": "markdown",
      "source": [
        "* To invert the differencing of time series for multistep prediction:<br/>\n",
        "The equation is given by $$\n",
        "\\hat x_{t+h|t}=x_t+(\\widehat{\\Delta x_{t+1}}+\\dots+\\widehat{\\Delta x_{t+h}}).\n",
        "$$ <br/>\n",
        "where: <br/>\n",
        "$\\hat x_{t+h|t}$ is the predicted value of the time series x at time $t$+h, given the value of the time series at time $t$.<br/>\n",
        "$x_t$ is the value of the time series $x$ at time t.<br/>\n",
        "${\\Delta x_{t+1}}$ is the difference between the value of the time series $x$ at time $t+1$ and the value of the time series at time t.<br/>\n",
        "${\\Delta x_{t+2}}$ is the difference between the value of the time series $x$ at time $t+2$ and the value of the time series at time $t+1$.<br/>\n",
        "${\\Delta x_{t+h}}$ is the difference between the value of the time series $x$ at time $t+h$ and the value of the time series at time $t+h-1$."
      ],
      "metadata": {
        "id": "OWAqc4iTkxvn"
      }
    },
    {
      "cell_type": "code",
      "source": [
        "# Invert the Differencing for forecast\n",
        "# to invert the diffrenced predicted values,the the predicted differenced value is added\n",
        "# to previous predicted diffenced values and last available observation in test set(Xt) as explained above\n",
        "originalSeries_supervised = series_to_supervised(series, series.columns, n_in=timesteps, n_out=steps_ahead, dropnan=True)\n",
        "\n",
        "current_timestep = 1\n",
        "# actual value of oil rate at current time step\n",
        "# steps_ahead = 4\n",
        "#drop all the variables that we don't want to predict\n",
        "vars_y = originalSeries_supervised.columns[-steps_ahead*len(series.columns):]\n",
        "vars_to_drop = [col for col in vars_y if col.startswith(vars_name_to_drop[0])]\n",
        "originalSeries_supervised.drop(columns=vars_to_drop, inplace=True)\n",
        "originalSeries_xt = originalSeries_supervised.iloc[-len(test):,-steps_ahead-2]\n",
        "\n",
        "\n",
        "# A predicted value at any given step ahead is a result of the previous cumulative differnced predicted values and current time step\n",
        "col = []\n",
        "#inv_yhat_cum = np.cumsum(inv_scale_yhat, axis=1)\n",
        "inv_yhat_cum = inv_scale_yhat\n",
        "\n",
        "for i in range(n_obs):\n",
        "    #.ravel() flattens the series into a one-dimensional array\n",
        "    inverted_diff_yhat = originalSeries_xt[-n_obs:].ravel()[i] + inv_yhat_cum[i]\n",
        "    col.append(inverted_diff_yhat)\n",
        "#col = pd.DataFrame.from_records(col) # creates a DataFrame from a list of records\n",
        "col = pd.DataFrame(col)\n",
        "#col.columns = pd.RangeIndex(start=1, stop=steps_ahead+1, step=1)\n",
        "inv_yhat = col.values.ravel() # convert df to NumpyArray"
      ],
      "metadata": {
        "id": "DSJErK0WDkX4"
      },
      "execution_count": null,
      "outputs": []
    },
    {
      "cell_type": "code",
      "source": [
        "inv_yhat = np.add(inv_scale_yhat,agg)"
      ],
      "metadata": {
        "id": "Si8_sP7AeBNV"
      },
      "execution_count": 262,
      "outputs": []
    },
    {
      "cell_type": "code",
      "source": [
        "inv_scale_y[:10]"
      ],
      "metadata": {
        "colab": {
          "base_uri": "https://localhost:8080/"
        },
        "id": "no6HXTrJY_Fo",
        "outputId": "f088cb87-e125-4e08-f9bf-b659e1de9551"
      },
      "execution_count": 496,
      "outputs": [
        {
          "output_type": "execute_result",
          "data": {
            "text/plain": [
              "array([16403.70024859, 15966.81000431, 14921.06609396, 14972.83123519,\n",
              "       16072.66751671, 15913.59820664,     0.        ,  5064.42969891,\n",
              "       14651.48481164, 16667.24331273])"
            ]
          },
          "metadata": {},
          "execution_count": 496
        }
      ]
    },
    {
      "cell_type": "code",
      "source": [
        "inv_scale_yhat[:10]"
      ],
      "metadata": {
        "colab": {
          "base_uri": "https://localhost:8080/"
        },
        "id": "FErRxyYMXouJ",
        "outputId": "6a1d5b76-90d2-4c2a-d04a-20b1c5388056"
      },
      "execution_count": 497,
      "outputs": [
        {
          "output_type": "execute_result",
          "data": {
            "text/plain": [
              "array([17791.307, 17736.64 , 16941.434, 15964.409, 15485.129, 15332.466,\n",
              "       15214.239, 11251.009,  9731.124, 10704.162], dtype=float32)"
            ]
          },
          "metadata": {},
          "execution_count": 497
        }
      ]
    },
    {
      "cell_type": "code",
      "source": [
        "series[-20:]"
      ],
      "metadata": {
        "colab": {
          "base_uri": "https://localhost:8080/",
          "height": 1000
        },
        "id": "xGlbQ2BmAF41",
        "outputId": "0bc99827-d283-4f90-b696-fc66245b6ce7"
      },
      "execution_count": 375,
      "outputs": [
        {
          "output_type": "execute_result",
          "data": {
            "text/plain": [
              "            ON_STREAM_HRS  AVG_DOWNHOLE_PRESSURE  AVG_DOWNHOLE_TEMPERATURE  \\\n",
              "DATEPRD                                                                      \n",
              "2010-03-15       24.00000            3499.867441                223.386533   \n",
              "2010-03-16       24.00000            3533.330714                223.372252   \n",
              "2010-03-17       24.00000            3545.796953                223.356792   \n",
              "2010-03-18       24.00000            3526.281013                223.337147   \n",
              "2010-03-19       24.00000            3514.913608                223.317147   \n",
              "2010-03-20       24.00000            3504.763562                223.303034   \n",
              "2010-03-21       24.00000            3492.841901                223.291353   \n",
              "2010-03-22       24.00000            3460.862128                223.300709   \n",
              "2010-03-23       24.00000            3422.510183                223.354927   \n",
              "2010-03-24       24.00000            3435.084903                223.378091   \n",
              "2010-03-25       24.00000            3441.626184                223.399856   \n",
              "2010-03-26       24.00000            3459.110559                223.412021   \n",
              "2010-03-27       24.00000            3468.809459                223.422601   \n",
              "2010-03-28       23.00000            3477.631861                223.443778   \n",
              "2010-03-29       24.00000            3487.307941                223.458367   \n",
              "2010-03-30       24.00000            3512.480745                223.447836   \n",
              "2010-03-31       24.00000            3518.993057                223.457255   \n",
              "2010-04-01        0.00000            3927.602959                218.937457   \n",
              "2010-04-02        9.14166            3621.138231                222.640244   \n",
              "2010-04-03       23.33334            3566.741040                223.430325   \n",
              "\n",
              "            AVG_CHOKE_SIZE_P   AVG_WHP_P   AVG_WHT_P  DP_CHOKE_SIZE  \\\n",
              "DATEPRD                                                               \n",
              "2010-03-15         44.316175  822.171389  193.543561     345.369775   \n",
              "2010-03-16         42.540061  848.689653  193.351508     372.702517   \n",
              "2010-03-17         41.938664  855.211230  192.062794     379.983590   \n",
              "2010-03-18         42.642245  839.723236  190.830086     362.805876   \n",
              "2010-03-19         42.677826  833.817448  189.049475     353.089956   \n",
              "2010-03-20         42.735827  830.434355  192.043733     349.821119   \n",
              "2010-03-21         42.770594  824.547904  193.201259     344.134244   \n",
              "2010-03-22         45.041136  795.900307  191.314792     313.550160   \n",
              "2010-03-23         48.268275  759.105257  192.454799     274.186897   \n",
              "2010-03-24         47.668794  765.122928  190.217152     280.992874   \n",
              "2010-03-25         47.665282  765.542996  190.108502     280.495522   \n",
              "2010-03-26         46.884280  776.728509  188.279503     292.015187   \n",
              "2010-03-27         46.515119  781.579347  190.935653     296.681096   \n",
              "2010-03-28         45.709875  784.503758  192.641538     299.399721   \n",
              "2010-03-29         46.679634  788.822556  193.926733     303.598517   \n",
              "2010-03-30         45.174481  808.542996  190.219326     324.428882   \n",
              "2010-03-31         44.145559  809.106390  189.350904     324.138434   \n",
              "2010-04-01          0.000000  805.302507  109.717783     278.732567   \n",
              "2010-04-02         35.256447  785.337404  168.525341     334.927199   \n",
              "2010-04-03         42.415430  839.656249  187.459203     356.422926   \n",
              "\n",
              "            BORE_GAS_VOL  BORE_WAT_VOL  F_4_BORE_WI_VOL  F_5_BORE_WI_VOL  \\\n",
              "DATEPRD                                                                    \n",
              "2010-03-15  1.272429e+07  18427.132319     48733.431795     54860.563137   \n",
              "2010-03-16  1.223783e+07  15816.546429     48849.500855     53280.373128   \n",
              "2010-03-17  1.167131e+07  17030.542773     36742.872825     38197.975770   \n",
              "2010-03-18  1.187655e+07  14815.963359     25775.205860     29618.199562   \n",
              "2010-03-19  1.123098e+07  12827.754228     25032.583179     30697.245146   \n",
              "2010-03-20  1.109804e+07  12808.884796     24664.586214     31087.782101   \n",
              "2010-03-21  1.093559e+07  12776.869660     24483.497384     31164.747774   \n",
              "2010-03-22  1.307194e+07  14874.773088     24458.580144     31681.968615   \n",
              "2010-03-23  1.382048e+07  17263.328663     41520.546816     42199.917717   \n",
              "2010-03-24  1.359333e+07  16125.376130     56392.726193     46679.037762   \n",
              "2010-03-25  1.352311e+07  16560.568125     56743.437167     46528.827558   \n",
              "2010-03-26  1.300761e+07  16652.839646     55456.573362     47853.464587   \n",
              "2010-03-27  1.269099e+07  16014.109380     54812.792206     48777.798209   \n",
              "2010-03-28  1.182587e+07  15447.963528     49895.043974     50708.872742   \n",
              "2010-03-29  1.188661e+07  15700.625220     52626.802869     51696.295567   \n",
              "2010-03-30  1.285337e+07  16082.794112     52979.604853     51010.921676   \n",
              "2010-03-31  1.272020e+07  17399.754655     53364.146204     50889.352678   \n",
              "2010-04-01  0.000000e+00      0.000000     15655.338583      9717.757377   \n",
              "2010-04-02  4.129941e+06   5142.549147     50847.861576     48712.099362   \n",
              "2010-04-03  1.157912e+07  15465.008915     48834.509267     48547.697564   \n",
              "\n",
              "            BORE_OIL_VOL  \n",
              "DATEPRD                   \n",
              "2010-03-15  16048.011459  \n",
              "2010-03-16  15370.347265  \n",
              "2010-03-17  14866.281844  \n",
              "2010-03-18  14483.106582  \n",
              "2010-03-19  14311.772141  \n",
              "2010-03-20  14163.898694  \n",
              "2010-03-21  13967.153418  \n",
              "2010-03-22  16668.186784  \n",
              "2010-03-23  17384.218823  \n",
              "2010-03-24  17128.978309  \n",
              "2010-03-25  17048.846122  \n",
              "2010-03-26  16403.700249  \n",
              "2010-03-27  15966.810004  \n",
              "2010-03-28  14921.066094  \n",
              "2010-03-29  14972.831235  \n",
              "2010-03-30  16072.667517  \n",
              "2010-03-31  15913.598207  \n",
              "2010-04-01      0.000000  \n",
              "2010-04-02   5064.429699  \n",
              "2010-04-03  14651.484812  "
            ],
            "text/html": [
              "\n",
              "  <div id=\"df-ffc6b52a-adb8-4dd0-85ef-e8712f212bd9\">\n",
              "    <div class=\"colab-df-container\">\n",
              "      <div>\n",
              "<style scoped>\n",
              "    .dataframe tbody tr th:only-of-type {\n",
              "        vertical-align: middle;\n",
              "    }\n",
              "\n",
              "    .dataframe tbody tr th {\n",
              "        vertical-align: top;\n",
              "    }\n",
              "\n",
              "    .dataframe thead th {\n",
              "        text-align: right;\n",
              "    }\n",
              "</style>\n",
              "<table border=\"1\" class=\"dataframe\">\n",
              "  <thead>\n",
              "    <tr style=\"text-align: right;\">\n",
              "      <th></th>\n",
              "      <th>ON_STREAM_HRS</th>\n",
              "      <th>AVG_DOWNHOLE_PRESSURE</th>\n",
              "      <th>AVG_DOWNHOLE_TEMPERATURE</th>\n",
              "      <th>AVG_CHOKE_SIZE_P</th>\n",
              "      <th>AVG_WHP_P</th>\n",
              "      <th>AVG_WHT_P</th>\n",
              "      <th>DP_CHOKE_SIZE</th>\n",
              "      <th>BORE_GAS_VOL</th>\n",
              "      <th>BORE_WAT_VOL</th>\n",
              "      <th>F_4_BORE_WI_VOL</th>\n",
              "      <th>F_5_BORE_WI_VOL</th>\n",
              "      <th>BORE_OIL_VOL</th>\n",
              "    </tr>\n",
              "    <tr>\n",
              "      <th>DATEPRD</th>\n",
              "      <th></th>\n",
              "      <th></th>\n",
              "      <th></th>\n",
              "      <th></th>\n",
              "      <th></th>\n",
              "      <th></th>\n",
              "      <th></th>\n",
              "      <th></th>\n",
              "      <th></th>\n",
              "      <th></th>\n",
              "      <th></th>\n",
              "      <th></th>\n",
              "    </tr>\n",
              "  </thead>\n",
              "  <tbody>\n",
              "    <tr>\n",
              "      <th>2010-03-15</th>\n",
              "      <td>24.00000</td>\n",
              "      <td>3499.867441</td>\n",
              "      <td>223.386533</td>\n",
              "      <td>44.316175</td>\n",
              "      <td>822.171389</td>\n",
              "      <td>193.543561</td>\n",
              "      <td>345.369775</td>\n",
              "      <td>1.272429e+07</td>\n",
              "      <td>18427.132319</td>\n",
              "      <td>48733.431795</td>\n",
              "      <td>54860.563137</td>\n",
              "      <td>16048.011459</td>\n",
              "    </tr>\n",
              "    <tr>\n",
              "      <th>2010-03-16</th>\n",
              "      <td>24.00000</td>\n",
              "      <td>3533.330714</td>\n",
              "      <td>223.372252</td>\n",
              "      <td>42.540061</td>\n",
              "      <td>848.689653</td>\n",
              "      <td>193.351508</td>\n",
              "      <td>372.702517</td>\n",
              "      <td>1.223783e+07</td>\n",
              "      <td>15816.546429</td>\n",
              "      <td>48849.500855</td>\n",
              "      <td>53280.373128</td>\n",
              "      <td>15370.347265</td>\n",
              "    </tr>\n",
              "    <tr>\n",
              "      <th>2010-03-17</th>\n",
              "      <td>24.00000</td>\n",
              "      <td>3545.796953</td>\n",
              "      <td>223.356792</td>\n",
              "      <td>41.938664</td>\n",
              "      <td>855.211230</td>\n",
              "      <td>192.062794</td>\n",
              "      <td>379.983590</td>\n",
              "      <td>1.167131e+07</td>\n",
              "      <td>17030.542773</td>\n",
              "      <td>36742.872825</td>\n",
              "      <td>38197.975770</td>\n",
              "      <td>14866.281844</td>\n",
              "    </tr>\n",
              "    <tr>\n",
              "      <th>2010-03-18</th>\n",
              "      <td>24.00000</td>\n",
              "      <td>3526.281013</td>\n",
              "      <td>223.337147</td>\n",
              "      <td>42.642245</td>\n",
              "      <td>839.723236</td>\n",
              "      <td>190.830086</td>\n",
              "      <td>362.805876</td>\n",
              "      <td>1.187655e+07</td>\n",
              "      <td>14815.963359</td>\n",
              "      <td>25775.205860</td>\n",
              "      <td>29618.199562</td>\n",
              "      <td>14483.106582</td>\n",
              "    </tr>\n",
              "    <tr>\n",
              "      <th>2010-03-19</th>\n",
              "      <td>24.00000</td>\n",
              "      <td>3514.913608</td>\n",
              "      <td>223.317147</td>\n",
              "      <td>42.677826</td>\n",
              "      <td>833.817448</td>\n",
              "      <td>189.049475</td>\n",
              "      <td>353.089956</td>\n",
              "      <td>1.123098e+07</td>\n",
              "      <td>12827.754228</td>\n",
              "      <td>25032.583179</td>\n",
              "      <td>30697.245146</td>\n",
              "      <td>14311.772141</td>\n",
              "    </tr>\n",
              "    <tr>\n",
              "      <th>2010-03-20</th>\n",
              "      <td>24.00000</td>\n",
              "      <td>3504.763562</td>\n",
              "      <td>223.303034</td>\n",
              "      <td>42.735827</td>\n",
              "      <td>830.434355</td>\n",
              "      <td>192.043733</td>\n",
              "      <td>349.821119</td>\n",
              "      <td>1.109804e+07</td>\n",
              "      <td>12808.884796</td>\n",
              "      <td>24664.586214</td>\n",
              "      <td>31087.782101</td>\n",
              "      <td>14163.898694</td>\n",
              "    </tr>\n",
              "    <tr>\n",
              "      <th>2010-03-21</th>\n",
              "      <td>24.00000</td>\n",
              "      <td>3492.841901</td>\n",
              "      <td>223.291353</td>\n",
              "      <td>42.770594</td>\n",
              "      <td>824.547904</td>\n",
              "      <td>193.201259</td>\n",
              "      <td>344.134244</td>\n",
              "      <td>1.093559e+07</td>\n",
              "      <td>12776.869660</td>\n",
              "      <td>24483.497384</td>\n",
              "      <td>31164.747774</td>\n",
              "      <td>13967.153418</td>\n",
              "    </tr>\n",
              "    <tr>\n",
              "      <th>2010-03-22</th>\n",
              "      <td>24.00000</td>\n",
              "      <td>3460.862128</td>\n",
              "      <td>223.300709</td>\n",
              "      <td>45.041136</td>\n",
              "      <td>795.900307</td>\n",
              "      <td>191.314792</td>\n",
              "      <td>313.550160</td>\n",
              "      <td>1.307194e+07</td>\n",
              "      <td>14874.773088</td>\n",
              "      <td>24458.580144</td>\n",
              "      <td>31681.968615</td>\n",
              "      <td>16668.186784</td>\n",
              "    </tr>\n",
              "    <tr>\n",
              "      <th>2010-03-23</th>\n",
              "      <td>24.00000</td>\n",
              "      <td>3422.510183</td>\n",
              "      <td>223.354927</td>\n",
              "      <td>48.268275</td>\n",
              "      <td>759.105257</td>\n",
              "      <td>192.454799</td>\n",
              "      <td>274.186897</td>\n",
              "      <td>1.382048e+07</td>\n",
              "      <td>17263.328663</td>\n",
              "      <td>41520.546816</td>\n",
              "      <td>42199.917717</td>\n",
              "      <td>17384.218823</td>\n",
              "    </tr>\n",
              "    <tr>\n",
              "      <th>2010-03-24</th>\n",
              "      <td>24.00000</td>\n",
              "      <td>3435.084903</td>\n",
              "      <td>223.378091</td>\n",
              "      <td>47.668794</td>\n",
              "      <td>765.122928</td>\n",
              "      <td>190.217152</td>\n",
              "      <td>280.992874</td>\n",
              "      <td>1.359333e+07</td>\n",
              "      <td>16125.376130</td>\n",
              "      <td>56392.726193</td>\n",
              "      <td>46679.037762</td>\n",
              "      <td>17128.978309</td>\n",
              "    </tr>\n",
              "    <tr>\n",
              "      <th>2010-03-25</th>\n",
              "      <td>24.00000</td>\n",
              "      <td>3441.626184</td>\n",
              "      <td>223.399856</td>\n",
              "      <td>47.665282</td>\n",
              "      <td>765.542996</td>\n",
              "      <td>190.108502</td>\n",
              "      <td>280.495522</td>\n",
              "      <td>1.352311e+07</td>\n",
              "      <td>16560.568125</td>\n",
              "      <td>56743.437167</td>\n",
              "      <td>46528.827558</td>\n",
              "      <td>17048.846122</td>\n",
              "    </tr>\n",
              "    <tr>\n",
              "      <th>2010-03-26</th>\n",
              "      <td>24.00000</td>\n",
              "      <td>3459.110559</td>\n",
              "      <td>223.412021</td>\n",
              "      <td>46.884280</td>\n",
              "      <td>776.728509</td>\n",
              "      <td>188.279503</td>\n",
              "      <td>292.015187</td>\n",
              "      <td>1.300761e+07</td>\n",
              "      <td>16652.839646</td>\n",
              "      <td>55456.573362</td>\n",
              "      <td>47853.464587</td>\n",
              "      <td>16403.700249</td>\n",
              "    </tr>\n",
              "    <tr>\n",
              "      <th>2010-03-27</th>\n",
              "      <td>24.00000</td>\n",
              "      <td>3468.809459</td>\n",
              "      <td>223.422601</td>\n",
              "      <td>46.515119</td>\n",
              "      <td>781.579347</td>\n",
              "      <td>190.935653</td>\n",
              "      <td>296.681096</td>\n",
              "      <td>1.269099e+07</td>\n",
              "      <td>16014.109380</td>\n",
              "      <td>54812.792206</td>\n",
              "      <td>48777.798209</td>\n",
              "      <td>15966.810004</td>\n",
              "    </tr>\n",
              "    <tr>\n",
              "      <th>2010-03-28</th>\n",
              "      <td>23.00000</td>\n",
              "      <td>3477.631861</td>\n",
              "      <td>223.443778</td>\n",
              "      <td>45.709875</td>\n",
              "      <td>784.503758</td>\n",
              "      <td>192.641538</td>\n",
              "      <td>299.399721</td>\n",
              "      <td>1.182587e+07</td>\n",
              "      <td>15447.963528</td>\n",
              "      <td>49895.043974</td>\n",
              "      <td>50708.872742</td>\n",
              "      <td>14921.066094</td>\n",
              "    </tr>\n",
              "    <tr>\n",
              "      <th>2010-03-29</th>\n",
              "      <td>24.00000</td>\n",
              "      <td>3487.307941</td>\n",
              "      <td>223.458367</td>\n",
              "      <td>46.679634</td>\n",
              "      <td>788.822556</td>\n",
              "      <td>193.926733</td>\n",
              "      <td>303.598517</td>\n",
              "      <td>1.188661e+07</td>\n",
              "      <td>15700.625220</td>\n",
              "      <td>52626.802869</td>\n",
              "      <td>51696.295567</td>\n",
              "      <td>14972.831235</td>\n",
              "    </tr>\n",
              "    <tr>\n",
              "      <th>2010-03-30</th>\n",
              "      <td>24.00000</td>\n",
              "      <td>3512.480745</td>\n",
              "      <td>223.447836</td>\n",
              "      <td>45.174481</td>\n",
              "      <td>808.542996</td>\n",
              "      <td>190.219326</td>\n",
              "      <td>324.428882</td>\n",
              "      <td>1.285337e+07</td>\n",
              "      <td>16082.794112</td>\n",
              "      <td>52979.604853</td>\n",
              "      <td>51010.921676</td>\n",
              "      <td>16072.667517</td>\n",
              "    </tr>\n",
              "    <tr>\n",
              "      <th>2010-03-31</th>\n",
              "      <td>24.00000</td>\n",
              "      <td>3518.993057</td>\n",
              "      <td>223.457255</td>\n",
              "      <td>44.145559</td>\n",
              "      <td>809.106390</td>\n",
              "      <td>189.350904</td>\n",
              "      <td>324.138434</td>\n",
              "      <td>1.272020e+07</td>\n",
              "      <td>17399.754655</td>\n",
              "      <td>53364.146204</td>\n",
              "      <td>50889.352678</td>\n",
              "      <td>15913.598207</td>\n",
              "    </tr>\n",
              "    <tr>\n",
              "      <th>2010-04-01</th>\n",
              "      <td>0.00000</td>\n",
              "      <td>3927.602959</td>\n",
              "      <td>218.937457</td>\n",
              "      <td>0.000000</td>\n",
              "      <td>805.302507</td>\n",
              "      <td>109.717783</td>\n",
              "      <td>278.732567</td>\n",
              "      <td>0.000000e+00</td>\n",
              "      <td>0.000000</td>\n",
              "      <td>15655.338583</td>\n",
              "      <td>9717.757377</td>\n",
              "      <td>0.000000</td>\n",
              "    </tr>\n",
              "    <tr>\n",
              "      <th>2010-04-02</th>\n",
              "      <td>9.14166</td>\n",
              "      <td>3621.138231</td>\n",
              "      <td>222.640244</td>\n",
              "      <td>35.256447</td>\n",
              "      <td>785.337404</td>\n",
              "      <td>168.525341</td>\n",
              "      <td>334.927199</td>\n",
              "      <td>4.129941e+06</td>\n",
              "      <td>5142.549147</td>\n",
              "      <td>50847.861576</td>\n",
              "      <td>48712.099362</td>\n",
              "      <td>5064.429699</td>\n",
              "    </tr>\n",
              "    <tr>\n",
              "      <th>2010-04-03</th>\n",
              "      <td>23.33334</td>\n",
              "      <td>3566.741040</td>\n",
              "      <td>223.430325</td>\n",
              "      <td>42.415430</td>\n",
              "      <td>839.656249</td>\n",
              "      <td>187.459203</td>\n",
              "      <td>356.422926</td>\n",
              "      <td>1.157912e+07</td>\n",
              "      <td>15465.008915</td>\n",
              "      <td>48834.509267</td>\n",
              "      <td>48547.697564</td>\n",
              "      <td>14651.484812</td>\n",
              "    </tr>\n",
              "  </tbody>\n",
              "</table>\n",
              "</div>\n",
              "      <button class=\"colab-df-convert\" onclick=\"convertToInteractive('df-ffc6b52a-adb8-4dd0-85ef-e8712f212bd9')\"\n",
              "              title=\"Convert this dataframe to an interactive table.\"\n",
              "              style=\"display:none;\">\n",
              "        \n",
              "  <svg xmlns=\"http://www.w3.org/2000/svg\" height=\"24px\"viewBox=\"0 0 24 24\"\n",
              "       width=\"24px\">\n",
              "    <path d=\"M0 0h24v24H0V0z\" fill=\"none\"/>\n",
              "    <path d=\"M18.56 5.44l.94 2.06.94-2.06 2.06-.94-2.06-.94-.94-2.06-.94 2.06-2.06.94zm-11 1L8.5 8.5l.94-2.06 2.06-.94-2.06-.94L8.5 2.5l-.94 2.06-2.06.94zm10 10l.94 2.06.94-2.06 2.06-.94-2.06-.94-.94-2.06-.94 2.06-2.06.94z\"/><path d=\"M17.41 7.96l-1.37-1.37c-.4-.4-.92-.59-1.43-.59-.52 0-1.04.2-1.43.59L10.3 9.45l-7.72 7.72c-.78.78-.78 2.05 0 2.83L4 21.41c.39.39.9.59 1.41.59.51 0 1.02-.2 1.41-.59l7.78-7.78 2.81-2.81c.8-.78.8-2.07 0-2.86zM5.41 20L4 18.59l7.72-7.72 1.47 1.35L5.41 20z\"/>\n",
              "  </svg>\n",
              "      </button>\n",
              "      \n",
              "  <style>\n",
              "    .colab-df-container {\n",
              "      display:flex;\n",
              "      flex-wrap:wrap;\n",
              "      gap: 12px;\n",
              "    }\n",
              "\n",
              "    .colab-df-convert {\n",
              "      background-color: #E8F0FE;\n",
              "      border: none;\n",
              "      border-radius: 50%;\n",
              "      cursor: pointer;\n",
              "      display: none;\n",
              "      fill: #1967D2;\n",
              "      height: 32px;\n",
              "      padding: 0 0 0 0;\n",
              "      width: 32px;\n",
              "    }\n",
              "\n",
              "    .colab-df-convert:hover {\n",
              "      background-color: #E2EBFA;\n",
              "      box-shadow: 0px 1px 2px rgba(60, 64, 67, 0.3), 0px 1px 3px 1px rgba(60, 64, 67, 0.15);\n",
              "      fill: #174EA6;\n",
              "    }\n",
              "\n",
              "    [theme=dark] .colab-df-convert {\n",
              "      background-color: #3B4455;\n",
              "      fill: #D2E3FC;\n",
              "    }\n",
              "\n",
              "    [theme=dark] .colab-df-convert:hover {\n",
              "      background-color: #434B5C;\n",
              "      box-shadow: 0px 1px 3px 1px rgba(0, 0, 0, 0.15);\n",
              "      filter: drop-shadow(0px 1px 2px rgba(0, 0, 0, 0.3));\n",
              "      fill: #FFFFFF;\n",
              "    }\n",
              "  </style>\n",
              "\n",
              "      <script>\n",
              "        const buttonEl =\n",
              "          document.querySelector('#df-ffc6b52a-adb8-4dd0-85ef-e8712f212bd9 button.colab-df-convert');\n",
              "        buttonEl.style.display =\n",
              "          google.colab.kernel.accessAllowed ? 'block' : 'none';\n",
              "\n",
              "        async function convertToInteractive(key) {\n",
              "          const element = document.querySelector('#df-ffc6b52a-adb8-4dd0-85ef-e8712f212bd9');\n",
              "          const dataTable =\n",
              "            await google.colab.kernel.invokeFunction('convertToInteractive',\n",
              "                                                     [key], {});\n",
              "          if (!dataTable) return;\n",
              "\n",
              "          const docLinkHtml = 'Like what you see? Visit the ' +\n",
              "            '<a target=\"_blank\" href=https://colab.research.google.com/notebooks/data_table.ipynb>data table notebook</a>'\n",
              "            + ' to learn more about interactive tables.';\n",
              "          element.innerHTML = '';\n",
              "          dataTable['output_type'] = 'display_data';\n",
              "          await google.colab.output.renderOutput(dataTable, element);\n",
              "          const docLink = document.createElement('div');\n",
              "          docLink.innerHTML = docLinkHtml;\n",
              "          element.appendChild(docLink);\n",
              "        }\n",
              "      </script>\n",
              "    </div>\n",
              "  </div>\n",
              "  "
            ]
          },
          "metadata": {},
          "execution_count": 375
        }
      ]
    },
    {
      "cell_type": "code",
      "source": [
        "inv_yhat[:10] "
      ],
      "metadata": {
        "colab": {
          "base_uri": "https://localhost:8080/"
        },
        "id": "alOk-YutHixs",
        "outputId": "de0fc237-b97d-4f42-c60e-e20990ac2f33"
      },
      "execution_count": 264,
      "outputs": [
        {
          "output_type": "execute_result",
          "data": {
            "text/plain": [
              "array([3288.89158196, 3346.74592036, 3103.52754455, 1377.72767492,\n",
              "       3303.75001182, -133.23603625,  723.8719873 , 4809.38627532,\n",
              "       1305.95354536, 3142.61230775])"
            ]
          },
          "metadata": {},
          "execution_count": 264
        }
      ]
    },
    {
      "cell_type": "code",
      "source": [
        "inv_yhat[:10] # 1 time steps # on stream choke"
      ],
      "metadata": {
        "colab": {
          "base_uri": "https://localhost:8080/"
        },
        "id": "xvxvb4BhFVeh",
        "outputId": "29e58824-94ca-421a-a8ef-5201df8c9d17"
      },
      "execution_count": 246,
      "outputs": [
        {
          "output_type": "execute_result",
          "data": {
            "text/plain": [
              "array([3394.35349602, 3444.29474848, 3407.12422423, 2069.87415929,\n",
              "       2673.50782432,  726.9788075 ,  191.03995605, 2852.41166594,\n",
              "       1233.41545942, 2469.22461244])"
            ]
          },
          "metadata": {},
          "execution_count": 246
        }
      ]
    },
    {
      "cell_type": "code",
      "source": [
        "inv_yhat[:10] # 4 time steps # on stream choke"
      ],
      "metadata": {
        "colab": {
          "base_uri": "https://localhost:8080/"
        },
        "id": "6CotdhM7B70z",
        "outputId": "6a99acda-ab09-4fd0-b335-e8c6048f31f7"
      },
      "execution_count": 225,
      "outputs": [
        {
          "output_type": "execute_result",
          "data": {
            "text/plain": [
              "array([3362.01447504, 3014.15742736, 1575.44740148, 2900.26856651,\n",
              "        196.33037   ,  969.9657373 , 4537.10893157, 1709.12542036,\n",
              "       2967.28906556, 1227.26407666])"
            ]
          },
          "metadata": {},
          "execution_count": 225
        }
      ]
    },
    {
      "cell_type": "code",
      "source": [
        "inv_yhat[:10]# 4 time steps # on stream"
      ],
      "metadata": {
        "colab": {
          "base_uri": "https://localhost:8080/"
        },
        "id": "Oj0iYlicucxa",
        "outputId": "0c11e428-80fe-425a-bbd8-28da6cbd8a0c"
      },
      "execution_count": 204,
      "outputs": [
        {
          "output_type": "execute_result",
          "data": {
            "text/plain": [
              "array([3357.58478754, 3198.6486383 , 1894.60365148, 2831.45606651,\n",
              "        624.30595593,  780.4735498 , 3790.01518157, 1856.40471723,\n",
              "       3131.147464  , 1301.48477978])"
            ]
          },
          "metadata": {},
          "execution_count": 204
        }
      ]
    },
    {
      "cell_type": "code",
      "source": [
        "inv_yhat[:10]"
      ],
      "metadata": {
        "colab": {
          "base_uri": "https://localhost:8080/"
        },
        "id": "GZ9pGGhZjnlG",
        "outputId": "9a7cce76-239b-43e5-f25c-bc545af086f7"
      },
      "execution_count": 161,
      "outputs": [
        {
          "output_type": "execute_result",
          "data": {
            "text/plain": [
              "array([3397.68342036, 2977.08809142, 1739.45619054, 2572.84473839,\n",
              "         15.59990125,  623.75284667, 4017.29447844, 1411.54241254,\n",
              "       2912.24316712, 1379.89298291])"
            ]
          },
          "metadata": {},
          "execution_count": 161
        }
      ]
    },
    {
      "cell_type": "code",
      "source": [
        "inv_yhat[10:20]"
      ],
      "metadata": {
        "colab": {
          "base_uri": "https://localhost:8080/"
        },
        "id": "ZGcdzY3shDE6",
        "outputId": "94f9f47d-b839-4370-bfea-2adb102d034a"
      },
      "execution_count": null,
      "outputs": [
        {
          "output_type": "execute_result",
          "data": {
            "text/plain": [
              "array([ 907.45060009, 3011.43941447, 3340.06765995, 3333.45754088,\n",
              "       3341.38863642, 3353.24552656, 3399.83067438, 3391.99224271,\n",
              "       2528.66725041, 2690.08993581])"
            ]
          },
          "metadata": {},
          "execution_count": 38
        }
      ]
    },
    {
      "cell_type": "code",
      "source": [
        "inv_yhat[10:20]"
      ],
      "metadata": {
        "colab": {
          "base_uri": "https://localhost:8080/"
        },
        "id": "mVm5fMCscfjO",
        "outputId": "ae052322-2c04-4e10-d93f-74d691dd1bf1"
      },
      "execution_count": null,
      "outputs": [
        {
          "output_type": "execute_result",
          "data": {
            "text/plain": [
              "array([ 907.45060009, 3011.43941447, 3340.06765995, 3333.45754088,\n",
              "       3341.38863642, 3353.24552656, 3399.83067438, 3391.99224271,\n",
              "       2528.66725041, 2690.08993581])"
            ]
          },
          "metadata": {},
          "execution_count": 39
        }
      ]
    },
    {
      "cell_type": "code",
      "source": [
        "inv_yhat[10:20]"
      ],
      "metadata": {
        "colab": {
          "base_uri": "https://localhost:8080/"
        },
        "id": "KVIWQEShZFgf",
        "outputId": "90d27d43-2423-432e-df3b-db15139d261c"
      },
      "execution_count": null,
      "outputs": [
        {
          "output_type": "execute_result",
          "data": {
            "text/plain": [
              "array([ 907.45060009, 3011.43941447, 3340.06765995, 3333.45754088,\n",
              "       3341.38863642, 3353.24552656, 3399.83067438, 3391.99224271,\n",
              "       2528.66725041, 2690.08993581])"
            ]
          },
          "metadata": {},
          "execution_count": 40
        }
      ]
    },
    {
      "cell_type": "code",
      "source": [
        "MAPE(inv_y[10:15],inv_yhat[10:15])"
      ],
      "metadata": {
        "colab": {
          "base_uri": "https://localhost:8080/"
        },
        "id": "8UT3jqDxPF9e",
        "outputId": "24193447-47c3-4166-fedb-61fe5320e031"
      },
      "execution_count": null,
      "outputs": [
        {
          "output_type": "execute_result",
          "data": {
            "text/plain": [
              "16.15701296093893"
            ]
          },
          "metadata": {},
          "execution_count": 41
        }
      ]
    },
    {
      "cell_type": "code",
      "source": [
        "inv_y.shape, inv_yhat.shape"
      ],
      "metadata": {
        "id": "8xw8O7CoPQAG",
        "outputId": "3cdff192-b9ed-42ef-f99f-c96cbd884cab",
        "colab": {
          "base_uri": "https://localhost:8080/"
        }
      },
      "execution_count": null,
      "outputs": [
        {
          "output_type": "execute_result",
          "data": {
            "text/plain": [
              "((369,), (369,))"
            ]
          },
          "metadata": {},
          "execution_count": 42
        }
      ]
    },
    {
      "cell_type": "code",
      "source": [
        "# Performance evaluation\n",
        "\n",
        "rmse_test = sqrt(mean_squared_error(inv_y, inv_yhat))\n",
        "print('Test RMSE: %.5f' % rmse_test)\n",
        "#report performance using RMSPE\n",
        "RMSPE_test = RMSPE(inv_y, inv_yhat)\n",
        "print('Test RMSPE: %.5f' % RMSPE_test)\n",
        "MAE_test = mean_absolute_error(inv_y, inv_yhat)\n",
        "print('Test MAE: %.5f' % MAE_test)\n",
        "MAPE_test = MAPE(inv_y, inv_yhat)\n",
        "print('Test MAPE: %.5f' % MAPE_test)\n",
        "r2 = r2_score(inv_y, inv_yhat)\n",
        "print('Test r2: %.5f' % r2)\n",
        "wMAPE_test = wMAPE(inv_y, inv_yhat)\n",
        "print('Test wMAPE: %.5f ' % wMAPE_test)\n",
        "SMAPE_test = SMAPE(inv_y, inv_yhat)\n",
        "print('Test wMAPE: %.5f ' % SMAPE_test)"
      ],
      "metadata": {
        "colab": {
          "base_uri": "https://localhost:8080/"
        },
        "id": "nqXWUX41YtDY",
        "outputId": "e3cdcede-ed29-465a-ac7f-70fda875f54a"
      },
      "execution_count": 162,
      "outputs": [
        {
          "output_type": "stream",
          "name": "stdout",
          "text": [
            "Test RMSE: 449.03130\n",
            "Test RMSPE: 19544194831094544.00000\n",
            "Test MAE: 213.63827\n",
            "Test MAPE: 1353133045674894.00000\n",
            "Test r2: 0.60894\n",
            "Test wMAPE: 9.53361 \n",
            "Test wMAPE: 14.70437 \n"
          ]
        }
      ]
    },
    {
      "cell_type": "code",
      "source": [
        "# Performance evaluation\n",
        "rmse_test, RMSPE_test, MAE_test, MAPE_test, r2_test, wMAPE_test, SMAPE_test  = [], [], [], [], [], [], []\n",
        "# calculate the score for each day\n",
        "\n",
        "for i in range(test_y.shape[1]):\n",
        "    result_rmse = sqrt(mean_squared_error(inv_y[:,i], inv_yhat[:,i]))\n",
        "    result_RMSPE = RMSPE(inv_y[:,i], inv_yhat[:,i])\n",
        "    result_MAE = mean_absolute_error(inv_y[:,i], inv_yhat[:,i])\n",
        "    result_MAPE = MAPE(inv_y[:,i], inv_yhat[:,i])\n",
        "    result_r2 = r2_score(inv_y[:,i], inv_yhat[:,i])\n",
        "    result_wMAPE = wMAPE(inv_y[:,i], inv_yhat[:,i])\n",
        "    result_SMAPE = SMAPE(inv_y[:,i], inv_yhat[:,i])\n",
        "\n",
        "    rmse_test.append(result_rmse)\n",
        "    RMSPE_test.append(result_RMSPE)\n",
        "    MAE_test.append(result_MAE)\n",
        "    MAPE_test.append(result_MAPE)\n",
        "    r2_test.append(result_r2)\n",
        "    wMAPE_test.append(result_wMAPE)\n",
        "    SMAPE_test.append(result_SMAPE)\n",
        "    \n",
        "## calculate overall score\n",
        "print(\"The Average scores for the vector output {} steps ahead:\\n\".format(steps_ahead))\n",
        "print('Test RMSE: %.5f' % np.mean(rmse_test))\n",
        "#print('Test RMSPE: %.5f' % np.mean(RMSPE_test)) because of that the denominator (actual) has some zero values\n",
        "print('Test MAE: %.5f' % np.mean(MAE_test))\n",
        "#print('Test MAPE: %.5f' % np.mean(MAPE_test)) because of that the denominator (actual) has some zero values\n",
        "print('Test r2: %.5f' % np.mean(r2_test))\n",
        "print('Test wMAPE: %.5f ' % np.mean(wMAPE_test))\n",
        "print('Test SMAPE: %.5f ' % np.mean(SMAPE_test))"
      ],
      "metadata": {
        "id": "51SnY7n5e0nx",
        "colab": {
          "base_uri": "https://localhost:8080/",
          "height": 235
        },
        "outputId": "1f038602-a51a-4b26-8c5f-0bfb86cabda4"
      },
      "execution_count": null,
      "outputs": [
        {
          "output_type": "error",
          "ename": "IndexError",
          "evalue": "ignored",
          "traceback": [
            "\u001b[0;31m---------------------------------------------------------------------------\u001b[0m",
            "\u001b[0;31mIndexError\u001b[0m                                Traceback (most recent call last)",
            "\u001b[0;32m<ipython-input-44-bef913473e92>\u001b[0m in \u001b[0;36m<module>\u001b[0;34m\u001b[0m\n\u001b[1;32m      4\u001b[0m \u001b[0;34m\u001b[0m\u001b[0m\n\u001b[1;32m      5\u001b[0m \u001b[0;32mfor\u001b[0m \u001b[0mi\u001b[0m \u001b[0;32min\u001b[0m \u001b[0mrange\u001b[0m\u001b[0;34m(\u001b[0m\u001b[0mtest_y\u001b[0m\u001b[0;34m.\u001b[0m\u001b[0mshape\u001b[0m\u001b[0;34m[\u001b[0m\u001b[0;36m1\u001b[0m\u001b[0;34m]\u001b[0m\u001b[0;34m)\u001b[0m\u001b[0;34m:\u001b[0m\u001b[0;34m\u001b[0m\u001b[0;34m\u001b[0m\u001b[0m\n\u001b[0;32m----> 6\u001b[0;31m     \u001b[0mresult_rmse\u001b[0m \u001b[0;34m=\u001b[0m \u001b[0msqrt\u001b[0m\u001b[0;34m(\u001b[0m\u001b[0mmean_squared_error\u001b[0m\u001b[0;34m(\u001b[0m\u001b[0minv_y\u001b[0m\u001b[0;34m[\u001b[0m\u001b[0;34m:\u001b[0m\u001b[0;34m,\u001b[0m\u001b[0mi\u001b[0m\u001b[0;34m]\u001b[0m\u001b[0;34m,\u001b[0m \u001b[0minv_yhat\u001b[0m\u001b[0;34m[\u001b[0m\u001b[0;34m:\u001b[0m\u001b[0;34m,\u001b[0m\u001b[0mi\u001b[0m\u001b[0;34m]\u001b[0m\u001b[0;34m)\u001b[0m\u001b[0;34m)\u001b[0m\u001b[0;34m\u001b[0m\u001b[0;34m\u001b[0m\u001b[0m\n\u001b[0m\u001b[1;32m      7\u001b[0m     \u001b[0mresult_RMSPE\u001b[0m \u001b[0;34m=\u001b[0m \u001b[0mRMSPE\u001b[0m\u001b[0;34m(\u001b[0m\u001b[0minv_y\u001b[0m\u001b[0;34m[\u001b[0m\u001b[0;34m:\u001b[0m\u001b[0;34m,\u001b[0m\u001b[0mi\u001b[0m\u001b[0;34m]\u001b[0m\u001b[0;34m,\u001b[0m \u001b[0minv_yhat\u001b[0m\u001b[0;34m[\u001b[0m\u001b[0;34m:\u001b[0m\u001b[0;34m,\u001b[0m\u001b[0mi\u001b[0m\u001b[0;34m]\u001b[0m\u001b[0;34m)\u001b[0m\u001b[0;34m\u001b[0m\u001b[0;34m\u001b[0m\u001b[0m\n\u001b[1;32m      8\u001b[0m     \u001b[0mresult_MAE\u001b[0m \u001b[0;34m=\u001b[0m \u001b[0mmean_absolute_error\u001b[0m\u001b[0;34m(\u001b[0m\u001b[0minv_y\u001b[0m\u001b[0;34m[\u001b[0m\u001b[0;34m:\u001b[0m\u001b[0;34m,\u001b[0m\u001b[0mi\u001b[0m\u001b[0;34m]\u001b[0m\u001b[0;34m,\u001b[0m \u001b[0minv_yhat\u001b[0m\u001b[0;34m[\u001b[0m\u001b[0;34m:\u001b[0m\u001b[0;34m,\u001b[0m\u001b[0mi\u001b[0m\u001b[0;34m]\u001b[0m\u001b[0;34m)\u001b[0m\u001b[0;34m\u001b[0m\u001b[0;34m\u001b[0m\u001b[0m\n",
            "\u001b[0;31mIndexError\u001b[0m: too many indices for array: array is 1-dimensional, but 2 were indexed"
          ]
        }
      ]
    },
    {
      "cell_type": "code",
      "source": [
        "Test RMSE: 555.56135\n",
        "Test MAE: 277.11301\n",
        "Test r2: 0.39641\n",
        "Test wMAPE: 12.32902 \n",
        "Test SMAPE: 17.45901"
      ],
      "metadata": {
        "id": "ef--j4gGOE6F"
      },
      "execution_count": null,
      "outputs": []
    },
    {
      "cell_type": "code",
      "source": [
        "# plot the scores for each time step of the multi-step forecast\n",
        "scores = pd.DataFrame({\"rmse_test\":rmse_test, \"MAE_test\":MAE_test, \"R-squared_test\":r2_test, \"wMAPE_test\":wMAPE_test, \"SMAPE_test\":SMAPE_test})\n",
        "\n",
        "# Reset the index, keeping the old index as a column\n",
        "scores = scores.reset_index(drop=False)\n",
        "\n",
        "# Set the 'index' column as the new index\n",
        "scores.index = scores['index'] + 1\n",
        "\n",
        "# Drop the old 'index' column\n",
        "scores = scores.drop(columns='index')\n",
        "\n",
        "data = scores.columns\n",
        "\n",
        "# Creating figure with two rows and one column\n",
        "fig, axs = plt.subplots(nrows=len(data), figsize=(17, 15))\n",
        "\n",
        "axs = axs.ravel()\n",
        "\n",
        "for id, column in enumerate(data):\n",
        "    # Set the x-axis limits\n",
        "    #axs[id].set_xlim(xmin=1, xmax= steps_ahead)\n",
        "    #print the name of the test on plot\n",
        "    axs[id].plot(scores[column])\n",
        "    # Add a title to the x-axis\n",
        "    axs[id].set_xlabel('Steps ahead',fontsize=10, labelpad=0.1)\n",
        "    axs[id].grid(True)\n",
        "    # Remove the horizontal grid lines\n",
        "    axs[id].grid(which='both', axis='y')\n",
        "    axs[id].xaxis.set_major_locator(plt.MultipleLocator(1))\n",
        "    axs[id].legend([column], loc='upper left', fontsize=15, handlelength=0, handletextpad=0, frameon=False)\n",
        "    \n",
        "plt.show()"
      ],
      "metadata": {
        "id": "H4KkEyXsJvDW"
      },
      "execution_count": null,
      "outputs": []
    },
    {
      "cell_type": "code",
      "source": [
        "inv_yhat"
      ],
      "metadata": {
        "id": "w-CDANaINC-c"
      },
      "execution_count": null,
      "outputs": []
    },
    {
      "cell_type": "code",
      "source": [
        "inv_yhat[-1]"
      ],
      "metadata": {
        "id": "iHKnDMnFNdmw"
      },
      "execution_count": null,
      "outputs": []
    },
    {
      "cell_type": "code",
      "source": [
        "plt.plot(inv_yhat[-1], label = \"predicted\")\n",
        "plt.plot(inv_y[-1], label = \"actual\")"
      ],
      "metadata": {
        "id": "w1S1CN4BEWUe"
      },
      "execution_count": null,
      "outputs": []
    },
    {
      "cell_type": "code",
      "source": [
        "plt.plot(inv_yhat.flatten(), label = \"predicted\")\n",
        "plt.plot(inv_y.flatten(), label = \"actual\")"
      ],
      "metadata": {
        "id": "M2CGD3H6NZoj"
      },
      "execution_count": null,
      "outputs": []
    },
    {
      "cell_type": "code",
      "source": [
        "plt.plot(inv_yhat.flatten(), label = \"predicted\")\n",
        "plt.plot(inv_y.flatten(), label = \"actual\")"
      ],
      "metadata": {
        "id": "1GHomhZ5E3jc"
      },
      "execution_count": null,
      "outputs": []
    },
    {
      "cell_type": "code",
      "source": [
        "# plot the last forecasted values on test set\n",
        "fig, ax = plt.subplots(1, 1, figsize=(18,6)) \n",
        "# Set the major locator for the x-axis\n",
        "x = list(range(1, len(inv_yhat[-1])+1))\n",
        "ax.xaxis.set_major_locator(plt.MultipleLocator(1))\n",
        "ax.plot(x, inv_yhat[-1], label = \"predicted\")\n",
        "ax.plot(x, inv_y[-1], label = \"actual\")\n",
        "ax.set_ylabel('Oil Rate', fontsize=15)\n",
        "ax.set_xlabel('Steps Ahead (Days)',fontsize=15)\n",
        "plt.legend(fontsize=15)\n",
        "plt.show()"
      ],
      "metadata": {
        "id": "doFyZoCCZ-ht"
      },
      "execution_count": null,
      "outputs": []
    },
    {
      "cell_type": "code",
      "execution_count": null,
      "metadata": {
        "id": "zZcZ-O1kL3Q5"
      },
      "outputs": [],
      "source": [
        "#comparing predictions and actual values\n",
        "act_pred = pd.DataFrame({\"actual\":inv_y.flatten(), \"prediction\":inv_yhat.flatten()})\n",
        "act_pred.head(5)"
      ]
    },
    {
      "cell_type": "code",
      "source": [
        "series_to_supervised(series, series.columns, n_in=2, n_out=steps_ahead, dropnan=True).iloc[-len(test):-len(test)+5]"
      ],
      "metadata": {
        "id": "7APsQRBRvRbx"
      },
      "execution_count": null,
      "outputs": []
    },
    {
      "cell_type": "code",
      "source": [
        "r2_score(act_pred.iloc[:5,0],act_pred.iloc[:5,1])"
      ],
      "metadata": {
        "id": "2Kx12S2F506y"
      },
      "execution_count": null,
      "outputs": []
    },
    {
      "cell_type": "code",
      "source": [
        "wMAPE(act_pred.iloc[:5,0],act_pred.iloc[:5,1])"
      ],
      "metadata": {
        "id": "vS4cX0QOuinK"
      },
      "execution_count": null,
      "outputs": []
    },
    {
      "cell_type": "code",
      "source": [
        "MAPE(act_pred.iloc[:5,0],act_pred.iloc[:5,1])"
      ],
      "metadata": {
        "id": "L4g3tcrW5lIB"
      },
      "execution_count": null,
      "outputs": []
    }
  ],
  "metadata": {
    "colab": {
      "provenance": [],
      "toc_visible": true,
      "mount_file_id": "1fRyNGg_0mKKrWR0X5NTRjquhMWU9-Gqx",
      "authorship_tag": "ABX9TyP8dvNSKmSzdrYEkNsisavY",
      "include_colab_link": true
    },
    "kernelspec": {
      "display_name": "Python 3",
      "name": "python3"
    },
    "language_info": {
      "name": "python"
    }
  },
  "nbformat": 4,
  "nbformat_minor": 0
}