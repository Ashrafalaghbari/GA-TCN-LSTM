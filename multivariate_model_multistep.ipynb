{
  "cells": [
    {
      "cell_type": "markdown",
      "metadata": {
        "id": "view-in-github",
        "colab_type": "text"
      },
      "source": [
        "<a href=\"https://colab.research.google.com/github/Ashrafalaghbari/Mutivariate-long-term-forecasting-of-oil-production/blob/main/multivariate_model_multistep.ipynb\" target=\"_parent\"><img src=\"https://colab.research.google.com/assets/colab-badge.svg\" alt=\"Open In Colab\"/></a>"
      ]
    },
    {
      "cell_type": "code",
      "execution_count": 1,
      "metadata": {
        "colab": {
          "base_uri": "https://localhost:8080/",
          "height": 34
        },
        "id": "x1LrkoSv4cc7",
        "outputId": "9af3ca90-04d1-4769-ec04-a5be4489f042"
      },
      "outputs": [
        {
          "output_type": "display_data",
          "data": {
            "application/javascript": [
              "IPython.notebook.set_autosave_interval(60000)"
            ]
          },
          "metadata": {}
        },
        {
          "output_type": "stream",
          "name": "stdout",
          "text": [
            "Autosaving every 60 seconds\n"
          ]
        }
      ],
      "source": [
        "%autosave 60"
      ]
    },
    {
      "cell_type": "code",
      "source": [
        "!nvidia-smi"
      ],
      "metadata": {
        "colab": {
          "base_uri": "https://localhost:8080/"
        },
        "id": "I6ZrWV9NpfPM",
        "outputId": "26f86b6d-e6de-48ab-dfe5-c53253757488"
      },
      "execution_count": 2,
      "outputs": [
        {
          "output_type": "stream",
          "name": "stdout",
          "text": [
            "NVIDIA-SMI has failed because it couldn't communicate with the NVIDIA driver. Make sure that the latest NVIDIA driver is installed and running.\n",
            "\n"
          ]
        }
      ]
    },
    {
      "cell_type": "code",
      "source": [
        "# check if GPU is utilized \n",
        "device_name = tf.config.experimental.list_physical_devices()[-1][-1]\n",
        "if device_name != 'GPU':\n",
        "    raise SystemError('GPU device not found')\n",
        "print('Found GPU at: {}'.format(tf.test.gpu_device_name()))"
      ],
      "metadata": {
        "id": "Hu7vsRejtR_4"
      },
      "execution_count": null,
      "outputs": []
    },
    {
      "cell_type": "code",
      "execution_count": 4,
      "metadata": {
        "id": "XxzUA1Pg4iEU"
      },
      "outputs": [],
      "source": [
        "import os\n",
        "import numpy as np\n",
        "import pandas as pd\n",
        "import matplotlib.pyplot as plt\n",
        "from sklearn.preprocessing import MinMaxScaler\n",
        "import tensorflow as tf\n",
        "from keras.models import Sequential\n",
        "from keras.layers import Dense,Activation, Dropout\n",
        "from keras.layers import LSTM\n",
        "from keras.callbacks import EarlyStopping, ModelCheckpoint, ReduceLROnPlateau\n",
        "from sklearn.metrics import mean_absolute_error, mean_squared_error, r2_score\n",
        "from math import sqrt"
      ]
    },
    {
      "cell_type": "code",
      "execution_count": 5,
      "metadata": {
        "id": "lVMp6qZiT9gO"
      },
      "outputs": [],
      "source": [
        "# convert series to supervised learning\n",
        "def series_to_supervised(data, columns, n_in=1, n_out=1, dropnan=True):\n",
        "    n_vars = 1 if type(data) is list else data.shape[1]\n",
        "    df = pd.DataFrame(data)\n",
        "    cols, names = list(), list()\n",
        "    # input sequence (t-n, ... t-1)\n",
        "    for i in range(n_in, 0, -1):\n",
        "        cols.append(df.shift(i))\n",
        "        names += [('%s(t-%d)' % (columns[j], i)) for j in range(n_vars)]\n",
        "        # forecast sequence (t, t+1, ... t+n)\n",
        "    for i in range(0, n_out):\n",
        "        cols.append(df.shift(-i))\n",
        "        if i == 0:\n",
        "            names += [('%s(t)' % (columns[j])) for j in range(n_vars)]\n",
        "        else:\n",
        "            names += [('%s(t+%d)' % (columns[j], i)) for j in range(n_vars)]\n",
        "    # put it all together\n",
        "    agg = pd.concat(cols, axis=1)\n",
        "    agg.columns = names\n",
        "    # drop rows with NaN values\n",
        "    if dropnan:\n",
        "        agg.dropna(inplace=True)\n",
        "    return agg\n",
        "\n",
        "# scale train and test data to [0, 1]\n",
        "def scale(train, test):\n",
        "\t# fit scaler\n",
        "\tscaler = MinMaxScaler(feature_range=(0, 1))\n",
        "\tscaler = scaler.fit(train)\n",
        "\t# transform train\n",
        "\ttrain = train.reshape(train.shape[0], train.shape[1])\n",
        "\ttrain_scaled = scaler.transform(train)\n",
        "\t# transform test\n",
        "\ttest = test.reshape(test.shape[0], test.shape[1])\n",
        "\ttest_scaled = scaler.transform(test)\n",
        "\treturn scaler, train_scaled, test_scaled\n",
        "\n",
        "\n",
        "# inverse differencing\n",
        "def inverse_difference(history, interval=1):\n",
        "\treturn history[-len(test_scaled)-interval:-interval]\n"
      ]
    },
    {
      "cell_type": "code",
      "execution_count": 6,
      "metadata": {
        "id": "sX-FCHP3Hy7E"
      },
      "outputs": [],
      "source": [
        "#Evaluation metrics\n",
        "# compute RMSPE\n",
        "def RMSPE(x,y):\n",
        "\tresult=0\n",
        "\tfor i in range(len(x)):\n",
        "\t\tresult += ((x[i]-y[i])/x[i])**2\n",
        "\tresult /= len(x)\n",
        "\tresult = sqrt(result)\n",
        "\tresult *= 100\n",
        "\treturn result\n",
        "\n",
        "# compute MAPE\n",
        "def MAPE(x,y):\n",
        "\tresult=0\n",
        "\tfor i in range(len(x)):\n",
        "\t\tresult += abs((x[i]-y[i])/x[i])\n",
        "\tresult /= len(x)\n",
        "\tresult *= 100\n",
        "\treturn result\n",
        "\n",
        "# compute wMAPE weighted absolute percentage error\n",
        "def wMAPE(actual, predicted): \n",
        "    result_nom = 0\n",
        "    result_deno = 0\n",
        "    for i in range(len(actual)):\n",
        "        result_nom +=  abs(actual[i] - predicted[i])\n",
        "        result_deno +=  abs(actual[i]) \n",
        "    result = result_nom/result_deno\n",
        "    return result *100\n",
        "\n",
        "def SMAPE(actual, predicted): #adjusted MEAN ABSOLUTE PERCENTAGE ERROR (SMAPE)\n",
        "    result = 0\n",
        "    for i in range(len(actual)):\n",
        "        result += abs(actual[i] - predicted[i])/(abs(actual[i]) + abs(predicted[i]))\n",
        "    result = 2* result/ len(actual) \n",
        "    return result * 100"
      ]
    },
    {
      "cell_type": "code",
      "execution_count": 26,
      "metadata": {
        "colab": {
          "base_uri": "https://localhost:8080/"
        },
        "id": "RNb6b1BBNzD9",
        "outputId": "875e225b-dc60-45ed-ede2-da6802d4a7ce"
      },
      "outputs": [
        {
          "output_type": "execute_result",
          "data": {
            "text/plain": [
              "Index(['DATEPRD', 'BORE_OIL_VOL', 'ON_STREAM_HRS', 'AVG_DOWNHOLE_PRESSURE',\n",
              "       'AVG_DOWNHOLE_TEMPERATURE', 'AVG_CHOKE_SIZE_P', 'AVG_WHP_P',\n",
              "       'AVG_WHT_P', 'DP_CHOKE_SIZE', 'BORE_GAS_VOL', 'BORE_WAT_VOL',\n",
              "       'F_4_ON_STREAM_HRS', 'F_4_BORE_WI_VOL', 'F_5_ON_STREAM_HRS',\n",
              "       'F_5_BORE_WI_VOL'],\n",
              "      dtype='object')"
            ]
          },
          "metadata": {},
          "execution_count": 26
        }
      ],
      "source": [
        "colum = pd.read_csv('/content/drive/MyDrive/volve_production_data/model.csv')\n",
        "colum.columns"
      ]
    },
    {
      "cell_type": "code",
      "execution_count": 7,
      "metadata": {
        "id": "lu0tOwl84Xln"
      },
      "outputs": [],
      "source": [
        "#load dataset\n",
        "series = pd.read_csv('/content/drive/MyDrive/volve_production_data/model.csv',\n",
        "                     usecols=[\"DATEPRD\",'AVG_CHOKE_SIZE_P','AVG_DOWNHOLE_PRESSURE','AVG_DOWNHOLE_TEMPERATURE',\n",
        "                              'ON_STREAM_HRS','AVG_WHP_P','AVG_WHT_P','F_4_BORE_WI_VOL','F_5_BORE_WI_VOL',\n",
        "                              'DP_CHOKE_SIZE', 'BORE_GAS_VOL', 'BORE_WAT_VOL',\n",
        "                              \"BORE_OIL_VOL\"],\n",
        "                  parse_dates=[\"DATEPRD\"], index_col=\"DATEPRD\")\n",
        "#change the order of BORE_OIL_VOL\n",
        "# series =series[[\"ON_STREAM_HRS\",'BORE_GAS_VOL', 'BORE_WAT_VOL','AVG_CHOKE_SIZE_P','F_4_BORE_WI_VOL','F_5_BORE_WI_VOL',\n",
        "                # \"BORE_OIL_VOL\"]] # chan"
      ]
    },
    {
      "cell_type": "code",
      "execution_count": null,
      "metadata": {
        "id": "x-eyECzKBiWE"
      },
      "outputs": [],
      "source": [
        "recovery_time  = pd.Series(series.index.values).diff()\n",
        "recovery_time = recovery_time.fillna(pd.Timedelta(days=1))\n",
        "recovery_time = recovery_time.astype('string')\n",
        "recovery_time  = recovery_time.str.extract(r'(\\d+)')\n",
        "recovery_time.index = series.index.values\n",
        "series['recovery_time']  = recovery_time.astype('int')\n",
        "series['recovery_time'] = series['recovery_time'] - 1"
      ]
    },
    {
      "cell_type": "code",
      "execution_count": null,
      "metadata": {
        "id": "EAbY5vlkTF2C"
      },
      "outputs": [],
      "source": [
        "shutin_days = pd.Series(index=series.index, dtype='int')\n",
        "count = 0\n",
        "for id,v in enumerate(series[\"ON_STREAM_HRS\"]):\n",
        "    \n",
        "    if v == 0:\n",
        "        shutin_days[id] = 0\n",
        "        count+=1\n",
        "        #continue\n",
        "    else:\n",
        "        shutin_days[id] = count\n",
        "        count = 0"
      ]
    },
    {
      "cell_type": "code",
      "execution_count": null,
      "metadata": {
        "id": "XH0EYNr5cAO7"
      },
      "outputs": [],
      "source": [
        "series['shutin_days'] = shutin_days"
      ]
    },
    {
      "cell_type": "code",
      "execution_count": null,
      "metadata": {
        "colab": {
          "base_uri": "https://localhost:8080/",
          "height": 614
        },
        "id": "r8IlUXdMZkDf",
        "outputId": "695efaa5-c094-4047-943d-6c5cb5dc87b6"
      },
      "outputs": [
        {
          "data": {
            "text/html": [
              "\n",
              "  <div id=\"df-8a905d29-9ec2-46a8-91f1-849d6e2cd63b\">\n",
              "    <div class=\"colab-df-container\">\n",
              "      <div>\n",
              "<style scoped>\n",
              "    .dataframe tbody tr th:only-of-type {\n",
              "        vertical-align: middle;\n",
              "    }\n",
              "\n",
              "    .dataframe tbody tr th {\n",
              "        vertical-align: top;\n",
              "    }\n",
              "\n",
              "    .dataframe thead th {\n",
              "        text-align: right;\n",
              "    }\n",
              "</style>\n",
              "<table border=\"1\" class=\"dataframe\">\n",
              "  <thead>\n",
              "    <tr style=\"text-align: right;\">\n",
              "      <th></th>\n",
              "      <th>ON_STREAM_HRS</th>\n",
              "      <th>BORE_GAS_VOL</th>\n",
              "      <th>BORE_WAT_VOL</th>\n",
              "      <th>AVG_CHOKE_SIZE_P</th>\n",
              "      <th>F_4_BORE_WI_VOL</th>\n",
              "      <th>F_5_BORE_WI_VOL</th>\n",
              "      <th>BORE_OIL_VOL</th>\n",
              "      <th>recovery_time</th>\n",
              "      <th>shutin_days</th>\n",
              "    </tr>\n",
              "    <tr>\n",
              "      <th>DATEPRD</th>\n",
              "      <th></th>\n",
              "      <th></th>\n",
              "      <th></th>\n",
              "      <th></th>\n",
              "      <th></th>\n",
              "      <th></th>\n",
              "      <th></th>\n",
              "      <th></th>\n",
              "      <th></th>\n",
              "    </tr>\n",
              "  </thead>\n",
              "  <tbody>\n",
              "    <tr>\n",
              "      <th>2010-08-12</th>\n",
              "      <td>24.00000</td>\n",
              "      <td>1.189315e+07</td>\n",
              "      <td>21979.051263</td>\n",
              "      <td>59.194010</td>\n",
              "      <td>41026.601139</td>\n",
              "      <td>42214.231030</td>\n",
              "      <td>14633.118565</td>\n",
              "      <td>0</td>\n",
              "      <td>0</td>\n",
              "    </tr>\n",
              "    <tr>\n",
              "      <th>2010-08-13</th>\n",
              "      <td>24.00000</td>\n",
              "      <td>1.189629e+07</td>\n",
              "      <td>22027.294110</td>\n",
              "      <td>59.199363</td>\n",
              "      <td>40552.473361</td>\n",
              "      <td>42752.254569</td>\n",
              "      <td>14629.659169</td>\n",
              "      <td>0</td>\n",
              "      <td>0</td>\n",
              "    </tr>\n",
              "    <tr>\n",
              "      <th>2010-08-14</th>\n",
              "      <td>24.00000</td>\n",
              "      <td>1.186412e+07</td>\n",
              "      <td>22003.770218</td>\n",
              "      <td>59.231621</td>\n",
              "      <td>40563.073975</td>\n",
              "      <td>42852.919662</td>\n",
              "      <td>14631.042927</td>\n",
              "      <td>0</td>\n",
              "      <td>0</td>\n",
              "    </tr>\n",
              "    <tr>\n",
              "      <th>2010-08-15</th>\n",
              "      <td>23.75833</td>\n",
              "      <td>1.155754e+07</td>\n",
              "      <td>21382.777218</td>\n",
              "      <td>57.292090</td>\n",
              "      <td>39495.791300</td>\n",
              "      <td>41199.828827</td>\n",
              "      <td>14332.528516</td>\n",
              "      <td>0</td>\n",
              "      <td>0</td>\n",
              "    </tr>\n",
              "    <tr>\n",
              "      <th>2010-08-17</th>\n",
              "      <td>0.00000</td>\n",
              "      <td>0.000000e+00</td>\n",
              "      <td>0.000000</td>\n",
              "      <td>0.000000</td>\n",
              "      <td>0.000000</td>\n",
              "      <td>24883.763848</td>\n",
              "      <td>0.000000</td>\n",
              "      <td>1</td>\n",
              "      <td>0</td>\n",
              "    </tr>\n",
              "    <tr>\n",
              "      <th>2010-08-20</th>\n",
              "      <td>0.00000</td>\n",
              "      <td>0.000000e+00</td>\n",
              "      <td>0.000000</td>\n",
              "      <td>0.000000</td>\n",
              "      <td>0.000000</td>\n",
              "      <td>0.000000</td>\n",
              "      <td>0.000000</td>\n",
              "      <td>2</td>\n",
              "      <td>0</td>\n",
              "    </tr>\n",
              "    <tr>\n",
              "      <th>2010-08-21</th>\n",
              "      <td>0.00000</td>\n",
              "      <td>0.000000e+00</td>\n",
              "      <td>0.000000</td>\n",
              "      <td>0.000000</td>\n",
              "      <td>0.000000</td>\n",
              "      <td>0.000000</td>\n",
              "      <td>0.000000</td>\n",
              "      <td>0</td>\n",
              "      <td>0</td>\n",
              "    </tr>\n",
              "    <tr>\n",
              "      <th>2010-08-22</th>\n",
              "      <td>0.00000</td>\n",
              "      <td>0.000000e+00</td>\n",
              "      <td>0.000000</td>\n",
              "      <td>0.000000</td>\n",
              "      <td>0.000000</td>\n",
              "      <td>0.000000</td>\n",
              "      <td>0.000000</td>\n",
              "      <td>0</td>\n",
              "      <td>0</td>\n",
              "    </tr>\n",
              "    <tr>\n",
              "      <th>2010-08-23</th>\n",
              "      <td>0.00000</td>\n",
              "      <td>0.000000e+00</td>\n",
              "      <td>0.000000</td>\n",
              "      <td>0.000000</td>\n",
              "      <td>0.000000</td>\n",
              "      <td>0.000000</td>\n",
              "      <td>0.000000</td>\n",
              "      <td>0</td>\n",
              "      <td>0</td>\n",
              "    </tr>\n",
              "    <tr>\n",
              "      <th>2010-08-25</th>\n",
              "      <td>0.00000</td>\n",
              "      <td>0.000000e+00</td>\n",
              "      <td>0.000000</td>\n",
              "      <td>0.000000</td>\n",
              "      <td>0.000000</td>\n",
              "      <td>0.000000</td>\n",
              "      <td>0.000000</td>\n",
              "      <td>1</td>\n",
              "      <td>0</td>\n",
              "    </tr>\n",
              "    <tr>\n",
              "      <th>2010-08-26</th>\n",
              "      <td>0.00000</td>\n",
              "      <td>0.000000e+00</td>\n",
              "      <td>0.000000</td>\n",
              "      <td>0.000000</td>\n",
              "      <td>0.000000</td>\n",
              "      <td>0.000000</td>\n",
              "      <td>0.000000</td>\n",
              "      <td>0</td>\n",
              "      <td>0</td>\n",
              "    </tr>\n",
              "    <tr>\n",
              "      <th>2010-08-27</th>\n",
              "      <td>0.00000</td>\n",
              "      <td>0.000000e+00</td>\n",
              "      <td>0.000000</td>\n",
              "      <td>0.000000</td>\n",
              "      <td>0.000000</td>\n",
              "      <td>0.000000</td>\n",
              "      <td>0.000000</td>\n",
              "      <td>0</td>\n",
              "      <td>0</td>\n",
              "    </tr>\n",
              "    <tr>\n",
              "      <th>2010-08-28</th>\n",
              "      <td>0.00000</td>\n",
              "      <td>0.000000e+00</td>\n",
              "      <td>0.000000</td>\n",
              "      <td>0.000000</td>\n",
              "      <td>0.000000</td>\n",
              "      <td>0.000000</td>\n",
              "      <td>0.000000</td>\n",
              "      <td>0</td>\n",
              "      <td>0</td>\n",
              "    </tr>\n",
              "    <tr>\n",
              "      <th>2010-08-29</th>\n",
              "      <td>20.00833</td>\n",
              "      <td>5.730944e+06</td>\n",
              "      <td>10990.626348</td>\n",
              "      <td>32.318808</td>\n",
              "      <td>26107.755187</td>\n",
              "      <td>22571.624901</td>\n",
              "      <td>7008.798850</td>\n",
              "      <td>0</td>\n",
              "      <td>9</td>\n",
              "    </tr>\n",
              "    <tr>\n",
              "      <th>2010-08-30</th>\n",
              "      <td>24.00000</td>\n",
              "      <td>7.604381e+06</td>\n",
              "      <td>10617.892172</td>\n",
              "      <td>35.227124</td>\n",
              "      <td>25885.183727</td>\n",
              "      <td>27917.465093</td>\n",
              "      <td>9661.778063</td>\n",
              "      <td>0</td>\n",
              "      <td>0</td>\n",
              "    </tr>\n",
              "    <tr>\n",
              "      <th>2010-08-31</th>\n",
              "      <td>24.00000</td>\n",
              "      <td>6.972537e+06</td>\n",
              "      <td>10357.431115</td>\n",
              "      <td>33.087920</td>\n",
              "      <td>25136.342214</td>\n",
              "      <td>24290.501632</td>\n",
              "      <td>8969.835999</td>\n",
              "      <td>0</td>\n",
              "      <td>0</td>\n",
              "    </tr>\n",
              "    <tr>\n",
              "      <th>2010-09-01</th>\n",
              "      <td>21.33333</td>\n",
              "      <td>7.671171e+06</td>\n",
              "      <td>16690.452714</td>\n",
              "      <td>37.381105</td>\n",
              "      <td>24646.917436</td>\n",
              "      <td>27698.373131</td>\n",
              "      <td>9617.560694</td>\n",
              "      <td>0</td>\n",
              "      <td>0</td>\n",
              "    </tr>\n",
              "  </tbody>\n",
              "</table>\n",
              "</div>\n",
              "      <button class=\"colab-df-convert\" onclick=\"convertToInteractive('df-8a905d29-9ec2-46a8-91f1-849d6e2cd63b')\"\n",
              "              title=\"Convert this dataframe to an interactive table.\"\n",
              "              style=\"display:none;\">\n",
              "        \n",
              "  <svg xmlns=\"http://www.w3.org/2000/svg\" height=\"24px\"viewBox=\"0 0 24 24\"\n",
              "       width=\"24px\">\n",
              "    <path d=\"M0 0h24v24H0V0z\" fill=\"none\"/>\n",
              "    <path d=\"M18.56 5.44l.94 2.06.94-2.06 2.06-.94-2.06-.94-.94-2.06-.94 2.06-2.06.94zm-11 1L8.5 8.5l.94-2.06 2.06-.94-2.06-.94L8.5 2.5l-.94 2.06-2.06.94zm10 10l.94 2.06.94-2.06 2.06-.94-2.06-.94-.94-2.06-.94 2.06-2.06.94z\"/><path d=\"M17.41 7.96l-1.37-1.37c-.4-.4-.92-.59-1.43-.59-.52 0-1.04.2-1.43.59L10.3 9.45l-7.72 7.72c-.78.78-.78 2.05 0 2.83L4 21.41c.39.39.9.59 1.41.59.51 0 1.02-.2 1.41-.59l7.78-7.78 2.81-2.81c.8-.78.8-2.07 0-2.86zM5.41 20L4 18.59l7.72-7.72 1.47 1.35L5.41 20z\"/>\n",
              "  </svg>\n",
              "      </button>\n",
              "      \n",
              "  <style>\n",
              "    .colab-df-container {\n",
              "      display:flex;\n",
              "      flex-wrap:wrap;\n",
              "      gap: 12px;\n",
              "    }\n",
              "\n",
              "    .colab-df-convert {\n",
              "      background-color: #E8F0FE;\n",
              "      border: none;\n",
              "      border-radius: 50%;\n",
              "      cursor: pointer;\n",
              "      display: none;\n",
              "      fill: #1967D2;\n",
              "      height: 32px;\n",
              "      padding: 0 0 0 0;\n",
              "      width: 32px;\n",
              "    }\n",
              "\n",
              "    .colab-df-convert:hover {\n",
              "      background-color: #E2EBFA;\n",
              "      box-shadow: 0px 1px 2px rgba(60, 64, 67, 0.3), 0px 1px 3px 1px rgba(60, 64, 67, 0.15);\n",
              "      fill: #174EA6;\n",
              "    }\n",
              "\n",
              "    [theme=dark] .colab-df-convert {\n",
              "      background-color: #3B4455;\n",
              "      fill: #D2E3FC;\n",
              "    }\n",
              "\n",
              "    [theme=dark] .colab-df-convert:hover {\n",
              "      background-color: #434B5C;\n",
              "      box-shadow: 0px 1px 3px 1px rgba(0, 0, 0, 0.15);\n",
              "      filter: drop-shadow(0px 1px 2px rgba(0, 0, 0, 0.3));\n",
              "      fill: #FFFFFF;\n",
              "    }\n",
              "  </style>\n",
              "\n",
              "      <script>\n",
              "        const buttonEl =\n",
              "          document.querySelector('#df-8a905d29-9ec2-46a8-91f1-849d6e2cd63b button.colab-df-convert');\n",
              "        buttonEl.style.display =\n",
              "          google.colab.kernel.accessAllowed ? 'block' : 'none';\n",
              "\n",
              "        async function convertToInteractive(key) {\n",
              "          const element = document.querySelector('#df-8a905d29-9ec2-46a8-91f1-849d6e2cd63b');\n",
              "          const dataTable =\n",
              "            await google.colab.kernel.invokeFunction('convertToInteractive',\n",
              "                                                     [key], {});\n",
              "          if (!dataTable) return;\n",
              "\n",
              "          const docLinkHtml = 'Like what you see? Visit the ' +\n",
              "            '<a target=\"_blank\" href=https://colab.research.google.com/notebooks/data_table.ipynb>data table notebook</a>'\n",
              "            + ' to learn more about interactive tables.';\n",
              "          element.innerHTML = '';\n",
              "          dataTable['output_type'] = 'display_data';\n",
              "          await google.colab.output.renderOutput(dataTable, element);\n",
              "          const docLink = document.createElement('div');\n",
              "          docLink.innerHTML = docLinkHtml;\n",
              "          element.appendChild(docLink);\n",
              "        }\n",
              "      </script>\n",
              "    </div>\n",
              "  </div>\n",
              "  "
            ],
            "text/plain": [
              "            ON_STREAM_HRS  BORE_GAS_VOL  BORE_WAT_VOL  AVG_CHOKE_SIZE_P  \\\n",
              "DATEPRD                                                                   \n",
              "2010-08-12       24.00000  1.189315e+07  21979.051263         59.194010   \n",
              "2010-08-13       24.00000  1.189629e+07  22027.294110         59.199363   \n",
              "2010-08-14       24.00000  1.186412e+07  22003.770218         59.231621   \n",
              "2010-08-15       23.75833  1.155754e+07  21382.777218         57.292090   \n",
              "2010-08-17        0.00000  0.000000e+00      0.000000          0.000000   \n",
              "2010-08-20        0.00000  0.000000e+00      0.000000          0.000000   \n",
              "2010-08-21        0.00000  0.000000e+00      0.000000          0.000000   \n",
              "2010-08-22        0.00000  0.000000e+00      0.000000          0.000000   \n",
              "2010-08-23        0.00000  0.000000e+00      0.000000          0.000000   \n",
              "2010-08-25        0.00000  0.000000e+00      0.000000          0.000000   \n",
              "2010-08-26        0.00000  0.000000e+00      0.000000          0.000000   \n",
              "2010-08-27        0.00000  0.000000e+00      0.000000          0.000000   \n",
              "2010-08-28        0.00000  0.000000e+00      0.000000          0.000000   \n",
              "2010-08-29       20.00833  5.730944e+06  10990.626348         32.318808   \n",
              "2010-08-30       24.00000  7.604381e+06  10617.892172         35.227124   \n",
              "2010-08-31       24.00000  6.972537e+06  10357.431115         33.087920   \n",
              "2010-09-01       21.33333  7.671171e+06  16690.452714         37.381105   \n",
              "\n",
              "            F_4_BORE_WI_VOL  F_5_BORE_WI_VOL  BORE_OIL_VOL  recovery_time  \\\n",
              "DATEPRD                                                                     \n",
              "2010-08-12     41026.601139     42214.231030  14633.118565              0   \n",
              "2010-08-13     40552.473361     42752.254569  14629.659169              0   \n",
              "2010-08-14     40563.073975     42852.919662  14631.042927              0   \n",
              "2010-08-15     39495.791300     41199.828827  14332.528516              0   \n",
              "2010-08-17         0.000000     24883.763848      0.000000              1   \n",
              "2010-08-20         0.000000         0.000000      0.000000              2   \n",
              "2010-08-21         0.000000         0.000000      0.000000              0   \n",
              "2010-08-22         0.000000         0.000000      0.000000              0   \n",
              "2010-08-23         0.000000         0.000000      0.000000              0   \n",
              "2010-08-25         0.000000         0.000000      0.000000              1   \n",
              "2010-08-26         0.000000         0.000000      0.000000              0   \n",
              "2010-08-27         0.000000         0.000000      0.000000              0   \n",
              "2010-08-28         0.000000         0.000000      0.000000              0   \n",
              "2010-08-29     26107.755187     22571.624901   7008.798850              0   \n",
              "2010-08-30     25885.183727     27917.465093   9661.778063              0   \n",
              "2010-08-31     25136.342214     24290.501632   8969.835999              0   \n",
              "2010-09-01     24646.917436     27698.373131   9617.560694              0   \n",
              "\n",
              "            shutin_days  \n",
              "DATEPRD                  \n",
              "2010-08-12            0  \n",
              "2010-08-13            0  \n",
              "2010-08-14            0  \n",
              "2010-08-15            0  \n",
              "2010-08-17            0  \n",
              "2010-08-20            0  \n",
              "2010-08-21            0  \n",
              "2010-08-22            0  \n",
              "2010-08-23            0  \n",
              "2010-08-25            0  \n",
              "2010-08-26            0  \n",
              "2010-08-27            0  \n",
              "2010-08-28            0  \n",
              "2010-08-29            9  \n",
              "2010-08-30            0  \n",
              "2010-08-31            0  \n",
              "2010-09-01            0  "
            ]
          },
          "execution_count": 11,
          "metadata": {},
          "output_type": "execute_result"
        }
      ],
      "source": [
        "series.loc[\"2010-08-12\":\"2010-09-01\"]"
      ]
    },
    {
      "cell_type": "code",
      "execution_count": 8,
      "metadata": {
        "id": "rEvzyzwpkkLr"
      },
      "outputs": [],
      "source": [
        "column_to_move = series.pop(\"BORE_OIL_VOL\")\n",
        "\n",
        "# insert column with insert(location, column_name, column_value)\n",
        "\n",
        "series.insert(len(series.columns), \"BORE_OIL_VOL\", column_to_move)"
      ]
    },
    {
      "cell_type": "code",
      "execution_count": 9,
      "metadata": {
        "colab": {
          "base_uri": "https://localhost:8080/"
        },
        "id": "PKimF-JdZSUV",
        "outputId": "f013ad4e-d54f-4b60-9836-2d41f416d994"
      },
      "outputs": [
        {
          "output_type": "execute_result",
          "data": {
            "text/plain": [
              "(1844, 12)"
            ]
          },
          "metadata": {},
          "execution_count": 9
        }
      ],
      "source": [
        "series.shape"
      ]
    },
    {
      "cell_type": "code",
      "execution_count": 10,
      "metadata": {
        "colab": {
          "base_uri": "https://localhost:8080/"
        },
        "id": "6bHnnyU0E1T2",
        "outputId": "d6e72d7e-4fd5-4fe3-e8b4-1f1b14018b5a"
      },
      "outputs": [
        {
          "output_type": "execute_result",
          "data": {
            "text/plain": [
              "ON_STREAM_HRS               0.429017\n",
              "AVG_DOWNHOLE_PRESSURE      -0.514724\n",
              "AVG_DOWNHOLE_TEMPERATURE    0.918395\n",
              "AVG_CHOKE_SIZE_P           -0.067340\n",
              "AVG_WHP_P                   0.247035\n",
              "AVG_WHT_P                   0.426416\n",
              "DP_CHOKE_SIZE               0.048679\n",
              "BORE_GAS_VOL                0.996707\n",
              "BORE_WAT_VOL                0.290599\n",
              "F_4_BORE_WI_VOL             0.516457\n",
              "F_5_BORE_WI_VOL             0.582626\n",
              "BORE_OIL_VOL                1.000000\n",
              "Name: BORE_OIL_VOL, dtype: float64"
            ]
          },
          "metadata": {},
          "execution_count": 10
        }
      ],
      "source": [
        "series.corr().iloc[:,-1] #200"
      ]
    },
    {
      "cell_type": "code",
      "execution_count": 11,
      "metadata": {
        "colab": {
          "base_uri": "https://localhost:8080/",
          "height": 1000
        },
        "id": "dLBz9GX14-Wi",
        "outputId": "190e253e-56b1-4838-ee16-f732f8b106d3"
      },
      "outputs": [
        {
          "output_type": "display_data",
          "data": {
            "text/plain": [
              "<Figure size 1224x2016 with 12 Axes>"
            ],
            "image/png": "[encoded data removed]"
          },
          "metadata": {
            "needs_background": "light"
          }
        }
      ],
      "source": [
        "# Data visulaization and disribution plots for well F-14 after including the injectors\n",
        "data = series.columns\n",
        "\n",
        "# Creating figure with two rows and one column\n",
        "fig, axs = plt.subplots(nrows=len(data), figsize=(17, 28))\n",
        "\n",
        "axs = axs.ravel()\n",
        "\n",
        "for id, column in enumerate(data):\n",
        "\n",
        "    axs[id].plot(series[column])\n",
        "    axs[id].grid(True)\n",
        "    axs[id].legend([column], loc='lower left', fontsize=9, handlelength=0, handletextpad=0, frameon=False)\n",
        "    \n",
        "plt.show()"
      ]
    },
    {
      "cell_type": "markdown",
      "metadata": {
        "id": "yuC_Qoqiaq_i"
      },
      "source": [
        "**Multi-output forecasting strategy**"
      ]
    },
    {
      "cell_type": "code",
      "execution_count": 109,
      "metadata": {
        "id": "Nq2GI1a0NKYT"
      },
      "outputs": [],
      "source": [
        "# # # convert series to stationary \n",
        "series_diff = series.copy()\n",
        "diff_order = 1\n",
        "series_diff['BORE_OIL_VOL'] = series_diff['BORE_OIL_VOL'].diff(diff_order)\n",
        "# # convert the stationary series to supervise learning\n",
        "timesteps = 9 # lag features\n",
        "steps_ahead = 1\n",
        "series_supervised = series_to_supervised(series_diff, series_diff.columns, n_in=timesteps, n_out=steps_ahead, dropnan=True)"
      ]
    },
    {
      "cell_type": "code",
      "execution_count": null,
      "metadata": {
        "colab": {
          "base_uri": "https://localhost:8080/"
        },
        "id": "BPxV4RAJfvsU",
        "outputId": "5a00e4d6-5c68-4e3a-9f6f-20e23d3d5cc8"
      },
      "outputs": [
        {
          "data": {
            "text/plain": [
              "array([13290.87298265, 13287.91677167, 13258.29176374, 13290.24400159,\n",
              "       13301.69145688, 13338.48684889, 13371.82284507, 13101.29809116,\n",
              "       13088.0894889 , 13021.92068139])"
            ]
          },
          "execution_count": 256,
          "metadata": {},
          "output_type": "execute_result"
        }
      ],
      "source": [
        "agg[:10]"
      ]
    },
    {
      "cell_type": "code",
      "execution_count": null,
      "metadata": {
        "id": "24-lK2pd-1oQ"
      },
      "outputs": [],
      "source": [
        "test_"
      ]
    },
    {
      "cell_type": "code",
      "execution_count": null,
      "metadata": {
        "colab": {
          "base_uri": "https://localhost:8080/"
        },
        "id": "tMMY-kNyfDat",
        "outputId": "8f682382-7742-4b42-82ae-3cda5f11572a"
      },
      "outputs": [
        {
          "data": {
            "text/plain": [
              "array([ 1.64037002e+04,  1.59668100e+04,  1.49210661e+04,  1.49728312e+04,\n",
              "        1.60726675e+04,  1.59135982e+04, -1.81898940e-12,  5.06442970e+03,\n",
              "        1.46514848e+04,  1.66672433e+04])"
            ]
          },
          "execution_count": 120,
          "metadata": {},
          "output_type": "execute_result"
        }
      ],
      "source": [
        "inv_y[:10]"
      ]
    },
    {
      "cell_type": "code",
      "execution_count": null,
      "metadata": {
        "colab": {
          "base_uri": "https://localhost:8080/"
        },
        "id": "cZsq0EQN_Lmn",
        "outputId": "ef922706-a8d2-46f9-815b-f74c7d7c2303"
      },
      "outputs": [
        {
          "data": {
            "text/plain": [
              "array([16547.10784058, 16421.53423296, 16142.58344181, 16021.37957052,\n",
              "       16176.92986801, 16287.35306359,  6842.38433945,  5001.91308594,\n",
              "       11691.75196453, 16058.50336633])"
            ]
          },
          "execution_count": 119,
          "metadata": {},
          "output_type": "execute_result"
        }
      ],
      "source": [
        "inv_yhat[:10]"
      ]
    },
    {
      "cell_type": "code",
      "execution_count": null,
      "metadata": {
        "colab": {
          "base_uri": "https://localhost:8080/"
        },
        "id": "1Gqet1M9HkW8",
        "outputId": "df1d967e-69bb-4de0-b356-f435dad26436"
      },
      "outputs": [
        {
          "data": {
            "text/plain": [
              "array([16547.10784058, 16421.53423296, 16142.58344181, 16021.37957052,\n",
              "       16176.92986801, 16287.35306359,  6842.38433945,  5001.91308594,\n",
              "       11691.75196453, 16058.50336633])"
            ]
          },
          "execution_count": 221,
          "metadata": {},
          "output_type": "execute_result"
        }
      ],
      "source": [
        "inv_yhat[:10]"
      ]
    },
    {
      "cell_type": "code",
      "source": [
        "series[:10]"
      ],
      "metadata": {
        "colab": {
          "base_uri": "https://localhost:8080/",
          "height": 632
        },
        "id": "3OWz-GbfWK3L",
        "outputId": "f3057504-3032-4026-b773-03acb217a3fa"
      },
      "execution_count": 15,
      "outputs": [
        {
          "output_type": "execute_result",
          "data": {
            "text/plain": [
              "            ON_STREAM_HRS  AVG_DOWNHOLE_PRESSURE  AVG_DOWNHOLE_TEMPERATURE  \\\n",
              "DATEPRD                                                                      \n",
              "2010-01-01       24.00000            3378.643673                223.079164   \n",
              "2010-01-02       24.00000            3377.769461                223.095696   \n",
              "2010-01-03       24.00000            3408.561097                223.074953   \n",
              "2010-01-04       24.00000            3439.266918                223.022721   \n",
              "2010-01-05       24.00000            3429.064568                223.035833   \n",
              "2010-01-06       24.00000            3426.456339                223.052301   \n",
              "2010-01-07       24.00000            3432.314222                223.052885   \n",
              "2010-01-08       24.00000            3432.123127                223.061205   \n",
              "2010-01-09       22.83333            3492.820009                222.998368   \n",
              "2010-01-10       24.00000            3427.174100                223.045567   \n",
              "\n",
              "            AVG_CHOKE_SIZE_P   AVG_WHP_P   AVG_WHT_P  DP_CHOKE_SIZE  \\\n",
              "DATEPRD                                                               \n",
              "2010-01-01         50.150825  749.568621  190.264943     271.390953   \n",
              "2010-01-02         50.694654  744.664780  190.708397     266.368677   \n",
              "2010-01-03         47.665676  774.827418  192.268341     299.398157   \n",
              "2010-01-04         44.706230  806.160543  191.994925     333.246980   \n",
              "2010-01-05         45.743761  792.735696  191.503603     318.470614   \n",
              "2010-01-06         46.053981  787.778892  191.155238     313.483219   \n",
              "2010-01-07         44.740102  791.388814  190.547894     317.780795   \n",
              "2010-01-08         44.805229  788.842189  190.683690     315.702450   \n",
              "2010-01-09         39.728795  841.210210  186.402569     369.184766   \n",
              "2010-01-10         44.943710  784.502885  190.103419     311.207552   \n",
              "\n",
              "            BORE_GAS_VOL  BORE_WAT_VOL  F_4_BORE_WI_VOL  F_5_BORE_WI_VOL  \\\n",
              "DATEPRD                                                                    \n",
              "2010-01-01  1.462166e+07  15304.241356     44109.287732     49054.221066   \n",
              "2010-01-02  1.469266e+07  16519.118273     41936.969541     51515.296516   \n",
              "2010-01-03  1.400904e+07  14796.150455     41114.572918     51717.286427   \n",
              "2010-01-04  1.341015e+07  13428.619835     40267.292699     51948.640243   \n",
              "2010-01-05  1.361768e+07   9839.905499     40524.238503     52129.744099   \n",
              "2010-01-06  1.364834e+07  10054.073550     40733.215195     52212.108216   \n",
              "2010-01-07  1.350971e+07  12837.943721     39969.857579     51109.971510   \n",
              "2010-01-08  1.349732e+07  10488.510768     41079.035678     50933.111950   \n",
              "2010-01-09  1.192758e+07  10120.619746     26561.870164     36311.076594   \n",
              "2010-01-10  1.350295e+07  11071.387516     43049.644968     48695.944867   \n",
              "\n",
              "            BORE_OIL_VOL  \n",
              "DATEPRD                   \n",
              "2010-01-01  18593.749401  \n",
              "2010-01-02  18701.242265  \n",
              "2010-01-03  17799.912406  \n",
              "2010-01-04  17002.616014  \n",
              "2010-01-05  17270.939334  \n",
              "2010-01-06  17331.761803  \n",
              "2010-01-07  17138.601719  \n",
              "2010-01-08  17127.657449  \n",
              "2010-01-09  14477.823141  \n",
              "2010-01-10  17149.483091  "
            ],
            "text/html": [
              "\n",
              "  <div id=\"df-ec656dd7-fd00-4c06-b61e-de304437f407\">\n",
              "    <div class=\"colab-df-container\">\n",
              "      <div>\n",
              "<style scoped>\n",
              "    .dataframe tbody tr th:only-of-type {\n",
              "        vertical-align: middle;\n",
              "    }\n",
              "\n",
              "    .dataframe tbody tr th {\n",
              "        vertical-align: top;\n",
              "    }\n",
              "\n",
              "    .dataframe thead th {\n",
              "        text-align: right;\n",
              "    }\n",
              "</style>\n",
              "<table border=\"1\" class=\"dataframe\">\n",
              "  <thead>\n",
              "    <tr style=\"text-align: right;\">\n",
              "      <th></th>\n",
              "      <th>ON_STREAM_HRS</th>\n",
              "      <th>AVG_DOWNHOLE_PRESSURE</th>\n",
              "      <th>AVG_DOWNHOLE_TEMPERATURE</th>\n",
              "      <th>AVG_CHOKE_SIZE_P</th>\n",
              "      <th>AVG_WHP_P</th>\n",
              "      <th>AVG_WHT_P</th>\n",
              "      <th>DP_CHOKE_SIZE</th>\n",
              "      <th>BORE_GAS_VOL</th>\n",
              "      <th>BORE_WAT_VOL</th>\n",
              "      <th>F_4_BORE_WI_VOL</th>\n",
              "      <th>F_5_BORE_WI_VOL</th>\n",
              "      <th>BORE_OIL_VOL</th>\n",
              "    </tr>\n",
              "    <tr>\n",
              "      <th>DATEPRD</th>\n",
              "      <th></th>\n",
              "      <th></th>\n",
              "      <th></th>\n",
              "      <th></th>\n",
              "      <th></th>\n",
              "      <th></th>\n",
              "      <th></th>\n",
              "      <th></th>\n",
              "      <th></th>\n",
              "      <th></th>\n",
              "      <th></th>\n",
              "      <th></th>\n",
              "    </tr>\n",
              "  </thead>\n",
              "  <tbody>\n",
              "    <tr>\n",
              "      <th>2010-01-01</th>\n",
              "      <td>24.00000</td>\n",
              "      <td>3378.643673</td>\n",
              "      <td>223.079164</td>\n",
              "      <td>50.150825</td>\n",
              "      <td>749.568621</td>\n",
              "      <td>190.264943</td>\n",
              "      <td>271.390953</td>\n",
              "      <td>1.462166e+07</td>\n",
              "      <td>15304.241356</td>\n",
              "      <td>44109.287732</td>\n",
              "      <td>49054.221066</td>\n",
              "      <td>18593.749401</td>\n",
              "    </tr>\n",
              "    <tr>\n",
              "      <th>2010-01-02</th>\n",
              "      <td>24.00000</td>\n",
              "      <td>3377.769461</td>\n",
              "      <td>223.095696</td>\n",
              "      <td>50.694654</td>\n",
              "      <td>744.664780</td>\n",
              "      <td>190.708397</td>\n",
              "      <td>266.368677</td>\n",
              "      <td>1.469266e+07</td>\n",
              "      <td>16519.118273</td>\n",
              "      <td>41936.969541</td>\n",
              "      <td>51515.296516</td>\n",
              "      <td>18701.242265</td>\n",
              "    </tr>\n",
              "    <tr>\n",
              "      <th>2010-01-03</th>\n",
              "      <td>24.00000</td>\n",
              "      <td>3408.561097</td>\n",
              "      <td>223.074953</td>\n",
              "      <td>47.665676</td>\n",
              "      <td>774.827418</td>\n",
              "      <td>192.268341</td>\n",
              "      <td>299.398157</td>\n",
              "      <td>1.400904e+07</td>\n",
              "      <td>14796.150455</td>\n",
              "      <td>41114.572918</td>\n",
              "      <td>51717.286427</td>\n",
              "      <td>17799.912406</td>\n",
              "    </tr>\n",
              "    <tr>\n",
              "      <th>2010-01-04</th>\n",
              "      <td>24.00000</td>\n",
              "      <td>3439.266918</td>\n",
              "      <td>223.022721</td>\n",
              "      <td>44.706230</td>\n",
              "      <td>806.160543</td>\n",
              "      <td>191.994925</td>\n",
              "      <td>333.246980</td>\n",
              "      <td>1.341015e+07</td>\n",
              "      <td>13428.619835</td>\n",
              "      <td>40267.292699</td>\n",
              "      <td>51948.640243</td>\n",
              "      <td>17002.616014</td>\n",
              "    </tr>\n",
              "    <tr>\n",
              "      <th>2010-01-05</th>\n",
              "      <td>24.00000</td>\n",
              "      <td>3429.064568</td>\n",
              "      <td>223.035833</td>\n",
              "      <td>45.743761</td>\n",
              "      <td>792.735696</td>\n",
              "      <td>191.503603</td>\n",
              "      <td>318.470614</td>\n",
              "      <td>1.361768e+07</td>\n",
              "      <td>9839.905499</td>\n",
              "      <td>40524.238503</td>\n",
              "      <td>52129.744099</td>\n",
              "      <td>17270.939334</td>\n",
              "    </tr>\n",
              "    <tr>\n",
              "      <th>2010-01-06</th>\n",
              "      <td>24.00000</td>\n",
              "      <td>3426.456339</td>\n",
              "      <td>223.052301</td>\n",
              "      <td>46.053981</td>\n",
              "      <td>787.778892</td>\n",
              "      <td>191.155238</td>\n",
              "      <td>313.483219</td>\n",
              "      <td>1.364834e+07</td>\n",
              "      <td>10054.073550</td>\n",
              "      <td>40733.215195</td>\n",
              "      <td>52212.108216</td>\n",
              "      <td>17331.761803</td>\n",
              "    </tr>\n",
              "    <tr>\n",
              "      <th>2010-01-07</th>\n",
              "      <td>24.00000</td>\n",
              "      <td>3432.314222</td>\n",
              "      <td>223.052885</td>\n",
              "      <td>44.740102</td>\n",
              "      <td>791.388814</td>\n",
              "      <td>190.547894</td>\n",
              "      <td>317.780795</td>\n",
              "      <td>1.350971e+07</td>\n",
              "      <td>12837.943721</td>\n",
              "      <td>39969.857579</td>\n",
              "      <td>51109.971510</td>\n",
              "      <td>17138.601719</td>\n",
              "    </tr>\n",
              "    <tr>\n",
              "      <th>2010-01-08</th>\n",
              "      <td>24.00000</td>\n",
              "      <td>3432.123127</td>\n",
              "      <td>223.061205</td>\n",
              "      <td>44.805229</td>\n",
              "      <td>788.842189</td>\n",
              "      <td>190.683690</td>\n",
              "      <td>315.702450</td>\n",
              "      <td>1.349732e+07</td>\n",
              "      <td>10488.510768</td>\n",
              "      <td>41079.035678</td>\n",
              "      <td>50933.111950</td>\n",
              "      <td>17127.657449</td>\n",
              "    </tr>\n",
              "    <tr>\n",
              "      <th>2010-01-09</th>\n",
              "      <td>22.83333</td>\n",
              "      <td>3492.820009</td>\n",
              "      <td>222.998368</td>\n",
              "      <td>39.728795</td>\n",
              "      <td>841.210210</td>\n",
              "      <td>186.402569</td>\n",
              "      <td>369.184766</td>\n",
              "      <td>1.192758e+07</td>\n",
              "      <td>10120.619746</td>\n",
              "      <td>26561.870164</td>\n",
              "      <td>36311.076594</td>\n",
              "      <td>14477.823141</td>\n",
              "    </tr>\n",
              "    <tr>\n",
              "      <th>2010-01-10</th>\n",
              "      <td>24.00000</td>\n",
              "      <td>3427.174100</td>\n",
              "      <td>223.045567</td>\n",
              "      <td>44.943710</td>\n",
              "      <td>784.502885</td>\n",
              "      <td>190.103419</td>\n",
              "      <td>311.207552</td>\n",
              "      <td>1.350295e+07</td>\n",
              "      <td>11071.387516</td>\n",
              "      <td>43049.644968</td>\n",
              "      <td>48695.944867</td>\n",
              "      <td>17149.483091</td>\n",
              "    </tr>\n",
              "  </tbody>\n",
              "</table>\n",
              "</div>\n",
              "      <button class=\"colab-df-convert\" onclick=\"convertToInteractive('df-ec656dd7-fd00-4c06-b61e-de304437f407')\"\n",
              "              title=\"Convert this dataframe to an interactive table.\"\n",
              "              style=\"display:none;\">\n",
              "        \n",
              "  <svg xmlns=\"http://www.w3.org/2000/svg\" height=\"24px\"viewBox=\"0 0 24 24\"\n",
              "       width=\"24px\">\n",
              "    <path d=\"M0 0h24v24H0V0z\" fill=\"none\"/>\n",
              "    <path d=\"M18.56 5.44l.94 2.06.94-2.06 2.06-.94-2.06-.94-.94-2.06-.94 2.06-2.06.94zm-11 1L8.5 8.5l.94-2.06 2.06-.94-2.06-.94L8.5 2.5l-.94 2.06-2.06.94zm10 10l.94 2.06.94-2.06 2.06-.94-2.06-.94-.94-2.06-.94 2.06-2.06.94z\"/><path d=\"M17.41 7.96l-1.37-1.37c-.4-.4-.92-.59-1.43-.59-.52 0-1.04.2-1.43.59L10.3 9.45l-7.72 7.72c-.78.78-.78 2.05 0 2.83L4 21.41c.39.39.9.59 1.41.59.51 0 1.02-.2 1.41-.59l7.78-7.78 2.81-2.81c.8-.78.8-2.07 0-2.86zM5.41 20L4 18.59l7.72-7.72 1.47 1.35L5.41 20z\"/>\n",
              "  </svg>\n",
              "      </button>\n",
              "      \n",
              "  <style>\n",
              "    .colab-df-container {\n",
              "      display:flex;\n",
              "      flex-wrap:wrap;\n",
              "      gap: 12px;\n",
              "    }\n",
              "\n",
              "    .colab-df-convert {\n",
              "      background-color: #E8F0FE;\n",
              "      border: none;\n",
              "      border-radius: 50%;\n",
              "      cursor: pointer;\n",
              "      display: none;\n",
              "      fill: #1967D2;\n",
              "      height: 32px;\n",
              "      padding: 0 0 0 0;\n",
              "      width: 32px;\n",
              "    }\n",
              "\n",
              "    .colab-df-convert:hover {\n",
              "      background-color: #E2EBFA;\n",
              "      box-shadow: 0px 1px 2px rgba(60, 64, 67, 0.3), 0px 1px 3px 1px rgba(60, 64, 67, 0.15);\n",
              "      fill: #174EA6;\n",
              "    }\n",
              "\n",
              "    [theme=dark] .colab-df-convert {\n",
              "      background-color: #3B4455;\n",
              "      fill: #D2E3FC;\n",
              "    }\n",
              "\n",
              "    [theme=dark] .colab-df-convert:hover {\n",
              "      background-color: #434B5C;\n",
              "      box-shadow: 0px 1px 3px 1px rgba(0, 0, 0, 0.15);\n",
              "      filter: drop-shadow(0px 1px 2px rgba(0, 0, 0, 0.3));\n",
              "      fill: #FFFFFF;\n",
              "    }\n",
              "  </style>\n",
              "\n",
              "      <script>\n",
              "        const buttonEl =\n",
              "          document.querySelector('#df-ec656dd7-fd00-4c06-b61e-de304437f407 button.colab-df-convert');\n",
              "        buttonEl.style.display =\n",
              "          google.colab.kernel.accessAllowed ? 'block' : 'none';\n",
              "\n",
              "        async function convertToInteractive(key) {\n",
              "          const element = document.querySelector('#df-ec656dd7-fd00-4c06-b61e-de304437f407');\n",
              "          const dataTable =\n",
              "            await google.colab.kernel.invokeFunction('convertToInteractive',\n",
              "                                                     [key], {});\n",
              "          if (!dataTable) return;\n",
              "\n",
              "          const docLinkHtml = 'Like what you see? Visit the ' +\n",
              "            '<a target=\"_blank\" href=https://colab.research.google.com/notebooks/data_table.ipynb>data table notebook</a>'\n",
              "            + ' to learn more about interactive tables.';\n",
              "          element.innerHTML = '';\n",
              "          dataTable['output_type'] = 'display_data';\n",
              "          await google.colab.output.renderOutput(dataTable, element);\n",
              "          const docLink = document.createElement('div');\n",
              "          docLink.innerHTML = docLinkHtml;\n",
              "          element.appendChild(docLink);\n",
              "        }\n",
              "      </script>\n",
              "    </div>\n",
              "  </div>\n",
              "  "
            ]
          },
          "metadata": {},
          "execution_count": 15
        }
      ]
    },
    {
      "cell_type": "code",
      "execution_count": 13,
      "metadata": {
        "colab": {
          "base_uri": "https://localhost:8080/",
          "height": 183
        },
        "id": "wtoOYzWMSlDL",
        "outputId": "0fca06fb-1341-4df2-bd1a-c41116db29ae"
      },
      "outputs": [
        {
          "output_type": "error",
          "ename": "NameError",
          "evalue": "ignored",
          "traceback": [
            "\u001b[0;31m---------------------------------------------------------------------------\u001b[0m",
            "\u001b[0;31mNameError\u001b[0m                                 Traceback (most recent call last)",
            "\u001b[0;32m<ipython-input-13-d49ee05f6653>\u001b[0m in \u001b[0;36m<module>\u001b[0;34m\u001b[0m\n\u001b[1;32m      1\u001b[0m \u001b[0;31m# pd.set_option('display.max_columns', None)\u001b[0m\u001b[0;34m\u001b[0m\u001b[0;34m\u001b[0m\u001b[0;34m\u001b[0m\u001b[0m\n\u001b[0;32m----> 2\u001b[0;31m \u001b[0mseries_supervised\u001b[0m\u001b[0;34m.\u001b[0m\u001b[0miloc\u001b[0m\u001b[0;34m[\u001b[0m\u001b[0;34m-\u001b[0m\u001b[0mlen\u001b[0m\u001b[0;34m(\u001b[0m\u001b[0mtest_y\u001b[0m\u001b[0;34m)\u001b[0m\u001b[0;34m:\u001b[0m\u001b[0;34m]\u001b[0m\u001b[0;34m\u001b[0m\u001b[0;34m\u001b[0m\u001b[0m\n\u001b[0m",
            "\u001b[0;31mNameError\u001b[0m: name 'test_y' is not defined"
          ]
        }
      ],
      "source": [
        "# pd.set_option('display.max_columns', None)\n",
        "series_supervised.iloc[-len(test_y):]"
      ]
    },
    {
      "cell_type": "code",
      "execution_count": null,
      "metadata": {
        "id": "dO0Xcq-8ZF6Q"
      },
      "outputs": [],
      "source": [
        "# # time-dependent variables \n",
        "# shifted_ON_STREAM_HRS = series_diff[\"ON_STREAM_HRS\"].shift(-(timesteps + diff_order)).dropna()\n",
        "# shifted_ON_STREAM_HRS.index = series_supervised.index.values \n",
        "# shifted_AVG_CHOKE_SIZE_P = series_diff['AVG_CHOKE_SIZE_P'].shift(-(timesteps + diff_order)).dropna()\n",
        "# shifted_AVG_CHOKE_SIZE_P.index = series_supervised.index.values\n",
        "# series_supervised = pd.concat([shifted_ON_STREAM_HRS,shifted_AVG_CHOKE_SIZE_P, series_supervised], axis=1) "
      ]
    },
    {
      "cell_type": "code",
      "execution_count": null,
      "metadata": {
        "id": "lH-2wA_ySOOX"
      },
      "outputs": [],
      "source": [
        "# #drop all the variables that we don't want to predict\n",
        "# vars_y = series_supervised.columns[-steps_ahead*len(series.columns):]\n",
        "# vars_name_to_drop = ['ON_STREAM_HRS(t+)']\n",
        "# vars_to_drop = vars_to_drop = [col for col in vars_y if col.startswith(vars_name_to_drop[0])]\n",
        "# series_supervised.drop(columns=vars_to_drop, inplace=True)"
      ]
    },
    {
      "cell_type": "code",
      "execution_count": null,
      "metadata": {
        "id": "V_XXkH3W_Rac"
      },
      "outputs": [],
      "source": [
        "# # bring the ON_STREAM_HRS(t) variable forward one step and place it before the target variable\n",
        "# ON_STREAM_HRS_t = series_supervised.pop('ON_STREAM_HRS(t)')\n",
        "# series_supervised.insert(len(series_supervised.columns)-1, 'ON_STREAM_HRS(t)', ON_STREAM_HRS_t)"
      ]
    },
    {
      "cell_type": "code",
      "execution_count": 110,
      "metadata": {
        "id": "Mfg1jvYuTH5a"
      },
      "outputs": [],
      "source": [
        "merged_onStreams = series_supervised[\"ON_STREAM_HRS(t-1)\"] + (series_supervised[\"ON_STREAM_HRS(t)\"] ) #\n",
        "# bring the ON_STREAM_HRS(t) variable forward one step and place it before the target variable\n",
        "series_supervised.insert(len(series_supervised.columns)-3, 'merged_onStreams', merged_onStreams)"
      ]
    },
    {
      "cell_type": "code",
      "execution_count": 111,
      "metadata": {
        "id": "mnwN9F7S42a7"
      },
      "outputs": [],
      "source": [
        "merged_choke = series_supervised[\"AVG_CHOKE_SIZE_P(t-1)\"] + (series_supervised[\"AVG_CHOKE_SIZE_P(t)\"] ) #\n",
        "# bring the ON_STREAM_HRS(t) variable forward one step and place it before the target variable\n",
        "series_supervised.insert(len(series_supervised.columns)-3, 'merged_choke', merged_choke)"
      ]
    },
    {
      "cell_type": "code",
      "execution_count": 112,
      "metadata": {
        "id": "xBZ5zwBYLyFU"
      },
      "outputs": [],
      "source": [
        "merged_WI_F_4 = series_supervised[\"F_4_BORE_WI_VOL(t-1)\"] + (series_supervised[\"F_4_BORE_WI_VOL(t)\"] ) #\n",
        "# bring the ON_STREAM_HRS(t) variable forward one step and place it before the target variable\n",
        "series_supervised.insert(len(series_supervised.columns)-3, 'merged_WI_F_4', merged_WI_F_4)"
      ]
    },
    {
      "cell_type": "code",
      "execution_count": 113,
      "metadata": {
        "id": "xfAy8D4PLyyi"
      },
      "outputs": [],
      "source": [
        "merged_WI_F_5 = series_supervised[\"F_5_BORE_WI_VOL(t-1)\"] + (series_supervised[\"F_5_BORE_WI_VOL(t)\"] ) #\n",
        "# bring the ON_STREAM_HRS(t) variable forward one step and place it before the target variable\n",
        "series_supervised.insert(len(series_supervised.columns)-3, 'merged_WI_F_5', merged_WI_F_5)"
      ]
    },
    {
      "cell_type": "code",
      "execution_count": 114,
      "metadata": {
        "id": "LfWyvX8TI7WB"
      },
      "outputs": [],
      "source": [
        "series_supervised.drop(['ON_STREAM_HRS(t-1)', 'AVG_CHOKE_SIZE_P(t-1)',\"F_4_BORE_WI_VOL(t-1)\",\n",
        "                        \"F_5_BORE_WI_VOL(t-1)\"], axis=1, inplace= True)"
      ]
    },
    {
      "cell_type": "code",
      "execution_count": 115,
      "metadata": {
        "id": "3pKtD-x--GNV"
      },
      "outputs": [],
      "source": [
        "series_supervised.drop(['AVG_CHOKE_SIZE_P(t)','ON_STREAM_HRS(t)','AVG_DOWNHOLE_PRESSURE(t)', 'AVG_DOWNHOLE_TEMPERATURE(t)',\n",
        "                        'F_4_BORE_WI_VOL(t)','AVG_WHP_P(t)', 'AVG_WHT_P(t)', 'DP_CHOKE_SIZE(t)',\n",
        "                        'F_5_BORE_WI_VOL(t)', 'BORE_GAS_VOL(t)', 'BORE_WAT_VOL(t)'], axis=1, inplace= True)\n"
      ]
    },
    {
      "cell_type": "code",
      "execution_count": 116,
      "metadata": {
        "colab": {
          "base_uri": "https://localhost:8080/"
        },
        "id": "nmbQinIh7Gnp",
        "outputId": "36967165-53eb-4ba5-a6ca-61f7fb39b113"
      },
      "outputs": [
        {
          "output_type": "stream",
          "name": "stdout",
          "text": [
            "(1467, 109) (367, 109)\n"
          ]
        }
      ],
      "source": [
        "# # split into train and test sets\n",
        "series_supervised = series_supervised.values\n",
        "train_size = int(series_supervised.shape[0] * 0.8)\n",
        "test_size = series_supervised.shape[0] - train_size\n",
        "train, test = series_supervised[0:train_size], series_supervised[train_size:]\n",
        "print(train.shape, test.shape)"
      ]
    },
    {
      "cell_type": "code",
      "execution_count": 117,
      "metadata": {
        "colab": {
          "base_uri": "https://localhost:8080/"
        },
        "id": "tvaAPiiS7y4v",
        "outputId": "83ff7932-21c8-4e7c-f6da-8c684dc19a35"
      },
      "outputs": [
        {
          "output_type": "stream",
          "name": "stdout",
          "text": [
            "(1467, 109) (367, 109)\n"
          ]
        }
      ],
      "source": [
        "# transform the scale of the data\n",
        "scaler, train_scaled, test_scaled = scale(train, test)\n",
        "print(train_scaled.shape, test_scaled.shape)"
      ]
    },
    {
      "cell_type": "code",
      "execution_count": 118,
      "metadata": {
        "colab": {
          "base_uri": "https://localhost:8080/"
        },
        "id": "AjDT7Ud5l522",
        "outputId": "515a1b9f-3cd4-4f3c-f583-f19053a97161"
      },
      "outputs": [
        {
          "output_type": "stream",
          "name": "stdout",
          "text": [
            "(1467, 9, 12) (1467, 1) (367, 9, 12) (367, 1)\n"
          ]
        }
      ],
      "source": [
        "# # reshape input to be 3D [samples, timesteps, features]\n",
        "n_features = len(series.columns) \n",
        "\n",
        "train_X, train_y = train_scaled[:, 0:-steps_ahead], train_scaled[:, -steps_ahead:]\n",
        "train_X = train_X.reshape(train_X.shape[0], timesteps, n_features)\n",
        "test_X, test_y = test_scaled[:, 0:-steps_ahead], test_scaled[:, -steps_ahead:]\n",
        "test_X = test_X.reshape(test_X.shape[0], timesteps, n_features )\n",
        "print(train_X.shape, train_y.shape, test_X.shape, test_y.shape)"
      ]
    },
    {
      "cell_type": "code",
      "execution_count": null,
      "metadata": {
        "colab": {
          "base_uri": "https://localhost:8080/"
        },
        "id": "SeooCz3fWgh4",
        "outputId": "c82bc3a2-c94a-48bd-ec0b-89e753c2a022"
      },
      "outputs": [
        {
          "output_type": "stream",
          "name": "stdout",
          "text": [
            "Epoch 1/700\n",
            "734/734 - 9s - loss: 0.0167 - val_loss: 0.0048 - 9s/epoch - 12ms/step\n",
            "Epoch 2/700\n",
            "734/734 - 4s - loss: 0.0103 - val_loss: 0.0042 - 4s/epoch - 6ms/step\n",
            "Epoch 3/700\n",
            "734/734 - 4s - loss: 0.0083 - val_loss: 0.0038 - 4s/epoch - 5ms/step\n",
            "Epoch 4/700\n",
            "734/734 - 4s - loss: 0.0071 - val_loss: 0.0033 - 4s/epoch - 6ms/step\n",
            "Epoch 5/700\n",
            "734/734 - 4s - loss: 0.0063 - val_loss: 0.0029 - 4s/epoch - 5ms/step\n",
            "Epoch 6/700\n",
            "734/734 - 4s - loss: 0.0058 - val_loss: 0.0026 - 4s/epoch - 6ms/step\n",
            "Epoch 7/700\n",
            "734/734 - 4s - loss: 0.0053 - val_loss: 0.0023 - 4s/epoch - 5ms/step\n",
            "Epoch 8/700\n",
            "734/734 - 4s - loss: 0.0050 - val_loss: 0.0020 - 4s/epoch - 5ms/step\n",
            "Epoch 9/700\n",
            "734/734 - 4s - loss: 0.0047 - val_loss: 0.0018 - 4s/epoch - 6ms/step\n",
            "Epoch 10/700\n",
            "734/734 - 4s - loss: 0.0045 - val_loss: 0.0017 - 4s/epoch - 6ms/step\n",
            "Epoch 11/700\n",
            "734/734 - 4s - loss: 0.0043 - val_loss: 0.0016 - 4s/epoch - 6ms/step\n",
            "Epoch 12/700\n",
            "734/734 - 5s - loss: 0.0041 - val_loss: 0.0015 - 5s/epoch - 7ms/step\n",
            "Epoch 13/700\n",
            "734/734 - 4s - loss: 0.0040 - val_loss: 0.0015 - 4s/epoch - 5ms/step\n",
            "Epoch 14/700\n",
            "734/734 - 4s - loss: 0.0038 - val_loss: 0.0014 - 4s/epoch - 5ms/step\n",
            "Epoch 15/700\n",
            "734/734 - 5s - loss: 0.0037 - val_loss: 0.0014 - 5s/epoch - 7ms/step\n",
            "Epoch 16/700\n",
            "734/734 - 6s - loss: 0.0036 - val_loss: 0.0014 - 6s/epoch - 7ms/step\n",
            "Epoch 17/700\n",
            "734/734 - 5s - loss: 0.0034 - val_loss: 0.0014 - 5s/epoch - 6ms/step\n",
            "Epoch 18/700\n",
            "734/734 - 4s - loss: 0.0033 - val_loss: 0.0015 - 4s/epoch - 6ms/step\n",
            "Epoch 19/700\n",
            "734/734 - 4s - loss: 0.0032 - val_loss: 0.0015 - 4s/epoch - 6ms/step\n",
            "Epoch 20/700\n",
            "734/734 - 4s - loss: 0.0031 - val_loss: 0.0015 - 4s/epoch - 5ms/step\n",
            "Epoch 21/700\n",
            "734/734 - 4s - loss: 0.0030 - val_loss: 0.0015 - 4s/epoch - 6ms/step\n",
            "Epoch 22/700\n",
            "734/734 - 4s - loss: 0.0029 - val_loss: 0.0016 - 4s/epoch - 5ms/step\n",
            "Epoch 23/700\n",
            "734/734 - 4s - loss: 0.0029 - val_loss: 0.0016 - 4s/epoch - 5ms/step\n",
            "Epoch 24/700\n",
            "734/734 - 4s - loss: 0.0028 - val_loss: 0.0016 - 4s/epoch - 5ms/step\n",
            "Epoch 25/700\n",
            "734/734 - 4s - loss: 0.0027 - val_loss: 0.0017 - 4s/epoch - 6ms/step\n",
            "Epoch 26/700\n",
            "734/734 - 4s - loss: 0.0027 - val_loss: 0.0017 - 4s/epoch - 6ms/step\n",
            "Epoch 27/700\n",
            "734/734 - 4s - loss: 0.0026 - val_loss: 0.0017 - 4s/epoch - 5ms/step\n",
            "Epoch 28/700\n",
            "734/734 - 4s - loss: 0.0025 - val_loss: 0.0017 - 4s/epoch - 5ms/step\n",
            "Epoch 29/700\n",
            "734/734 - 4s - loss: 0.0025 - val_loss: 0.0018 - 4s/epoch - 5ms/step\n",
            "Epoch 30/700\n",
            "734/734 - 4s - loss: 0.0024 - val_loss: 0.0018 - 4s/epoch - 5ms/step\n",
            "Epoch 31/700\n",
            "734/734 - 4s - loss: 0.0024 - val_loss: 0.0018 - 4s/epoch - 5ms/step\n",
            "Epoch 32/700\n",
            "734/734 - 4s - loss: 0.0024 - val_loss: 0.0018 - 4s/epoch - 6ms/step\n",
            "Epoch 33/700\n",
            "734/734 - 4s - loss: 0.0023 - val_loss: 0.0018 - 4s/epoch - 5ms/step\n",
            "Epoch 34/700\n",
            "734/734 - 4s - loss: 0.0023 - val_loss: 0.0019 - 4s/epoch - 5ms/step\n",
            "Epoch 35/700\n",
            "734/734 - 4s - loss: 0.0023 - val_loss: 0.0019 - 4s/epoch - 5ms/step\n",
            "Epoch 36/700\n",
            "734/734 - 4s - loss: 0.0022 - val_loss: 0.0019 - 4s/epoch - 6ms/step\n",
            "Epoch 37/700\n",
            "734/734 - 4s - loss: 0.0022 - val_loss: 0.0019 - 4s/epoch - 6ms/step\n",
            "Epoch 38/700\n",
            "734/734 - 4s - loss: 0.0022 - val_loss: 0.0019 - 4s/epoch - 6ms/step\n",
            "Epoch 39/700\n",
            "734/734 - 4s - loss: 0.0022 - val_loss: 0.0019 - 4s/epoch - 6ms/step\n",
            "Epoch 40/700\n",
            "734/734 - 4s - loss: 0.0021 - val_loss: 0.0019 - 4s/epoch - 5ms/step\n",
            "Epoch 41/700\n",
            "734/734 - 4s - loss: 0.0021 - val_loss: 0.0019 - 4s/epoch - 5ms/step\n",
            "Epoch 42/700\n",
            "734/734 - 4s - loss: 0.0021 - val_loss: 0.0019 - 4s/epoch - 6ms/step\n",
            "Epoch 43/700\n",
            "734/734 - 4s - loss: 0.0021 - val_loss: 0.0020 - 4s/epoch - 6ms/step\n",
            "Epoch 44/700\n",
            "734/734 - 4s - loss: 0.0020 - val_loss: 0.0020 - 4s/epoch - 6ms/step\n",
            "Epoch 45/700\n",
            "734/734 - 4s - loss: 0.0020 - val_loss: 0.0020 - 4s/epoch - 5ms/step\n",
            "Epoch 46/700\n",
            "734/734 - 4s - loss: 0.0020 - val_loss: 0.0020 - 4s/epoch - 6ms/step\n",
            "Epoch 47/700\n",
            "734/734 - 4s - loss: 0.0020 - val_loss: 0.0020 - 4s/epoch - 5ms/step\n",
            "Epoch 48/700\n",
            "734/734 - 4s - loss: 0.0020 - val_loss: 0.0020 - 4s/epoch - 5ms/step\n",
            "Epoch 49/700\n",
            "734/734 - 4s - loss: 0.0020 - val_loss: 0.0020 - 4s/epoch - 5ms/step\n",
            "Epoch 50/700\n",
            "734/734 - 4s - loss: 0.0019 - val_loss: 0.0020 - 4s/epoch - 6ms/step\n",
            "Epoch 51/700\n",
            "734/734 - 4s - loss: 0.0019 - val_loss: 0.0020 - 4s/epoch - 6ms/step\n",
            "Epoch 52/700\n",
            "734/734 - 4s - loss: 0.0019 - val_loss: 0.0020 - 4s/epoch - 5ms/step\n",
            "Epoch 53/700\n",
            "734/734 - 4s - loss: 0.0019 - val_loss: 0.0020 - 4s/epoch - 6ms/step\n",
            "Epoch 54/700\n",
            "734/734 - 5s - loss: 0.0019 - val_loss: 0.0020 - 5s/epoch - 6ms/step\n",
            "Epoch 55/700\n",
            "734/734 - 6s - loss: 0.0019 - val_loss: 0.0020 - 6s/epoch - 8ms/step\n",
            "Epoch 56/700\n",
            "734/734 - 5s - loss: 0.0018 - val_loss: 0.0020 - 5s/epoch - 7ms/step\n",
            "Epoch 57/700\n",
            "734/734 - 4s - loss: 0.0018 - val_loss: 0.0020 - 4s/epoch - 5ms/step\n",
            "Epoch 58/700\n",
            "734/734 - 4s - loss: 0.0018 - val_loss: 0.0020 - 4s/epoch - 6ms/step\n",
            "Epoch 59/700\n",
            "734/734 - 4s - loss: 0.0018 - val_loss: 0.0020 - 4s/epoch - 5ms/step\n",
            "Epoch 60/700\n",
            "734/734 - 4s - loss: 0.0018 - val_loss: 0.0020 - 4s/epoch - 6ms/step\n",
            "Epoch 61/700\n",
            "734/734 - 4s - loss: 0.0018 - val_loss: 0.0020 - 4s/epoch - 6ms/step\n",
            "Epoch 62/700\n",
            "734/734 - 4s - loss: 0.0018 - val_loss: 0.0020 - 4s/epoch - 6ms/step\n",
            "Epoch 63/700\n",
            "734/734 - 4s - loss: 0.0018 - val_loss: 0.0020 - 4s/epoch - 5ms/step\n",
            "Epoch 64/700\n",
            "734/734 - 4s - loss: 0.0017 - val_loss: 0.0020 - 4s/epoch - 6ms/step\n",
            "Epoch 65/700\n",
            "734/734 - 4s - loss: 0.0017 - val_loss: 0.0020 - 4s/epoch - 6ms/step\n",
            "Epoch 66/700\n",
            "734/734 - 5s - loss: 0.0017 - val_loss: 0.0020 - 5s/epoch - 6ms/step\n",
            "Epoch 67/700\n",
            "734/734 - 4s - loss: 0.0017 - val_loss: 0.0020 - 4s/epoch - 6ms/step\n",
            "Epoch 68/700\n",
            "734/734 - 4s - loss: 0.0017 - val_loss: 0.0020 - 4s/epoch - 5ms/step\n",
            "Epoch 69/700\n",
            "734/734 - 4s - loss: 0.0017 - val_loss: 0.0020 - 4s/epoch - 5ms/step\n",
            "Epoch 70/700\n",
            "734/734 - 4s - loss: 0.0017 - val_loss: 0.0020 - 4s/epoch - 6ms/step\n",
            "Epoch 71/700\n",
            "734/734 - 4s - loss: 0.0017 - val_loss: 0.0019 - 4s/epoch - 6ms/step\n",
            "Epoch 72/700\n",
            "734/734 - 4s - loss: 0.0017 - val_loss: 0.0019 - 4s/epoch - 5ms/step\n",
            "Epoch 73/700\n",
            "734/734 - 4s - loss: 0.0017 - val_loss: 0.0019 - 4s/epoch - 6ms/step\n",
            "Epoch 74/700\n",
            "734/734 - 4s - loss: 0.0016 - val_loss: 0.0019 - 4s/epoch - 6ms/step\n",
            "Epoch 75/700\n",
            "734/734 - 4s - loss: 0.0016 - val_loss: 0.0019 - 4s/epoch - 5ms/step\n",
            "Epoch 76/700\n",
            "734/734 - 4s - loss: 0.0016 - val_loss: 0.0019 - 4s/epoch - 5ms/step\n",
            "Epoch 77/700\n",
            "734/734 - 4s - loss: 0.0016 - val_loss: 0.0019 - 4s/epoch - 6ms/step\n",
            "Epoch 78/700\n",
            "734/734 - 5s - loss: 0.0016 - val_loss: 0.0019 - 5s/epoch - 6ms/step\n",
            "Epoch 79/700\n",
            "734/734 - 4s - loss: 0.0016 - val_loss: 0.0018 - 4s/epoch - 5ms/step\n",
            "Epoch 80/700\n",
            "734/734 - 4s - loss: 0.0016 - val_loss: 0.0018 - 4s/epoch - 6ms/step\n",
            "Epoch 81/700\n",
            "734/734 - 4s - loss: 0.0016 - val_loss: 0.0018 - 4s/epoch - 5ms/step\n",
            "Epoch 82/700\n",
            "734/734 - 4s - loss: 0.0016 - val_loss: 0.0018 - 4s/epoch - 6ms/step\n",
            "Epoch 83/700\n",
            "734/734 - 4s - loss: 0.0016 - val_loss: 0.0018 - 4s/epoch - 5ms/step\n",
            "Epoch 84/700\n",
            "734/734 - 4s - loss: 0.0016 - val_loss: 0.0018 - 4s/epoch - 5ms/step\n",
            "Epoch 85/700\n",
            "734/734 - 4s - loss: 0.0015 - val_loss: 0.0018 - 4s/epoch - 6ms/step\n",
            "Epoch 86/700\n",
            "734/734 - 4s - loss: 0.0015 - val_loss: 0.0017 - 4s/epoch - 5ms/step\n",
            "Epoch 87/700\n",
            "734/734 - 4s - loss: 0.0015 - val_loss: 0.0017 - 4s/epoch - 6ms/step\n",
            "Epoch 88/700\n",
            "734/734 - 4s - loss: 0.0015 - val_loss: 0.0017 - 4s/epoch - 5ms/step\n",
            "Epoch 89/700\n",
            "734/734 - 4s - loss: 0.0015 - val_loss: 0.0017 - 4s/epoch - 6ms/step\n",
            "Epoch 90/700\n",
            "734/734 - 4s - loss: 0.0015 - val_loss: 0.0017 - 4s/epoch - 5ms/step\n",
            "Epoch 91/700\n",
            "734/734 - 4s - loss: 0.0015 - val_loss: 0.0016 - 4s/epoch - 5ms/step\n",
            "Epoch 92/700\n",
            "734/734 - 4s - loss: 0.0015 - val_loss: 0.0016 - 4s/epoch - 5ms/step\n",
            "Epoch 93/700\n",
            "734/734 - 4s - loss: 0.0015 - val_loss: 0.0016 - 4s/epoch - 6ms/step\n",
            "Epoch 94/700\n",
            "734/734 - 4s - loss: 0.0015 - val_loss: 0.0016 - 4s/epoch - 5ms/step\n",
            "Epoch 95/700\n",
            "734/734 - 5s - loss: 0.0015 - val_loss: 0.0016 - 5s/epoch - 7ms/step\n",
            "Epoch 96/700\n",
            "734/734 - 6s - loss: 0.0015 - val_loss: 0.0016 - 6s/epoch - 8ms/step\n",
            "Epoch 97/700\n",
            "734/734 - 4s - loss: 0.0015 - val_loss: 0.0015 - 4s/epoch - 6ms/step\n",
            "Epoch 98/700\n",
            "734/734 - 4s - loss: 0.0015 - val_loss: 0.0015 - 4s/epoch - 5ms/step\n",
            "Epoch 99/700\n",
            "734/734 - 4s - loss: 0.0014 - val_loss: 0.0015 - 4s/epoch - 5ms/step\n",
            "Epoch 100/700\n",
            "734/734 - 4s - loss: 0.0014 - val_loss: 0.0015 - 4s/epoch - 6ms/step\n",
            "Epoch 101/700\n",
            "734/734 - 4s - loss: 0.0014 - val_loss: 0.0015 - 4s/epoch - 6ms/step\n",
            "Epoch 102/700\n",
            "734/734 - 4s - loss: 0.0014 - val_loss: 0.0015 - 4s/epoch - 6ms/step\n",
            "Epoch 103/700\n",
            "734/734 - 4s - loss: 0.0014 - val_loss: 0.0014 - 4s/epoch - 6ms/step\n",
            "Epoch 104/700\n",
            "734/734 - 4s - loss: 0.0014 - val_loss: 0.0014 - 4s/epoch - 5ms/step\n",
            "Epoch 105/700\n",
            "734/734 - 4s - loss: 0.0014 - val_loss: 0.0014 - 4s/epoch - 5ms/step\n",
            "Epoch 106/700\n",
            "734/734 - 4s - loss: 0.0014 - val_loss: 0.0014 - 4s/epoch - 6ms/step\n",
            "Epoch 107/700\n",
            "734/734 - 4s - loss: 0.0014 - val_loss: 0.0014 - 4s/epoch - 6ms/step\n",
            "Epoch 108/700\n",
            "734/734 - 4s - loss: 0.0014 - val_loss: 0.0014 - 4s/epoch - 5ms/step\n",
            "Epoch 109/700\n",
            "734/734 - 4s - loss: 0.0014 - val_loss: 0.0014 - 4s/epoch - 6ms/step\n",
            "Epoch 110/700\n",
            "734/734 - 4s - loss: 0.0014 - val_loss: 0.0013 - 4s/epoch - 5ms/step\n",
            "Epoch 111/700\n",
            "734/734 - 4s - loss: 0.0014 - val_loss: 0.0013 - 4s/epoch - 6ms/step\n",
            "Epoch 112/700\n",
            "734/734 - 4s - loss: 0.0014 - val_loss: 0.0013 - 4s/epoch - 5ms/step\n",
            "Epoch 113/700\n",
            "734/734 - 4s - loss: 0.0014 - val_loss: 0.0013 - 4s/epoch - 5ms/step\n",
            "Epoch 114/700\n",
            "734/734 - 4s - loss: 0.0014 - val_loss: 0.0013 - 4s/epoch - 5ms/step\n",
            "Epoch 115/700\n",
            "734/734 - 4s - loss: 0.0014 - val_loss: 0.0013 - 4s/epoch - 5ms/step\n",
            "Epoch 116/700\n",
            "734/734 - 4s - loss: 0.0014 - val_loss: 0.0013 - 4s/epoch - 5ms/step\n",
            "Epoch 117/700\n",
            "734/734 - 4s - loss: 0.0014 - val_loss: 0.0012 - 4s/epoch - 6ms/step\n",
            "Epoch 118/700\n",
            "734/734 - 4s - loss: 0.0014 - val_loss: 0.0012 - 4s/epoch - 5ms/step\n",
            "Epoch 119/700\n",
            "734/734 - 4s - loss: 0.0013 - val_loss: 0.0012 - 4s/epoch - 5ms/step\n",
            "Epoch 120/700\n",
            "734/734 - 4s - loss: 0.0013 - val_loss: 0.0012 - 4s/epoch - 5ms/step\n",
            "Epoch 121/700\n",
            "734/734 - 4s - loss: 0.0013 - val_loss: 0.0012 - 4s/epoch - 5ms/step\n",
            "Epoch 122/700\n",
            "734/734 - 4s - loss: 0.0013 - val_loss: 0.0012 - 4s/epoch - 5ms/step\n",
            "Epoch 123/700\n",
            "734/734 - 4s - loss: 0.0013 - val_loss: 0.0012 - 4s/epoch - 5ms/step\n",
            "Epoch 124/700\n",
            "734/734 - 4s - loss: 0.0013 - val_loss: 0.0012 - 4s/epoch - 6ms/step\n",
            "Epoch 125/700\n",
            "734/734 - 5s - loss: 0.0013 - val_loss: 0.0011 - 5s/epoch - 6ms/step\n",
            "Epoch 126/700\n",
            "734/734 - 4s - loss: 0.0013 - val_loss: 0.0011 - 4s/epoch - 6ms/step\n",
            "Epoch 127/700\n",
            "734/734 - 4s - loss: 0.0013 - val_loss: 0.0011 - 4s/epoch - 6ms/step\n",
            "Epoch 128/700\n",
            "734/734 - 4s - loss: 0.0013 - val_loss: 0.0011 - 4s/epoch - 6ms/step\n",
            "Epoch 129/700\n",
            "734/734 - 4s - loss: 0.0013 - val_loss: 0.0011 - 4s/epoch - 6ms/step\n",
            "Epoch 130/700\n",
            "734/734 - 4s - loss: 0.0013 - val_loss: 0.0011 - 4s/epoch - 6ms/step\n",
            "Epoch 131/700\n",
            "734/734 - 4s - loss: 0.0013 - val_loss: 0.0011 - 4s/epoch - 6ms/step\n",
            "Epoch 132/700\n",
            "734/734 - 4s - loss: 0.0013 - val_loss: 0.0011 - 4s/epoch - 5ms/step\n",
            "Epoch 133/700\n",
            "734/734 - 4s - loss: 0.0013 - val_loss: 0.0011 - 4s/epoch - 5ms/step\n",
            "Epoch 134/700\n",
            "734/734 - 4s - loss: 0.0013 - val_loss: 0.0011 - 4s/epoch - 6ms/step\n",
            "Epoch 135/700\n",
            "734/734 - 6s - loss: 0.0013 - val_loss: 0.0010 - 6s/epoch - 8ms/step\n",
            "Epoch 136/700\n",
            "734/734 - 4s - loss: 0.0013 - val_loss: 0.0010 - 4s/epoch - 6ms/step\n",
            "Epoch 137/700\n",
            "734/734 - 4s - loss: 0.0013 - val_loss: 0.0010 - 4s/epoch - 5ms/step\n",
            "Epoch 138/700\n",
            "734/734 - 4s - loss: 0.0013 - val_loss: 0.0010 - 4s/epoch - 5ms/step\n",
            "Epoch 139/700\n",
            "734/734 - 4s - loss: 0.0013 - val_loss: 0.0010 - 4s/epoch - 5ms/step\n",
            "Epoch 140/700\n",
            "734/734 - 4s - loss: 0.0013 - val_loss: 9.9816e-04 - 4s/epoch - 5ms/step\n",
            "Epoch 141/700\n",
            "734/734 - 4s - loss: 0.0013 - val_loss: 9.8937e-04 - 4s/epoch - 6ms/step\n",
            "Epoch 142/700\n",
            "734/734 - 4s - loss: 0.0013 - val_loss: 9.8077e-04 - 4s/epoch - 6ms/step\n",
            "Epoch 143/700\n",
            "734/734 - 4s - loss: 0.0013 - val_loss: 9.7236e-04 - 4s/epoch - 6ms/step\n",
            "Epoch 144/700\n",
            "734/734 - 4s - loss: 0.0012 - val_loss: 9.6413e-04 - 4s/epoch - 5ms/step\n",
            "Epoch 145/700\n",
            "734/734 - 4s - loss: 0.0012 - val_loss: 9.5609e-04 - 4s/epoch - 6ms/step\n",
            "Epoch 146/700\n",
            "734/734 - 4s - loss: 0.0012 - val_loss: 9.4826e-04 - 4s/epoch - 5ms/step\n",
            "Epoch 147/700\n",
            "734/734 - 4s - loss: 0.0012 - val_loss: 9.4062e-04 - 4s/epoch - 6ms/step\n",
            "Epoch 148/700\n",
            "734/734 - 4s - loss: 0.0012 - val_loss: 9.3319e-04 - 4s/epoch - 6ms/step\n",
            "Epoch 149/700\n",
            "734/734 - 4s - loss: 0.0012 - val_loss: 9.2597e-04 - 4s/epoch - 5ms/step\n",
            "Epoch 150/700\n",
            "734/734 - 4s - loss: 0.0012 - val_loss: 9.1896e-04 - 4s/epoch - 6ms/step\n",
            "Epoch 151/700\n",
            "734/734 - 4s - loss: 0.0012 - val_loss: 9.1214e-04 - 4s/epoch - 6ms/step\n",
            "Epoch 152/700\n",
            "734/734 - 4s - loss: 0.0012 - val_loss: 9.0554e-04 - 4s/epoch - 5ms/step\n",
            "Epoch 153/700\n",
            "734/734 - 4s - loss: 0.0012 - val_loss: 8.9915e-04 - 4s/epoch - 5ms/step\n",
            "Epoch 154/700\n",
            "734/734 - 4s - loss: 0.0012 - val_loss: 8.9296e-04 - 4s/epoch - 5ms/step\n",
            "Epoch 155/700\n",
            "734/734 - 5s - loss: 0.0012 - val_loss: 8.8697e-04 - 5s/epoch - 7ms/step\n",
            "Epoch 156/700\n",
            "734/734 - 4s - loss: 0.0012 - val_loss: 8.8118e-04 - 4s/epoch - 6ms/step\n",
            "Epoch 157/700\n",
            "734/734 - 4s - loss: 0.0012 - val_loss: 8.7558e-04 - 4s/epoch - 6ms/step\n",
            "Epoch 158/700\n",
            "734/734 - 4s - loss: 0.0012 - val_loss: 8.7018e-04 - 4s/epoch - 6ms/step\n",
            "Epoch 159/700\n",
            "734/734 - 4s - loss: 0.0012 - val_loss: 8.6495e-04 - 4s/epoch - 6ms/step\n",
            "Epoch 160/700\n",
            "734/734 - 4s - loss: 0.0012 - val_loss: 8.5991e-04 - 4s/epoch - 6ms/step\n",
            "Epoch 161/700\n",
            "734/734 - 4s - loss: 0.0012 - val_loss: 8.5503e-04 - 4s/epoch - 5ms/step\n",
            "Epoch 162/700\n",
            "734/734 - 4s - loss: 0.0012 - val_loss: 8.5032e-04 - 4s/epoch - 5ms/step\n",
            "Epoch 163/700\n",
            "734/734 - 4s - loss: 0.0012 - val_loss: 8.4577e-04 - 4s/epoch - 6ms/step\n",
            "Epoch 164/700\n",
            "734/734 - 4s - loss: 0.0012 - val_loss: 8.4136e-04 - 4s/epoch - 5ms/step\n",
            "Epoch 165/700\n",
            "734/734 - 4s - loss: 0.0012 - val_loss: 8.3709e-04 - 4s/epoch - 6ms/step\n",
            "Epoch 166/700\n",
            "734/734 - 4s - loss: 0.0012 - val_loss: 8.3296e-04 - 4s/epoch - 6ms/step\n",
            "Epoch 167/700\n",
            "734/734 - 4s - loss: 0.0012 - val_loss: 8.2895e-04 - 4s/epoch - 6ms/step\n",
            "Epoch 168/700\n",
            "734/734 - 4s - loss: 0.0012 - val_loss: 8.2504e-04 - 4s/epoch - 5ms/step\n",
            "Epoch 169/700\n",
            "734/734 - 4s - loss: 0.0012 - val_loss: 8.2125e-04 - 4s/epoch - 5ms/step\n",
            "Epoch 170/700\n",
            "734/734 - 4s - loss: 0.0012 - val_loss: 8.1755e-04 - 4s/epoch - 6ms/step\n",
            "Epoch 171/700\n",
            "734/734 - 4s - loss: 0.0012 - val_loss: 8.1393e-04 - 4s/epoch - 6ms/step\n",
            "Epoch 172/700\n",
            "734/734 - 4s - loss: 0.0012 - val_loss: 8.1040e-04 - 4s/epoch - 6ms/step\n",
            "Epoch 173/700\n",
            "734/734 - 4s - loss: 0.0012 - val_loss: 8.0694e-04 - 4s/epoch - 5ms/step\n",
            "Epoch 174/700\n",
            "734/734 - 5s - loss: 0.0011 - val_loss: 8.0353e-04 - 5s/epoch - 7ms/step\n",
            "Epoch 175/700\n",
            "734/734 - 6s - loss: 0.0011 - val_loss: 8.0019e-04 - 6s/epoch - 8ms/step\n",
            "Epoch 176/700\n",
            "734/734 - 4s - loss: 0.0011 - val_loss: 7.9689e-04 - 4s/epoch - 5ms/step\n",
            "Epoch 177/700\n",
            "734/734 - 4s - loss: 0.0011 - val_loss: 7.9363e-04 - 4s/epoch - 6ms/step\n",
            "Epoch 178/700\n",
            "734/734 - 4s - loss: 0.0011 - val_loss: 7.9040e-04 - 4s/epoch - 5ms/step\n",
            "Epoch 179/700\n",
            "734/734 - 4s - loss: 0.0011 - val_loss: 7.8720e-04 - 4s/epoch - 5ms/step\n",
            "Epoch 180/700\n",
            "734/734 - 4s - loss: 0.0011 - val_loss: 7.8402e-04 - 4s/epoch - 6ms/step\n",
            "Epoch 181/700\n",
            "734/734 - 4s - loss: 0.0011 - val_loss: 7.8085e-04 - 4s/epoch - 5ms/step\n",
            "Epoch 182/700\n",
            "734/734 - 4s - loss: 0.0011 - val_loss: 7.7770e-04 - 4s/epoch - 6ms/step\n",
            "Epoch 183/700\n",
            "734/734 - 4s - loss: 0.0011 - val_loss: 7.7455e-04 - 4s/epoch - 6ms/step\n",
            "Epoch 184/700\n",
            "734/734 - 4s - loss: 0.0011 - val_loss: 7.7141e-04 - 4s/epoch - 5ms/step\n",
            "Epoch 185/700\n",
            "734/734 - 4s - loss: 0.0011 - val_loss: 7.6826e-04 - 4s/epoch - 6ms/step\n",
            "Epoch 186/700\n",
            "734/734 - 4s - loss: 0.0011 - val_loss: 7.6511e-04 - 4s/epoch - 5ms/step\n",
            "Epoch 187/700\n",
            "734/734 - 4s - loss: 0.0011 - val_loss: 7.6194e-04 - 4s/epoch - 6ms/step\n",
            "Epoch 188/700\n",
            "734/734 - 4s - loss: 0.0011 - val_loss: 7.5877e-04 - 4s/epoch - 5ms/step\n",
            "Epoch 189/700\n",
            "734/734 - 4s - loss: 0.0011 - val_loss: 7.5558e-04 - 4s/epoch - 6ms/step\n",
            "Epoch 190/700\n",
            "734/734 - 4s - loss: 0.0011 - val_loss: 7.5237e-04 - 4s/epoch - 5ms/step\n",
            "Epoch 191/700\n",
            "734/734 - 4s - loss: 0.0011 - val_loss: 7.4915e-04 - 4s/epoch - 5ms/step\n",
            "Epoch 192/700\n",
            "734/734 - 4s - loss: 0.0011 - val_loss: 7.4591e-04 - 4s/epoch - 5ms/step\n",
            "Epoch 193/700\n",
            "734/734 - 4s - loss: 0.0011 - val_loss: 7.4265e-04 - 4s/epoch - 5ms/step\n",
            "Epoch 194/700\n",
            "734/734 - 4s - loss: 0.0011 - val_loss: 7.3937e-04 - 4s/epoch - 5ms/step\n",
            "Epoch 195/700\n",
            "734/734 - 4s - loss: 0.0011 - val_loss: 7.3606e-04 - 4s/epoch - 6ms/step\n",
            "Epoch 196/700\n",
            "734/734 - 4s - loss: 0.0011 - val_loss: 7.3273e-04 - 4s/epoch - 6ms/step\n",
            "Epoch 197/700\n",
            "734/734 - 4s - loss: 0.0011 - val_loss: 7.2938e-04 - 4s/epoch - 6ms/step\n",
            "Epoch 198/700\n",
            "734/734 - 4s - loss: 0.0011 - val_loss: 7.2600e-04 - 4s/epoch - 5ms/step\n",
            "Epoch 199/700\n",
            "734/734 - 4s - loss: 0.0011 - val_loss: 7.2260e-04 - 4s/epoch - 5ms/step\n",
            "Epoch 200/700\n",
            "734/734 - 4s - loss: 0.0011 - val_loss: 7.1917e-04 - 4s/epoch - 5ms/step\n",
            "Epoch 201/700\n",
            "734/734 - 4s - loss: 0.0011 - val_loss: 7.1572e-04 - 4s/epoch - 6ms/step\n",
            "Epoch 202/700\n",
            "734/734 - 4s - loss: 0.0011 - val_loss: 7.1225e-04 - 4s/epoch - 5ms/step\n",
            "Epoch 203/700\n",
            "734/734 - 4s - loss: 0.0011 - val_loss: 7.0875e-04 - 4s/epoch - 5ms/step\n",
            "Epoch 204/700\n",
            "734/734 - 4s - loss: 0.0011 - val_loss: 7.0523e-04 - 4s/epoch - 5ms/step\n",
            "Epoch 205/700\n",
            "734/734 - 4s - loss: 0.0011 - val_loss: 7.0169e-04 - 4s/epoch - 5ms/step\n",
            "Epoch 206/700\n",
            "734/734 - 4s - loss: 0.0011 - val_loss: 6.9813e-04 - 4s/epoch - 5ms/step\n",
            "Epoch 207/700\n",
            "734/734 - 4s - loss: 0.0011 - val_loss: 6.9454e-04 - 4s/epoch - 5ms/step\n",
            "Epoch 208/700\n",
            "734/734 - 4s - loss: 0.0011 - val_loss: 6.9094e-04 - 4s/epoch - 5ms/step\n",
            "Epoch 209/700\n",
            "734/734 - 4s - loss: 0.0011 - val_loss: 6.8731e-04 - 4s/epoch - 5ms/step\n",
            "Epoch 210/700\n",
            "734/734 - 4s - loss: 0.0011 - val_loss: 6.8367e-04 - 4s/epoch - 5ms/step\n",
            "Epoch 211/700\n",
            "734/734 - 4s - loss: 0.0010 - val_loss: 6.8001e-04 - 4s/epoch - 6ms/step\n",
            "Epoch 212/700\n",
            "734/734 - 4s - loss: 0.0010 - val_loss: 6.7632e-04 - 4s/epoch - 5ms/step\n",
            "Epoch 213/700\n",
            "734/734 - 4s - loss: 0.0010 - val_loss: 6.7262e-04 - 4s/epoch - 5ms/step\n",
            "Epoch 214/700\n",
            "734/734 - 5s - loss: 0.0010 - val_loss: 6.6891e-04 - 5s/epoch - 7ms/step\n",
            "Epoch 215/700\n",
            "734/734 - 5s - loss: 0.0010 - val_loss: 6.6518e-04 - 5s/epoch - 7ms/step\n",
            "Epoch 216/700\n",
            "734/734 - 4s - loss: 0.0010 - val_loss: 6.6144e-04 - 4s/epoch - 6ms/step\n",
            "Epoch 217/700\n",
            "734/734 - 5s - loss: 0.0010 - val_loss: 6.5767e-04 - 5s/epoch - 6ms/step\n",
            "Epoch 218/700\n",
            "734/734 - 4s - loss: 0.0010 - val_loss: 6.5390e-04 - 4s/epoch - 6ms/step\n",
            "Epoch 219/700\n",
            "734/734 - 4s - loss: 0.0010 - val_loss: 6.5012e-04 - 4s/epoch - 6ms/step\n",
            "Epoch 220/700\n",
            "734/734 - 4s - loss: 0.0010 - val_loss: 6.4632e-04 - 4s/epoch - 5ms/step\n",
            "Epoch 221/700\n",
            "734/734 - 4s - loss: 0.0010 - val_loss: 6.4251e-04 - 4s/epoch - 5ms/step\n",
            "Epoch 222/700\n",
            "734/734 - 4s - loss: 0.0010 - val_loss: 6.3869e-04 - 4s/epoch - 6ms/step\n",
            "Epoch 223/700\n",
            "734/734 - 4s - loss: 0.0010 - val_loss: 6.3487e-04 - 4s/epoch - 6ms/step\n",
            "Epoch 224/700\n",
            "734/734 - 5s - loss: 0.0010 - val_loss: 6.3103e-04 - 5s/epoch - 6ms/step\n",
            "Epoch 225/700\n",
            "734/734 - 4s - loss: 0.0010 - val_loss: 6.2718e-04 - 4s/epoch - 5ms/step\n",
            "Epoch 226/700\n",
            "734/734 - 4s - loss: 0.0010 - val_loss: 6.2333e-04 - 4s/epoch - 6ms/step\n",
            "Epoch 227/700\n",
            "734/734 - 4s - loss: 0.0010 - val_loss: 6.1948e-04 - 4s/epoch - 5ms/step\n",
            "Epoch 228/700\n",
            "734/734 - 4s - loss: 0.0010 - val_loss: 6.1561e-04 - 4s/epoch - 6ms/step\n",
            "Epoch 229/700\n",
            "734/734 - 4s - loss: 0.0010 - val_loss: 6.1175e-04 - 4s/epoch - 6ms/step\n",
            "Epoch 230/700\n",
            "734/734 - 4s - loss: 0.0010 - val_loss: 6.0788e-04 - 4s/epoch - 6ms/step\n",
            "Epoch 231/700\n",
            "734/734 - 4s - loss: 0.0010 - val_loss: 6.0400e-04 - 4s/epoch - 5ms/step\n",
            "Epoch 232/700\n",
            "734/734 - 4s - loss: 0.0010 - val_loss: 6.0012e-04 - 4s/epoch - 5ms/step\n",
            "Epoch 233/700\n",
            "734/734 - 4s - loss: 9.9929e-04 - val_loss: 5.9624e-04 - 4s/epoch - 5ms/step\n",
            "Epoch 234/700\n",
            "734/734 - 4s - loss: 9.9717e-04 - val_loss: 5.9236e-04 - 4s/epoch - 5ms/step\n",
            "Epoch 235/700\n",
            "734/734 - 4s - loss: 9.9507e-04 - val_loss: 5.8848e-04 - 4s/epoch - 5ms/step\n",
            "Epoch 236/700\n",
            "734/734 - 4s - loss: 9.9298e-04 - val_loss: 5.8460e-04 - 4s/epoch - 5ms/step\n",
            "Epoch 237/700\n",
            "734/734 - 4s - loss: 9.9090e-04 - val_loss: 5.8072e-04 - 4s/epoch - 5ms/step\n",
            "Epoch 238/700\n",
            "734/734 - 4s - loss: 9.8884e-04 - val_loss: 5.7684e-04 - 4s/epoch - 5ms/step\n",
            "Epoch 239/700\n",
            "734/734 - 4s - loss: 9.8678e-04 - val_loss: 5.7296e-04 - 4s/epoch - 5ms/step\n",
            "Epoch 240/700\n",
            "734/734 - 4s - loss: 9.8474e-04 - val_loss: 5.6909e-04 - 4s/epoch - 6ms/step\n",
            "Epoch 241/700\n",
            "734/734 - 4s - loss: 9.8271e-04 - val_loss: 5.6522e-04 - 4s/epoch - 5ms/step\n",
            "Epoch 242/700\n",
            "734/734 - 4s - loss: 9.8069e-04 - val_loss: 5.6136e-04 - 4s/epoch - 6ms/step\n",
            "Epoch 243/700\n",
            "734/734 - 4s - loss: 9.7868e-04 - val_loss: 5.5750e-04 - 4s/epoch - 5ms/step\n",
            "Epoch 244/700\n",
            "734/734 - 4s - loss: 9.7669e-04 - val_loss: 5.5364e-04 - 4s/epoch - 5ms/step\n",
            "Epoch 245/700\n",
            "734/734 - 4s - loss: 9.7470e-04 - val_loss: 5.4980e-04 - 4s/epoch - 5ms/step\n",
            "Epoch 246/700\n",
            "734/734 - 4s - loss: 9.7273e-04 - val_loss: 5.4595e-04 - 4s/epoch - 5ms/step\n",
            "Epoch 247/700\n",
            "734/734 - 4s - loss: 9.7077e-04 - val_loss: 5.4212e-04 - 4s/epoch - 6ms/step\n",
            "Epoch 248/700\n",
            "734/734 - 4s - loss: 9.6882e-04 - val_loss: 5.3830e-04 - 4s/epoch - 6ms/step\n",
            "Epoch 249/700\n",
            "734/734 - 4s - loss: 9.6688e-04 - val_loss: 5.3448e-04 - 4s/epoch - 6ms/step\n",
            "Epoch 250/700\n",
            "734/734 - 4s - loss: 9.6495e-04 - val_loss: 5.3067e-04 - 4s/epoch - 6ms/step\n",
            "Epoch 251/700\n",
            "734/734 - 4s - loss: 9.6303e-04 - val_loss: 5.2688e-04 - 4s/epoch - 6ms/step\n",
            "Epoch 252/700\n",
            "734/734 - 4s - loss: 9.6112e-04 - val_loss: 5.2309e-04 - 4s/epoch - 5ms/step\n",
            "Epoch 253/700\n",
            "734/734 - 4s - loss: 9.5923e-04 - val_loss: 5.1932e-04 - 4s/epoch - 6ms/step\n",
            "Epoch 254/700\n",
            "734/734 - 6s - loss: 9.5734e-04 - val_loss: 5.1555e-04 - 6s/epoch - 8ms/step\n",
            "Epoch 255/700\n",
            "734/734 - 5s - loss: 9.5547e-04 - val_loss: 5.1180e-04 - 5s/epoch - 6ms/step\n",
            "Epoch 256/700\n",
            "734/734 - 4s - loss: 9.5360e-04 - val_loss: 5.0807e-04 - 4s/epoch - 6ms/step\n",
            "Epoch 257/700\n",
            "734/734 - 4s - loss: 9.5175e-04 - val_loss: 5.0434e-04 - 4s/epoch - 5ms/step\n",
            "Epoch 258/700\n",
            "734/734 - 4s - loss: 9.4990e-04 - val_loss: 5.0063e-04 - 4s/epoch - 6ms/step\n",
            "Epoch 259/700\n",
            "734/734 - 4s - loss: 9.4807e-04 - val_loss: 4.9694e-04 - 4s/epoch - 6ms/step\n",
            "Epoch 260/700\n",
            "734/734 - 4s - loss: 9.4625e-04 - val_loss: 4.9326e-04 - 4s/epoch - 6ms/step\n",
            "Epoch 261/700\n",
            "734/734 - 4s - loss: 9.4443e-04 - val_loss: 4.8960e-04 - 4s/epoch - 6ms/step\n",
            "Epoch 262/700\n",
            "734/734 - 4s - loss: 9.4262e-04 - val_loss: 4.8595e-04 - 4s/epoch - 6ms/step\n",
            "Epoch 263/700\n",
            "734/734 - 4s - loss: 9.4083e-04 - val_loss: 4.8232e-04 - 4s/epoch - 6ms/step\n",
            "Epoch 264/700\n",
            "734/734 - 4s - loss: 9.3905e-04 - val_loss: 4.7871e-04 - 4s/epoch - 5ms/step\n",
            "Epoch 265/700\n",
            "734/734 - 4s - loss: 9.3727e-04 - val_loss: 4.7511e-04 - 4s/epoch - 5ms/step\n",
            "Epoch 266/700\n",
            "734/734 - 4s - loss: 9.3550e-04 - val_loss: 4.7154e-04 - 4s/epoch - 5ms/step\n",
            "Epoch 267/700\n",
            "734/734 - 4s - loss: 9.3375e-04 - val_loss: 4.6798e-04 - 4s/epoch - 5ms/step\n",
            "Epoch 268/700\n",
            "734/734 - 4s - loss: 9.3200e-04 - val_loss: 4.6444e-04 - 4s/epoch - 5ms/step\n",
            "Epoch 269/700\n",
            "734/734 - 4s - loss: 9.3026e-04 - val_loss: 4.6092e-04 - 4s/epoch - 6ms/step\n",
            "Epoch 270/700\n",
            "734/734 - 4s - loss: 9.2853e-04 - val_loss: 4.5743e-04 - 4s/epoch - 6ms/step\n",
            "Epoch 271/700\n",
            "734/734 - 4s - loss: 9.2681e-04 - val_loss: 4.5395e-04 - 4s/epoch - 5ms/step\n",
            "Epoch 272/700\n",
            "734/734 - 4s - loss: 9.2510e-04 - val_loss: 4.5049e-04 - 4s/epoch - 6ms/step\n",
            "Epoch 273/700\n",
            "734/734 - 4s - loss: 9.2340e-04 - val_loss: 4.4706e-04 - 4s/epoch - 5ms/step\n",
            "Epoch 274/700\n",
            "734/734 - 4s - loss: 9.2170e-04 - val_loss: 4.4365e-04 - 4s/epoch - 6ms/step\n",
            "Epoch 275/700\n",
            "734/734 - 4s - loss: 9.2002e-04 - val_loss: 4.4026e-04 - 4s/epoch - 5ms/step\n",
            "Epoch 276/700\n",
            "734/734 - 4s - loss: 9.1834e-04 - val_loss: 4.3689e-04 - 4s/epoch - 6ms/step\n",
            "Epoch 277/700\n",
            "734/734 - 4s - loss: 9.1667e-04 - val_loss: 4.3355e-04 - 4s/epoch - 5ms/step\n",
            "Epoch 278/700\n",
            "734/734 - 4s - loss: 9.1501e-04 - val_loss: 4.3023e-04 - 4s/epoch - 5ms/step\n",
            "Epoch 279/700\n",
            "734/734 - 4s - loss: 9.1336e-04 - val_loss: 4.2693e-04 - 4s/epoch - 5ms/step\n",
            "Epoch 280/700\n",
            "734/734 - 4s - loss: 9.1172e-04 - val_loss: 4.2366e-04 - 4s/epoch - 5ms/step\n",
            "Epoch 281/700\n",
            "734/734 - 4s - loss: 9.1008e-04 - val_loss: 4.2042e-04 - 4s/epoch - 6ms/step\n",
            "Epoch 282/700\n",
            "734/734 - 4s - loss: 9.0846e-04 - val_loss: 4.1720e-04 - 4s/epoch - 5ms/step\n",
            "Epoch 283/700\n",
            "734/734 - 4s - loss: 9.0684e-04 - val_loss: 4.1400e-04 - 4s/epoch - 5ms/step\n",
            "Epoch 284/700\n",
            "734/734 - 4s - loss: 9.0523e-04 - val_loss: 4.1083e-04 - 4s/epoch - 5ms/step\n",
            "Epoch 285/700\n",
            "734/734 - 4s - loss: 9.0362e-04 - val_loss: 4.0769e-04 - 4s/epoch - 5ms/step\n",
            "Epoch 286/700\n",
            "734/734 - 4s - loss: 9.0203e-04 - val_loss: 4.0457e-04 - 4s/epoch - 5ms/step\n",
            "Epoch 287/700\n",
            "734/734 - 4s - loss: 9.0044e-04 - val_loss: 4.0147e-04 - 4s/epoch - 6ms/step\n",
            "Epoch 288/700\n",
            "734/734 - 4s - loss: 8.9886e-04 - val_loss: 3.9841e-04 - 4s/epoch - 5ms/step\n",
            "Epoch 289/700\n",
            "734/734 - 4s - loss: 8.9729e-04 - val_loss: 3.9537e-04 - 4s/epoch - 6ms/step\n",
            "Epoch 290/700\n",
            "734/734 - 4s - loss: 8.9572e-04 - val_loss: 3.9236e-04 - 4s/epoch - 6ms/step\n",
            "Epoch 291/700\n",
            "734/734 - 4s - loss: 8.9417e-04 - val_loss: 3.8937e-04 - 4s/epoch - 5ms/step\n",
            "Epoch 292/700\n",
            "734/734 - 4s - loss: 8.9262e-04 - val_loss: 3.8641e-04 - 4s/epoch - 6ms/step\n",
            "Epoch 293/700\n",
            "734/734 - 4s - loss: 8.9107e-04 - val_loss: 3.8348e-04 - 4s/epoch - 6ms/step\n",
            "Epoch 294/700\n",
            "734/734 - 6s - loss: 8.8954e-04 - val_loss: 3.8058e-04 - 6s/epoch - 8ms/step\n",
            "Epoch 295/700\n",
            "734/734 - 5s - loss: 8.8801e-04 - val_loss: 3.7771e-04 - 5s/epoch - 7ms/step\n",
            "Epoch 296/700\n",
            "734/734 - 4s - loss: 8.8649e-04 - val_loss: 3.7486e-04 - 4s/epoch - 5ms/step\n",
            "Epoch 297/700\n",
            "734/734 - 4s - loss: 8.8498e-04 - val_loss: 3.7204e-04 - 4s/epoch - 6ms/step\n",
            "Epoch 298/700\n",
            "734/734 - 4s - loss: 8.8347e-04 - val_loss: 3.6925e-04 - 4s/epoch - 6ms/step\n",
            "Epoch 299/700\n",
            "734/734 - 5s - loss: 8.8197e-04 - val_loss: 3.6649e-04 - 5s/epoch - 6ms/step\n",
            "Epoch 300/700\n",
            "734/734 - 4s - loss: 8.8048e-04 - val_loss: 3.6376e-04 - 4s/epoch - 6ms/step\n",
            "Epoch 301/700\n",
            "734/734 - 4s - loss: 8.7899e-04 - val_loss: 3.6105e-04 - 4s/epoch - 6ms/step\n",
            "Epoch 302/700\n",
            "734/734 - 4s - loss: 8.7751e-04 - val_loss: 3.5838e-04 - 4s/epoch - 5ms/step\n",
            "Epoch 303/700\n",
            "734/734 - 4s - loss: 8.7604e-04 - val_loss: 3.5573e-04 - 4s/epoch - 6ms/step\n",
            "Epoch 304/700\n",
            "734/734 - 4s - loss: 8.7457e-04 - val_loss: 3.5311e-04 - 4s/epoch - 6ms/step\n",
            "Epoch 305/700\n",
            "734/734 - 4s - loss: 8.7311e-04 - val_loss: 3.5052e-04 - 4s/epoch - 5ms/step\n",
            "Epoch 306/700\n",
            "734/734 - 4s - loss: 8.7166e-04 - val_loss: 3.4796e-04 - 4s/epoch - 6ms/step\n",
            "Epoch 307/700\n",
            "734/734 - 4s - loss: 8.7021e-04 - val_loss: 3.4543e-04 - 4s/epoch - 6ms/step\n",
            "Epoch 308/700\n",
            "734/734 - 4s - loss: 8.6877e-04 - val_loss: 3.4292e-04 - 4s/epoch - 5ms/step\n",
            "Epoch 309/700\n",
            "734/734 - 4s - loss: 8.6734e-04 - val_loss: 3.4045e-04 - 4s/epoch - 6ms/step\n",
            "Epoch 310/700\n",
            "734/734 - 4s - loss: 8.6591e-04 - val_loss: 3.3800e-04 - 4s/epoch - 5ms/step\n",
            "Epoch 311/700\n",
            "734/734 - 4s - loss: 8.6449e-04 - val_loss: 3.3558e-04 - 4s/epoch - 5ms/step\n",
            "Epoch 312/700\n",
            "734/734 - 4s - loss: 8.6307e-04 - val_loss: 3.3319e-04 - 4s/epoch - 5ms/step\n",
            "Epoch 313/700\n",
            "734/734 - 4s - loss: 8.6166e-04 - val_loss: 3.3083e-04 - 4s/epoch - 6ms/step\n",
            "Epoch 314/700\n",
            "734/734 - 4s - loss: 8.6026e-04 - val_loss: 3.2849e-04 - 4s/epoch - 6ms/step\n",
            "Epoch 315/700\n",
            "734/734 - 4s - loss: 8.5886e-04 - val_loss: 3.2619e-04 - 4s/epoch - 5ms/step\n",
            "Epoch 316/700\n",
            "734/734 - 4s - loss: 8.5747e-04 - val_loss: 3.2391e-04 - 4s/epoch - 6ms/step\n",
            "Epoch 317/700\n",
            "734/734 - 4s - loss: 8.5609e-04 - val_loss: 3.2167e-04 - 4s/epoch - 6ms/step\n",
            "Epoch 318/700\n",
            "734/734 - 4s - loss: 8.5471e-04 - val_loss: 3.1945e-04 - 4s/epoch - 5ms/step\n",
            "Epoch 319/700\n",
            "734/734 - 4s - loss: 8.5333e-04 - val_loss: 3.1726e-04 - 4s/epoch - 5ms/step\n",
            "Epoch 320/700\n",
            "734/734 - 4s - loss: 8.5196e-04 - val_loss: 3.1509e-04 - 4s/epoch - 6ms/step\n",
            "Epoch 321/700\n",
            "734/734 - 4s - loss: 8.5060e-04 - val_loss: 3.1296e-04 - 4s/epoch - 6ms/step\n",
            "Epoch 322/700\n",
            "734/734 - 4s - loss: 8.4924e-04 - val_loss: 3.1085e-04 - 4s/epoch - 5ms/step\n",
            "Epoch 323/700\n",
            "734/734 - 4s - loss: 8.4789e-04 - val_loss: 3.0877e-04 - 4s/epoch - 6ms/step\n",
            "Epoch 324/700\n",
            "734/734 - 4s - loss: 8.4654e-04 - val_loss: 3.0671e-04 - 4s/epoch - 5ms/step\n",
            "Epoch 325/700\n",
            "734/734 - 4s - loss: 8.4520e-04 - val_loss: 3.0469e-04 - 4s/epoch - 6ms/step\n",
            "Epoch 326/700\n",
            "734/734 - 4s - loss: 8.4386e-04 - val_loss: 3.0269e-04 - 4s/epoch - 6ms/step\n",
            "Epoch 327/700\n",
            "734/734 - 4s - loss: 8.4253e-04 - val_loss: 3.0072e-04 - 4s/epoch - 5ms/step\n",
            "Epoch 328/700\n",
            "734/734 - 4s - loss: 8.4121e-04 - val_loss: 2.9877e-04 - 4s/epoch - 6ms/step\n",
            "Epoch 329/700\n",
            "734/734 - 4s - loss: 8.3988e-04 - val_loss: 2.9685e-04 - 4s/epoch - 6ms/step\n",
            "Epoch 330/700\n",
            "734/734 - 4s - loss: 8.3857e-04 - val_loss: 2.9496e-04 - 4s/epoch - 6ms/step\n",
            "Epoch 331/700\n",
            "734/734 - 4s - loss: 8.3726e-04 - val_loss: 2.9309e-04 - 4s/epoch - 6ms/step\n",
            "Epoch 332/700\n",
            "734/734 - 4s - loss: 8.3595e-04 - val_loss: 2.9125e-04 - 4s/epoch - 5ms/step\n",
            "Epoch 333/700\n",
            "734/734 - 4s - loss: 8.3465e-04 - val_loss: 2.8944e-04 - 4s/epoch - 6ms/step\n",
            "Epoch 334/700\n",
            "734/734 - 6s - loss: 8.3335e-04 - val_loss: 2.8765e-04 - 6s/epoch - 9ms/step\n",
            "Epoch 335/700\n",
            "734/734 - 4s - loss: 8.3206e-04 - val_loss: 2.8589e-04 - 4s/epoch - 5ms/step\n",
            "Epoch 336/700\n",
            "734/734 - 4s - loss: 8.3078e-04 - val_loss: 2.8415e-04 - 4s/epoch - 5ms/step\n",
            "Epoch 337/700\n",
            "734/734 - 4s - loss: 8.2949e-04 - val_loss: 2.8244e-04 - 4s/epoch - 5ms/step\n",
            "Epoch 338/700\n",
            "734/734 - 4s - loss: 8.2822e-04 - val_loss: 2.8075e-04 - 4s/epoch - 6ms/step\n",
            "Epoch 339/700\n",
            "734/734 - 4s - loss: 8.2694e-04 - val_loss: 2.7909e-04 - 4s/epoch - 6ms/step\n",
            "Epoch 340/700\n",
            "734/734 - 4s - loss: 8.2567e-04 - val_loss: 2.7745e-04 - 4s/epoch - 6ms/step\n",
            "Epoch 341/700\n",
            "734/734 - 4s - loss: 8.2441e-04 - val_loss: 2.7584e-04 - 4s/epoch - 5ms/step\n",
            "Epoch 342/700\n",
            "734/734 - 4s - loss: 8.2315e-04 - val_loss: 2.7425e-04 - 4s/epoch - 5ms/step\n",
            "Epoch 343/700\n",
            "734/734 - 4s - loss: 8.2189e-04 - val_loss: 2.7268e-04 - 4s/epoch - 6ms/step\n",
            "Epoch 344/700\n",
            "734/734 - 4s - loss: 8.2064e-04 - val_loss: 2.7114e-04 - 4s/epoch - 5ms/step\n",
            "Epoch 345/700\n",
            "734/734 - 4s - loss: 8.1939e-04 - val_loss: 2.6962e-04 - 4s/epoch - 6ms/step\n",
            "Epoch 346/700\n",
            "734/734 - 4s - loss: 8.1815e-04 - val_loss: 2.6813e-04 - 4s/epoch - 5ms/step\n",
            "Epoch 347/700\n",
            "734/734 - 4s - loss: 8.1690e-04 - val_loss: 2.6666e-04 - 4s/epoch - 5ms/step\n",
            "Epoch 348/700\n",
            "734/734 - 4s - loss: 8.1567e-04 - val_loss: 2.6521e-04 - 4s/epoch - 5ms/step\n",
            "Epoch 349/700\n",
            "734/734 - 4s - loss: 8.1444e-04 - val_loss: 2.6378e-04 - 4s/epoch - 5ms/step\n",
            "Epoch 350/700\n",
            "734/734 - 4s - loss: 8.1321e-04 - val_loss: 2.6237e-04 - 4s/epoch - 6ms/step\n",
            "Epoch 351/700\n",
            "734/734 - 4s - loss: 8.1198e-04 - val_loss: 2.6099e-04 - 4s/epoch - 6ms/step\n",
            "Epoch 352/700\n",
            "734/734 - 4s - loss: 8.1076e-04 - val_loss: 2.5963e-04 - 4s/epoch - 5ms/step\n",
            "Epoch 353/700\n",
            "734/734 - 4s - loss: 8.0955e-04 - val_loss: 2.5829e-04 - 4s/epoch - 6ms/step\n",
            "Epoch 354/700\n",
            "734/734 - 4s - loss: 8.0833e-04 - val_loss: 2.5697e-04 - 4s/epoch - 6ms/step\n",
            "Epoch 355/700\n",
            "734/734 - 4s - loss: 8.0712e-04 - val_loss: 2.5567e-04 - 4s/epoch - 6ms/step\n",
            "Epoch 356/700\n",
            "734/734 - 4s - loss: 8.0591e-04 - val_loss: 2.5440e-04 - 4s/epoch - 5ms/step\n",
            "Epoch 357/700\n",
            "734/734 - 4s - loss: 8.0471e-04 - val_loss: 2.5314e-04 - 4s/epoch - 6ms/step\n",
            "Epoch 358/700\n",
            "734/734 - 4s - loss: 8.0351e-04 - val_loss: 2.5190e-04 - 4s/epoch - 5ms/step\n",
            "Epoch 359/700\n",
            "734/734 - 4s - loss: 8.0231e-04 - val_loss: 2.5069e-04 - 4s/epoch - 5ms/step\n",
            "Epoch 360/700\n",
            "734/734 - 4s - loss: 8.0112e-04 - val_loss: 2.4949e-04 - 4s/epoch - 5ms/step\n",
            "Epoch 361/700\n",
            "734/734 - 4s - loss: 7.9993e-04 - val_loss: 2.4832e-04 - 4s/epoch - 5ms/step\n",
            "Epoch 362/700\n",
            "734/734 - 4s - loss: 7.9874e-04 - val_loss: 2.4716e-04 - 4s/epoch - 6ms/step\n",
            "Epoch 363/700\n",
            "734/734 - 4s - loss: 7.9755e-04 - val_loss: 2.4602e-04 - 4s/epoch - 6ms/step\n",
            "Epoch 364/700\n",
            "734/734 - 4s - loss: 7.9637e-04 - val_loss: 2.4490e-04 - 4s/epoch - 5ms/step\n",
            "Epoch 365/700\n",
            "734/734 - 4s - loss: 7.9519e-04 - val_loss: 2.4380e-04 - 4s/epoch - 6ms/step\n",
            "Epoch 366/700\n",
            "734/734 - 4s - loss: 7.9402e-04 - val_loss: 2.4272e-04 - 4s/epoch - 5ms/step\n",
            "Epoch 367/700\n",
            "734/734 - 5s - loss: 7.9284e-04 - val_loss: 2.4166e-04 - 5s/epoch - 6ms/step\n",
            "Epoch 368/700\n",
            "734/734 - 4s - loss: 7.9167e-04 - val_loss: 2.4061e-04 - 4s/epoch - 5ms/step\n",
            "Epoch 369/700\n",
            "734/734 - 4s - loss: 7.9050e-04 - val_loss: 2.3958e-04 - 4s/epoch - 6ms/step\n",
            "Epoch 370/700\n",
            "734/734 - 4s - loss: 7.8934e-04 - val_loss: 2.3857e-04 - 4s/epoch - 6ms/step\n",
            "Epoch 371/700\n",
            "734/734 - 4s - loss: 7.8817e-04 - val_loss: 2.3757e-04 - 4s/epoch - 5ms/step\n",
            "Epoch 372/700\n",
            "734/734 - 4s - loss: 7.8701e-04 - val_loss: 2.3660e-04 - 4s/epoch - 6ms/step\n",
            "Epoch 373/700\n",
            "734/734 - 5s - loss: 7.8585e-04 - val_loss: 2.3564e-04 - 5s/epoch - 7ms/step\n",
            "Epoch 374/700\n",
            "734/734 - 5s - loss: 7.8470e-04 - val_loss: 2.3469e-04 - 5s/epoch - 7ms/step\n",
            "Epoch 375/700\n",
            "734/734 - 4s - loss: 7.8354e-04 - val_loss: 2.3376e-04 - 4s/epoch - 5ms/step\n",
            "Epoch 376/700\n",
            "734/734 - 4s - loss: 7.8239e-04 - val_loss: 2.3285e-04 - 4s/epoch - 5ms/step\n",
            "Epoch 377/700\n",
            "734/734 - 4s - loss: 7.8124e-04 - val_loss: 2.3195e-04 - 4s/epoch - 5ms/step\n",
            "Epoch 378/700\n",
            "734/734 - 4s - loss: 7.8009e-04 - val_loss: 2.3107e-04 - 4s/epoch - 6ms/step\n",
            "Epoch 379/700\n",
            "734/734 - 4s - loss: 7.7895e-04 - val_loss: 2.3021e-04 - 4s/epoch - 5ms/step\n",
            "Epoch 380/700\n",
            "734/734 - 4s - loss: 7.7780e-04 - val_loss: 2.2935e-04 - 4s/epoch - 5ms/step\n",
            "Epoch 381/700\n",
            "734/734 - 4s - loss: 7.7666e-04 - val_loss: 2.2852e-04 - 4s/epoch - 5ms/step\n",
            "Epoch 382/700\n",
            "734/734 - 4s - loss: 7.7552e-04 - val_loss: 2.2770e-04 - 4s/epoch - 6ms/step\n",
            "Epoch 383/700\n",
            "734/734 - 4s - loss: 7.7438e-04 - val_loss: 2.2689e-04 - 4s/epoch - 6ms/step\n",
            "Epoch 384/700\n",
            "734/734 - 4s - loss: 7.7325e-04 - val_loss: 2.2610e-04 - 4s/epoch - 5ms/step\n",
            "Epoch 385/700\n",
            "734/734 - 4s - loss: 7.7211e-04 - val_loss: 2.2532e-04 - 4s/epoch - 5ms/step\n",
            "Epoch 386/700\n",
            "734/734 - 4s - loss: 7.7098e-04 - val_loss: 2.2455e-04 - 4s/epoch - 6ms/step\n",
            "Epoch 387/700\n",
            "734/734 - 4s - loss: 7.6985e-04 - val_loss: 2.2380e-04 - 4s/epoch - 5ms/step\n",
            "Epoch 388/700\n",
            "734/734 - 4s - loss: 7.6872e-04 - val_loss: 2.2306e-04 - 4s/epoch - 5ms/step\n",
            "Epoch 389/700\n",
            "734/734 - 4s - loss: 7.6759e-04 - val_loss: 2.2233e-04 - 4s/epoch - 6ms/step\n",
            "Epoch 390/700\n",
            "734/734 - 4s - loss: 7.6646e-04 - val_loss: 2.2162e-04 - 4s/epoch - 5ms/step\n",
            "Epoch 391/700\n",
            "734/734 - 4s - loss: 7.6534e-04 - val_loss: 2.2092e-04 - 4s/epoch - 5ms/step\n",
            "Epoch 392/700\n",
            "734/734 - 4s - loss: 7.6421e-04 - val_loss: 2.2023e-04 - 4s/epoch - 6ms/step\n",
            "Epoch 393/700\n",
            "734/734 - 4s - loss: 7.6309e-04 - val_loss: 2.1955e-04 - 4s/epoch - 6ms/step\n",
            "Epoch 394/700\n",
            "734/734 - 4s - loss: 7.6197e-04 - val_loss: 2.1888e-04 - 4s/epoch - 5ms/step\n",
            "Epoch 395/700\n",
            "734/734 - 4s - loss: 7.6085e-04 - val_loss: 2.1822e-04 - 4s/epoch - 6ms/step\n",
            "Epoch 396/700\n",
            "734/734 - 4s - loss: 7.5972e-04 - val_loss: 2.1758e-04 - 4s/epoch - 5ms/step\n",
            "Epoch 397/700\n",
            "734/734 - 4s - loss: 7.5861e-04 - val_loss: 2.1695e-04 - 4s/epoch - 5ms/step\n",
            "Epoch 398/700\n",
            "734/734 - 4s - loss: 7.5749e-04 - val_loss: 2.1633e-04 - 4s/epoch - 5ms/step\n",
            "Epoch 399/700\n",
            "734/734 - 4s - loss: 7.5637e-04 - val_loss: 2.1571e-04 - 4s/epoch - 5ms/step\n",
            "Epoch 400/700\n",
            "734/734 - 4s - loss: 7.5526e-04 - val_loss: 2.1511e-04 - 4s/epoch - 6ms/step\n",
            "Epoch 401/700\n",
            "734/734 - 4s - loss: 7.5414e-04 - val_loss: 2.1452e-04 - 4s/epoch - 5ms/step\n",
            "Epoch 402/700\n",
            "734/734 - 4s - loss: 7.5303e-04 - val_loss: 2.1394e-04 - 4s/epoch - 6ms/step\n",
            "Epoch 403/700\n",
            "734/734 - 4s - loss: 7.5192e-04 - val_loss: 2.1337e-04 - 4s/epoch - 5ms/step\n",
            "Epoch 404/700\n",
            "734/734 - 4s - loss: 7.5081e-04 - val_loss: 2.1281e-04 - 4s/epoch - 6ms/step\n",
            "Epoch 405/700\n",
            "734/734 - 4s - loss: 7.4970e-04 - val_loss: 2.1226e-04 - 4s/epoch - 5ms/step\n",
            "Epoch 406/700\n",
            "734/734 - 4s - loss: 7.4859e-04 - val_loss: 2.1172e-04 - 4s/epoch - 6ms/step\n",
            "Epoch 407/700\n",
            "734/734 - 4s - loss: 7.4748e-04 - val_loss: 2.1118e-04 - 4s/epoch - 5ms/step\n",
            "Epoch 408/700\n",
            "734/734 - 4s - loss: 7.4637e-04 - val_loss: 2.1066e-04 - 4s/epoch - 6ms/step\n",
            "Epoch 409/700\n",
            "734/734 - 4s - loss: 7.4527e-04 - val_loss: 2.1014e-04 - 4s/epoch - 6ms/step\n",
            "Epoch 410/700\n",
            "734/734 - 4s - loss: 7.4416e-04 - val_loss: 2.0963e-04 - 4s/epoch - 6ms/step\n",
            "Epoch 411/700\n",
            "734/734 - 4s - loss: 7.4306e-04 - val_loss: 2.0913e-04 - 4s/epoch - 5ms/step\n",
            "Epoch 412/700\n",
            "734/734 - 4s - loss: 7.4195e-04 - val_loss: 2.0864e-04 - 4s/epoch - 5ms/step\n",
            "Epoch 413/700\n",
            "734/734 - 6s - loss: 7.4085e-04 - val_loss: 2.0816e-04 - 6s/epoch - 8ms/step\n",
            "Epoch 414/700\n",
            "734/734 - 6s - loss: 7.3975e-04 - val_loss: 2.0768e-04 - 6s/epoch - 8ms/step\n",
            "Epoch 415/700\n",
            "734/734 - 4s - loss: 7.3865e-04 - val_loss: 2.0722e-04 - 4s/epoch - 6ms/step\n",
            "Epoch 416/700\n",
            "734/734 - 4s - loss: 7.3755e-04 - val_loss: 2.0676e-04 - 4s/epoch - 5ms/step\n",
            "Epoch 417/700\n",
            "734/734 - 4s - loss: 7.3645e-04 - val_loss: 2.0630e-04 - 4s/epoch - 6ms/step\n",
            "Epoch 418/700\n",
            "734/734 - 4s - loss: 7.3535e-04 - val_loss: 2.0586e-04 - 4s/epoch - 5ms/step\n",
            "Epoch 419/700\n",
            "734/734 - 4s - loss: 7.3425e-04 - val_loss: 2.0542e-04 - 4s/epoch - 6ms/step\n",
            "Epoch 420/700\n",
            "734/734 - 4s - loss: 7.3316e-04 - val_loss: 2.0499e-04 - 4s/epoch - 6ms/step\n",
            "Epoch 421/700\n",
            "734/734 - 4s - loss: 7.3206e-04 - val_loss: 2.0456e-04 - 4s/epoch - 6ms/step\n",
            "Epoch 422/700\n",
            "734/734 - 4s - loss: 7.3097e-04 - val_loss: 2.0414e-04 - 4s/epoch - 6ms/step\n",
            "Epoch 423/700\n",
            "734/734 - 4s - loss: 7.2987e-04 - val_loss: 2.0373e-04 - 4s/epoch - 5ms/step\n",
            "Epoch 424/700\n",
            "734/734 - 4s - loss: 7.2878e-04 - val_loss: 2.0332e-04 - 4s/epoch - 6ms/step\n",
            "Epoch 425/700\n",
            "734/734 - 4s - loss: 7.2769e-04 - val_loss: 2.0293e-04 - 4s/epoch - 6ms/step\n",
            "Epoch 426/700\n",
            "734/734 - 4s - loss: 7.2660e-04 - val_loss: 2.0253e-04 - 4s/epoch - 5ms/step\n",
            "Epoch 427/700\n",
            "734/734 - 4s - loss: 7.2551e-04 - val_loss: 2.0214e-04 - 4s/epoch - 6ms/step\n",
            "Epoch 428/700\n",
            "734/734 - 4s - loss: 7.2442e-04 - val_loss: 2.0176e-04 - 4s/epoch - 6ms/step\n",
            "Epoch 429/700\n",
            "734/734 - 4s - loss: 7.2334e-04 - val_loss: 2.0139e-04 - 4s/epoch - 5ms/step\n",
            "Epoch 430/700\n",
            "734/734 - 4s - loss: 7.2226e-04 - val_loss: 2.0102e-04 - 4s/epoch - 6ms/step\n",
            "Epoch 431/700\n",
            "734/734 - 4s - loss: 7.2117e-04 - val_loss: 2.0065e-04 - 4s/epoch - 5ms/step\n",
            "Epoch 432/700\n",
            "734/734 - 4s - loss: 7.2009e-04 - val_loss: 2.0029e-04 - 4s/epoch - 5ms/step\n",
            "Epoch 433/700\n",
            "734/734 - 4s - loss: 7.1901e-04 - val_loss: 1.9994e-04 - 4s/epoch - 6ms/step\n",
            "Epoch 434/700\n",
            "734/734 - 4s - loss: 7.1794e-04 - val_loss: 1.9959e-04 - 4s/epoch - 6ms/step\n",
            "Epoch 435/700\n",
            "734/734 - 4s - loss: 7.1686e-04 - val_loss: 1.9925e-04 - 4s/epoch - 6ms/step\n",
            "Epoch 436/700\n",
            "734/734 - 4s - loss: 7.1579e-04 - val_loss: 1.9891e-04 - 4s/epoch - 5ms/step\n",
            "Epoch 437/700\n",
            "734/734 - 4s - loss: 7.1471e-04 - val_loss: 1.9858e-04 - 4s/epoch - 6ms/step\n",
            "Epoch 438/700\n",
            "734/734 - 4s - loss: 7.1364e-04 - val_loss: 1.9825e-04 - 4s/epoch - 5ms/step\n",
            "Epoch 439/700\n",
            "734/734 - 4s - loss: 7.1258e-04 - val_loss: 1.9793e-04 - 4s/epoch - 5ms/step\n",
            "Epoch 440/700\n",
            "734/734 - 4s - loss: 7.1151e-04 - val_loss: 1.9761e-04 - 4s/epoch - 5ms/step\n",
            "Epoch 441/700\n",
            "734/734 - 4s - loss: 7.1045e-04 - val_loss: 1.9730e-04 - 4s/epoch - 5ms/step\n",
            "Epoch 442/700\n",
            "734/734 - 4s - loss: 7.0939e-04 - val_loss: 1.9699e-04 - 4s/epoch - 6ms/step\n",
            "Epoch 443/700\n",
            "734/734 - 4s - loss: 7.0833e-04 - val_loss: 1.9669e-04 - 4s/epoch - 5ms/step\n",
            "Epoch 444/700\n",
            "734/734 - 4s - loss: 7.0728e-04 - val_loss: 1.9639e-04 - 4s/epoch - 6ms/step\n",
            "Epoch 445/700\n",
            "734/734 - 4s - loss: 7.0622e-04 - val_loss: 1.9609e-04 - 4s/epoch - 6ms/step\n",
            "Epoch 446/700\n",
            "734/734 - 4s - loss: 7.0518e-04 - val_loss: 1.9581e-04 - 4s/epoch - 6ms/step\n",
            "Epoch 447/700\n",
            "734/734 - 4s - loss: 7.0413e-04 - val_loss: 1.9552e-04 - 4s/epoch - 6ms/step\n",
            "Epoch 448/700\n",
            "734/734 - 4s - loss: 7.0308e-04 - val_loss: 1.9524e-04 - 4s/epoch - 6ms/step\n",
            "Epoch 449/700\n",
            "734/734 - 4s - loss: 7.0204e-04 - val_loss: 1.9497e-04 - 4s/epoch - 6ms/step\n",
            "Epoch 450/700\n",
            "734/734 - 4s - loss: 7.0101e-04 - val_loss: 1.9470e-04 - 4s/epoch - 6ms/step\n",
            "Epoch 451/700\n",
            "734/734 - 4s - loss: 6.9998e-04 - val_loss: 1.9443e-04 - 4s/epoch - 6ms/step\n",
            "Epoch 452/700\n",
            "734/734 - 6s - loss: 6.9895e-04 - val_loss: 1.9417e-04 - 6s/epoch - 8ms/step\n",
            "Epoch 453/700\n",
            "734/734 - 5s - loss: 6.9792e-04 - val_loss: 1.9392e-04 - 5s/epoch - 7ms/step\n",
            "Epoch 454/700\n",
            "734/734 - 5s - loss: 6.9690e-04 - val_loss: 1.9367e-04 - 5s/epoch - 6ms/step\n",
            "Epoch 455/700\n",
            "734/734 - 4s - loss: 6.9588e-04 - val_loss: 1.9342e-04 - 4s/epoch - 6ms/step\n",
            "Epoch 456/700\n",
            "734/734 - 4s - loss: 6.9487e-04 - val_loss: 1.9318e-04 - 4s/epoch - 6ms/step\n",
            "Epoch 457/700\n",
            "734/734 - 4s - loss: 6.9386e-04 - val_loss: 1.9294e-04 - 4s/epoch - 6ms/step\n",
            "Epoch 458/700\n",
            "734/734 - 4s - loss: 6.9285e-04 - val_loss: 1.9271e-04 - 4s/epoch - 6ms/step\n",
            "Epoch 459/700\n",
            "734/734 - 4s - loss: 6.9185e-04 - val_loss: 1.9248e-04 - 4s/epoch - 5ms/step\n",
            "Epoch 460/700\n",
            "734/734 - 4s - loss: 6.9086e-04 - val_loss: 1.9226e-04 - 4s/epoch - 6ms/step\n",
            "Epoch 461/700\n",
            "734/734 - 4s - loss: 6.8987e-04 - val_loss: 1.9204e-04 - 4s/epoch - 6ms/step\n",
            "Epoch 462/700\n",
            "734/734 - 4s - loss: 6.8888e-04 - val_loss: 1.9182e-04 - 4s/epoch - 6ms/step\n",
            "Epoch 463/700\n",
            "734/734 - 4s - loss: 6.8790e-04 - val_loss: 1.9161e-04 - 4s/epoch - 6ms/step\n",
            "Epoch 464/700\n",
            "734/734 - 4s - loss: 6.8693e-04 - val_loss: 1.9141e-04 - 4s/epoch - 6ms/step\n",
            "Epoch 465/700\n",
            "734/734 - 5s - loss: 6.8596e-04 - val_loss: 1.9121e-04 - 5s/epoch - 6ms/step\n",
            "Epoch 466/700\n",
            "734/734 - 4s - loss: 6.8499e-04 - val_loss: 1.9102e-04 - 4s/epoch - 6ms/step\n",
            "Epoch 467/700\n",
            "734/734 - 4s - loss: 6.8403e-04 - val_loss: 1.9082e-04 - 4s/epoch - 6ms/step\n",
            "Epoch 468/700\n",
            "734/734 - 5s - loss: 6.8308e-04 - val_loss: 1.9064e-04 - 5s/epoch - 7ms/step\n",
            "Epoch 469/700\n",
            "734/734 - 4s - loss: 6.8213e-04 - val_loss: 1.9046e-04 - 4s/epoch - 6ms/step\n",
            "Epoch 470/700\n",
            "734/734 - 4s - loss: 6.8119e-04 - val_loss: 1.9028e-04 - 4s/epoch - 6ms/step\n",
            "Epoch 471/700\n",
            "734/734 - 4s - loss: 6.8025e-04 - val_loss: 1.9011e-04 - 4s/epoch - 5ms/step\n",
            "Epoch 472/700\n",
            "734/734 - 4s - loss: 6.7932e-04 - val_loss: 1.8994e-04 - 4s/epoch - 6ms/step\n",
            "Epoch 473/700\n",
            "734/734 - 4s - loss: 6.7840e-04 - val_loss: 1.8978e-04 - 4s/epoch - 6ms/step\n",
            "Epoch 474/700\n",
            "734/734 - 4s - loss: 6.7748e-04 - val_loss: 1.8962e-04 - 4s/epoch - 6ms/step\n",
            "Epoch 475/700\n",
            "734/734 - 4s - loss: 6.7656e-04 - val_loss: 1.8947e-04 - 4s/epoch - 5ms/step\n",
            "Epoch 476/700\n",
            "734/734 - 4s - loss: 6.7566e-04 - val_loss: 1.8932e-04 - 4s/epoch - 6ms/step\n",
            "Epoch 477/700\n",
            "734/734 - 4s - loss: 6.7476e-04 - val_loss: 1.8918e-04 - 4s/epoch - 6ms/step\n",
            "Epoch 478/700\n",
            "734/734 - 5s - loss: 6.7386e-04 - val_loss: 1.8904e-04 - 5s/epoch - 6ms/step\n",
            "Epoch 479/700\n",
            "734/734 - 4s - loss: 6.7298e-04 - val_loss: 1.8891e-04 - 4s/epoch - 6ms/step\n",
            "Epoch 480/700\n",
            "734/734 - 4s - loss: 6.7210e-04 - val_loss: 1.8878e-04 - 4s/epoch - 5ms/step\n",
            "Epoch 481/700\n",
            "734/734 - 4s - loss: 6.7122e-04 - val_loss: 1.8866e-04 - 4s/epoch - 6ms/step\n",
            "Epoch 482/700\n",
            "734/734 - 4s - loss: 6.7035e-04 - val_loss: 1.8854e-04 - 4s/epoch - 5ms/step\n",
            "Epoch 483/700\n",
            "734/734 - 4s - loss: 6.6949e-04 - val_loss: 1.8842e-04 - 4s/epoch - 6ms/step\n",
            "Epoch 484/700\n",
            "734/734 - 4s - loss: 6.6863e-04 - val_loss: 1.8831e-04 - 4s/epoch - 6ms/step\n",
            "Epoch 485/700\n",
            "734/734 - 4s - loss: 6.6778e-04 - val_loss: 1.8821e-04 - 4s/epoch - 6ms/step\n",
            "Epoch 486/700\n",
            "734/734 - 4s - loss: 6.6694e-04 - val_loss: 1.8811e-04 - 4s/epoch - 6ms/step\n",
            "Epoch 487/700\n",
            "734/734 - 4s - loss: 6.6610e-04 - val_loss: 1.8801e-04 - 4s/epoch - 6ms/step\n",
            "Epoch 488/700\n",
            "734/734 - 4s - loss: 6.6527e-04 - val_loss: 1.8792e-04 - 4s/epoch - 5ms/step\n",
            "Epoch 489/700\n",
            "734/734 - 6s - loss: 6.6445e-04 - val_loss: 1.8783e-04 - 6s/epoch - 8ms/step\n",
            "Epoch 490/700\n",
            "734/734 - 4s - loss: 6.6363e-04 - val_loss: 1.8775e-04 - 4s/epoch - 6ms/step\n",
            "Epoch 491/700\n",
            "734/734 - 4s - loss: 6.6282e-04 - val_loss: 1.8767e-04 - 4s/epoch - 5ms/step\n",
            "Epoch 492/700\n",
            "734/734 - 4s - loss: 6.6201e-04 - val_loss: 1.8760e-04 - 4s/epoch - 5ms/step\n",
            "Epoch 493/700\n",
            "734/734 - 4s - loss: 6.6121e-04 - val_loss: 1.8753e-04 - 4s/epoch - 6ms/step\n",
            "Epoch 494/700\n",
            "734/734 - 4s - loss: 6.6042e-04 - val_loss: 1.8747e-04 - 4s/epoch - 6ms/step\n",
            "Epoch 495/700\n",
            "734/734 - 4s - loss: 6.5963e-04 - val_loss: 1.8741e-04 - 4s/epoch - 6ms/step\n",
            "Epoch 496/700\n",
            "734/734 - 4s - loss: 6.5885e-04 - val_loss: 1.8736e-04 - 4s/epoch - 5ms/step\n",
            "Epoch 497/700\n",
            "734/734 - 4s - loss: 6.5808e-04 - val_loss: 1.8730e-04 - 4s/epoch - 5ms/step\n",
            "Epoch 498/700\n",
            "734/734 - 4s - loss: 6.5731e-04 - val_loss: 1.8726e-04 - 4s/epoch - 6ms/step\n",
            "Epoch 499/700\n",
            "734/734 - 4s - loss: 6.5655e-04 - val_loss: 1.8722e-04 - 4s/epoch - 6ms/step\n",
            "Epoch 500/700\n",
            "734/734 - 4s - loss: 6.5579e-04 - val_loss: 1.8718e-04 - 4s/epoch - 6ms/step\n",
            "Epoch 501/700\n",
            "734/734 - 4s - loss: 6.5504e-04 - val_loss: 1.8715e-04 - 4s/epoch - 6ms/step\n",
            "Epoch 502/700\n",
            "734/734 - 4s - loss: 6.5429e-04 - val_loss: 1.8712e-04 - 4s/epoch - 6ms/step\n",
            "Epoch 503/700\n",
            "734/734 - 4s - loss: 6.5355e-04 - val_loss: 1.8709e-04 - 4s/epoch - 6ms/step\n",
            "Epoch 504/700\n",
            "734/734 - 5s - loss: 6.5281e-04 - val_loss: 1.8707e-04 - 5s/epoch - 6ms/step\n",
            "Epoch 505/700\n",
            "734/734 - 4s - loss: 6.5208e-04 - val_loss: 1.8706e-04 - 4s/epoch - 6ms/step\n",
            "Epoch 506/700\n",
            "734/734 - 4s - loss: 6.5135e-04 - val_loss: 1.8704e-04 - 4s/epoch - 6ms/step\n",
            "Epoch 507/700\n",
            "734/734 - 5s - loss: 6.5063e-04 - val_loss: 1.8704e-04 - 5s/epoch - 6ms/step\n",
            "Epoch 508/700\n",
            "734/734 - 4s - loss: 6.4992e-04 - val_loss: 1.8703e-04 - 4s/epoch - 6ms/step\n",
            "Epoch 509/700\n",
            "734/734 - 4s - loss: 6.4920e-04 - val_loss: 1.8703e-04 - 4s/epoch - 6ms/step\n",
            "Epoch 510/700\n",
            "734/734 - 4s - loss: 6.4850e-04 - val_loss: 1.8704e-04 - 4s/epoch - 6ms/step\n",
            "Epoch 511/700\n",
            "734/734 - 4s - loss: 6.4780e-04 - val_loss: 1.8704e-04 - 4s/epoch - 6ms/step\n",
            "Epoch 512/700\n",
            "734/734 - 4s - loss: 6.4710e-04 - val_loss: 1.8705e-04 - 4s/epoch - 6ms/step\n",
            "Epoch 513/700\n",
            "734/734 - 4s - loss: 6.4640e-04 - val_loss: 1.8707e-04 - 4s/epoch - 5ms/step\n",
            "Epoch 514/700\n",
            "734/734 - 4s - loss: 6.4571e-04 - val_loss: 1.8709e-04 - 4s/epoch - 5ms/step\n",
            "Epoch 515/700\n",
            "734/734 - 4s - loss: 6.4503e-04 - val_loss: 1.8711e-04 - 4s/epoch - 6ms/step\n",
            "Epoch 516/700\n",
            "734/734 - 4s - loss: 6.4435e-04 - val_loss: 1.8714e-04 - 4s/epoch - 6ms/step\n",
            "Epoch 517/700\n",
            "734/734 - 4s - loss: 6.4367e-04 - val_loss: 1.8717e-04 - 4s/epoch - 5ms/step\n",
            "Epoch 518/700\n",
            "734/734 - 4s - loss: 6.4300e-04 - val_loss: 1.8720e-04 - 4s/epoch - 5ms/step\n",
            "Epoch 519/700\n",
            "734/734 - 4s - loss: 6.4233e-04 - val_loss: 1.8724e-04 - 4s/epoch - 5ms/step\n",
            "Epoch 520/700\n",
            "734/734 - 4s - loss: 6.4166e-04 - val_loss: 1.8728e-04 - 4s/epoch - 5ms/step\n",
            "Epoch 521/700\n",
            "734/734 - 4s - loss: 6.4100e-04 - val_loss: 1.8732e-04 - 4s/epoch - 6ms/step\n",
            "Epoch 522/700\n",
            "734/734 - 4s - loss: 6.4034e-04 - val_loss: 1.8737e-04 - 4s/epoch - 5ms/step\n",
            "Epoch 523/700\n",
            "734/734 - 4s - loss: 6.3969e-04 - val_loss: 1.8742e-04 - 4s/epoch - 5ms/step\n",
            "Epoch 524/700\n",
            "734/734 - 4s - loss: 6.3903e-04 - val_loss: 1.8747e-04 - 4s/epoch - 5ms/step\n",
            "Epoch 525/700\n",
            "734/734 - 4s - loss: 6.3838e-04 - val_loss: 1.8753e-04 - 4s/epoch - 6ms/step\n",
            "Epoch 526/700\n",
            "734/734 - 4s - loss: 6.3774e-04 - val_loss: 1.8759e-04 - 4s/epoch - 6ms/step\n",
            "Epoch 527/700\n",
            "734/734 - 6s - loss: 6.3709e-04 - val_loss: 1.8765e-04 - 6s/epoch - 8ms/step\n",
            "Epoch 528/700\n",
            "734/734 - 4s - loss: 6.3645e-04 - val_loss: 1.8772e-04 - 4s/epoch - 6ms/step\n",
            "Epoch 529/700\n",
            "734/734 - 4s - loss: 6.3581e-04 - val_loss: 1.8779e-04 - 4s/epoch - 5ms/step\n",
            "Epoch 530/700\n",
            "734/734 - 4s - loss: 6.3518e-04 - val_loss: 1.8786e-04 - 4s/epoch - 5ms/step\n",
            "Epoch 531/700\n",
            "734/734 - 4s - loss: 6.3455e-04 - val_loss: 1.8793e-04 - 4s/epoch - 6ms/step\n",
            "Epoch 532/700\n",
            "734/734 - 4s - loss: 6.3392e-04 - val_loss: 1.8801e-04 - 4s/epoch - 6ms/step\n",
            "Epoch 533/700\n",
            "734/734 - 4s - loss: 6.3329e-04 - val_loss: 1.8809e-04 - 4s/epoch - 6ms/step\n",
            "Epoch 534/700\n",
            "734/734 - 4s - loss: 6.3266e-04 - val_loss: 1.8818e-04 - 4s/epoch - 5ms/step\n",
            "Epoch 535/700\n",
            "734/734 - 4s - loss: 6.3204e-04 - val_loss: 1.8826e-04 - 4s/epoch - 6ms/step\n",
            "Epoch 536/700\n",
            "734/734 - 4s - loss: 6.3142e-04 - val_loss: 1.8835e-04 - 4s/epoch - 6ms/step\n",
            "Epoch 537/700\n",
            "734/734 - 4s - loss: 6.3080e-04 - val_loss: 1.8844e-04 - 4s/epoch - 5ms/step\n",
            "Epoch 538/700\n",
            "734/734 - 4s - loss: 6.3018e-04 - val_loss: 1.8853e-04 - 4s/epoch - 5ms/step\n",
            "Epoch 539/700\n",
            "734/734 - 4s - loss: 6.2956e-04 - val_loss: 1.8863e-04 - 4s/epoch - 5ms/step\n",
            "Epoch 540/700\n",
            "734/734 - 4s - loss: 6.2895e-04 - val_loss: 1.8873e-04 - 4s/epoch - 6ms/step\n",
            "Epoch 541/700\n",
            "734/734 - 4s - loss: 6.2834e-04 - val_loss: 1.8883e-04 - 4s/epoch - 5ms/step\n",
            "Epoch 542/700\n",
            "734/734 - 4s - loss: 6.2773e-04 - val_loss: 1.8893e-04 - 4s/epoch - 5ms/step\n",
            "Epoch 543/700\n",
            "734/734 - 4s - loss: 6.2712e-04 - val_loss: 1.8904e-04 - 4s/epoch - 6ms/step\n",
            "Epoch 544/700\n",
            "734/734 - 4s - loss: 6.2651e-04 - val_loss: 1.8914e-04 - 4s/epoch - 5ms/step\n",
            "Epoch 545/700\n",
            "734/734 - 4s - loss: 6.2590e-04 - val_loss: 1.8925e-04 - 4s/epoch - 5ms/step\n",
            "Epoch 546/700\n",
            "734/734 - 4s - loss: 6.2530e-04 - val_loss: 1.8936e-04 - 4s/epoch - 5ms/step\n",
            "Epoch 547/700\n",
            "734/734 - 4s - loss: 6.2470e-04 - val_loss: 1.8948e-04 - 4s/epoch - 6ms/step\n",
            "Epoch 548/700\n",
            "734/734 - 4s - loss: 6.2409e-04 - val_loss: 1.8959e-04 - 4s/epoch - 5ms/step\n",
            "Epoch 549/700\n",
            "734/734 - 4s - loss: 6.2349e-04 - val_loss: 1.8971e-04 - 4s/epoch - 5ms/step\n",
            "Epoch 550/700\n",
            "734/734 - 4s - loss: 6.2289e-04 - val_loss: 1.8983e-04 - 4s/epoch - 5ms/step\n",
            "Epoch 551/700\n",
            "734/734 - 4s - loss: 6.2229e-04 - val_loss: 1.8995e-04 - 4s/epoch - 5ms/step\n",
            "Epoch 552/700\n",
            "734/734 - 4s - loss: 6.2170e-04 - val_loss: 1.9007e-04 - 4s/epoch - 5ms/step\n",
            "Epoch 553/700\n",
            "734/734 - 4s - loss: 6.2110e-04 - val_loss: 1.9020e-04 - 4s/epoch - 6ms/step\n",
            "Epoch 554/700\n",
            "734/734 - 4s - loss: 6.2050e-04 - val_loss: 1.9032e-04 - 4s/epoch - 5ms/step\n",
            "Epoch 555/700\n",
            "734/734 - 4s - loss: 6.1991e-04 - val_loss: 1.9045e-04 - 4s/epoch - 6ms/step\n",
            "Epoch 556/700\n",
            "734/734 - 4s - loss: 6.1932e-04 - val_loss: 1.9058e-04 - 4s/epoch - 6ms/step\n",
            "Epoch 557/700\n",
            "734/734 - 4s - loss: 6.1872e-04 - val_loss: 1.9071e-04 - 4s/epoch - 5ms/step\n",
            "Epoch 558/700\n",
            "734/734 - 4s - loss: 6.1813e-04 - val_loss: 1.9085e-04 - 4s/epoch - 5ms/step\n",
            "Epoch 559/700\n",
            "734/734 - 4s - loss: 6.1754e-04 - val_loss: 1.9098e-04 - 4s/epoch - 6ms/step\n",
            "Epoch 560/700\n",
            "734/734 - 4s - loss: 6.1695e-04 - val_loss: 1.9112e-04 - 4s/epoch - 5ms/step\n",
            "Epoch 561/700\n",
            "734/734 - 4s - loss: 6.1636e-04 - val_loss: 1.9125e-04 - 4s/epoch - 6ms/step\n",
            "Epoch 562/700\n",
            "734/734 - 4s - loss: 6.1577e-04 - val_loss: 1.9139e-04 - 4s/epoch - 5ms/step\n",
            "Epoch 563/700\n",
            "734/734 - 4s - loss: 6.1518e-04 - val_loss: 1.9153e-04 - 4s/epoch - 5ms/step\n",
            "Epoch 564/700\n",
            "734/734 - 4s - loss: 6.1459e-04 - val_loss: 1.9167e-04 - 4s/epoch - 5ms/step\n",
            "Epoch 565/700\n",
            "734/734 - 4s - loss: 6.1400e-04 - val_loss: 1.9181e-04 - 4s/epoch - 6ms/step\n",
            "Epoch 566/700\n",
            "734/734 - 6s - loss: 6.1341e-04 - val_loss: 1.9196e-04 - 6s/epoch - 8ms/step\n",
            "Epoch 567/700\n",
            "734/734 - 5s - loss: 6.1282e-04 - val_loss: 1.9210e-04 - 5s/epoch - 7ms/step\n",
            "Epoch 568/700\n",
            "734/734 - 4s - loss: 6.1224e-04 - val_loss: 1.9225e-04 - 4s/epoch - 5ms/step\n",
            "Epoch 569/700\n",
            "734/734 - 4s - loss: 6.1165e-04 - val_loss: 1.9240e-04 - 4s/epoch - 6ms/step\n",
            "Epoch 570/700\n",
            "734/734 - 4s - loss: 6.1107e-04 - val_loss: 1.9254e-04 - 4s/epoch - 6ms/step\n",
            "Epoch 571/700\n",
            "734/734 - 4s - loss: 6.1048e-04 - val_loss: 1.9269e-04 - 4s/epoch - 5ms/step\n",
            "Epoch 572/700\n",
            "734/734 - 4s - loss: 6.0989e-04 - val_loss: 1.9284e-04 - 4s/epoch - 5ms/step\n",
            "Epoch 573/700\n",
            "734/734 - 4s - loss: 6.0931e-04 - val_loss: 1.9299e-04 - 4s/epoch - 5ms/step\n",
            "Epoch 574/700\n",
            "734/734 - 4s - loss: 6.0872e-04 - val_loss: 1.9315e-04 - 4s/epoch - 6ms/step\n",
            "Epoch 575/700\n",
            "734/734 - 4s - loss: 6.0814e-04 - val_loss: 1.9330e-04 - 4s/epoch - 5ms/step\n",
            "Epoch 576/700\n",
            "734/734 - 4s - loss: 6.0755e-04 - val_loss: 1.9345e-04 - 4s/epoch - 5ms/step\n",
            "Epoch 577/700\n",
            "734/734 - 4s - loss: 6.0697e-04 - val_loss: 1.9361e-04 - 4s/epoch - 5ms/step\n",
            "Epoch 578/700\n",
            "734/734 - 4s - loss: 6.0639e-04 - val_loss: 1.9376e-04 - 4s/epoch - 5ms/step\n",
            "Epoch 579/700\n",
            "734/734 - 4s - loss: 6.0580e-04 - val_loss: 1.9392e-04 - 4s/epoch - 5ms/step\n",
            "Epoch 580/700\n",
            "734/734 - 4s - loss: 6.0522e-04 - val_loss: 1.9408e-04 - 4s/epoch - 6ms/step\n",
            "Epoch 581/700\n",
            "734/734 - 4s - loss: 6.0464e-04 - val_loss: 1.9423e-04 - 4s/epoch - 6ms/step\n",
            "Epoch 582/700\n",
            "734/734 - 4s - loss: 6.0405e-04 - val_loss: 1.9439e-04 - 4s/epoch - 6ms/step\n",
            "Epoch 583/700\n",
            "734/734 - 4s - loss: 6.0347e-04 - val_loss: 1.9455e-04 - 4s/epoch - 6ms/step\n",
            "Epoch 584/700\n",
            "734/734 - 4s - loss: 6.0289e-04 - val_loss: 1.9471e-04 - 4s/epoch - 5ms/step\n",
            "Epoch 585/700\n",
            "734/734 - 4s - loss: 6.0230e-04 - val_loss: 1.9487e-04 - 4s/epoch - 6ms/step\n",
            "Epoch 586/700\n",
            "734/734 - 4s - loss: 6.0172e-04 - val_loss: 1.9503e-04 - 4s/epoch - 6ms/step\n",
            "Epoch 587/700\n",
            "734/734 - 4s - loss: 6.0114e-04 - val_loss: 1.9520e-04 - 4s/epoch - 5ms/step\n",
            "Epoch 588/700\n",
            "734/734 - 4s - loss: 6.0056e-04 - val_loss: 1.9536e-04 - 4s/epoch - 5ms/step\n",
            "Epoch 589/700\n",
            "734/734 - 4s - loss: 5.9997e-04 - val_loss: 1.9552e-04 - 4s/epoch - 5ms/step\n",
            "Epoch 590/700\n",
            "734/734 - 4s - loss: 5.9939e-04 - val_loss: 1.9569e-04 - 4s/epoch - 5ms/step\n",
            "Epoch 591/700\n",
            "734/734 - 4s - loss: 5.9881e-04 - val_loss: 1.9585e-04 - 4s/epoch - 5ms/step\n",
            "Epoch 592/700\n",
            "734/734 - 4s - loss: 5.9823e-04 - val_loss: 1.9602e-04 - 4s/epoch - 5ms/step\n",
            "Epoch 593/700\n",
            "734/734 - 4s - loss: 5.9765e-04 - val_loss: 1.9618e-04 - 4s/epoch - 6ms/step\n",
            "Epoch 594/700\n",
            "734/734 - 4s - loss: 5.9706e-04 - val_loss: 1.9635e-04 - 4s/epoch - 6ms/step\n",
            "Epoch 595/700\n",
            "734/734 - 4s - loss: 5.9648e-04 - val_loss: 1.9652e-04 - 4s/epoch - 6ms/step\n",
            "Epoch 596/700\n",
            "734/734 - 4s - loss: 5.9590e-04 - val_loss: 1.9668e-04 - 4s/epoch - 6ms/step\n",
            "Epoch 597/700\n",
            "734/734 - 5s - loss: 5.9532e-04 - val_loss: 1.9685e-04 - 5s/epoch - 6ms/step\n",
            "Epoch 598/700\n",
            "734/734 - 4s - loss: 5.9474e-04 - val_loss: 1.9702e-04 - 4s/epoch - 6ms/step\n",
            "Epoch 599/700\n",
            "734/734 - 4s - loss: 5.9416e-04 - val_loss: 1.9719e-04 - 4s/epoch - 6ms/step\n",
            "Epoch 600/700\n",
            "734/734 - 4s - loss: 5.9358e-04 - val_loss: 1.9736e-04 - 4s/epoch - 5ms/step\n",
            "Epoch 601/700\n",
            "734/734 - 4s - loss: 5.9300e-04 - val_loss: 1.9753e-04 - 4s/epoch - 5ms/step\n",
            "Epoch 602/700\n",
            "734/734 - 4s - loss: 5.9242e-04 - val_loss: 1.9770e-04 - 4s/epoch - 5ms/step\n",
            "Epoch 603/700\n",
            "734/734 - 4s - loss: 5.9184e-04 - val_loss: 1.9787e-04 - 4s/epoch - 5ms/step\n",
            "Epoch 604/700\n",
            "734/734 - 4s - loss: 5.9126e-04 - val_loss: 1.9804e-04 - 4s/epoch - 5ms/step\n",
            "Epoch 605/700\n",
            "734/734 - 5s - loss: 5.9068e-04 - val_loss: 1.9822e-04 - 5s/epoch - 7ms/step\n",
            "Epoch 606/700\n",
            "734/734 - 6s - loss: 5.9010e-04 - val_loss: 1.9839e-04 - 6s/epoch - 8ms/step\n",
            "Epoch 607/700\n",
            "734/734 - 4s - loss: 5.8952e-04 - val_loss: 1.9856e-04 - 4s/epoch - 6ms/step\n",
            "Epoch 608/700\n",
            "734/734 - 4s - loss: 5.8894e-04 - val_loss: 1.9874e-04 - 4s/epoch - 5ms/step\n",
            "Epoch 609/700\n",
            "734/734 - 4s - loss: 5.8836e-04 - val_loss: 1.9891e-04 - 4s/epoch - 5ms/step\n",
            "Epoch 610/700\n",
            "734/734 - 4s - loss: 5.8778e-04 - val_loss: 1.9909e-04 - 4s/epoch - 6ms/step\n",
            "Epoch 611/700\n",
            "734/734 - 4s - loss: 5.8721e-04 - val_loss: 1.9927e-04 - 4s/epoch - 6ms/step\n",
            "Epoch 612/700\n",
            "734/734 - 4s - loss: 5.8663e-04 - val_loss: 1.9944e-04 - 4s/epoch - 6ms/step\n",
            "Epoch 613/700\n",
            "734/734 - 4s - loss: 5.8605e-04 - val_loss: 1.9962e-04 - 4s/epoch - 6ms/step\n",
            "Epoch 614/700\n",
            "734/734 - 4s - loss: 5.8548e-04 - val_loss: 1.9980e-04 - 4s/epoch - 5ms/step\n",
            "Epoch 615/700\n",
            "734/734 - 4s - loss: 5.8490e-04 - val_loss: 1.9998e-04 - 4s/epoch - 5ms/step\n",
            "Epoch 616/700\n",
            "734/734 - 4s - loss: 5.8433e-04 - val_loss: 2.0016e-04 - 4s/epoch - 6ms/step\n",
            "Epoch 617/700\n",
            "734/734 - 4s - loss: 5.8375e-04 - val_loss: 2.0034e-04 - 4s/epoch - 6ms/step\n",
            "Epoch 618/700\n",
            "734/734 - 4s - loss: 5.8318e-04 - val_loss: 2.0052e-04 - 4s/epoch - 5ms/step\n",
            "Epoch 619/700\n",
            "734/734 - 4s - loss: 5.8260e-04 - val_loss: 2.0071e-04 - 4s/epoch - 6ms/step\n",
            "Epoch 620/700\n",
            "734/734 - 4s - loss: 5.8203e-04 - val_loss: 2.0089e-04 - 4s/epoch - 5ms/step\n",
            "Epoch 621/700\n",
            "734/734 - 4s - loss: 5.8146e-04 - val_loss: 2.0107e-04 - 4s/epoch - 6ms/step\n",
            "Epoch 622/700\n",
            "734/734 - 4s - loss: 5.8088e-04 - val_loss: 2.0126e-04 - 4s/epoch - 6ms/step\n",
            "Epoch 623/700\n",
            "734/734 - 4s - loss: 5.8031e-04 - val_loss: 2.0145e-04 - 4s/epoch - 6ms/step\n",
            "Epoch 624/700\n",
            "734/734 - 4s - loss: 5.7974e-04 - val_loss: 2.0163e-04 - 4s/epoch - 6ms/step\n",
            "Epoch 625/700\n",
            "734/734 - 4s - loss: 5.7917e-04 - val_loss: 2.0182e-04 - 4s/epoch - 6ms/step\n",
            "Epoch 626/700\n",
            "734/734 - 4s - loss: 5.7860e-04 - val_loss: 2.0201e-04 - 4s/epoch - 6ms/step\n",
            "Epoch 627/700\n",
            "734/734 - 4s - loss: 5.7803e-04 - val_loss: 2.0220e-04 - 4s/epoch - 5ms/step\n",
            "Epoch 628/700\n",
            "734/734 - 4s - loss: 5.7747e-04 - val_loss: 2.0239e-04 - 4s/epoch - 5ms/step\n",
            "Epoch 629/700\n",
            "734/734 - 4s - loss: 5.7690e-04 - val_loss: 2.0258e-04 - 4s/epoch - 5ms/step\n",
            "Epoch 630/700\n",
            "734/734 - 4s - loss: 5.7634e-04 - val_loss: 2.0277e-04 - 4s/epoch - 6ms/step\n",
            "Epoch 631/700\n",
            "734/734 - 4s - loss: 5.7577e-04 - val_loss: 2.0297e-04 - 4s/epoch - 6ms/step\n",
            "Epoch 632/700\n",
            "734/734 - 4s - loss: 5.7521e-04 - val_loss: 2.0316e-04 - 4s/epoch - 5ms/step\n",
            "Epoch 633/700\n",
            "734/734 - 4s - loss: 5.7464e-04 - val_loss: 2.0336e-04 - 4s/epoch - 5ms/step\n",
            "Epoch 634/700\n",
            "734/734 - 4s - loss: 5.7408e-04 - val_loss: 2.0356e-04 - 4s/epoch - 6ms/step\n",
            "Epoch 635/700\n",
            "734/734 - 4s - loss: 5.7352e-04 - val_loss: 2.0375e-04 - 4s/epoch - 5ms/step\n",
            "Epoch 636/700\n",
            "734/734 - 4s - loss: 5.7296e-04 - val_loss: 2.0395e-04 - 4s/epoch - 5ms/step\n",
            "Epoch 637/700\n",
            "734/734 - 4s - loss: 5.7240e-04 - val_loss: 2.0415e-04 - 4s/epoch - 5ms/step\n",
            "Epoch 638/700\n",
            "734/734 - 4s - loss: 5.7185e-04 - val_loss: 2.0436e-04 - 4s/epoch - 6ms/step\n",
            "Epoch 639/700\n",
            "734/734 - 4s - loss: 5.7129e-04 - val_loss: 2.0456e-04 - 4s/epoch - 6ms/step\n",
            "Epoch 640/700\n",
            "734/734 - 4s - loss: 5.7074e-04 - val_loss: 2.0476e-04 - 4s/epoch - 5ms/step\n",
            "Epoch 641/700\n",
            "734/734 - 4s - loss: 5.7018e-04 - val_loss: 2.0497e-04 - 4s/epoch - 5ms/step\n",
            "Epoch 642/700\n",
            "734/734 - 4s - loss: 5.6963e-04 - val_loss: 2.0517e-04 - 4s/epoch - 6ms/step\n",
            "Epoch 643/700\n",
            "734/734 - 5s - loss: 5.6908e-04 - val_loss: 2.0538e-04 - 5s/epoch - 6ms/step\n",
            "Epoch 644/700\n",
            "734/734 - 6s - loss: 5.6853e-04 - val_loss: 2.0559e-04 - 6s/epoch - 9ms/step\n",
            "Epoch 645/700\n",
            "734/734 - 4s - loss: 5.6799e-04 - val_loss: 2.0579e-04 - 4s/epoch - 6ms/step\n",
            "Epoch 646/700\n",
            "734/734 - 4s - loss: 5.6744e-04 - val_loss: 2.0600e-04 - 4s/epoch - 6ms/step\n",
            "Epoch 647/700\n",
            "734/734 - 5s - loss: 5.6690e-04 - val_loss: 2.0622e-04 - 5s/epoch - 6ms/step\n",
            "Epoch 648/700\n",
            "734/734 - 5s - loss: 5.6635e-04 - val_loss: 2.0643e-04 - 5s/epoch - 6ms/step\n",
            "Epoch 649/700\n",
            "734/734 - 4s - loss: 5.6581e-04 - val_loss: 2.0664e-04 - 4s/epoch - 6ms/step\n",
            "Epoch 650/700\n",
            "734/734 - 5s - loss: 5.6527e-04 - val_loss: 2.0686e-04 - 5s/epoch - 6ms/step\n",
            "Epoch 651/700\n",
            "734/734 - 4s - loss: 5.6474e-04 - val_loss: 2.0707e-04 - 4s/epoch - 6ms/step\n",
            "Epoch 652/700\n",
            "734/734 - 4s - loss: 5.6420e-04 - val_loss: 2.0729e-04 - 4s/epoch - 6ms/step\n",
            "Epoch 653/700\n",
            "734/734 - 5s - loss: 5.6367e-04 - val_loss: 2.0751e-04 - 5s/epoch - 6ms/step\n",
            "Epoch 654/700\n",
            "734/734 - 5s - loss: 5.6313e-04 - val_loss: 2.0772e-04 - 5s/epoch - 7ms/step\n",
            "Epoch 655/700\n",
            "734/734 - 5s - loss: 5.6260e-04 - val_loss: 2.0794e-04 - 5s/epoch - 7ms/step\n",
            "Epoch 656/700\n",
            "734/734 - 4s - loss: 5.6208e-04 - val_loss: 2.0816e-04 - 4s/epoch - 6ms/step\n",
            "Epoch 657/700\n",
            "734/734 - 5s - loss: 5.6155e-04 - val_loss: 2.0839e-04 - 5s/epoch - 7ms/step\n",
            "Epoch 658/700\n",
            "734/734 - 5s - loss: 5.6103e-04 - val_loss: 2.0861e-04 - 5s/epoch - 6ms/step\n",
            "Epoch 659/700\n",
            "734/734 - 5s - loss: 5.6050e-04 - val_loss: 2.0883e-04 - 5s/epoch - 7ms/step\n",
            "Epoch 660/700\n"
          ]
        }
      ],
      "source": [
        "os.environ[\"CUDA_DEVICE_ORDER\"] = \"PCI_BUS_ID\"  \n",
        "os.environ[\"CUDA_VISIBLE_DEVICES\"] = \"\"\n",
        "os.environ['PYTHONHASHSEED'] = '0'\n",
        "np.random.seed(42)\n",
        "np.random.seed(12345)\n",
        "session_conf = tf.compat.v1.ConfigProto(intra_op_parallelism_threads=1, inter_op_parallelism_threads=1)\n",
        "\n",
        "from keras import backend as K\n",
        "tf.random.set_seed(1234)\n",
        "\n",
        "sess = tf.compat.v1.Session(graph=tf.compat.v1.get_default_graph(), config=session_conf)\n",
        "K.set_session(sess)\n",
        "\n",
        "# fit the model\n",
        "neurons= [12]#12 \n",
        "n_epochs=700#186\n",
        "\n",
        "model = Sequential()\n",
        "model.add(LSTM(neurons[0], activation=\"tanh\", input_shape=(timesteps, n_features)))\n",
        "model.add(Dense(steps_ahead)) # output layer\n",
        "model.compile(loss='mean_squared_error', optimizer=tf.keras.optimizers.Adam(learning_rate=1e-4))\n",
        "\n",
        "# # early stopping to return the best model\n",
        "early_stopping = EarlyStopping(monitor='loss', patience=10, verbose=2, restore_best_weights=True, mode='min')\n",
        "# save the best weights if training is interrupted\n",
        "mcp_save = ModelCheckpoint('.mdl_wts.hdf5', save_best_only=True, monitor='val_loss', mode='min') \n",
        "#reduce_lr_loss = ReduceLROnPlateau(monitor='loss', factor=0.1, patience=5, verbose=1, min_delta=1e-4, mode='min')\n",
        "\n",
        "history = model.fit(train_X, train_y, callbacks=[early_stopping, mcp_save],\n",
        "                    epochs=n_epochs, batch_size=2, validation_data=(test_X, test_y), verbose=2,\n",
        "                     shuffle=False)"
      ]
    },
    {
      "cell_type": "code",
      "source": [
        "# Load the best weights\n",
        "model.load_weights(f'.mdl_wts.hdf5')"
      ],
      "metadata": {
        "id": "uGJdh2YQhT05"
      },
      "execution_count": 120,
      "outputs": []
    },
    {
      "cell_type": "code",
      "source": [
        "# config = model.get_config()\n",
        "# print(config)\n",
        "# Print the learning rate of the optimizer\n",
        "print(f'Learning rate: {model.optimizer.learning_rate.numpy()}')\n",
        "# # Check the epoch at which the best weights were saved\n",
        "print(f'Best weights using early stop {early_stopping.best} (loss) were saved at epoch {(early_stopping.best_epoch +1)}')\n",
        "# Evaluate the model on the test set\n",
        "scores = model.evaluate(test_X, test_y, verbose=0)\n",
        "print(f'Best weights using model check point {scores} were saved at epoch {(early_stopping.best_epoch +1)}')"
      ],
      "metadata": {
        "colab": {
          "base_uri": "https://localhost:8080/"
        },
        "id": "KmrFZTt1Zwr-",
        "outputId": "4fa0ed09-e6a5-4e50-cf9f-0e1033fc5e3d"
      },
      "execution_count": 121,
      "outputs": [
        {
          "output_type": "stream",
          "name": "stdout",
          "text": [
            "Learning rate: 9.999999747378752e-05\n",
            "Best weights using early stop 0.0005412322352640331 (loss) were saved at epoch 700\n",
            "Best weights using model check point 0.00018703137175180018 were saved at epoch 700\n"
          ]
        }
      ]
    },
    {
      "cell_type": "code",
      "source": [
        "# 0.00024551700334995985 all variables 6 times steps\n",
        "# 4.2105e-04 all variables 4 times steps\n",
        "#  all variables 9 timesteps 0.00018703137175180018"
      ],
      "metadata": {
        "id": "9lKT1sl6ehRW"
      },
      "execution_count": null,
      "outputs": []
    },
    {
      "cell_type": "code",
      "execution_count": 122,
      "metadata": {
        "colab": {
          "base_uri": "https://localhost:8080/",
          "height": 377
        },
        "id": "Om2PkqgiVjri",
        "outputId": "e84fb4d3-c706-4e8c-8910-6d4526e11882"
      },
      "outputs": [
        {
          "output_type": "display_data",
          "data": {
            "text/plain": [
              "<Figure size 1296x432 with 1 Axes>"
            ],
            "image/png": "[encoded data removed]"
          },
          "metadata": {
            "needs_background": "light"
          }
        }
      ],
      "source": [
        "fig, ax = plt.subplots(1, 1, figsize=(18,6)) \n",
        "ax.xaxis.set_major_locator(plt.MultipleLocator(5))\n",
        "#plt.plot(history.history['loss'], label='train')\n",
        "plt.plot(history.history['val_loss'], label='test')\n",
        "plt.legend(fontsize=15)\n",
        "plt.show()"
      ]
    },
    {
      "cell_type": "markdown",
      "metadata": {
        "id": "SHohbk8uYRIh"
      },
      "source": [
        "**MinMax Scaler equation**\n",
        "$$x' = \\frac{(x - min)}{(max - min)} \\times (new\\ max\\ value - new\\ min\\  value) + new\\ min\\ value$$<br/>\n",
        "\n",
        "\n",
        "$$x = \\frac{(max - min)\\times (new\\ min\\ value + x') + (new\\ max\\ value - new\\ min\\ value)\\times min}{new\\ max\\ value - new\\ min\\ value}$$\n",
        "\n",
        "Where:\n",
        "\n",
        "$x$ is the inverse scaled value\n",
        "$x'$ is the scaled value\n",
        "$min$ is the minimum value of the original data\n",
        "$max$ is the maximum value of the original data.<br/>\n",
        "$new\\ max\\ value$ and $new\\ min\\ value$ is the new range that we want to scale the data to. For example: $(1,0)\\ or\\ (1,-1)$"
      ]
    },
    {
      "cell_type": "code",
      "execution_count": 123,
      "metadata": {
        "colab": {
          "base_uri": "https://localhost:8080/"
        },
        "id": "dZ3IIvIhvHaz",
        "outputId": "3e2a869e-fcd5-4894-d17a-dd151f145dbf"
      },
      "outputs": [
        {
          "output_type": "stream",
          "name": "stdout",
          "text": [
            "12/12 [==============================] - 1s 3ms/step\n"
          ]
        }
      ],
      "source": [
        "# make a prediction \n",
        "# select the number of obersvtions for prediction\n",
        "n_obs = len(test)\n",
        "yhat = model.predict(test_X[-n_obs:], verbose=1)\n",
        "\n",
        "\n",
        "# invert scaling \n",
        "scaled_y = pd.DataFrame(test_y)\n",
        "scaled_yhat = pd.DataFrame(yhat.ravel()) ## ravel () converting into 1D array\n",
        "#obtain the min and max from the training set\n",
        "unscaled_train = pd.DataFrame(series_supervised[:len(train)])\n",
        "#new feature range\n",
        "new_max_value = 1 \n",
        "new_min_value= 0\n",
        "feature_range = new_max_value - new_min_value\n",
        "\n",
        "def transform_column(column):\n",
        "    min_value = min(unscaled_train.iloc[:, -steps_ahead + column.name])\n",
        "    max_value = max(unscaled_train.iloc[:, -steps_ahead + column.name])\n",
        "    return ((max_value - min_value) * (new_min_value + column) + (feature_range  * min_value)) / feature_range \n",
        "    \n",
        "# invert scaling for actual\n",
        "inv_scale_y = scaled_y.apply(transform_column, axis=0)\n",
        "inv_scale_y = inv_scale_y.values.ravel() \n",
        "# invert scaling for forecast\n",
        "inv_scale_yhat = scaled_yhat.apply(transform_column, axis=0)\n",
        "inv_scale_yhat = inv_scale_yhat.values.ravel()"
      ]
    },
    {
      "cell_type": "code",
      "execution_count": 138,
      "metadata": {
        "colab": {
          "base_uri": "https://localhost:8080/"
        },
        "id": "IlNDUcbr52uF",
        "outputId": "35e26049-ec8c-4c84-b361-4181bf06d99d"
      },
      "outputs": [
        {
          "output_type": "execute_result",
          "data": {
            "text/plain": [
              "(368, 7, 12)"
            ]
          },
          "metadata": {},
          "execution_count": 138
        }
      ],
      "source": [
        "test_X[-n_obs:].shape"
      ]
    },
    {
      "cell_type": "code",
      "execution_count": null,
      "metadata": {
        "colab": {
          "base_uri": "https://localhost:8080/",
          "height": 645
        },
        "id": "xnZOx0a_8kdZ",
        "outputId": "08fe5165-4de7-4927-d047-4ba5eca72e52"
      },
      "outputs": [
        {
          "data": {
            "text/html": [
              "\n",
              "  <div id=\"df-dc6fcda9-6894-4bab-b0f7-3fabcade868c\">\n",
              "    <div class=\"colab-df-container\">\n",
              "      <div>\n",
              "<style scoped>\n",
              "    .dataframe tbody tr th:only-of-type {\n",
              "        vertical-align: middle;\n",
              "    }\n",
              "\n",
              "    .dataframe tbody tr th {\n",
              "        vertical-align: top;\n",
              "    }\n",
              "\n",
              "    .dataframe thead th {\n",
              "        text-align: right;\n",
              "    }\n",
              "</style>\n",
              "<table border=\"1\" class=\"dataframe\">\n",
              "  <thead>\n",
              "    <tr style=\"text-align: right;\">\n",
              "      <th></th>\n",
              "      <th>0</th>\n",
              "    </tr>\n",
              "  </thead>\n",
              "  <tbody>\n",
              "    <tr>\n",
              "      <th>0</th>\n",
              "      <td>-645.145873</td>\n",
              "    </tr>\n",
              "    <tr>\n",
              "      <th>1</th>\n",
              "      <td>-436.890244</td>\n",
              "    </tr>\n",
              "    <tr>\n",
              "      <th>2</th>\n",
              "      <td>-1045.743910</td>\n",
              "    </tr>\n",
              "    <tr>\n",
              "      <th>3</th>\n",
              "      <td>51.765141</td>\n",
              "    </tr>\n",
              "    <tr>\n",
              "      <th>4</th>\n",
              "      <td>1099.836282</td>\n",
              "    </tr>\n",
              "    <tr>\n",
              "      <th>5</th>\n",
              "      <td>-159.069310</td>\n",
              "    </tr>\n",
              "    <tr>\n",
              "      <th>6</th>\n",
              "      <td>-15913.598207</td>\n",
              "    </tr>\n",
              "    <tr>\n",
              "      <th>7</th>\n",
              "      <td>5064.429699</td>\n",
              "    </tr>\n",
              "    <tr>\n",
              "      <th>8</th>\n",
              "      <td>9587.055113</td>\n",
              "    </tr>\n",
              "    <tr>\n",
              "      <th>9</th>\n",
              "      <td>2015.758501</td>\n",
              "    </tr>\n",
              "    <tr>\n",
              "      <th>10</th>\n",
              "      <td>-362.733377</td>\n",
              "    </tr>\n",
              "    <tr>\n",
              "      <th>11</th>\n",
              "      <td>-139.759592</td>\n",
              "    </tr>\n",
              "    <tr>\n",
              "      <th>12</th>\n",
              "      <td>-17.359877</td>\n",
              "    </tr>\n",
              "    <tr>\n",
              "      <th>13</th>\n",
              "      <td>455.570982</td>\n",
              "    </tr>\n",
              "    <tr>\n",
              "      <th>14</th>\n",
              "      <td>-286.437975</td>\n",
              "    </tr>\n",
              "    <tr>\n",
              "      <th>15</th>\n",
              "      <td>-120.953058</td>\n",
              "    </tr>\n",
              "    <tr>\n",
              "      <th>16</th>\n",
              "      <td>-164.855936</td>\n",
              "    </tr>\n",
              "    <tr>\n",
              "      <th>17</th>\n",
              "      <td>259.140197</td>\n",
              "    </tr>\n",
              "    <tr>\n",
              "      <th>18</th>\n",
              "      <td>-49.815300</td>\n",
              "    </tr>\n",
              "  </tbody>\n",
              "</table>\n",
              "</div>\n",
              "      <button class=\"colab-df-convert\" onclick=\"convertToInteractive('df-dc6fcda9-6894-4bab-b0f7-3fabcade868c')\"\n",
              "              title=\"Convert this dataframe to an interactive table.\"\n",
              "              style=\"display:none;\">\n",
              "        \n",
              "  <svg xmlns=\"http://www.w3.org/2000/svg\" height=\"24px\"viewBox=\"0 0 24 24\"\n",
              "       width=\"24px\">\n",
              "    <path d=\"M0 0h24v24H0V0z\" fill=\"none\"/>\n",
              "    <path d=\"M18.56 5.44l.94 2.06.94-2.06 2.06-.94-2.06-.94-.94-2.06-.94 2.06-2.06.94zm-11 1L8.5 8.5l.94-2.06 2.06-.94-2.06-.94L8.5 2.5l-.94 2.06-2.06.94zm10 10l.94 2.06.94-2.06 2.06-.94-2.06-.94-.94-2.06-.94 2.06-2.06.94z\"/><path d=\"M17.41 7.96l-1.37-1.37c-.4-.4-.92-.59-1.43-.59-.52 0-1.04.2-1.43.59L10.3 9.45l-7.72 7.72c-.78.78-.78 2.05 0 2.83L4 21.41c.39.39.9.59 1.41.59.51 0 1.02-.2 1.41-.59l7.78-7.78 2.81-2.81c.8-.78.8-2.07 0-2.86zM5.41 20L4 18.59l7.72-7.72 1.47 1.35L5.41 20z\"/>\n",
              "  </svg>\n",
              "      </button>\n",
              "      \n",
              "  <style>\n",
              "    .colab-df-container {\n",
              "      display:flex;\n",
              "      flex-wrap:wrap;\n",
              "      gap: 12px;\n",
              "    }\n",
              "\n",
              "    .colab-df-convert {\n",
              "      background-color: #E8F0FE;\n",
              "      border: none;\n",
              "      border-radius: 50%;\n",
              "      cursor: pointer;\n",
              "      display: none;\n",
              "      fill: #1967D2;\n",
              "      height: 32px;\n",
              "      padding: 0 0 0 0;\n",
              "      width: 32px;\n",
              "    }\n",
              "\n",
              "    .colab-df-convert:hover {\n",
              "      background-color: #E2EBFA;\n",
              "      box-shadow: 0px 1px 2px rgba(60, 64, 67, 0.3), 0px 1px 3px 1px rgba(60, 64, 67, 0.15);\n",
              "      fill: #174EA6;\n",
              "    }\n",
              "\n",
              "    [theme=dark] .colab-df-convert {\n",
              "      background-color: #3B4455;\n",
              "      fill: #D2E3FC;\n",
              "    }\n",
              "\n",
              "    [theme=dark] .colab-df-convert:hover {\n",
              "      background-color: #434B5C;\n",
              "      box-shadow: 0px 1px 3px 1px rgba(0, 0, 0, 0.15);\n",
              "      filter: drop-shadow(0px 1px 2px rgba(0, 0, 0, 0.3));\n",
              "      fill: #FFFFFF;\n",
              "    }\n",
              "  </style>\n",
              "\n",
              "      <script>\n",
              "        const buttonEl =\n",
              "          document.querySelector('#df-dc6fcda9-6894-4bab-b0f7-3fabcade868c button.colab-df-convert');\n",
              "        buttonEl.style.display =\n",
              "          google.colab.kernel.accessAllowed ? 'block' : 'none';\n",
              "\n",
              "        async function convertToInteractive(key) {\n",
              "          const element = document.querySelector('#df-dc6fcda9-6894-4bab-b0f7-3fabcade868c');\n",
              "          const dataTable =\n",
              "            await google.colab.kernel.invokeFunction('convertToInteractive',\n",
              "                                                     [key], {});\n",
              "          if (!dataTable) return;\n",
              "\n",
              "          const docLinkHtml = 'Like what you see? Visit the ' +\n",
              "            '<a target=\"_blank\" href=https://colab.research.google.com/notebooks/data_table.ipynb>data table notebook</a>'\n",
              "            + ' to learn more about interactive tables.';\n",
              "          element.innerHTML = '';\n",
              "          dataTable['output_type'] = 'display_data';\n",
              "          await google.colab.output.renderOutput(dataTable, element);\n",
              "          const docLink = document.createElement('div');\n",
              "          docLink.innerHTML = docLinkHtml;\n",
              "          element.appendChild(docLink);\n",
              "        }\n",
              "      </script>\n",
              "    </div>\n",
              "  </div>\n",
              "  "
            ],
            "text/plain": [
              "               0\n",
              "0    -645.145873\n",
              "1    -436.890244\n",
              "2   -1045.743910\n",
              "3      51.765141\n",
              "4    1099.836282\n",
              "5    -159.069310\n",
              "6  -15913.598207\n",
              "7    5064.429699\n",
              "8    9587.055113\n",
              "9    2015.758501\n",
              "10   -362.733377\n",
              "11   -139.759592\n",
              "12    -17.359877\n",
              "13    455.570982\n",
              "14   -286.437975\n",
              "15   -120.953058\n",
              "16   -164.855936\n",
              "17    259.140197\n",
              "18    -49.815300"
            ]
          },
          "execution_count": 81,
          "metadata": {},
          "output_type": "execute_result"
        }
      ],
      "source": [
        "pd.DataFrame(inv_scale_y)"
      ]
    },
    {
      "cell_type": "code",
      "execution_count": null,
      "metadata": {
        "colab": {
          "base_uri": "https://localhost:8080/",
          "height": 424
        },
        "id": "mleqTAENlwZT",
        "outputId": "7c9607c9-88ca-4c54-b8c9-9eade75a49f9"
      },
      "outputs": [
        {
          "data": {
            "text/html": [
              "\n",
              "  <div id=\"df-dc065745-e606-40d1-a327-03048d3907ee\">\n",
              "    <div class=\"colab-df-container\">\n",
              "      <div>\n",
              "<style scoped>\n",
              "    .dataframe tbody tr th:only-of-type {\n",
              "        vertical-align: middle;\n",
              "    }\n",
              "\n",
              "    .dataframe tbody tr th {\n",
              "        vertical-align: top;\n",
              "    }\n",
              "\n",
              "    .dataframe thead th {\n",
              "        text-align: right;\n",
              "    }\n",
              "</style>\n",
              "<table border=\"1\" class=\"dataframe\">\n",
              "  <thead>\n",
              "    <tr style=\"text-align: right;\">\n",
              "      <th></th>\n",
              "      <th>0</th>\n",
              "    </tr>\n",
              "  </thead>\n",
              "  <tbody>\n",
              "    <tr>\n",
              "      <th>0</th>\n",
              "      <td>3421.333008</td>\n",
              "    </tr>\n",
              "    <tr>\n",
              "      <th>1</th>\n",
              "      <td>3349.463867</td>\n",
              "    </tr>\n",
              "    <tr>\n",
              "      <th>2</th>\n",
              "      <td>3328.709961</td>\n",
              "    </tr>\n",
              "    <tr>\n",
              "      <th>3</th>\n",
              "      <td>3329.249023</td>\n",
              "    </tr>\n",
              "    <tr>\n",
              "      <th>4</th>\n",
              "      <td>3238.881836</td>\n",
              "    </tr>\n",
              "    <tr>\n",
              "      <th>...</th>\n",
              "      <td>...</td>\n",
              "    </tr>\n",
              "    <tr>\n",
              "      <th>75</th>\n",
              "      <td>2114.317383</td>\n",
              "    </tr>\n",
              "    <tr>\n",
              "      <th>76</th>\n",
              "      <td>2724.540039</td>\n",
              "    </tr>\n",
              "    <tr>\n",
              "      <th>77</th>\n",
              "      <td>2556.254883</td>\n",
              "    </tr>\n",
              "    <tr>\n",
              "      <th>78</th>\n",
              "      <td>1916.452148</td>\n",
              "    </tr>\n",
              "    <tr>\n",
              "      <th>79</th>\n",
              "      <td>-336.940430</td>\n",
              "    </tr>\n",
              "  </tbody>\n",
              "</table>\n",
              "<p>80 rows × 1 columns</p>\n",
              "</div>\n",
              "      <button class=\"colab-df-convert\" onclick=\"convertToInteractive('df-dc065745-e606-40d1-a327-03048d3907ee')\"\n",
              "              title=\"Convert this dataframe to an interactive table.\"\n",
              "              style=\"display:none;\">\n",
              "        \n",
              "  <svg xmlns=\"http://www.w3.org/2000/svg\" height=\"24px\"viewBox=\"0 0 24 24\"\n",
              "       width=\"24px\">\n",
              "    <path d=\"M0 0h24v24H0V0z\" fill=\"none\"/>\n",
              "    <path d=\"M18.56 5.44l.94 2.06.94-2.06 2.06-.94-2.06-.94-.94-2.06-.94 2.06-2.06.94zm-11 1L8.5 8.5l.94-2.06 2.06-.94-2.06-.94L8.5 2.5l-.94 2.06-2.06.94zm10 10l.94 2.06.94-2.06 2.06-.94-2.06-.94-.94-2.06-.94 2.06-2.06.94z\"/><path d=\"M17.41 7.96l-1.37-1.37c-.4-.4-.92-.59-1.43-.59-.52 0-1.04.2-1.43.59L10.3 9.45l-7.72 7.72c-.78.78-.78 2.05 0 2.83L4 21.41c.39.39.9.59 1.41.59.51 0 1.02-.2 1.41-.59l7.78-7.78 2.81-2.81c.8-.78.8-2.07 0-2.86zM5.41 20L4 18.59l7.72-7.72 1.47 1.35L5.41 20z\"/>\n",
              "  </svg>\n",
              "      </button>\n",
              "      \n",
              "  <style>\n",
              "    .colab-df-container {\n",
              "      display:flex;\n",
              "      flex-wrap:wrap;\n",
              "      gap: 12px;\n",
              "    }\n",
              "\n",
              "    .colab-df-convert {\n",
              "      background-color: #E8F0FE;\n",
              "      border: none;\n",
              "      border-radius: 50%;\n",
              "      cursor: pointer;\n",
              "      display: none;\n",
              "      fill: #1967D2;\n",
              "      height: 32px;\n",
              "      padding: 0 0 0 0;\n",
              "      width: 32px;\n",
              "    }\n",
              "\n",
              "    .colab-df-convert:hover {\n",
              "      background-color: #E2EBFA;\n",
              "      box-shadow: 0px 1px 2px rgba(60, 64, 67, 0.3), 0px 1px 3px 1px rgba(60, 64, 67, 0.15);\n",
              "      fill: #174EA6;\n",
              "    }\n",
              "\n",
              "    [theme=dark] .colab-df-convert {\n",
              "      background-color: #3B4455;\n",
              "      fill: #D2E3FC;\n",
              "    }\n",
              "\n",
              "    [theme=dark] .colab-df-convert:hover {\n",
              "      background-color: #434B5C;\n",
              "      box-shadow: 0px 1px 3px 1px rgba(0, 0, 0, 0.15);\n",
              "      filter: drop-shadow(0px 1px 2px rgba(0, 0, 0, 0.3));\n",
              "      fill: #FFFFFF;\n",
              "    }\n",
              "  </style>\n",
              "\n",
              "      <script>\n",
              "        const buttonEl =\n",
              "          document.querySelector('#df-dc065745-e606-40d1-a327-03048d3907ee button.colab-df-convert');\n",
              "        buttonEl.style.display =\n",
              "          google.colab.kernel.accessAllowed ? 'block' : 'none';\n",
              "\n",
              "        async function convertToInteractive(key) {\n",
              "          const element = document.querySelector('#df-dc065745-e606-40d1-a327-03048d3907ee');\n",
              "          const dataTable =\n",
              "            await google.colab.kernel.invokeFunction('convertToInteractive',\n",
              "                                                     [key], {});\n",
              "          if (!dataTable) return;\n",
              "\n",
              "          const docLinkHtml = 'Like what you see? Visit the ' +\n",
              "            '<a target=\"_blank\" href=https://colab.research.google.com/notebooks/data_table.ipynb>data table notebook</a>'\n",
              "            + ' to learn more about interactive tables.';\n",
              "          element.innerHTML = '';\n",
              "          dataTable['output_type'] = 'display_data';\n",
              "          await google.colab.output.renderOutput(dataTable, element);\n",
              "          const docLink = document.createElement('div');\n",
              "          docLink.innerHTML = docLinkHtml;\n",
              "          element.appendChild(docLink);\n",
              "        }\n",
              "      </script>\n",
              "    </div>\n",
              "  </div>\n",
              "  "
            ],
            "text/plain": [
              "              0\n",
              "0   3421.333008\n",
              "1   3349.463867\n",
              "2   3328.709961\n",
              "3   3329.249023\n",
              "4   3238.881836\n",
              "..          ...\n",
              "75  2114.317383\n",
              "76  2724.540039\n",
              "77  2556.254883\n",
              "78  1916.452148\n",
              "79  -336.940430\n",
              "\n",
              "[80 rows x 1 columns]"
            ]
          },
          "execution_count": 247,
          "metadata": {},
          "output_type": "execute_result"
        }
      ],
      "source": [
        "pd.DataFrame(inv_scale_yhat)"
      ]
    },
    {
      "cell_type": "code",
      "execution_count": null,
      "metadata": {
        "colab": {
          "base_uri": "https://localhost:8080/",
          "height": 112
        },
        "id": "qLB71nNNbCSg",
        "outputId": "b09c4bb5-2380-470b-9969-c352abce9e98"
      },
      "outputs": [
        {
          "data": {
            "text/html": [
              "\n",
              "  <div id=\"df-46056847-f1f4-483d-9e7e-66d0d8825ea2\">\n",
              "    <div class=\"colab-df-container\">\n",
              "      <div>\n",
              "<style scoped>\n",
              "    .dataframe tbody tr th:only-of-type {\n",
              "        vertical-align: middle;\n",
              "    }\n",
              "\n",
              "    .dataframe tbody tr th {\n",
              "        vertical-align: top;\n",
              "    }\n",
              "\n",
              "    .dataframe thead th {\n",
              "        text-align: right;\n",
              "    }\n",
              "</style>\n",
              "<table border=\"1\" class=\"dataframe\">\n",
              "  <thead>\n",
              "    <tr style=\"text-align: right;\">\n",
              "      <th></th>\n",
              "      <th>0</th>\n",
              "    </tr>\n",
              "  </thead>\n",
              "  <tbody>\n",
              "    <tr>\n",
              "      <th>0</th>\n",
              "      <td>16090.043945</td>\n",
              "    </tr>\n",
              "    <tr>\n",
              "      <th>1</th>\n",
              "      <td>17022.681641</td>\n",
              "    </tr>\n",
              "  </tbody>\n",
              "</table>\n",
              "</div>\n",
              "      <button class=\"colab-df-convert\" onclick=\"convertToInteractive('df-46056847-f1f4-483d-9e7e-66d0d8825ea2')\"\n",
              "              title=\"Convert this dataframe to an interactive table.\"\n",
              "              style=\"display:none;\">\n",
              "        \n",
              "  <svg xmlns=\"http://www.w3.org/2000/svg\" height=\"24px\"viewBox=\"0 0 24 24\"\n",
              "       width=\"24px\">\n",
              "    <path d=\"M0 0h24v24H0V0z\" fill=\"none\"/>\n",
              "    <path d=\"M18.56 5.44l.94 2.06.94-2.06 2.06-.94-2.06-.94-.94-2.06-.94 2.06-2.06.94zm-11 1L8.5 8.5l.94-2.06 2.06-.94-2.06-.94L8.5 2.5l-.94 2.06-2.06.94zm10 10l.94 2.06.94-2.06 2.06-.94-2.06-.94-.94-2.06-.94 2.06-2.06.94z\"/><path d=\"M17.41 7.96l-1.37-1.37c-.4-.4-.92-.59-1.43-.59-.52 0-1.04.2-1.43.59L10.3 9.45l-7.72 7.72c-.78.78-.78 2.05 0 2.83L4 21.41c.39.39.9.59 1.41.59.51 0 1.02-.2 1.41-.59l7.78-7.78 2.81-2.81c.8-.78.8-2.07 0-2.86zM5.41 20L4 18.59l7.72-7.72 1.47 1.35L5.41 20z\"/>\n",
              "  </svg>\n",
              "      </button>\n",
              "      \n",
              "  <style>\n",
              "    .colab-df-container {\n",
              "      display:flex;\n",
              "      flex-wrap:wrap;\n",
              "      gap: 12px;\n",
              "    }\n",
              "\n",
              "    .colab-df-convert {\n",
              "      background-color: #E8F0FE;\n",
              "      border: none;\n",
              "      border-radius: 50%;\n",
              "      cursor: pointer;\n",
              "      display: none;\n",
              "      fill: #1967D2;\n",
              "      height: 32px;\n",
              "      padding: 0 0 0 0;\n",
              "      width: 32px;\n",
              "    }\n",
              "\n",
              "    .colab-df-convert:hover {\n",
              "      background-color: #E2EBFA;\n",
              "      box-shadow: 0px 1px 2px rgba(60, 64, 67, 0.3), 0px 1px 3px 1px rgba(60, 64, 67, 0.15);\n",
              "      fill: #174EA6;\n",
              "    }\n",
              "\n",
              "    [theme=dark] .colab-df-convert {\n",
              "      background-color: #3B4455;\n",
              "      fill: #D2E3FC;\n",
              "    }\n",
              "\n",
              "    [theme=dark] .colab-df-convert:hover {\n",
              "      background-color: #434B5C;\n",
              "      box-shadow: 0px 1px 3px 1px rgba(0, 0, 0, 0.15);\n",
              "      filter: drop-shadow(0px 1px 2px rgba(0, 0, 0, 0.3));\n",
              "      fill: #FFFFFF;\n",
              "    }\n",
              "  </style>\n",
              "\n",
              "      <script>\n",
              "        const buttonEl =\n",
              "          document.querySelector('#df-46056847-f1f4-483d-9e7e-66d0d8825ea2 button.colab-df-convert');\n",
              "        buttonEl.style.display =\n",
              "          google.colab.kernel.accessAllowed ? 'block' : 'none';\n",
              "\n",
              "        async function convertToInteractive(key) {\n",
              "          const element = document.querySelector('#df-46056847-f1f4-483d-9e7e-66d0d8825ea2');\n",
              "          const dataTable =\n",
              "            await google.colab.kernel.invokeFunction('convertToInteractive',\n",
              "                                                     [key], {});\n",
              "          if (!dataTable) return;\n",
              "\n",
              "          const docLinkHtml = 'Like what you see? Visit the ' +\n",
              "            '<a target=\"_blank\" href=https://colab.research.google.com/notebooks/data_table.ipynb>data table notebook</a>'\n",
              "            + ' to learn more about interactive tables.';\n",
              "          element.innerHTML = '';\n",
              "          dataTable['output_type'] = 'display_data';\n",
              "          await google.colab.output.renderOutput(dataTable, element);\n",
              "          const docLink = document.createElement('div');\n",
              "          docLink.innerHTML = docLinkHtml;\n",
              "          element.appendChild(docLink);\n",
              "        }\n",
              "      </script>\n",
              "    </div>\n",
              "  </div>\n",
              "  "
            ],
            "text/plain": [
              "              0\n",
              "0  16090.043945\n",
              "1  17022.681641"
            ]
          },
          "execution_count": 607,
          "metadata": {},
          "output_type": "execute_result"
        }
      ],
      "source": [
        "pd.DataFrame(inv_scale_yhat)"
      ]
    },
    {
      "cell_type": "code",
      "execution_count": null,
      "metadata": {
        "colab": {
          "base_uri": "https://localhost:8080/",
          "height": 112
        },
        "id": "XDNS59TIraW1",
        "outputId": "8fd49eeb-334f-46d6-def7-c77d0d51a91b"
      },
      "outputs": [
        {
          "data": {
            "text/html": [
              "\n",
              "  <div id=\"df-5a218e40-6b7d-46b8-85b7-5819009c81c5\">\n",
              "    <div class=\"colab-df-container\">\n",
              "      <div>\n",
              "<style scoped>\n",
              "    .dataframe tbody tr th:only-of-type {\n",
              "        vertical-align: middle;\n",
              "    }\n",
              "\n",
              "    .dataframe tbody tr th {\n",
              "        vertical-align: top;\n",
              "    }\n",
              "\n",
              "    .dataframe thead th {\n",
              "        text-align: right;\n",
              "    }\n",
              "</style>\n",
              "<table border=\"1\" class=\"dataframe\">\n",
              "  <thead>\n",
              "    <tr style=\"text-align: right;\">\n",
              "      <th></th>\n",
              "      <th>0</th>\n",
              "    </tr>\n",
              "  </thead>\n",
              "  <tbody>\n",
              "    <tr>\n",
              "      <th>0</th>\n",
              "      <td>16130.116211</td>\n",
              "    </tr>\n",
              "    <tr>\n",
              "      <th>1</th>\n",
              "      <td>17011.335938</td>\n",
              "    </tr>\n",
              "  </tbody>\n",
              "</table>\n",
              "</div>\n",
              "      <button class=\"colab-df-convert\" onclick=\"convertToInteractive('df-5a218e40-6b7d-46b8-85b7-5819009c81c5')\"\n",
              "              title=\"Convert this dataframe to an interactive table.\"\n",
              "              style=\"display:none;\">\n",
              "        \n",
              "  <svg xmlns=\"http://www.w3.org/2000/svg\" height=\"24px\"viewBox=\"0 0 24 24\"\n",
              "       width=\"24px\">\n",
              "    <path d=\"M0 0h24v24H0V0z\" fill=\"none\"/>\n",
              "    <path d=\"M18.56 5.44l.94 2.06.94-2.06 2.06-.94-2.06-.94-.94-2.06-.94 2.06-2.06.94zm-11 1L8.5 8.5l.94-2.06 2.06-.94-2.06-.94L8.5 2.5l-.94 2.06-2.06.94zm10 10l.94 2.06.94-2.06 2.06-.94-2.06-.94-.94-2.06-.94 2.06-2.06.94z\"/><path d=\"M17.41 7.96l-1.37-1.37c-.4-.4-.92-.59-1.43-.59-.52 0-1.04.2-1.43.59L10.3 9.45l-7.72 7.72c-.78.78-.78 2.05 0 2.83L4 21.41c.39.39.9.59 1.41.59.51 0 1.02-.2 1.41-.59l7.78-7.78 2.81-2.81c.8-.78.8-2.07 0-2.86zM5.41 20L4 18.59l7.72-7.72 1.47 1.35L5.41 20z\"/>\n",
              "  </svg>\n",
              "      </button>\n",
              "      \n",
              "  <style>\n",
              "    .colab-df-container {\n",
              "      display:flex;\n",
              "      flex-wrap:wrap;\n",
              "      gap: 12px;\n",
              "    }\n",
              "\n",
              "    .colab-df-convert {\n",
              "      background-color: #E8F0FE;\n",
              "      border: none;\n",
              "      border-radius: 50%;\n",
              "      cursor: pointer;\n",
              "      display: none;\n",
              "      fill: #1967D2;\n",
              "      height: 32px;\n",
              "      padding: 0 0 0 0;\n",
              "      width: 32px;\n",
              "    }\n",
              "\n",
              "    .colab-df-convert:hover {\n",
              "      background-color: #E2EBFA;\n",
              "      box-shadow: 0px 1px 2px rgba(60, 64, 67, 0.3), 0px 1px 3px 1px rgba(60, 64, 67, 0.15);\n",
              "      fill: #174EA6;\n",
              "    }\n",
              "\n",
              "    [theme=dark] .colab-df-convert {\n",
              "      background-color: #3B4455;\n",
              "      fill: #D2E3FC;\n",
              "    }\n",
              "\n",
              "    [theme=dark] .colab-df-convert:hover {\n",
              "      background-color: #434B5C;\n",
              "      box-shadow: 0px 1px 3px 1px rgba(0, 0, 0, 0.15);\n",
              "      filter: drop-shadow(0px 1px 2px rgba(0, 0, 0, 0.3));\n",
              "      fill: #FFFFFF;\n",
              "    }\n",
              "  </style>\n",
              "\n",
              "      <script>\n",
              "        const buttonEl =\n",
              "          document.querySelector('#df-5a218e40-6b7d-46b8-85b7-5819009c81c5 button.colab-df-convert');\n",
              "        buttonEl.style.display =\n",
              "          google.colab.kernel.accessAllowed ? 'block' : 'none';\n",
              "\n",
              "        async function convertToInteractive(key) {\n",
              "          const element = document.querySelector('#df-5a218e40-6b7d-46b8-85b7-5819009c81c5');\n",
              "          const dataTable =\n",
              "            await google.colab.kernel.invokeFunction('convertToInteractive',\n",
              "                                                     [key], {});\n",
              "          if (!dataTable) return;\n",
              "\n",
              "          const docLinkHtml = 'Like what you see? Visit the ' +\n",
              "            '<a target=\"_blank\" href=https://colab.research.google.com/notebooks/data_table.ipynb>data table notebook</a>'\n",
              "            + ' to learn more about interactive tables.';\n",
              "          element.innerHTML = '';\n",
              "          dataTable['output_type'] = 'display_data';\n",
              "          await google.colab.output.renderOutput(dataTable, element);\n",
              "          const docLink = document.createElement('div');\n",
              "          docLink.innerHTML = docLinkHtml;\n",
              "          element.appendChild(docLink);\n",
              "        }\n",
              "      </script>\n",
              "    </div>\n",
              "  </div>\n",
              "  "
            ],
            "text/plain": [
              "              0\n",
              "0  16130.116211\n",
              "1  17011.335938"
            ]
          },
          "execution_count": 566,
          "metadata": {},
          "output_type": "execute_result"
        }
      ],
      "source": [
        "pd.DataFrame(inv_scale_yhat)"
      ]
    },
    {
      "cell_type": "code",
      "execution_count": 124,
      "metadata": {
        "id": "TqftbPYxvEE5"
      },
      "outputs": [],
      "source": [
        "# Invert the Differencing for actual \n",
        "df = pd.DataFrame(series.iloc[-len(test)-steps_ahead:,-1])\n",
        "n_vars = df.shape[1]\n",
        "columns = df.columns\n",
        "cols, names = list(), list()\n",
        "for i in range(0, steps_ahead):\n",
        "    cols.append(df.shift(-i))\n",
        "    if i == 0:\n",
        "        names += [('%s(t)' % (columns[j])) for j in range(n_vars)]\n",
        "    else:\n",
        "        names += [('%s(t+%d)' % (columns[j], i)) for j in range(n_vars)]\n",
        "# put it all together\n",
        "agg = pd.concat(cols, axis=1)\n",
        "agg.columns = names\n",
        "agg.dropna(inplace=True)\n",
        "agg = agg.iloc[:-1,0]\n",
        "#drop all the variables that we don't want to predict\n",
        "#agg.drop(columns=vars_to_drop, inplace=True)\n",
        "agg = agg.to_numpy()\n",
        "inv_y = np.add(inv_scale_y,agg)"
      ]
    },
    {
      "cell_type": "markdown",
      "metadata": {
        "id": "OWAqc4iTkxvn"
      },
      "source": [
        "* To invert the differencing of time series for multistep prediction:<br/>\n",
        "The equation is given by $$\n",
        "\\hat x_{t+h|t}=x_t+(\\widehat{\\Delta x_{t+1}}+\\dots+\\widehat{\\Delta x_{t+h}}).\n",
        "$$ <br/>\n",
        "where: <br/>\n",
        "$\\hat x_{t+h|t}$ is the predicted value of the time series x at time $t$+h, given the value of the time series at time $t$.<br/>\n",
        "$x_t$ is the value of the time series $x$ at time t.<br/>\n",
        "${\\Delta x_{t+1}}$ is the difference between the value of the time series $x$ at time $t+1$ and the value of the time series at time t.<br/>\n",
        "${\\Delta x_{t+2}}$ is the difference between the value of the time series $x$ at time $t+2$ and the value of the time series at time $t+1$.<br/>\n",
        "${\\Delta x_{t+h}}$ is the difference between the value of the time series $x$ at time $t+h$ and the value of the time series at time $t+h-1$."
      ]
    },
    {
      "cell_type": "code",
      "execution_count": null,
      "metadata": {
        "id": "DSJErK0WDkX4"
      },
      "outputs": [],
      "source": [
        "# Invert the Differencing for forecast\n",
        "# to invert the diffrenced predicted values,the the predicted differenced value is added\n",
        "# to previous predicted diffenced values and last available observation in test set(Xt) as explained above\n",
        "originalSeries_supervised = series_to_supervised(series, series.columns, n_in=timesteps, n_out=steps_ahead, dropnan=True)\n",
        "\n",
        "current_timestep = 1\n",
        "# actual value of oil rate at current time step\n",
        "# steps_ahead = 4\n",
        "#drop all the variables that we don't want to predict\n",
        "vars_y = originalSeries_supervised.columns[-steps_ahead*len(series.columns):]\n",
        "vars_to_drop = [col for col in vars_y if col.startswith(vars_name_to_drop[0])]\n",
        "originalSeries_supervised.drop(columns=vars_to_drop, inplace=True)\n",
        "originalSeries_xt = originalSeries_supervised.iloc[-len(test):,-steps_ahead-2]\n",
        "\n",
        "\n",
        "# A predicted value at any given step ahead is a result of the previous cumulative differnced predicted values and current time step\n",
        "col = []\n",
        "#inv_yhat_cum = np.cumsum(inv_scale_yhat, axis=1)\n",
        "inv_yhat_cum = inv_scale_yhat\n",
        "\n",
        "for i in range(n_obs):\n",
        "    #.ravel() flattens the series into a one-dimensional array\n",
        "    inverted_diff_yhat = originalSeries_xt[-n_obs:].ravel()[i] + inv_yhat_cum[i]\n",
        "    col.append(inverted_diff_yhat)\n",
        "#col = pd.DataFrame.from_records(col) # creates a DataFrame from a list of records\n",
        "col = pd.DataFrame(col)\n",
        "#col.columns = pd.RangeIndex(start=1, stop=steps_ahead+1, step=1)\n",
        "inv_yhat = col.values.ravel() # convert df to NumpyArray"
      ]
    },
    {
      "cell_type": "code",
      "execution_count": 125,
      "metadata": {
        "id": "Si8_sP7AeBNV"
      },
      "outputs": [],
      "source": [
        "inv_yhat = np.add(inv_scale_yhat,agg)"
      ]
    },
    {
      "cell_type": "code",
      "execution_count": 126,
      "metadata": {
        "colab": {
          "base_uri": "https://localhost:8080/"
        },
        "id": "alOk-YutHixs",
        "outputId": "faa6eec4-6dba-4e14-d783-01d4ea942fc3"
      },
      "outputs": [
        {
          "output_type": "execute_result",
          "data": {
            "text/plain": [
              "array([1902.73060461, 2717.82716026,  672.44365125,   61.70304199,\n",
              "       3062.1313925 , 1036.43499067, 2522.33984681,  885.22794384,\n",
              "       3063.89253947, 3337.49930057])"
            ]
          },
          "metadata": {},
          "execution_count": 126
        }
      ],
      "source": [
        "inv_y[:10]"
      ]
    },
    {
      "cell_type": "code",
      "source": [
        "inv_yhat[:10] "
      ],
      "metadata": {
        "id": "ZfNFc19AxlJB",
        "outputId": "52d554ad-2941-4ea7-9869-52a0ead5c519",
        "colab": {
          "base_uri": "https://localhost:8080/"
        }
      },
      "execution_count": 127,
      "outputs": [
        {
          "output_type": "execute_result",
          "data": {
            "text/plain": [
              "array([2164.42402892, 3171.03431554,  857.81251182,  362.32646375,\n",
              "       3367.9969873 , 1618.67533782, 3242.31682661, 1717.44726869,\n",
              "       3491.30704541, 3167.62691447])"
            ]
          },
          "metadata": {},
          "execution_count": 127
        }
      ]
    },
    {
      "cell_type": "code",
      "source": [
        "inv_yhat[:10] "
      ],
      "metadata": {
        "colab": {
          "base_uri": "https://localhost:8080/"
        },
        "id": "EUnbXmPJligj",
        "outputId": "f3be5b4e-4418-4713-fc65-a1d5ae5a5291"
      },
      "execution_count": 106,
      "outputs": [
        {
          "output_type": "execute_result",
          "data": {
            "text/plain": [
              "array([3607.93342036, 2350.85371642, 3257.16322179, 1183.83887901,\n",
              "        126.939745  , 3499.08097167, 1843.84037688, 3750.63127973,\n",
              "       1881.272464  , 3321.59024853])"
            ]
          },
          "metadata": {},
          "execution_count": 106
        }
      ]
    },
    {
      "cell_type": "code",
      "source": [
        "inv_yhat[:10] "
      ],
      "metadata": {
        "colab": {
          "base_uri": "https://localhost:8080/"
        },
        "id": "qnEwrbE7dBzK",
        "outputId": "4c98fccd-662d-4804-eee1-7b7aecbcda59"
      },
      "execution_count": 84,
      "outputs": [
        {
          "output_type": "execute_result",
          "data": {
            "text/plain": [
              "array([3590.59357661, 2211.30977111, 3251.55189367, 1095.77833214,\n",
              "        381.24345593, 3312.50870605, 1757.93412688, 3445.83049848,\n",
              "       1839.522464  , 3686.42227978])"
            ]
          },
          "metadata": {},
          "execution_count": 84
        }
      ]
    },
    {
      "cell_type": "code",
      "source": [
        "inv_yhat[:10] "
      ],
      "metadata": {
        "colab": {
          "base_uri": "https://localhost:8080/"
        },
        "id": "PdEkT5sNTIcw",
        "outputId": "34d0d25f-d9f1-44e4-d0e1-f6801687cb59"
      },
      "execution_count": 59,
      "outputs": [
        {
          "output_type": "execute_result",
          "data": {
            "text/plain": [
              "array([3594.66193598, 2206.2423883 , 3173.63001867, 1143.65919151,\n",
              "        407.15947156, 3368.39737792, 1757.37943938, 3290.52971723,\n",
              "       1995.08789369, 3455.65079541])"
            ]
          },
          "metadata": {},
          "execution_count": 59
        }
      ]
    },
    {
      "cell_type": "code",
      "source": [
        "inv_yhat[:10] "
      ],
      "metadata": {
        "colab": {
          "base_uri": "https://localhost:8080/"
        },
        "id": "oJvNG5uGK-CL",
        "outputId": "3f2b8f8e-cf9d-4b5f-8f40-d9098bd95db1"
      },
      "execution_count": 48,
      "outputs": [
        {
          "output_type": "execute_result",
          "data": {
            "text/plain": [
              "array([3626.33967036, 2268.59590392, 3209.46400304, 1201.12501182,\n",
              "        361.57548718, 3662.83683105, 1867.23881438, 3091.02581098,\n",
              "       2142.52344056, 3604.08829541])"
            ]
          },
          "metadata": {},
          "execution_count": 48
        }
      ]
    },
    {
      "cell_type": "code",
      "source": [
        "inv_yhat[:10] "
      ],
      "metadata": {
        "colab": {
          "base_uri": "https://localhost:8080/"
        },
        "id": "4ksoIwntDr-m",
        "outputId": "8574d814-18b3-4a2e-8c87-038da8de7b5d"
      },
      "execution_count": 31,
      "outputs": [
        {
          "output_type": "execute_result",
          "data": {
            "text/plain": [
              "array([3434.46857661, 3391.58027892, 1893.50794836, 2708.45704307,\n",
              "        663.33622937,   53.39640136, 3052.82279875, 1027.26409223,\n",
              "       2513.01269837,  876.16739697])"
            ]
          },
          "metadata": {},
          "execution_count": 31
        }
      ]
    },
    {
      "cell_type": "code",
      "source": [
        "inv_yhat[:10] "
      ],
      "metadata": {
        "colab": {
          "base_uri": "https://localhost:8080/"
        },
        "id": "9Cp8I88cA6f_",
        "outputId": "5926c5a5-0758-4344-b082-01a893b0a5db"
      },
      "execution_count": 143,
      "outputs": [
        {
          "output_type": "execute_result",
          "data": {
            "text/plain": [
              "array([3616.66779536, 2901.4142633 , 2707.84290929, 2021.48536339,\n",
              "        415.11064343, 2041.42862792, 2893.83940032, 1935.12932661,\n",
              "       2185.30762025, 2642.25040478])"
            ]
          },
          "metadata": {},
          "execution_count": 143
        }
      ]
    },
    {
      "cell_type": "code",
      "source": [
        "inv_yhat[:10] "
      ],
      "metadata": {
        "colab": {
          "base_uri": "https://localhost:8080/"
        },
        "id": "iU8EPrjW9-WB",
        "outputId": "77946584-1d51-49e0-c189-753a6b043f1d"
      },
      "execution_count": 54,
      "outputs": [
        {
          "output_type": "execute_result",
          "data": {
            "text/plain": [
              "array([3574.35529536, 2202.53340392, 3130.52064367,  958.16505089,\n",
              "          4.90165906, 2767.44425292, 1848.91557219, 3947.85198286,\n",
              "       1786.16992494, 3531.10392041])"
            ]
          },
          "metadata": {},
          "execution_count": 54
        }
      ]
    },
    {
      "cell_type": "code",
      "source": [
        "inv_yhat[:10] "
      ],
      "metadata": {
        "colab": {
          "base_uri": "https://localhost:8080/"
        },
        "id": "Tm_8nWqG1pv1",
        "outputId": "be20d3f0-c336-4dd2-a218-3f1c7aa15bc0"
      },
      "execution_count": 46,
      "outputs": [
        {
          "output_type": "execute_result",
          "data": {
            "text/plain": [
              "array([3636.01545161, 2339.25898986, 3426.80189367, 1147.14063682,\n",
              "        288.00908093, 3820.93644042, 2009.1470175 , 3904.13713911,\n",
              "       1911.25879212, 3662.91837353])"
            ]
          },
          "metadata": {},
          "execution_count": 46
        }
      ]
    },
    {
      "cell_type": "code",
      "execution_count": null,
      "metadata": {
        "colab": {
          "base_uri": "https://localhost:8080/"
        },
        "id": "xvxvb4BhFVeh",
        "outputId": "9f0a8759-a30c-4801-9a2f-fbc4b05241c6"
      },
      "outputs": [
        {
          "output_type": "execute_result",
          "data": {
            "text/plain": [
              "array([3381.95099848, 1601.08223205, 3568.13392492, -203.34080849,\n",
              "       -564.89033313, 5612.03995605, 2615.65483   , 3544.03557661,\n",
              "       1119.57129212, 3880.51602978])"
            ]
          },
          "metadata": {},
          "execution_count": 29
        }
      ],
      "source": [
        "inv_yhat[:10] # 1 time steps # on stream choke"
      ]
    },
    {
      "cell_type": "code",
      "execution_count": null,
      "metadata": {
        "colab": {
          "base_uri": "https://localhost:8080/"
        },
        "id": "6CotdhM7B70z",
        "outputId": "6a99acda-ab09-4fd0-b335-e8c6048f31f7"
      },
      "outputs": [
        {
          "data": {
            "text/plain": [
              "array([3362.01447504, 3014.15742736, 1575.44740148, 2900.26856651,\n",
              "        196.33037   ,  969.9657373 , 4537.10893157, 1709.12542036,\n",
              "       2967.28906556, 1227.26407666])"
            ]
          },
          "execution_count": 225,
          "metadata": {},
          "output_type": "execute_result"
        }
      ],
      "source": [
        "inv_yhat[:10] # 4 time steps # on stream choke"
      ]
    },
    {
      "cell_type": "code",
      "execution_count": null,
      "metadata": {
        "colab": {
          "base_uri": "https://localhost:8080/"
        },
        "id": "Oj0iYlicucxa",
        "outputId": "0c11e428-80fe-425a-bbd8-28da6cbd8a0c"
      },
      "outputs": [
        {
          "data": {
            "text/plain": [
              "array([3357.58478754, 3198.6486383 , 1894.60365148, 2831.45606651,\n",
              "        624.30595593,  780.4735498 , 3790.01518157, 1856.40471723,\n",
              "       3131.147464  , 1301.48477978])"
            ]
          },
          "execution_count": 204,
          "metadata": {},
          "output_type": "execute_result"
        }
      ],
      "source": [
        "inv_yhat[:10]# 4 time steps # on stream"
      ]
    },
    {
      "cell_type": "code",
      "source": [
        "r2_score(inv_y,inv_yhat)"
      ],
      "metadata": {
        "colab": {
          "base_uri": "https://localhost:8080/"
        },
        "id": "QA3lZJw-LHgv",
        "outputId": "434916d4-3b5a-4eb7-c550-bca612ede6d0"
      },
      "execution_count": 128,
      "outputs": [
        {
          "output_type": "execute_result",
          "data": {
            "text/plain": [
              "0.6959687048010035"
            ]
          },
          "metadata": {},
          "execution_count": 128
        }
      ]
    },
    {
      "cell_type": "code",
      "execution_count": 132,
      "metadata": {
        "colab": {
          "base_uri": "https://localhost:8080/"
        },
        "id": "8UT3jqDxPF9e",
        "outputId": "03975d37-d150-49ad-f9a0-132d8001feb9"
      },
      "outputs": [
        {
          "output_type": "execute_result",
          "data": {
            "text/plain": [
              "11.440434364818755"
            ]
          },
          "metadata": {},
          "execution_count": 132
        }
      ],
      "source": [
        "wMAPE(inv_y,inv_yhat)"
      ]
    },
    {
      "cell_type": "code",
      "execution_count": null,
      "metadata": {
        "colab": {
          "base_uri": "https://localhost:8080/"
        },
        "id": "8xw8O7CoPQAG",
        "outputId": "3cdff192-b9ed-42ef-f99f-c96cbd884cab"
      },
      "outputs": [
        {
          "data": {
            "text/plain": [
              "((369,), (369,))"
            ]
          },
          "execution_count": 42,
          "metadata": {},
          "output_type": "execute_result"
        }
      ],
      "source": [
        "inv_y.shape, inv_yhat.shape"
      ]
    },
    {
      "cell_type": "code",
      "execution_count": null,
      "metadata": {
        "colab": {
          "base_uri": "https://localhost:8080/"
        },
        "id": "nqXWUX41YtDY",
        "outputId": "e3cdcede-ed29-465a-ac7f-70fda875f54a"
      },
      "outputs": [
        {
          "name": "stdout",
          "output_type": "stream",
          "text": [
            "Test RMSE: 449.03130\n",
            "Test RMSPE: 19544194831094544.00000\n",
            "Test MAE: 213.63827\n",
            "Test MAPE: 1353133045674894.00000\n",
            "Test r2: 0.60894\n",
            "Test wMAPE: 9.53361 \n",
            "Test wMAPE: 14.70437 \n"
          ]
        }
      ],
      "source": [
        "# Performance evaluation\n",
        "\n",
        "rmse_test = sqrt(mean_squared_error(inv_y, inv_yhat))\n",
        "print('Test RMSE: %.5f' % rmse_test)\n",
        "#report performance using RMSPE\n",
        "RMSPE_test = RMSPE(inv_y, inv_yhat)\n",
        "print('Test RMSPE: %.5f' % RMSPE_test)\n",
        "MAE_test = mean_absolute_error(inv_y, inv_yhat)\n",
        "print('Test MAE: %.5f' % MAE_test)\n",
        "MAPE_test = MAPE(inv_y, inv_yhat)\n",
        "print('Test MAPE: %.5f' % MAPE_test)\n",
        "r2 = r2_score(inv_y, inv_yhat)\n",
        "print('Test r2: %.5f' % r2)\n",
        "wMAPE_test = wMAPE(inv_y, inv_yhat)\n",
        "print('Test wMAPE: %.5f ' % wMAPE_test)\n",
        "SMAPE_test = SMAPE(inv_y, inv_yhat)\n",
        "print('Test wMAPE: %.5f ' % SMAPE_test)"
      ]
    },
    {
      "cell_type": "code",
      "execution_count": null,
      "metadata": {
        "colab": {
          "base_uri": "https://localhost:8080/",
          "height": 235
        },
        "id": "51SnY7n5e0nx",
        "outputId": "1f038602-a51a-4b26-8c5f-0bfb86cabda4"
      },
      "outputs": [
        {
          "ename": "IndexError",
          "evalue": "ignored",
          "output_type": "error",
          "traceback": [
            "\u001b[0;31m---------------------------------------------------------------------------\u001b[0m",
            "\u001b[0;31mIndexError\u001b[0m                                Traceback (most recent call last)",
            "\u001b[0;32m<ipython-input-44-bef913473e92>\u001b[0m in \u001b[0;36m<module>\u001b[0;34m\u001b[0m\n\u001b[1;32m      4\u001b[0m \u001b[0;34m\u001b[0m\u001b[0m\n\u001b[1;32m      5\u001b[0m \u001b[0;32mfor\u001b[0m \u001b[0mi\u001b[0m \u001b[0;32min\u001b[0m \u001b[0mrange\u001b[0m\u001b[0;34m(\u001b[0m\u001b[0mtest_y\u001b[0m\u001b[0;34m.\u001b[0m\u001b[0mshape\u001b[0m\u001b[0;34m[\u001b[0m\u001b[0;36m1\u001b[0m\u001b[0;34m]\u001b[0m\u001b[0;34m)\u001b[0m\u001b[0;34m:\u001b[0m\u001b[0;34m\u001b[0m\u001b[0;34m\u001b[0m\u001b[0m\n\u001b[0;32m----> 6\u001b[0;31m     \u001b[0mresult_rmse\u001b[0m \u001b[0;34m=\u001b[0m \u001b[0msqrt\u001b[0m\u001b[0;34m(\u001b[0m\u001b[0mmean_squared_error\u001b[0m\u001b[0;34m(\u001b[0m\u001b[0minv_y\u001b[0m\u001b[0;34m[\u001b[0m\u001b[0;34m:\u001b[0m\u001b[0;34m,\u001b[0m\u001b[0mi\u001b[0m\u001b[0;34m]\u001b[0m\u001b[0;34m,\u001b[0m \u001b[0minv_yhat\u001b[0m\u001b[0;34m[\u001b[0m\u001b[0;34m:\u001b[0m\u001b[0;34m,\u001b[0m\u001b[0mi\u001b[0m\u001b[0;34m]\u001b[0m\u001b[0;34m)\u001b[0m\u001b[0;34m)\u001b[0m\u001b[0;34m\u001b[0m\u001b[0;34m\u001b[0m\u001b[0m\n\u001b[0m\u001b[1;32m      7\u001b[0m     \u001b[0mresult_RMSPE\u001b[0m \u001b[0;34m=\u001b[0m \u001b[0mRMSPE\u001b[0m\u001b[0;34m(\u001b[0m\u001b[0minv_y\u001b[0m\u001b[0;34m[\u001b[0m\u001b[0;34m:\u001b[0m\u001b[0;34m,\u001b[0m\u001b[0mi\u001b[0m\u001b[0;34m]\u001b[0m\u001b[0;34m,\u001b[0m \u001b[0minv_yhat\u001b[0m\u001b[0;34m[\u001b[0m\u001b[0;34m:\u001b[0m\u001b[0;34m,\u001b[0m\u001b[0mi\u001b[0m\u001b[0;34m]\u001b[0m\u001b[0;34m)\u001b[0m\u001b[0;34m\u001b[0m\u001b[0;34m\u001b[0m\u001b[0m\n\u001b[1;32m      8\u001b[0m     \u001b[0mresult_MAE\u001b[0m \u001b[0;34m=\u001b[0m \u001b[0mmean_absolute_error\u001b[0m\u001b[0;34m(\u001b[0m\u001b[0minv_y\u001b[0m\u001b[0;34m[\u001b[0m\u001b[0;34m:\u001b[0m\u001b[0;34m,\u001b[0m\u001b[0mi\u001b[0m\u001b[0;34m]\u001b[0m\u001b[0;34m,\u001b[0m \u001b[0minv_yhat\u001b[0m\u001b[0;34m[\u001b[0m\u001b[0;34m:\u001b[0m\u001b[0;34m,\u001b[0m\u001b[0mi\u001b[0m\u001b[0;34m]\u001b[0m\u001b[0;34m)\u001b[0m\u001b[0;34m\u001b[0m\u001b[0;34m\u001b[0m\u001b[0m\n",
            "\u001b[0;31mIndexError\u001b[0m: too many indices for array: array is 1-dimensional, but 2 were indexed"
          ]
        }
      ],
      "source": [
        "# Performance evaluation\n",
        "rmse_test, RMSPE_test, MAE_test, MAPE_test, r2_test, wMAPE_test, SMAPE_test  = [], [], [], [], [], [], []\n",
        "# calculate the score for each day\n",
        "\n",
        "for i in range(test_y.shape[1]):\n",
        "    result_rmse = sqrt(mean_squared_error(inv_y[:,i], inv_yhat[:,i]))\n",
        "    result_RMSPE = RMSPE(inv_y[:,i], inv_yhat[:,i])\n",
        "    result_MAE = mean_absolute_error(inv_y[:,i], inv_yhat[:,i])\n",
        "    result_MAPE = MAPE(inv_y[:,i], inv_yhat[:,i])\n",
        "    result_r2 = r2_score(inv_y[:,i], inv_yhat[:,i])\n",
        "    result_wMAPE = wMAPE(inv_y[:,i], inv_yhat[:,i])\n",
        "    result_SMAPE = SMAPE(inv_y[:,i], inv_yhat[:,i])\n",
        "\n",
        "    rmse_test.append(result_rmse)\n",
        "    RMSPE_test.append(result_RMSPE)\n",
        "    MAE_test.append(result_MAE)\n",
        "    MAPE_test.append(result_MAPE)\n",
        "    r2_test.append(result_r2)\n",
        "    wMAPE_test.append(result_wMAPE)\n",
        "    SMAPE_test.append(result_SMAPE)\n",
        "    \n",
        "## calculate overall score\n",
        "print(\"The Average scores for the vector output {} steps ahead:\\n\".format(steps_ahead))\n",
        "print('Test RMSE: %.5f' % np.mean(rmse_test))\n",
        "#print('Test RMSPE: %.5f' % np.mean(RMSPE_test)) because of that the denominator (actual) has some zero values\n",
        "print('Test MAE: %.5f' % np.mean(MAE_test))\n",
        "#print('Test MAPE: %.5f' % np.mean(MAPE_test)) because of that the denominator (actual) has some zero values\n",
        "print('Test r2: %.5f' % np.mean(r2_test))\n",
        "print('Test wMAPE: %.5f ' % np.mean(wMAPE_test))\n",
        "print('Test SMAPE: %.5f ' % np.mean(SMAPE_test))"
      ]
    },
    {
      "cell_type": "code",
      "execution_count": null,
      "metadata": {
        "id": "ef--j4gGOE6F"
      },
      "outputs": [],
      "source": [
        "Test RMSE: 555.56135\n",
        "Test MAE: 277.11301\n",
        "Test r2: 0.39641\n",
        "Test wMAPE: 12.32902 \n",
        "Test SMAPE: 17.45901"
      ]
    },
    {
      "cell_type": "code",
      "execution_count": null,
      "metadata": {
        "id": "H4KkEyXsJvDW"
      },
      "outputs": [],
      "source": [
        "# plot the scores for each time step of the multi-step forecast\n",
        "scores = pd.DataFrame({\"rmse_test\":rmse_test, \"MAE_test\":MAE_test, \"R-squared_test\":r2_test, \"wMAPE_test\":wMAPE_test, \"SMAPE_test\":SMAPE_test})\n",
        "\n",
        "# Reset the index, keeping the old index as a column\n",
        "scores = scores.reset_index(drop=False)\n",
        "\n",
        "# Set the 'index' column as the new index\n",
        "scores.index = scores['index'] + 1\n",
        "\n",
        "# Drop the old 'index' column\n",
        "scores = scores.drop(columns='index')\n",
        "\n",
        "data = scores.columns\n",
        "\n",
        "# Creating figure with two rows and one column\n",
        "fig, axs = plt.subplots(nrows=len(data), figsize=(17, 15))\n",
        "\n",
        "axs = axs.ravel()\n",
        "\n",
        "for id, column in enumerate(data):\n",
        "    # Set the x-axis limits\n",
        "    #axs[id].set_xlim(xmin=1, xmax= steps_ahead)\n",
        "    #print the name of the test on plot\n",
        "    axs[id].plot(scores[column])\n",
        "    # Add a title to the x-axis\n",
        "    axs[id].set_xlabel('Steps ahead',fontsize=10, labelpad=0.1)\n",
        "    axs[id].grid(True)\n",
        "    # Remove the horizontal grid lines\n",
        "    axs[id].grid(which='both', axis='y')\n",
        "    axs[id].xaxis.set_major_locator(plt.MultipleLocator(1))\n",
        "    axs[id].legend([column], loc='upper left', fontsize=15, handlelength=0, handletextpad=0, frameon=False)\n",
        "    \n",
        "plt.show()"
      ]
    },
    {
      "cell_type": "code",
      "execution_count": null,
      "metadata": {
        "id": "w-CDANaINC-c"
      },
      "outputs": [],
      "source": [
        "inv_yhat"
      ]
    },
    {
      "cell_type": "code",
      "execution_count": null,
      "metadata": {
        "id": "iHKnDMnFNdmw"
      },
      "outputs": [],
      "source": [
        "inv_yhat[-1]"
      ]
    },
    {
      "cell_type": "code",
      "execution_count": null,
      "metadata": {
        "id": "w1S1CN4BEWUe"
      },
      "outputs": [],
      "source": [
        "plt.plot(inv_yhat[-1], label = \"predicted\")\n",
        "plt.plot(inv_y[-1], label = \"actual\")"
      ]
    },
    {
      "cell_type": "code",
      "execution_count": null,
      "metadata": {
        "id": "M2CGD3H6NZoj"
      },
      "outputs": [],
      "source": [
        "plt.plot(inv_yhat.flatten(), label = \"predicted\")\n",
        "plt.plot(inv_y.flatten(), label = \"actual\")"
      ]
    },
    {
      "cell_type": "code",
      "execution_count": null,
      "metadata": {
        "id": "1GHomhZ5E3jc"
      },
      "outputs": [],
      "source": [
        "plt.plot(inv_yhat.flatten(), label = \"predicted\")\n",
        "plt.plot(inv_y.flatten(), label = \"actual\")"
      ]
    },
    {
      "cell_type": "code",
      "execution_count": null,
      "metadata": {
        "id": "doFyZoCCZ-ht"
      },
      "outputs": [],
      "source": [
        "# plot the last forecasted values on test set\n",
        "fig, ax = plt.subplots(1, 1, figsize=(18,6)) \n",
        "# Set the major locator for the x-axis\n",
        "x = list(range(1, len(inv_yhat[-1])+1))\n",
        "ax.xaxis.set_major_locator(plt.MultipleLocator(1))\n",
        "ax.plot(x, inv_yhat[-1], label = \"predicted\")\n",
        "ax.plot(x, inv_y[-1], label = \"actual\")\n",
        "ax.set_ylabel('Oil Rate', fontsize=15)\n",
        "ax.set_xlabel('Steps Ahead (Days)',fontsize=15)\n",
        "plt.legend(fontsize=15)\n",
        "plt.show()"
      ]
    },
    {
      "cell_type": "code",
      "execution_count": null,
      "metadata": {
        "id": "zZcZ-O1kL3Q5"
      },
      "outputs": [],
      "source": [
        "#comparing predictions and actual values\n",
        "act_pred = pd.DataFrame({\"actual\":inv_y.flatten(), \"prediction\":inv_yhat.flatten()})\n",
        "act_pred.head(5)"
      ]
    },
    {
      "cell_type": "code",
      "execution_count": null,
      "metadata": {
        "id": "7APsQRBRvRbx"
      },
      "outputs": [],
      "source": [
        "series_to_supervised(series, series.columns, n_in=2, n_out=steps_ahead, dropnan=True).iloc[-len(test):-len(test)+5]"
      ]
    },
    {
      "cell_type": "code",
      "execution_count": null,
      "metadata": {
        "id": "2Kx12S2F506y"
      },
      "outputs": [],
      "source": [
        "r2_score(act_pred.iloc[:5,0],act_pred.iloc[:5,1])"
      ]
    },
    {
      "cell_type": "code",
      "execution_count": null,
      "metadata": {
        "id": "vS4cX0QOuinK"
      },
      "outputs": [],
      "source": [
        "wMAPE(act_pred.iloc[:5,0],act_pred.iloc[:5,1])"
      ]
    },
    {
      "cell_type": "code",
      "execution_count": null,
      "metadata": {
        "id": "L4g3tcrW5lIB"
      },
      "outputs": [],
      "source": [
        "MAPE(act_pred.iloc[:5,0],act_pred.iloc[:5,1])"
      ]
    }
  ],
  "metadata": {
    "colab": {
      "provenance": [],
      "mount_file_id": "1fRyNGg_0mKKrWR0X5NTRjquhMWU9-Gqx",
      "authorship_tag": "ABX9TyMi5nA6Z9jRUhg99021PRH7",
      "include_colab_link": true
    },
    "kernelspec": {
      "display_name": "Python 3",
      "name": "python3"
    },
    "language_info": {
      "name": "python"
    },
    "accelerator": "GPU",
    "gpuClass": "standard"
  },
  "nbformat": 4,
  "nbformat_minor": 0
}